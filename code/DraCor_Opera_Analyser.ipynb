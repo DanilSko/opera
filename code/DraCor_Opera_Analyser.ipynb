{
  "cells": [
    {
      "cell_type": "markdown",
      "metadata": {
        "id": "-sabLeEnBkbj"
      },
      "source": [
        "#Link to the paper:\n",
        "\n",
        "https://github.com/DanilSko/opera"
      ],
      "id": "-sabLeEnBkbj"
    },
    {
      "cell_type": "markdown",
      "metadata": {
        "id": "PZDEmoCi_5VF"
      },
      "source": [
        "###Roadmap, aka what happens below:\n",
        "\n",
        "1. Metadata collection and enrichment\n",
        "1. Visualisation trough PCA/t-sne, filtered by corpus\n",
        "1. Correlation matrix to exclude redundant measures\n",
        "1. discussion of the most distinctive measures\n",
        "\n",
        "\n",
        "\n"
      ],
      "id": "PZDEmoCi_5VF"
    },
    {
      "cell_type": "markdown",
      "metadata": {
        "id": "opposite-lodge"
      },
      "source": [
        "##Initialisation\n",
        "### Load libraries"
      ],
      "id": "opposite-lodge"
    },
    {
      "cell_type": "markdown",
      "source": [
        "### Standard libraries"
      ],
      "metadata": {
        "id": "NQHRmyIHHbgj"
      },
      "id": "NQHRmyIHHbgj"
    },
    {
      "cell_type": "code",
      "source": [
        "import os"
      ],
      "metadata": {
        "id": "WfOAaInbHpXN"
      },
      "id": "WfOAaInbHpXN",
      "execution_count": null,
      "outputs": []
    },
    {
      "cell_type": "code",
      "execution_count": null,
      "metadata": {
        "id": "WS_14TKZfT-P"
      },
      "outputs": [],
      "source": [
        "import time"
      ],
      "id": "WS_14TKZfT-P"
    },
    {
      "cell_type": "code",
      "execution_count": null,
      "metadata": {
        "id": "ya7hE2q5LRQa"
      },
      "outputs": [],
      "source": [
        "import random"
      ],
      "id": "ya7hE2q5LRQa"
    },
    {
      "cell_type": "code",
      "execution_count": null,
      "metadata": {
        "id": "iOMYLvtLgp9x"
      },
      "outputs": [],
      "source": [
        "import json"
      ],
      "id": "iOMYLvtLgp9x"
    },
    {
      "cell_type": "code",
      "execution_count": null,
      "metadata": {
        "id": "HoEzCT9DTa_L"
      },
      "outputs": [],
      "source": [
        "import re"
      ],
      "id": "HoEzCT9DTa_L"
    },
    {
      "cell_type": "code",
      "source": [
        "import math\n",
        "from datetime import datetime\n",
        "import requests"
      ],
      "metadata": {
        "id": "TRuH_H15HnT_"
      },
      "id": "TRuH_H15HnT_",
      "execution_count": null,
      "outputs": []
    },
    {
      "cell_type": "markdown",
      "source": [
        "### Other PyPI libraries"
      ],
      "metadata": {
        "id": "Eh5CFo3vHhGo"
      },
      "id": "Eh5CFo3vHhGo"
    },
    {
      "cell_type": "code",
      "execution_count": null,
      "metadata": {
        "id": "integral-motel"
      },
      "outputs": [],
      "source": [
        "# if libraries are not installed, remove the hash from the line starting with '!'\n",
        "# if you want to reproduce an analysis you can add the version number like this:\n",
        "# requests==2.25.1 pandas==1.2.3 matplotlib==3.3.4\n",
        "#! pip install requests pandas matplotlib"
      ],
      "id": "integral-motel"
    },
    {
      "cell_type": "code",
      "execution_count": null,
      "metadata": {
        "id": "92r2IKpfWiff"
      },
      "outputs": [],
      "source": [
        "!pip install pydracor"
      ],
      "id": "92r2IKpfWiff"
    },
    {
      "cell_type": "code",
      "execution_count": null,
      "metadata": {
        "id": "CjJIJGn1V-SC"
      },
      "outputs": [],
      "source": [
        "import pydracor"
      ],
      "id": "CjJIJGn1V-SC"
    },
    {
      "cell_type": "code",
      "execution_count": null,
      "metadata": {
        "id": "younger-industry"
      },
      "outputs": [],
      "source": [
        "import pandas as pd\n",
        "import matplotlib.pyplot as plt"
      ],
      "id": "younger-industry"
    },
    {
      "cell_type": "code",
      "execution_count": null,
      "metadata": {
        "id": "I4CowA9LErTK"
      },
      "outputs": [],
      "source": [
        "import scipy"
      ],
      "id": "I4CowA9LErTK"
    },
    {
      "cell_type": "code",
      "execution_count": null,
      "metadata": {
        "id": "zYaklkj2NHCg"
      },
      "outputs": [],
      "source": [
        "import numpy as np"
      ],
      "id": "zYaklkj2NHCg"
    },
    {
      "cell_type": "code",
      "execution_count": null,
      "metadata": {
        "id": "2qpFNqUpYuSd"
      },
      "outputs": [],
      "source": [
        "import seaborn as sns"
      ],
      "id": "2qpFNqUpYuSd"
    },
    {
      "cell_type": "code",
      "source": [
        "import plotly.express as px"
      ],
      "metadata": {
        "id": "VUqCIodKZndO"
      },
      "id": "VUqCIodKZndO",
      "execution_count": null,
      "outputs": []
    },
    {
      "cell_type": "code",
      "execution_count": null,
      "metadata": {
        "id": "jdvZe0kQ6Sdr"
      },
      "outputs": [],
      "source": [
        "import networkx as nx"
      ],
      "id": "jdvZe0kQ6Sdr"
    },
    {
      "cell_type": "code",
      "execution_count": null,
      "metadata": {
        "id": "KWKCXzuthWcy"
      },
      "outputs": [],
      "source": [
        "from scipy import stats"
      ],
      "id": "KWKCXzuthWcy"
    },
    {
      "cell_type": "code",
      "execution_count": null,
      "metadata": {
        "id": "cJaK9yBh483a"
      },
      "outputs": [],
      "source": [
        "from sklearn.preprocessing import StandardScaler"
      ],
      "id": "cJaK9yBh483a"
    },
    {
      "cell_type": "code",
      "execution_count": null,
      "metadata": {
        "id": "X9ujCaoiFUAj"
      },
      "outputs": [],
      "source": [
        "from sklearn.decomposition import PCA"
      ],
      "id": "X9ujCaoiFUAj"
    },
    {
      "cell_type": "code",
      "execution_count": null,
      "metadata": {
        "id": "nDo1RevOeQ5j"
      },
      "outputs": [],
      "source": [
        "import plotly.io as plt_io\n",
        "import plotly.graph_objects as go\n"
      ],
      "id": "nDo1RevOeQ5j"
    },
    {
      "cell_type": "code",
      "source": [
        "!pip install kaleido==0.1.0 #static image generation, does not work with the newer kaleido 0.2.1"
      ],
      "metadata": {
        "id": "D9FsDYcfjtgo"
      },
      "id": "D9FsDYcfjtgo",
      "execution_count": null,
      "outputs": []
    },
    {
      "cell_type": "code",
      "source": [
        "import kaleido"
      ],
      "metadata": {
        "id": "3Km-QEEOjr2R"
      },
      "id": "3Km-QEEOjr2R",
      "execution_count": null,
      "outputs": []
    },
    {
      "cell_type": "code",
      "source": [
        "kaleido.__version__"
      ],
      "metadata": {
        "id": "w_QK9Onwkb7p"
      },
      "id": "w_QK9Onwkb7p",
      "execution_count": null,
      "outputs": []
    },
    {
      "cell_type": "markdown",
      "metadata": {
        "id": "hH-OwAXqfaIA"
      },
      "source": [
        "# I. Data preparation"
      ],
      "id": "hH-OwAXqfaIA"
    },
    {
      "cell_type": "markdown",
      "metadata": {
        "id": "QRSYLgPPV4JL"
      },
      "source": [
        "## 1. Downloading corpora metadata from DraCor"
      ],
      "id": "QRSYLgPPV4JL"
    },
    {
      "cell_type": "code",
      "execution_count": null,
      "metadata": {
        "id": "40uQkIsbOl84"
      },
      "outputs": [],
      "source": [
        "gerdata =  pydracor.Corpus('ger')"
      ],
      "id": "40uQkIsbOl84"
    },
    {
      "cell_type": "code",
      "execution_count": null,
      "metadata": {
        "id": "v3vdGCw_OtDL"
      },
      "outputs": [],
      "source": [
        "german_data = pd.DataFrame(gerdata.metadata())"
      ],
      "id": "v3vdGCw_OtDL"
    },
    {
      "cell_type": "code",
      "execution_count": null,
      "metadata": {
        "id": "IRIp5D-v_0U8"
      },
      "outputs": [],
      "source": [
        "german_data.head()"
      ],
      "id": "IRIp5D-v_0U8"
    },
    {
      "cell_type": "code",
      "execution_count": null,
      "metadata": {
        "id": "kotxlSOZIATm"
      },
      "outputs": [],
      "source": [
        "german_data.columns"
      ],
      "id": "kotxlSOZIATm"
    },
    {
      "cell_type": "code",
      "execution_count": null,
      "metadata": {
        "id": "Ef_yr9VkIt4Y"
      },
      "outputs": [],
      "source": [
        "german_data.info()"
      ],
      "id": "Ef_yr9VkIt4Y"
    },
    {
      "cell_type": "markdown",
      "metadata": {
        "id": "t2BMBLS8qAJn"
      },
      "source": [
        "Initial number of explicitly marked libretti"
      ],
      "id": "t2BMBLS8qAJn"
    },
    {
      "cell_type": "code",
      "execution_count": null,
      "metadata": {
        "id": "p9JtYNRVp_cW"
      },
      "outputs": [],
      "source": [
        "german_data[german_data['libretto'] == True].shape[0]"
      ],
      "id": "p9JtYNRVp_cW"
    },
    {
      "cell_type": "markdown",
      "metadata": {
        "id": "b2Kq1_fFoBge"
      },
      "source": [
        "Are there any libretti which also have genre marked? Look at the ambiguous German plays:"
      ],
      "id": "b2Kq1_fFoBge"
    },
    {
      "cell_type": "code",
      "execution_count": null,
      "metadata": {
        "id": "aZuEHbDUoB9W"
      },
      "outputs": [],
      "source": [
        "german_data[~(german_data['normalized_genre'].isna()) & (german_data['libretto'] == True)]"
      ],
      "id": "aZuEHbDUoB9W"
    },
    {
      "cell_type": "markdown",
      "metadata": {
        "id": "79Q0eEWEoPgd"
      },
      "source": [
        "None.."
      ],
      "id": "79Q0eEWEoPgd"
    },
    {
      "cell_type": "markdown",
      "metadata": {
        "id": "njT4ZybKoAVf"
      },
      "source": [
        "Now same for the French"
      ],
      "id": "njT4ZybKoAVf"
    },
    {
      "cell_type": "code",
      "execution_count": null,
      "metadata": {
        "id": "-NH5D1g4xnLl"
      },
      "outputs": [],
      "source": [
        "fre_corpus = pydracor.Corpus('fre')"
      ],
      "id": "-NH5D1g4xnLl"
    },
    {
      "cell_type": "code",
      "execution_count": null,
      "metadata": {
        "id": "wc-Ug-n7xnLm"
      },
      "outputs": [],
      "source": [
        "french_data = pd.DataFrame(fre_corpus.metadata())"
      ],
      "id": "wc-Ug-n7xnLm"
    },
    {
      "cell_type": "code",
      "execution_count": null,
      "metadata": {
        "id": "BNAOeQI_xnLm"
      },
      "outputs": [],
      "source": [
        "french_data = pd.DataFrame(french_data)"
      ],
      "id": "BNAOeQI_xnLm"
    },
    {
      "cell_type": "code",
      "execution_count": null,
      "metadata": {
        "id": "RYecewYSJDKG"
      },
      "outputs": [],
      "source": [
        "french_data.columns"
      ],
      "id": "RYecewYSJDKG"
    },
    {
      "cell_type": "markdown",
      "metadata": {
        "id": "rDa1u8XDqbpq"
      },
      "source": [
        "Initial number of explicitly marked libretti"
      ],
      "id": "rDa1u8XDqbpq"
    },
    {
      "cell_type": "code",
      "execution_count": null,
      "metadata": {
        "id": "007xuHWcqWQh"
      },
      "outputs": [],
      "source": [
        "french_data[french_data['libretto'] == True].shape[0]"
      ],
      "id": "007xuHWcqWQh"
    },
    {
      "cell_type": "markdown",
      "metadata": {
        "id": "beujkl5Bnky7"
      },
      "source": [
        "Are there any libretti which also have genre marked? Look at the ambiguous French plays:"
      ],
      "id": "beujkl5Bnky7"
    },
    {
      "cell_type": "code",
      "execution_count": null,
      "metadata": {
        "id": "MFV20ClMl-Lc"
      },
      "outputs": [],
      "source": [
        "french_data[~(french_data['normalized_genre'].isna()) & (french_data['libretto'] == True)]"
      ],
      "id": "MFV20ClMl-Lc"
    },
    {
      "cell_type": "code",
      "execution_count": null,
      "metadata": {
        "id": "RVxOQpiVoXdb"
      },
      "outputs": [],
      "source": [
        "noamb = french_data[~(french_data['normalized_genre'].isna()) & (french_data['libretto'] == True)].shape[0]"
      ],
      "id": "RVxOQpiVoXdb"
    },
    {
      "cell_type": "code",
      "execution_count": null,
      "metadata": {
        "id": "19atbooKoTrS"
      },
      "outputs": [],
      "source": [
        "print(f'There are {noamb} ambigous french plays')"
      ],
      "id": "19atbooKoTrS"
    },
    {
      "cell_type": "markdown",
      "metadata": {
        "id": "wj1oI0CMxs0p"
      },
      "source": [
        "### Preliminary stats: Libretti vs traditional Genres in the unencriched off-the-shelf corpora"
      ],
      "id": "wj1oI0CMxs0p"
    },
    {
      "cell_type": "code",
      "execution_count": null,
      "metadata": {
        "id": "Ihk9IgGc4ORG"
      },
      "outputs": [],
      "source": [
        "sns.set(rc={'figure.figsize':(10, 5.8)})"
      ],
      "id": "Ihk9IgGc4ORG"
    },
    {
      "cell_type": "code",
      "execution_count": null,
      "metadata": {
        "id": "ypLwfjKxxvUp"
      },
      "outputs": [],
      "source": [
        "datatoplot = german_data.apply(lambda x: x['normalized_genre'] if x['libretto'] == False\n",
        "                  else 'Libretto', axis=1).value_counts()\n",
        "\n",
        "ax = sns.barplot(x=datatoplot.index, y=datatoplot, palette=['darkblue', 'crimson', 'orange', 'green'])\n",
        "ax.set(title='German Libretto or Genre initital')\n",
        "\n",
        "for step, index in enumerate(datatoplot.index):\n",
        "    ax.text(step, datatoplot.loc[index]+1, str(datatoplot.loc[index]), color='black', ha='center')"
      ],
      "id": "ypLwfjKxxvUp"
    },
    {
      "cell_type": "code",
      "execution_count": null,
      "metadata": {
        "id": "9EIbHC6b1fVo"
      },
      "outputs": [],
      "source": [
        "datatoplot = french_data.apply(lambda x: x['normalized_genre'] if x['libretto'] == False\n",
        "                  else 'Libretto', axis=1).value_counts()\n",
        "\n",
        "ax = sns.barplot(x=datatoplot.index, y=datatoplot, palette=['darkblue', 'crimson',  'green', 'orange'])\n",
        "ax.set(title='French Libretto or Genre initital')\n",
        "for step, index in enumerate(datatoplot.index):\n",
        "    ax.text(step, datatoplot.loc[index]+2, str(datatoplot.loc[index]), color='black', ha='center')"
      ],
      "id": "9EIbHC6b1fVo"
    },
    {
      "cell_type": "markdown",
      "metadata": {
        "id": "f0OeLR1xiX95"
      },
      "source": [
        "## 2. Enrichment of libretti data"
      ],
      "id": "f0OeLR1xiX95"
    },
    {
      "cell_type": "markdown",
      "metadata": {
        "id": "ijPDlZRQ5r4D"
      },
      "source": [
        "## Uploading libretto corpus from Github\n",
        "\n",
        "Downloading curated libretti corpus from Github repository\n"
      ],
      "id": "ijPDlZRQ5r4D"
    },
    {
      "cell_type": "code",
      "execution_count": null,
      "metadata": {
        "id": "KzCQrZCW0TQN"
      },
      "outputs": [],
      "source": [
        "corpus_libretti_curated = pd.read_csv('https://github.com/DanilSko/opera/raw/main/data/curated_libretti.csv')"
      ],
      "id": "KzCQrZCW0TQN"
    },
    {
      "cell_type": "code",
      "source": [
        "corpus_libretti_curated.shape"
      ],
      "metadata": {
        "id": "GeFIGsQGXU79"
      },
      "id": "GeFIGsQGXU79",
      "execution_count": null,
      "outputs": []
    },
    {
      "cell_type": "code",
      "source": [
        "corpus_libretti_curated.head()"
      ],
      "metadata": {
        "id": "uJ85yYYsXbV1"
      },
      "id": "uJ85yYYsXbV1",
      "execution_count": null,
      "outputs": []
    },
    {
      "cell_type": "code",
      "source": [
        "corpus_libretti_curated['libretto'].value_counts()"
      ],
      "metadata": {
        "id": "jfNH3RR2Xfkx"
      },
      "id": "jfNH3RR2Xfkx",
      "execution_count": null,
      "outputs": []
    },
    {
      "cell_type": "code",
      "execution_count": null,
      "metadata": {
        "id": "LPWIX7uynZPH"
      },
      "outputs": [],
      "source": [
        "corpus_libretti_curated.columns"
      ],
      "id": "LPWIX7uynZPH"
    },
    {
      "cell_type": "markdown",
      "metadata": {
        "id": "_wJCg-VZX7LI"
      },
      "source": [
        "## 3. Preprocessing"
      ],
      "id": "_wJCg-VZX7LI"
    },
    {
      "cell_type": "markdown",
      "metadata": {
        "id": "l0XBIfVEWyj9"
      },
      "source": [
        "### Feature selection (new, on the whole data)"
      ],
      "id": "l0XBIfVEWyj9"
    },
    {
      "cell_type": "code",
      "execution_count": null,
      "metadata": {
        "id": "I80I-i1p2vRv"
      },
      "outputs": [],
      "source": [
        "## all features available:\n",
        "german_data.columns"
      ],
      "id": "I80I-i1p2vRv"
    },
    {
      "cell_type": "code",
      "execution_count": null,
      "metadata": {
        "id": "sSr7SezMOC7f"
      },
      "outputs": [],
      "source": [
        "len(german_data.columns)"
      ],
      "id": "sSr7SezMOC7f"
    },
    {
      "cell_type": "code",
      "execution_count": null,
      "metadata": {
        "id": "zYgIlS9sYEB_"
      },
      "outputs": [],
      "source": [
        "## features we selected manually as the meaningful ones (dropping year and such stuff)\n",
        "list_features_pyd = ['num_of_segments', 'num_of_speakers', 'num_of_person_groups',\n",
        "                      'word_count_sp', 'word_count_stage', 'average_degree', 'density', 'average_clustering',\n",
        "                      'max_degree', 'num_connected_components', 'diameter', 'average_path_length']"
      ],
      "id": "zYgIlS9sYEB_"
    },
    {
      "cell_type": "code",
      "execution_count": null,
      "metadata": {
        "id": "DRVP9H8_OYMZ"
      },
      "outputs": [],
      "source": [
        "len(list_features_pyd)"
      ],
      "id": "DRVP9H8_OYMZ"
    },
    {
      "cell_type": "markdown",
      "metadata": {
        "id": "WD3RqWxiil1J"
      },
      "source": [
        "## Adding Wikidata genre data"
      ],
      "id": "WD3RqWxiil1J"
    },
    {
      "cell_type": "markdown",
      "metadata": {
        "id": "5OLXbX2uHLcK"
      },
      "source": [
        "### German wikidata enrichment\n",
        "\n",
        " (data pre_scraped and published here: https://github.com/DanilSko/opera/tree/main/data/aux)\n",
        "\n"
      ],
      "id": "5OLXbX2uHLcK"
    },
    {
      "cell_type": "markdown",
      "metadata": {
        "id": "HVr6O19Njnr1"
      },
      "source": [
        "Wikidata querying takes time, so here we'll upload wikidata genre IDs from json saved the previous time instead:"
      ],
      "id": "HVr6O19Njnr1"
    },
    {
      "cell_type": "code",
      "execution_count": null,
      "metadata": {
        "id": "JB8nvVKpkQpQ"
      },
      "outputs": [],
      "source": [
        "path_to_json = 'https://raw.githubusercontent.com/DanilSko/opera/main/data/aux/genre_wikidata_german.json'\n",
        "\n",
        "saved_wikidata_german = pd.read_json(path_to_json,\n",
        "                                        typ='series')\n",
        "german_data['genre_from_wikidata'] = saved_wikidata_german"
      ],
      "id": "JB8nvVKpkQpQ"
    },
    {
      "cell_type": "code",
      "execution_count": null,
      "metadata": {
        "id": "N13UUBcw5_KG"
      },
      "outputs": [],
      "source": [
        "german_data[german_data['genre_from_wikidata'].fillna('None').str.contains('Q')][['title', 'normalized_genre']]"
      ],
      "id": "N13UUBcw5_KG"
    },
    {
      "cell_type": "code",
      "execution_count": null,
      "metadata": {
        "id": "pJECbUIImTiR"
      },
      "outputs": [],
      "source": [
        "german_data['genre_from_wikidata'].unique()"
      ],
      "id": "pJECbUIImTiR"
    },
    {
      "cell_type": "code",
      "execution_count": null,
      "metadata": {
        "id": "IEV1ZymRuGAS"
      },
      "outputs": [],
      "source": [
        "german_data['genre_from_wikidata'].value_counts()"
      ],
      "id": "IEV1ZymRuGAS"
    },
    {
      "cell_type": "code",
      "execution_count": null,
      "metadata": {
        "id": "e7brcxmvrUcp"
      },
      "outputs": [],
      "source": [
        "wikidata_slice = german_data[(german_data['genre_from_wikidata']\n",
        "                              .fillna('')\n",
        "                              .str.contains('Q')) &\n",
        "            (german_data['libretto'] == False)]"
      ],
      "id": "e7brcxmvrUcp"
    },
    {
      "cell_type": "code",
      "execution_count": null,
      "metadata": {
        "id": "GW46UXIsvrb1"
      },
      "outputs": [],
      "source": [
        "wikidata_slice"
      ],
      "id": "GW46UXIsvrb1"
    },
    {
      "cell_type": "markdown",
      "metadata": {
        "id": "g2WGByvVxwB4"
      },
      "source": [
        "### French wikidata enrichment"
      ],
      "id": "g2WGByvVxwB4"
    },
    {
      "cell_type": "markdown",
      "metadata": {
        "id": "xfsOCaL4omSa"
      },
      "source": [
        "Updating wikidata genre codes from saved JSON to spare 6 minutes of wikidata queriyng every time"
      ],
      "id": "xfsOCaL4omSa"
    },
    {
      "cell_type": "code",
      "execution_count": null,
      "metadata": {
        "id": "F9_jRmiwzMXo"
      },
      "outputs": [],
      "source": [
        "path_to_json = 'https://raw.githubusercontent.com/DanilSko/opera/main/data/aux/genre_wikidata_french.json'\n",
        "\n",
        "saved_wikidata_french = pd.read_json(path_to_json,\n",
        "                                        typ='series')\n",
        "#saved_wikidata_french.columns = ['genre_from_wikidata']\n",
        "french_data['genre_from_wikidata'] = saved_wikidata_french\n"
      ],
      "id": "F9_jRmiwzMXo"
    },
    {
      "cell_type": "code",
      "execution_count": null,
      "metadata": {
        "id": "MQ-wPCFtzMXo"
      },
      "outputs": [],
      "source": [
        "french_data['genre_from_wikidata'].unique()"
      ],
      "id": "MQ-wPCFtzMXo"
    },
    {
      "cell_type": "code",
      "execution_count": null,
      "metadata": {
        "id": "AvXseT3EzMXo"
      },
      "outputs": [],
      "source": [
        "french_data['genre_from_wikidata'].value_counts()"
      ],
      "id": "AvXseT3EzMXo"
    },
    {
      "cell_type": "code",
      "execution_count": null,
      "metadata": {
        "id": "v3azgjudbsDj"
      },
      "outputs": [],
      "source": [
        "french_data[french_data['genre_from_wikidata'] == 'Q781470'][['name', 'title', 'subtitle', 'genre_from_wikidata']]"
      ],
      "id": "v3azgjudbsDj"
    },
    {
      "cell_type": "code",
      "execution_count": null,
      "metadata": {
        "id": "pCpx4KV-_rfn"
      },
      "outputs": [],
      "source": [
        "french_data['genre_from_wikidata'].unique()"
      ],
      "id": "pCpx4KV-_rfn"
    },
    {
      "cell_type": "code",
      "execution_count": null,
      "metadata": {
        "id": "NaDT_wYU_081"
      },
      "outputs": [],
      "source": [
        "french_data['normalized_genre']"
      ],
      "id": "NaDT_wYU_081"
    },
    {
      "cell_type": "code",
      "execution_count": null,
      "metadata": {
        "id": "W6aWhG2CzMXo"
      },
      "outputs": [],
      "source": [
        "#french_data['wikidata descr'] = french_data['genre_from_wikidata'].apply(get_label_and_description_from_wikidata)"
      ],
      "id": "W6aWhG2CzMXo"
    },
    {
      "cell_type": "code",
      "execution_count": null,
      "metadata": {
        "id": "RCJcKwAFzMXo"
      },
      "outputs": [],
      "source": [
        "wikidata_slice = french_data[(french_data['genre_from_wikidata']\n",
        "                              .fillna('')\n",
        "                              .str.contains('Q')) &\n",
        "            (french_data['libretto'] == False)]"
      ],
      "id": "RCJcKwAFzMXo"
    },
    {
      "cell_type": "code",
      "execution_count": null,
      "metadata": {
        "id": "YvTalxh88E4L"
      },
      "outputs": [],
      "source": [
        "wikidata_slice"
      ],
      "id": "YvTalxh88E4L"
    },
    {
      "cell_type": "code",
      "execution_count": null,
      "metadata": {
        "id": "MAlUHx86zMXo"
      },
      "outputs": [],
      "source": [
        "wikigenres = wikidata_slice['genre_from_wikidata'].unique()"
      ],
      "id": "MAlUHx86zMXo"
    },
    {
      "cell_type": "code",
      "execution_count": null,
      "metadata": {
        "id": "VhBXE8ae8BZP"
      },
      "outputs": [],
      "source": [
        "wikigenres"
      ],
      "id": "VhBXE8ae8BZP"
    },
    {
      "cell_type": "markdown",
      "metadata": {
        "id": "ake3oRsn-xvl"
      },
      "source": [
        "### Filling the normalized genre column"
      ],
      "id": "ake3oRsn-xvl"
    },
    {
      "cell_type": "markdown",
      "metadata": {
        "id": "d_ZNkpqfDRrH"
      },
      "source": [
        "#### 1. Uploading the manuallly created mapper table (from wikidata genres to generalized dracor normalised genres:"
      ],
      "id": "d_ZNkpqfDRrH"
    },
    {
      "cell_type": "code",
      "execution_count": null,
      "metadata": {
        "id": "5XsFLrPi_SAR"
      },
      "outputs": [],
      "source": [
        "!wget https://raw.githubusercontent.com/DanilSko/opera/main/data/aux/wikidata_genres_mapping.csv"
      ],
      "id": "5XsFLrPi_SAR"
    },
    {
      "cell_type": "code",
      "execution_count": null,
      "metadata": {
        "id": "Ysuxjot8_URb"
      },
      "outputs": [],
      "source": [
        "wd_genre_mapping = pd.read_csv('wikidata_genres_mapping.csv')"
      ],
      "id": "Ysuxjot8_URb"
    },
    {
      "cell_type": "code",
      "execution_count": null,
      "metadata": {
        "id": "9FxzSCIwAIYZ"
      },
      "outputs": [],
      "source": [
        "wd_genre_mapping.columns"
      ],
      "id": "9FxzSCIwAIYZ"
    },
    {
      "cell_type": "code",
      "execution_count": null,
      "metadata": {
        "id": "ohOS1Zdq_d--"
      },
      "outputs": [],
      "source": [
        "norm_genres = wd_genre_mapping[\"Normalized genre\"]"
      ],
      "id": "ohOS1Zdq_d--"
    },
    {
      "cell_type": "code",
      "execution_count": null,
      "metadata": {
        "id": "vx52i3hHByTY"
      },
      "outputs": [],
      "source": [
        "wd_genre_mapping[\"Wikidata ID\"] = wd_genre_mapping[\"Wikidata ID\"].str.strip()"
      ],
      "id": "vx52i3hHByTY"
    },
    {
      "cell_type": "code",
      "execution_count": null,
      "metadata": {
        "id": "ZpHLu1A1_mh6"
      },
      "outputs": [],
      "source": [
        "wd_genre_ids = wd_genre_mapping[\"Wikidata ID\"]"
      ],
      "id": "ZpHLu1A1_mh6"
    },
    {
      "cell_type": "code",
      "execution_count": null,
      "metadata": {
        "id": "BYjrV9YpAS0J"
      },
      "outputs": [],
      "source": [
        "genre_mapper = dict(zip(wd_genre_ids, norm_genres))"
      ],
      "id": "BYjrV9YpAS0J"
    },
    {
      "cell_type": "code",
      "execution_count": null,
      "metadata": {
        "id": "0UmB9L0eAaLQ"
      },
      "outputs": [],
      "source": [
        "genre_mapper"
      ],
      "id": "0UmB9L0eAaLQ"
    },
    {
      "cell_type": "code",
      "execution_count": null,
      "metadata": {
        "id": "5Z0Dz8sAAsv2"
      },
      "outputs": [],
      "source": [
        "def get_normalized_genre_for_wd(wiki_genre_id):\n",
        "    if wiki_genre_id in genre_mapper:\n",
        "        return genre_mapper[wiki_genre_id]\n",
        "    return None"
      ],
      "id": "5Z0Dz8sAAsv2"
    },
    {
      "cell_type": "markdown",
      "metadata": {
        "id": "YKTwX961DL9e"
      },
      "source": [
        "#### 2. Mapping the French ones:"
      ],
      "id": "YKTwX961DL9e"
    },
    {
      "cell_type": "code",
      "execution_count": null,
      "metadata": {
        "id": "8cWQ38gqBiqD"
      },
      "outputs": [],
      "source": [
        "french_data['genre_from_wikidata'].unique()"
      ],
      "id": "8cWQ38gqBiqD"
    },
    {
      "cell_type": "code",
      "execution_count": null,
      "metadata": {
        "id": "4ebW_35aBKbo"
      },
      "outputs": [],
      "source": [
        "french_data['normalized_genre_from_wd'] = french_data['genre_from_wikidata'].apply(get_normalized_genre_for_wd)"
      ],
      "id": "4ebW_35aBKbo"
    },
    {
      "cell_type": "code",
      "execution_count": null,
      "metadata": {
        "id": "uBRMX55oBdV8"
      },
      "outputs": [],
      "source": [
        "french_data['normalized_genre_from_wd'].unique()"
      ],
      "id": "uBRMX55oBdV8"
    },
    {
      "cell_type": "code",
      "execution_count": null,
      "metadata": {
        "id": "kTbZLDa5CF3D"
      },
      "outputs": [],
      "source": [
        "french_data.shape"
      ],
      "id": "kTbZLDa5CF3D"
    },
    {
      "cell_type": "code",
      "execution_count": null,
      "metadata": {
        "id": "BnzxgIl9B7M_"
      },
      "outputs": [],
      "source": [
        "french_data['normalized_genre'].value_counts()"
      ],
      "id": "BnzxgIl9B7M_"
    },
    {
      "cell_type": "code",
      "execution_count": null,
      "metadata": {
        "id": "n_PjSI-TAQhR"
      },
      "outputs": [],
      "source": [
        "french_data['normalized_genre'] = french_data['normalized_genre'].fillna(french_data['normalized_genre_from_wd'])"
      ],
      "id": "n_PjSI-TAQhR"
    },
    {
      "cell_type": "code",
      "execution_count": null,
      "metadata": {
        "id": "lQebNyvJCTpY"
      },
      "outputs": [],
      "source": [
        "french_data['normalized_genre'].value_counts()"
      ],
      "id": "lQebNyvJCTpY"
    },
    {
      "cell_type": "markdown",
      "metadata": {
        "id": "JB3fB-wdDJR2"
      },
      "source": [
        "#### 3. Mapping the German ones:\n"
      ],
      "id": "JB3fB-wdDJR2"
    },
    {
      "cell_type": "code",
      "execution_count": null,
      "metadata": {
        "id": "fjVjQz5GDgS3"
      },
      "outputs": [],
      "source": [
        "german_data['normalized_genre_from_wd'] = german_data['genre_from_wikidata'].apply(get_normalized_genre_for_wd)"
      ],
      "id": "fjVjQz5GDgS3"
    },
    {
      "cell_type": "code",
      "execution_count": null,
      "metadata": {
        "id": "SjkSqcFEDkYo"
      },
      "outputs": [],
      "source": [
        "german_data['normalized_genre_from_wd'].unique()"
      ],
      "id": "SjkSqcFEDkYo"
    },
    {
      "cell_type": "code",
      "execution_count": null,
      "metadata": {
        "id": "IgHFw2HvZ15T"
      },
      "outputs": [],
      "source": [
        "german_data[german_data['normalized_genre_from_wd'] == 'Libretto (attributed)'][['name', 'genre_from_wikidata']]"
      ],
      "id": "IgHFw2HvZ15T"
    },
    {
      "cell_type": "code",
      "execution_count": null,
      "metadata": {
        "id": "qzXssXt37mC-"
      },
      "outputs": [],
      "source": [
        "german_data[~(german_data['genre_from_wikidata'].isna()) &\n",
        "            (german_data['genre_from_wikidata'] != 'No genre on wikidata') &\n",
        "            (german_data['normalized_genre'].isna())][['first_author',\n",
        "                                                       'title',\n",
        "                                                       'normalized_genre',\n",
        "                                                       'genre_from_wikidata',\n",
        "                                                       'normalized_genre_from_wd']]"
      ],
      "id": "qzXssXt37mC-"
    },
    {
      "cell_type": "code",
      "execution_count": null,
      "metadata": {
        "id": "bgEwuR_NDol2"
      },
      "outputs": [],
      "source": [
        "german_data['normalized_genre'].value_counts()"
      ],
      "id": "bgEwuR_NDol2"
    },
    {
      "cell_type": "code",
      "execution_count": null,
      "metadata": {
        "id": "Fb4jdAHuDv0a"
      },
      "outputs": [],
      "source": [
        "german_data['normalized_genre'] = german_data['normalized_genre'].fillna(german_data['normalized_genre_from_wd'])"
      ],
      "id": "Fb4jdAHuDv0a"
    },
    {
      "cell_type": "code",
      "execution_count": null,
      "metadata": {
        "id": "QvY13jOJDz4W"
      },
      "outputs": [],
      "source": [
        "german_data['normalized_genre'].value_counts()"
      ],
      "id": "QvY13jOJDz4W"
    },
    {
      "cell_type": "code",
      "execution_count": null,
      "metadata": {
        "id": "xTDBZzALZI43"
      },
      "outputs": [],
      "source": [
        "german_data[german_data['normalized_genre'] == 'Libretto (attributed)']"
      ],
      "id": "xTDBZzALZI43"
    },
    {
      "cell_type": "markdown",
      "metadata": {
        "id": "c7cLX_8uFhDt"
      },
      "source": [
        "### Adding libretti information marked by Luca"
      ],
      "id": "c7cLX_8uFhDt"
    },
    {
      "cell_type": "code",
      "execution_count": null,
      "metadata": {
        "id": "3qKiu8qxbobA"
      },
      "outputs": [],
      "source": [
        "libretti_ids = corpus_libretti_curated['id']"
      ],
      "id": "3qKiu8qxbobA"
    },
    {
      "cell_type": "code",
      "execution_count": null,
      "metadata": {
        "id": "PN2r_C_jFvlc"
      },
      "outputs": [],
      "source": [
        "libretti_ids"
      ],
      "id": "PN2r_C_jFvlc"
    },
    {
      "cell_type": "code",
      "execution_count": null,
      "metadata": {
        "id": "ABiDNcyvcYij"
      },
      "outputs": [],
      "source": [
        "#metadata_df['is_ger'] = metadata_df['id'].str.contains('ger')"
      ],
      "id": "ABiDNcyvcYij"
    },
    {
      "cell_type": "code",
      "execution_count": null,
      "metadata": {
        "id": "czOrlrSKcP5I"
      },
      "outputs": [],
      "source": [
        "#metadata_df[metadata_df['is_ger']].shape[0]"
      ],
      "id": "czOrlrSKcP5I"
    },
    {
      "cell_type": "code",
      "execution_count": null,
      "metadata": {
        "id": "9XssE_Ncbzax"
      },
      "outputs": [],
      "source": [
        "german_data['is_real_libretto'] = german_data['id'].isin(libretti_ids)"
      ],
      "id": "9XssE_Ncbzax"
    },
    {
      "cell_type": "code",
      "execution_count": null,
      "metadata": {
        "id": "R0RB1jSyFpRR"
      },
      "outputs": [],
      "source": [
        "french_data['is_real_libretto'] = french_data['id'].isin(libretti_ids)"
      ],
      "id": "R0RB1jSyFpRR"
    },
    {
      "cell_type": "code",
      "execution_count": null,
      "metadata": {
        "id": "8R64u0kBcKX1"
      },
      "outputs": [],
      "source": [
        "# how many libretti are there in the german part?\n",
        "german_data['is_real_libretto'].sum()"
      ],
      "id": "8R64u0kBcKX1"
    },
    {
      "cell_type": "code",
      "execution_count": null,
      "metadata": {
        "id": "e1QsQOzxF0bV"
      },
      "outputs": [],
      "source": [
        "# how many libretti are there in the french part?\n",
        "french_data['is_real_libretto'].sum()"
      ],
      "id": "e1QsQOzxF0bV"
    },
    {
      "cell_type": "markdown",
      "metadata": {
        "id": "77GnTYVWf641"
      },
      "source": [
        "Adding to 'is_real_libretto' the ones we got from wikidata"
      ],
      "id": "77GnTYVWf641"
    },
    {
      "cell_type": "code",
      "execution_count": null,
      "metadata": {
        "id": "TeYRmATYgb07"
      },
      "outputs": [],
      "source": [
        "indices = german_data[german_data['normalized_genre'] == 'Libretto (attributed)'].index"
      ],
      "id": "TeYRmATYgb07"
    },
    {
      "cell_type": "code",
      "execution_count": null,
      "metadata": {
        "id": "8CNAaDEehB6m"
      },
      "outputs": [],
      "source": [
        "german_data.loc[indices,:]"
      ],
      "id": "8CNAaDEehB6m"
    },
    {
      "cell_type": "code",
      "execution_count": null,
      "metadata": {
        "id": "Xjxm8t3WgsRW"
      },
      "outputs": [],
      "source": [
        "german_data.loc[indices,'is_real_libretto'] = True"
      ],
      "id": "Xjxm8t3WgsRW"
    },
    {
      "cell_type": "code",
      "execution_count": null,
      "metadata": {
        "id": "PL0aCt3HiSob"
      },
      "outputs": [],
      "source": [
        "german_data['is_real_libretto'].sum()"
      ],
      "id": "PL0aCt3HiSob"
    },
    {
      "cell_type": "markdown",
      "metadata": {
        "id": "pOw1kUB4iUYu"
      },
      "source": [
        "same with the french"
      ],
      "id": "pOw1kUB4iUYu"
    },
    {
      "cell_type": "code",
      "execution_count": null,
      "metadata": {
        "id": "mSmE21rniYw5"
      },
      "outputs": [],
      "source": [
        "indices = french_data[french_data['normalized_genre'] == 'Libretto (attributed)'].index"
      ],
      "id": "mSmE21rniYw5"
    },
    {
      "cell_type": "code",
      "execution_count": null,
      "metadata": {
        "id": "eLNUhIpuig6e"
      },
      "outputs": [],
      "source": [
        "indices"
      ],
      "id": "eLNUhIpuig6e"
    },
    {
      "cell_type": "code",
      "execution_count": null,
      "metadata": {
        "id": "XlSayj0Cimli"
      },
      "outputs": [],
      "source": [
        "french_data.loc[indices,:]"
      ],
      "id": "XlSayj0Cimli"
    },
    {
      "cell_type": "code",
      "execution_count": null,
      "metadata": {
        "id": "MIjv_8z3iyDR"
      },
      "outputs": [],
      "source": [
        "french_data.loc[indices,'is_real_libretto'] = True"
      ],
      "id": "MIjv_8z3iyDR"
    },
    {
      "cell_type": "code",
      "execution_count": null,
      "metadata": {
        "id": "VQyFoZvwi59L"
      },
      "outputs": [],
      "source": [
        "# how many libretti are there in the french part?\n",
        "french_data['is_real_libretto'].sum()"
      ],
      "id": "VQyFoZvwi59L"
    },
    {
      "cell_type": "markdown",
      "metadata": {
        "id": "B7c8c6tuGB0a"
      },
      "source": [
        "### making a single column with 'Libretto or Genre' in it"
      ],
      "id": "B7c8c6tuGB0a"
    },
    {
      "cell_type": "markdown",
      "metadata": {
        "id": "qCotcfnDGiyc"
      },
      "source": [
        "#### 1. German:"
      ],
      "id": "qCotcfnDGiyc"
    },
    {
      "cell_type": "code",
      "execution_count": null,
      "metadata": {
        "id": "cXCxPXQhedm6"
      },
      "outputs": [],
      "source": [
        "german_data['libretto_or_genre'] = german_data.apply(lambda x:\n",
        "                                                     x['normalized_genre']\n",
        "                                                     if x['is_real_libretto'] == False\n",
        "                                                     else 'Libretto', axis=1)"
      ],
      "id": "cXCxPXQhedm6"
    },
    {
      "cell_type": "code",
      "execution_count": null,
      "metadata": {
        "id": "INdYgn68fdop"
      },
      "outputs": [],
      "source": [
        "german_data['libretto_or_genre'].value_counts()"
      ],
      "id": "INdYgn68fdop"
    },
    {
      "cell_type": "code",
      "execution_count": null,
      "metadata": {
        "id": "87is0bPMhRq8"
      },
      "outputs": [],
      "source": [
        "german_data['libretto_or_genre'] = german_data['libretto_or_genre'].fillna('Other')"
      ],
      "id": "87is0bPMhRq8"
    },
    {
      "cell_type": "code",
      "execution_count": null,
      "metadata": {
        "id": "m-15odSwhLPi"
      },
      "outputs": [],
      "source": [
        "german_data['libretto_or_genre'].value_counts()"
      ],
      "id": "m-15odSwhLPi"
    },
    {
      "cell_type": "code",
      "execution_count": null,
      "metadata": {
        "id": "q2qanPq4Jcs5"
      },
      "outputs": [],
      "source": [
        "german_data['libretto_or_genre'].value_counts().plot.bar()"
      ],
      "id": "q2qanPq4Jcs5"
    },
    {
      "cell_type": "code",
      "execution_count": null,
      "metadata": {
        "id": "NwPIztiSiwnK"
      },
      "outputs": [],
      "source": [
        "german_data['libretto_or_genre'] = german_data['libretto_or_genre'].replace('Libretto (attributed)',\n",
        "                                                                                                          'Libretto')"
      ],
      "id": "NwPIztiSiwnK"
    },
    {
      "cell_type": "markdown",
      "metadata": {
        "id": "4o_XlwnLGoAc"
      },
      "source": [
        "#### 2. French:"
      ],
      "id": "4o_XlwnLGoAc"
    },
    {
      "cell_type": "code",
      "execution_count": null,
      "metadata": {
        "id": "ZP7DtB_iGrjy"
      },
      "outputs": [],
      "source": [
        "french_data['libretto_or_genre'] = french_data.apply(lambda x:\n",
        "                                                     x['normalized_genre']\n",
        "                                                     if x['is_real_libretto'] == False\n",
        "                                                     else 'Libretto', axis=1)"
      ],
      "id": "ZP7DtB_iGrjy"
    },
    {
      "cell_type": "code",
      "execution_count": null,
      "metadata": {
        "id": "SuoEngZBGrjz"
      },
      "outputs": [],
      "source": [
        "french_data['libretto_or_genre'].value_counts()"
      ],
      "id": "SuoEngZBGrjz"
    },
    {
      "cell_type": "code",
      "execution_count": null,
      "metadata": {
        "id": "TgWEJg_3Grjz"
      },
      "outputs": [],
      "source": [
        "french_data['libretto_or_genre'] = french_data['libretto_or_genre'].fillna('Other')"
      ],
      "id": "TgWEJg_3Grjz"
    },
    {
      "cell_type": "code",
      "execution_count": null,
      "metadata": {
        "id": "f1ezI3OEGrjz"
      },
      "outputs": [],
      "source": [
        "french_data['libretto_or_genre'].value_counts()"
      ],
      "id": "f1ezI3OEGrjz"
    },
    {
      "cell_type": "code",
      "execution_count": null,
      "metadata": {
        "id": "7yH93q43JniV"
      },
      "outputs": [],
      "source": [
        "french_data['libretto_or_genre'].value_counts().plot.bar()"
      ],
      "id": "7yH93q43JniV"
    },
    {
      "cell_type": "code",
      "execution_count": null,
      "metadata": {
        "id": "qrPuLi0_swtf"
      },
      "outputs": [],
      "source": [],
      "id": "qrPuLi0_swtf"
    },
    {
      "cell_type": "markdown",
      "metadata": {
        "id": "Py0cEeBJyloU"
      },
      "source": [
        "### Libretti apartheid: separating libretti Luca marked himself from the 'authority' dracor&wikidata libretti"
      ],
      "id": "Py0cEeBJyloU"
    },
    {
      "cell_type": "markdown",
      "metadata": {
        "id": "HI__OL2TIBrR"
      },
      "source": [
        "#### German"
      ],
      "id": "HI__OL2TIBrR"
    },
    {
      "cell_type": "code",
      "execution_count": null,
      "metadata": {
        "id": "f8F4fvDlyo45"
      },
      "outputs": [],
      "source": [
        "german_data['genre_with_putative_libretto'] = german_data.apply(lambda x: 'Libretto (attributed)' if\n",
        "                  x['is_real_libretto'] is True and x['libretto'] is False\n",
        "                  else x['libretto_or_genre'], axis=1)"
      ],
      "id": "f8F4fvDlyo45"
    },
    {
      "cell_type": "code",
      "execution_count": null,
      "metadata": {
        "id": "2XbIMRy31uhC"
      },
      "outputs": [],
      "source": [
        "german_data['genre_with_putative_libretto'].value_counts()"
      ],
      "id": "2XbIMRy31uhC"
    },
    {
      "cell_type": "code",
      "execution_count": null,
      "metadata": {
        "id": "QZR6JJB12IfE"
      },
      "outputs": [],
      "source": [
        "german_data['genre_with_putative_libretto'] = german_data['genre_with_putative_libretto'].replace('Libretto','Libretto (DraCor)')"
      ],
      "id": "QZR6JJB12IfE"
    },
    {
      "cell_type": "code",
      "execution_count": null,
      "metadata": {
        "id": "YxGrTzQu2aGN"
      },
      "outputs": [],
      "source": [
        "german_data['genre_with_putative_libretto'].value_counts()"
      ],
      "id": "YxGrTzQu2aGN"
    },
    {
      "cell_type": "code",
      "execution_count": null,
      "metadata": {
        "id": "7LLy78EOJKFV"
      },
      "outputs": [],
      "source": [
        "x = german_data[german_data['genre_with_putative_libretto'] !='Other'].shape[0]\n",
        "y = german_data.shape[0]"
      ],
      "id": "7LLy78EOJKFV"
    },
    {
      "cell_type": "markdown",
      "source": [
        "Share of plays with marked genre / libretto"
      ],
      "metadata": {
        "id": "eaahUPylc34W"
      },
      "id": "eaahUPylc34W"
    },
    {
      "cell_type": "code",
      "execution_count": null,
      "metadata": {
        "id": "Vs1kEl7KJXxE"
      },
      "outputs": [],
      "source": [
        "x/y"
      ],
      "id": "Vs1kEl7KJXxE"
    },
    {
      "cell_type": "markdown",
      "metadata": {
        "id": "SJuJ4J9kJhgl"
      },
      "source": [
        "### French"
      ],
      "id": "SJuJ4J9kJhgl"
    },
    {
      "cell_type": "code",
      "execution_count": null,
      "metadata": {
        "id": "3Q8pjjqHJfhH"
      },
      "outputs": [],
      "source": [
        "french_data['genre_with_putative_libretto'] = french_data.apply(lambda x: 'Libretto (attributed)' if\n",
        "                  x['is_real_libretto'] is True and x['libretto'] is False\n",
        "                  else x['libretto_or_genre'], axis=1)"
      ],
      "id": "3Q8pjjqHJfhH"
    },
    {
      "cell_type": "code",
      "execution_count": null,
      "metadata": {
        "id": "nmEXEqgHJfhH"
      },
      "outputs": [],
      "source": [
        "french_data['genre_with_putative_libretto'].value_counts()"
      ],
      "id": "nmEXEqgHJfhH"
    },
    {
      "cell_type": "code",
      "execution_count": null,
      "metadata": {
        "id": "A_ZnOgk4JfhH"
      },
      "outputs": [],
      "source": [
        "french_data['genre_with_putative_libretto'] = french_data['genre_with_putative_libretto'].replace('Libretto', 'Libretto (DraCor)')"
      ],
      "id": "A_ZnOgk4JfhH"
    },
    {
      "cell_type": "code",
      "execution_count": null,
      "metadata": {
        "id": "8haNFy_rJfhI"
      },
      "outputs": [],
      "source": [
        "french_data['genre_with_putative_libretto'].value_counts()"
      ],
      "id": "8haNFy_rJfhI"
    },
    {
      "cell_type": "code",
      "execution_count": null,
      "metadata": {
        "id": "QA0UyHW1JfhI"
      },
      "outputs": [],
      "source": [
        "french_data[french_data['genre_with_putative_libretto'] !='Other'].shape"
      ],
      "id": "QA0UyHW1JfhI"
    },
    {
      "cell_type": "markdown",
      "source": [
        "Share of plays with marked genre / libretto"
      ],
      "metadata": {
        "id": "Mc3dIwAAdGCm"
      },
      "id": "Mc3dIwAAdGCm"
    },
    {
      "cell_type": "code",
      "source": [
        "x = french_data[french_data['genre_with_putative_libretto'] !='Other'].shape[0]\n",
        "y = french_data.shape[0]"
      ],
      "metadata": {
        "id": "TULJjO8EdCAR"
      },
      "id": "TULJjO8EdCAR",
      "execution_count": null,
      "outputs": []
    },
    {
      "cell_type": "code",
      "execution_count": null,
      "metadata": {
        "id": "Y7T2NnjBJfhI"
      },
      "outputs": [],
      "source": [
        "x/y"
      ],
      "id": "Y7T2NnjBJfhI"
    },
    {
      "cell_type": "markdown",
      "metadata": {
        "id": "wWbXhmo3NBwU"
      },
      "source": [
        "#### Adding colors according to genres"
      ],
      "id": "wWbXhmo3NBwU"
    },
    {
      "cell_type": "code",
      "execution_count": null,
      "metadata": {
        "id": "LS4vzjPV5EyH"
      },
      "outputs": [],
      "source": [
        "genres = list(german_data['genre_with_putative_libretto'].unique())"
      ],
      "id": "LS4vzjPV5EyH"
    },
    {
      "cell_type": "code",
      "execution_count": null,
      "metadata": {
        "id": "YWZIEo6g5EyH"
      },
      "outputs": [],
      "source": [
        "len(genres)"
      ],
      "id": "YWZIEo6g5EyH"
    },
    {
      "cell_type": "code",
      "execution_count": null,
      "metadata": {
        "id": "-yuaGuIO5KU9"
      },
      "outputs": [],
      "source": [
        "genres"
      ],
      "id": "-yuaGuIO5KU9"
    },
    {
      "cell_type": "code",
      "execution_count": null,
      "metadata": {
        "id": "PqGH46zn5EyH"
      },
      "outputs": [],
      "source": [
        "colors = ['white', 'green', 'blue', 'orange', 'yellow', 'red']"
      ],
      "id": "PqGH46zn5EyH"
    },
    {
      "cell_type": "code",
      "execution_count": null,
      "metadata": {
        "id": "owfwkmkc5EyI"
      },
      "outputs": [],
      "source": [
        "genre_color_mapping = zip(genres, colors)"
      ],
      "id": "owfwkmkc5EyI"
    },
    {
      "cell_type": "code",
      "execution_count": null,
      "metadata": {
        "id": "y4f39ocZ5EyI"
      },
      "outputs": [],
      "source": [
        "genre_color_mapping = dict(genre_color_mapping)"
      ],
      "id": "y4f39ocZ5EyI"
    },
    {
      "cell_type": "code",
      "execution_count": null,
      "metadata": {
        "id": "oipkt7ez5EyI"
      },
      "outputs": [],
      "source": [
        "genre_color_mapping"
      ],
      "id": "oipkt7ez5EyI"
    },
    {
      "cell_type": "code",
      "execution_count": null,
      "metadata": {
        "id": "hCTnlfBv7mKR"
      },
      "outputs": [],
      "source": [
        "german_data['color'] = german_data['genre_with_putative_libretto'].apply(lambda x:\n",
        "                                                              genre_color_mapping[x])"
      ],
      "id": "hCTnlfBv7mKR"
    },
    {
      "cell_type": "code",
      "execution_count": null,
      "metadata": {
        "id": "KTBlNwcbrBfi"
      },
      "outputs": [],
      "source": [
        "french_data['color'] = french_data['genre_with_putative_libretto'].apply(lambda x:\n",
        "                                                              genre_color_mapping[x])"
      ],
      "id": "KTBlNwcbrBfi"
    },
    {
      "cell_type": "markdown",
      "metadata": {
        "id": "Iu3ZjKESkyyt"
      },
      "source": [
        "### Removing 'Other'"
      ],
      "id": "Iu3ZjKESkyyt"
    },
    {
      "cell_type": "code",
      "execution_count": null,
      "metadata": {
        "id": "MuhJgoDrkyIB"
      },
      "outputs": [],
      "source": [
        "filtered_german_data = german_data[german_data['libretto_or_genre'] != 'Other']\n",
        "filtered_french_data = french_data[french_data['libretto_or_genre'] != 'Other']"
      ],
      "id": "MuhJgoDrkyIB"
    },
    {
      "cell_type": "code",
      "execution_count": null,
      "metadata": {
        "id": "qUdp8yEIpm3z"
      },
      "outputs": [],
      "source": [
        "## removing 3 french plays with NaNs\n",
        "to_remove = filtered_french_data[(filtered_french_data['average_degree'].isna())\n",
        "& (filtered_french_data['density'].isna())].index"
      ],
      "id": "qUdp8yEIpm3z"
    },
    {
      "cell_type": "code",
      "execution_count": null,
      "metadata": {
        "id": "9ss3jW8EqtpB"
      },
      "outputs": [],
      "source": [
        "filtered_french_data = filtered_french_data.drop(to_remove)"
      ],
      "id": "9ss3jW8EqtpB"
    },
    {
      "cell_type": "markdown",
      "metadata": {
        "id": "Rh1LPMjle1cS"
      },
      "source": [
        "### Shorter names for dfs"
      ],
      "id": "Rh1LPMjle1cS"
    },
    {
      "cell_type": "code",
      "execution_count": null,
      "metadata": {
        "id": "TGfDy0NyJQNU"
      },
      "outputs": [],
      "source": [
        "gd = filtered_german_data"
      ],
      "id": "TGfDy0NyJQNU"
    },
    {
      "cell_type": "code",
      "execution_count": null,
      "metadata": {
        "id": "2QhGtAhKMsmv"
      },
      "outputs": [],
      "source": [
        "fd = filtered_french_data"
      ],
      "id": "2QhGtAhKMsmv"
    },
    {
      "cell_type": "markdown",
      "metadata": {
        "id": "JySFTyx-t5eA"
      },
      "source": [
        "### Analytics: how much more after enrichment"
      ],
      "id": "JySFTyx-t5eA"
    },
    {
      "cell_type": "code",
      "execution_count": null,
      "metadata": {
        "id": "aCVTrliTtvbc"
      },
      "outputs": [],
      "source": [
        "gd['genre_with_putative_libretto'].value_counts()"
      ],
      "id": "aCVTrliTtvbc"
    },
    {
      "cell_type": "code",
      "execution_count": null,
      "metadata": {
        "id": "iWJZtiBPucLm"
      },
      "outputs": [],
      "source": [
        "newly_added_sum = gd['genre_with_putative_libretto'].value_counts().loc['Libretto (attributed)']"
      ],
      "id": "iWJZtiBPucLm"
    },
    {
      "cell_type": "code",
      "execution_count": null,
      "metadata": {
        "id": "Mh0cx9N4tIIy"
      },
      "outputs": [],
      "source": [
        "datatoplot = gd['libretto_or_genre'].value_counts()\n",
        "\n",
        "ax = sns.barplot(x=datatoplot.index, y=datatoplot, palette=['darkblue', 'crimson', 'orange', 'green'])\n",
        "ax.set(title='German Libretto or Genre after Enrichment')\n",
        "\n",
        "for step, index in enumerate(datatoplot.index):\n",
        "    string = ''\n",
        "    if index == 'Libretto':\n",
        "        string = f' (+{newly_added_sum})'\n",
        "    ax.text(step, datatoplot.loc[index]+1, str(datatoplot.loc[index]) + string, color='black', ha='center')"
      ],
      "id": "Mh0cx9N4tIIy"
    },
    {
      "cell_type": "code",
      "execution_count": null,
      "metadata": {
        "id": "XpMKWthxvsSV"
      },
      "outputs": [],
      "source": [
        "fd['genre_with_putative_libretto'].value_counts()"
      ],
      "id": "XpMKWthxvsSV"
    },
    {
      "cell_type": "code",
      "execution_count": null,
      "metadata": {
        "id": "5GrsNPd-vHrw"
      },
      "outputs": [],
      "source": [
        "newly_added_sum_fr = fd['genre_with_putative_libretto'].value_counts().loc['Libretto (attributed)']"
      ],
      "id": "5GrsNPd-vHrw"
    },
    {
      "cell_type": "code",
      "execution_count": null,
      "metadata": {
        "id": "CHTxNEz0vFV-"
      },
      "outputs": [],
      "source": [
        "datatoplot = fd['libretto_or_genre'].value_counts()\n",
        "\n",
        "ax = sns.barplot(x=datatoplot.index, y=datatoplot, palette=['darkblue', 'crimson', 'orange', 'green'])\n",
        "ax.set(title='French Libretto or Genre after Enrichment')\n",
        "\n",
        "for step, index in enumerate(datatoplot.index):\n",
        "    string = ''\n",
        "    if index == 'Libretto':\n",
        "        string = f' (+{newly_added_sum_fr})'\n",
        "    ax.text(step, datatoplot.loc[index]+1, str(datatoplot.loc[index]) + string, color='black', ha='center')"
      ],
      "id": "CHTxNEz0vFV-"
    },
    {
      "cell_type": "markdown",
      "metadata": {
        "id": "mjcHIxFVe8Ct"
      },
      "source": [
        "### Distinguish comic and non-comic libretti"
      ],
      "id": "mjcHIxFVe8Ct"
    },
    {
      "cell_type": "code",
      "execution_count": null,
      "metadata": {
        "id": "bnSpab11JqpD"
      },
      "outputs": [],
      "source": [
        "gd['subtitle'] = gd['subtitle'].fillna('-')"
      ],
      "id": "bnSpab11JqpD"
    },
    {
      "cell_type": "code",
      "execution_count": null,
      "metadata": {
        "id": "NT78WpHNMvsX"
      },
      "outputs": [],
      "source": [
        "fd['subtitle'] = fd['subtitle'].fillna('-')"
      ],
      "id": "NT78WpHNMvsX"
    },
    {
      "cell_type": "code",
      "execution_count": null,
      "metadata": {
        "id": "8Wo5PoxAJSGd"
      },
      "outputs": [],
      "source": [
        "gd[gd['subtitle'].str.contains('Oper')][['first_author', 'title', 'subtitle']]"
      ],
      "id": "8Wo5PoxAJSGd"
    },
    {
      "cell_type": "code",
      "execution_count": null,
      "metadata": {
        "id": "WHFvGmn6Mzxn"
      },
      "outputs": [],
      "source": [
        "fd[fd['subtitle'].str.contains('Opéra')][['first_author', 'title', 'subtitle']]"
      ],
      "id": "WHFvGmn6Mzxn"
    },
    {
      "cell_type": "code",
      "execution_count": null,
      "metadata": {
        "id": "PsgqEcyiPiQT"
      },
      "outputs": [],
      "source": [
        "list(gd[gd['is_real_libretto']==True]['subtitle'])"
      ],
      "id": "PsgqEcyiPiQT"
    },
    {
      "cell_type": "code",
      "execution_count": null,
      "metadata": {
        "id": "trtaBQb4NiL5"
      },
      "outputs": [],
      "source": [
        "list(fd[fd['is_real_libretto']==True]['subtitle'])"
      ],
      "id": "trtaBQb4NiL5"
    },
    {
      "cell_type": "code",
      "execution_count": null,
      "metadata": {
        "id": "IxnYSvblOkYl"
      },
      "outputs": [],
      "source": [
        "def mark_comic_opera(some_subtitle, lang='de'):\n",
        "    some_subtitle = some_subtitle.lower()\n",
        "    comic_regex_fr = re.compile('comique|operette|comédie|comedie|vaudevill|divertissement')\n",
        "    comic_regex_de = re.compile('komisch|operette|komödie|comedie|parodie|posse')\n",
        "    if lang=='de':\n",
        "        regex = comic_regex_de\n",
        "    else:\n",
        "        regex = comic_regex_fr\n",
        "    if re.search(regex, some_subtitle) is not None:\n",
        "        return 'Comic libretto'\n",
        "    else:\n",
        "        return 'Non-comic libretto'"
      ],
      "id": "IxnYSvblOkYl"
    },
    {
      "cell_type": "code",
      "execution_count": null,
      "metadata": {
        "id": "Lrw6OuKvTIgC"
      },
      "outputs": [],
      "source": [
        "gd['libretto_subgenre'] = gd['subtitle'].apply(mark_comic_opera)"
      ],
      "id": "Lrw6OuKvTIgC"
    },
    {
      "cell_type": "code",
      "execution_count": null,
      "metadata": {
        "id": "g027I_meTevj"
      },
      "outputs": [],
      "source": [
        "gd[gd['is_real_libretto']==False]['libretto_subgenre'] = 'Not libretto'"
      ],
      "id": "g027I_meTevj"
    },
    {
      "cell_type": "code",
      "execution_count": null,
      "metadata": {
        "id": "re6YxN5kTe1f"
      },
      "outputs": [],
      "source": [
        "gd['libretto_subgenre']"
      ],
      "id": "re6YxN5kTe1f"
    },
    {
      "cell_type": "code",
      "execution_count": null,
      "metadata": {
        "id": "34lT5uJ7Sadx"
      },
      "outputs": [],
      "source": [
        "gd['genre_with_libretto_subgenres'] = gd.apply(lambda x: x['libretto_or_genre']\n",
        "                                               if x['is_real_libretto'] == False\n",
        "                                               else x['libretto_subgenre'],\n",
        "                                               axis=1)"
      ],
      "id": "34lT5uJ7Sadx"
    },
    {
      "cell_type": "code",
      "execution_count": null,
      "metadata": {
        "id": "YW_NlBlIV9PX"
      },
      "outputs": [],
      "source": [
        "gd['genre_with_libretto_subgenres'].value_counts()"
      ],
      "id": "YW_NlBlIV9PX"
    },
    {
      "cell_type": "code",
      "execution_count": null,
      "metadata": {
        "id": "wpozvzwBWTaq"
      },
      "outputs": [],
      "source": [
        "gd = gd[gd['genre_with_libretto_subgenres'] != 'Libretto']"
      ],
      "id": "wpozvzwBWTaq"
    },
    {
      "cell_type": "code",
      "execution_count": null,
      "metadata": {
        "id": "KaUvUuzifLmL"
      },
      "outputs": [],
      "source": [
        "gd['genre_with_libretto_subgenres'].value_counts()"
      ],
      "id": "KaUvUuzifLmL"
    },
    {
      "cell_type": "code",
      "execution_count": null,
      "metadata": {
        "id": "tE0mHb4BgcYw"
      },
      "outputs": [],
      "source": [
        "fd['libretto_subgenre'] = fd['subtitle'].apply(mark_comic_opera, lang='fr')"
      ],
      "id": "tE0mHb4BgcYw"
    },
    {
      "cell_type": "code",
      "execution_count": null,
      "metadata": {
        "id": "w5Bp7CtpgiwA"
      },
      "outputs": [],
      "source": [
        "fd['genre_with_libretto_subgenres'] = fd.apply(lambda x: x['libretto_or_genre']\n",
        "                                               if x['is_real_libretto'] == False\n",
        "                                               else x['libretto_subgenre'],\n",
        "                                               axis=1)"
      ],
      "id": "w5Bp7CtpgiwA"
    },
    {
      "cell_type": "code",
      "execution_count": null,
      "metadata": {
        "id": "cjY44fi2gmZo"
      },
      "outputs": [],
      "source": [
        "fd['genre_with_libretto_subgenres'].value_counts()"
      ],
      "id": "cjY44fi2gmZo"
    },
    {
      "cell_type": "markdown",
      "metadata": {
        "id": "GHZZRGgihV2p"
      },
      "source": [
        "### Color 2 for libretti subgenre"
      ],
      "id": "GHZZRGgihV2p"
    },
    {
      "cell_type": "code",
      "execution_count": null,
      "metadata": {
        "id": "1nOKLbOghjIG"
      },
      "outputs": [],
      "source": [
        "fd.columns"
      ],
      "id": "1nOKLbOghjIG"
    },
    {
      "cell_type": "code",
      "execution_count": null,
      "metadata": {
        "id": "gYTxi9Afhb0G"
      },
      "outputs": [],
      "source": [
        "genres_with_subgenres = list(fd['genre_with_libretto_subgenres'].unique())"
      ],
      "id": "gYTxi9Afhb0G"
    },
    {
      "cell_type": "code",
      "execution_count": null,
      "metadata": {
        "id": "6R-6fVmVhqTv"
      },
      "outputs": [],
      "source": [
        "genres_with_subgenres"
      ],
      "id": "6R-6fVmVhqTv"
    },
    {
      "cell_type": "code",
      "execution_count": null,
      "metadata": {
        "id": "re1BrwLOhruG"
      },
      "outputs": [],
      "source": [
        "colors_sg = ['red', 'blue', 'orange', 'aquamarine', 'green']"
      ],
      "id": "re1BrwLOhruG"
    },
    {
      "cell_type": "code",
      "execution_count": null,
      "metadata": {
        "id": "er2gJCwViAKd"
      },
      "outputs": [],
      "source": [
        "genre_color_mapping_sg = dict(zip(genres_with_subgenres, colors_sg))"
      ],
      "id": "er2gJCwViAKd"
    },
    {
      "cell_type": "code",
      "execution_count": null,
      "metadata": {
        "id": "2kUIo1UOiXfc"
      },
      "outputs": [],
      "source": [
        "genre_color_mapping_sg"
      ],
      "id": "2kUIo1UOiXfc"
    },
    {
      "cell_type": "code",
      "execution_count": null,
      "metadata": {
        "id": "izx_WMbfiIgQ"
      },
      "outputs": [],
      "source": [
        "fd['color_subgenres'] = fd['genre_with_libretto_subgenres'].apply(lambda x:\n",
        "                                                              genre_color_mapping_sg[x])"
      ],
      "id": "izx_WMbfiIgQ"
    },
    {
      "cell_type": "code",
      "execution_count": null,
      "metadata": {
        "id": "H0Xvwc7tidKr"
      },
      "outputs": [],
      "source": [
        "gd['color_subgenres'] = gd['genre_with_libretto_subgenres'].apply(lambda x:\n",
        "                                                              genre_color_mapping_sg[x])"
      ],
      "id": "H0Xvwc7tidKr"
    },
    {
      "cell_type": "markdown",
      "metadata": {
        "id": "O_Qtm0SOMTaX"
      },
      "source": [
        "### Checking timeframes"
      ],
      "id": "O_Qtm0SOMTaX"
    },
    {
      "cell_type": "markdown",
      "metadata": {
        "id": "rqHWwFewMXgg"
      },
      "source": [
        "#### German"
      ],
      "id": "rqHWwFewMXgg"
    },
    {
      "cell_type": "code",
      "execution_count": null,
      "metadata": {
        "id": "yGP6jpLnMWyv"
      },
      "outputs": [],
      "source": [
        "gd[gd['genre_with_putative_libretto'].str.contains('Libretto')]['year_normalized'].describe()"
      ],
      "id": "yGP6jpLnMWyv"
    },
    {
      "cell_type": "code",
      "execution_count": null,
      "metadata": {
        "id": "O5JYQ2ISM-d5"
      },
      "outputs": [],
      "source": [
        "gd[(gd['genre_with_putative_libretto'].str.contains(\n",
        "    'Libretto')) & (gd['year_normalized'] == 1770)]"
      ],
      "id": "O5JYQ2ISM-d5"
    },
    {
      "cell_type": "code",
      "execution_count": null,
      "metadata": {
        "id": "QX5Tcq3UOB7f"
      },
      "outputs": [],
      "source": [
        "gd[(gd['genre_with_putative_libretto'].str.contains(\n",
        "    'Libretto')) & (gd['year_normalized'] == 1920)]"
      ],
      "id": "QX5Tcq3UOB7f"
    },
    {
      "cell_type": "markdown",
      "metadata": {
        "id": "iv1e7VHZOOdn"
      },
      "source": [
        "#### French"
      ],
      "id": "iv1e7VHZOOdn"
    },
    {
      "cell_type": "code",
      "execution_count": null,
      "metadata": {
        "id": "Os_tR6CXOL2r"
      },
      "outputs": [],
      "source": [
        "fd[fd['genre_with_putative_libretto'].str.contains('Libretto')]['year_normalized'].describe()"
      ],
      "id": "Os_tR6CXOL2r"
    },
    {
      "cell_type": "code",
      "execution_count": null,
      "metadata": {
        "id": "PqCZ5SCNPgZK"
      },
      "outputs": [],
      "source": [
        "libretto_years = fd[fd['genre_with_putative_libretto'].str.contains('Libretto')]['year_normalized']"
      ],
      "id": "PqCZ5SCNPgZK"
    },
    {
      "cell_type": "code",
      "execution_count": null,
      "metadata": {
        "id": "B6HgACjRPoBr"
      },
      "outputs": [],
      "source": [
        "libretto_years.max() - libretto_years.min()"
      ],
      "id": "B6HgACjRPoBr"
    },
    {
      "cell_type": "code",
      "execution_count": null,
      "metadata": {
        "id": "AAH7LCgOOL2s"
      },
      "outputs": [],
      "source": [
        "fd[(fd['genre_with_putative_libretto'].str.contains(\n",
        "    'Libretto')) & (fd['year_normalized'] == 1626)]"
      ],
      "id": "AAH7LCgOOL2s"
    },
    {
      "cell_type": "code",
      "execution_count": null,
      "metadata": {
        "id": "yvfV-7kJOL2s"
      },
      "outputs": [],
      "source": [
        "fd[(fd['genre_with_putative_libretto'].str.contains(\n",
        "    'Libretto')) & (fd['year_normalized'] == 1889)]"
      ],
      "id": "yvfV-7kJOL2s"
    },
    {
      "cell_type": "code",
      "execution_count": null,
      "metadata": {
        "id": "TTN0nRmoP2vI"
      },
      "outputs": [],
      "source": [
        "libretto_years.hist(bins=30)"
      ],
      "id": "TTN0nRmoP2vI"
    },
    {
      "cell_type": "code",
      "execution_count": null,
      "metadata": {
        "id": "IBboBvAuQWWx"
      },
      "outputs": [],
      "source": [
        "libretto_years.sort_values().to_csv('year_to_see.txt', index=False)"
      ],
      "id": "IBboBvAuQWWx"
    },
    {
      "cell_type": "markdown",
      "metadata": {
        "id": "E94nsHVEt0Ym"
      },
      "source": [
        "## Creating time slices"
      ],
      "id": "E94nsHVEt0Ym"
    },
    {
      "cell_type": "markdown",
      "metadata": {
        "id": "zO5Bio-1S_Av"
      },
      "source": [
        "#### 1770 - 1819"
      ],
      "id": "zO5Bio-1S_Av"
    },
    {
      "cell_type": "code",
      "execution_count": null,
      "metadata": {
        "id": "cENJaZ7RTFLS"
      },
      "outputs": [],
      "source": [
        "german_data_1770_1819 = gd[(gd['year_normalized'] >= 1770) &\n",
        "                                      (gd['year_normalized'] <= 1819)]"
      ],
      "id": "cENJaZ7RTFLS"
    },
    {
      "cell_type": "code",
      "execution_count": null,
      "metadata": {
        "id": "miDThPM6TY1p"
      },
      "outputs": [],
      "source": [
        "german_data_1770_1819['libretto'].value_counts()"
      ],
      "id": "miDThPM6TY1p"
    },
    {
      "cell_type": "code",
      "execution_count": null,
      "metadata": {
        "id": "OIWmnmBbTinc"
      },
      "outputs": [],
      "source": [
        "german_data_1770_1819['genre_with_putative_libretto'].str.contains('Libretto').sum()"
      ],
      "id": "OIWmnmBbTinc"
    },
    {
      "cell_type": "code",
      "execution_count": null,
      "metadata": {
        "id": "fHh1oY32UjkU"
      },
      "outputs": [],
      "source": [
        "german_data_1770_1819['genre_with_putative_libretto'].value_counts()"
      ],
      "id": "fHh1oY32UjkU"
    },
    {
      "cell_type": "markdown",
      "metadata": {
        "id": "V8YUmgR3VHwl"
      },
      "source": [
        "#### 1820 - 1869"
      ],
      "id": "V8YUmgR3VHwl"
    },
    {
      "cell_type": "code",
      "execution_count": null,
      "metadata": {
        "id": "WKak5lI2VHUo"
      },
      "outputs": [],
      "source": [
        "german_data_1820_1869 = gd[(gd['year_normalized'] >= 1820) &\n",
        "                                      (gd['year_normalized'] <= 1869)]"
      ],
      "id": "WKak5lI2VHUo"
    },
    {
      "cell_type": "code",
      "execution_count": null,
      "metadata": {
        "id": "A1e52oJTVSUq"
      },
      "outputs": [],
      "source": [
        "german_data_1820_1869['genre_with_putative_libretto'].str.contains('Libretto').sum()"
      ],
      "id": "A1e52oJTVSUq"
    },
    {
      "cell_type": "markdown",
      "metadata": {
        "id": "D5HgIZHCVoXq"
      },
      "source": [
        "#### 1870 - 1920"
      ],
      "id": "D5HgIZHCVoXq"
    },
    {
      "cell_type": "code",
      "execution_count": null,
      "metadata": {
        "id": "wlGzOAGMVoXq"
      },
      "outputs": [],
      "source": [
        "german_data_1870_1920 = gd[(gd['year_normalized'] >= 1870) &\n",
        "                                      (gd['year_normalized'] <= 1920)]"
      ],
      "id": "wlGzOAGMVoXq"
    },
    {
      "cell_type": "code",
      "execution_count": null,
      "metadata": {
        "id": "EdAbpQmCVoXr"
      },
      "outputs": [],
      "source": [
        "german_data_1870_1920['genre_with_putative_libretto'].str.contains('Libretto').sum()"
      ],
      "id": "EdAbpQmCVoXr"
    },
    {
      "cell_type": "code",
      "execution_count": null,
      "metadata": {
        "id": "yWvRaXye4NH-"
      },
      "outputs": [],
      "source": [
        "german_data_1870_1920.columns"
      ],
      "id": "yWvRaXye4NH-"
    },
    {
      "cell_type": "code",
      "execution_count": null,
      "metadata": {
        "id": "a2GfW_dD3-88"
      },
      "outputs": [],
      "source": [
        "german_data_1870_1920[german_data_1870_1920[\"genre_with_libretto_subgenres\"] == 'Non-comic libretto'][['first_author','title', 'word_count_sp']].sort_values('word_count_sp')"
      ],
      "id": "a2GfW_dD3-88"
    },
    {
      "cell_type": "code",
      "execution_count": null,
      "metadata": {
        "id": "xeJHxM0OV7_P"
      },
      "outputs": [],
      "source": [
        "def slice_and_get_proportion(data, startyear, endyear):\n",
        "    data = data[(data['year_normalized'] >= startyear) &\n",
        "                                      (data['year_normalized'] <= endyear)]\n",
        "    no_librettti = data['genre_with_putative_libretto'].str.contains('Libretto').sum()\n",
        "    no_total = data.shape[0]\n",
        "    no_nonlibretti = no_total - no_librettti\n",
        "    print(f'Period from {startyear} to {endyear}:')\n",
        "    print(f'Libretti: {no_librettti}')\n",
        "    print(f'Other: {no_nonlibretti}')\n",
        "    return data"
      ],
      "id": "xeJHxM0OV7_P"
    },
    {
      "cell_type": "code",
      "execution_count": null,
      "metadata": {
        "id": "dq8RSJNuWatw"
      },
      "outputs": [],
      "source": [
        "french_data_1620_1669 =  slice_and_get_proportion(fd, 1620, 1669)"
      ],
      "id": "dq8RSJNuWatw"
    },
    {
      "cell_type": "code",
      "execution_count": null,
      "metadata": {
        "id": "CtO39GChW7I2"
      },
      "outputs": [],
      "source": [
        "french_data_1670_1719 = slice_and_get_proportion(fd, 1670, 1719)"
      ],
      "id": "CtO39GChW7I2"
    },
    {
      "cell_type": "code",
      "execution_count": null,
      "metadata": {
        "id": "PN94yKSzW_7p"
      },
      "outputs": [],
      "source": [
        "french_data_1720_1769 = slice_and_get_proportion(fd, 1720, 1769)"
      ],
      "id": "PN94yKSzW_7p"
    },
    {
      "cell_type": "code",
      "execution_count": null,
      "metadata": {
        "id": "2BeFhVW4XDtk"
      },
      "outputs": [],
      "source": [
        "french_data_1770_1819 = slice_and_get_proportion(fd, 1770, 1819)"
      ],
      "id": "2BeFhVW4XDtk"
    },
    {
      "cell_type": "code",
      "execution_count": null,
      "metadata": {
        "id": "TXThorYMXHGw"
      },
      "outputs": [],
      "source": [
        "french_data_1820_1889 = slice_and_get_proportion(fd, 1820, 1889)"
      ],
      "id": "TXThorYMXHGw"
    },
    {
      "cell_type": "markdown",
      "metadata": {
        "id": "0nRvHrRTMNDm"
      },
      "source": [
        "## At this point we have our corpus ready for exploration (all genres are mapped)"
      ],
      "id": "0nRvHrRTMNDm"
    },
    {
      "cell_type": "markdown",
      "metadata": {
        "id": "YIyO7cUeftsO"
      },
      "source": [
        "# II. Data exploration"
      ],
      "id": "YIyO7cUeftsO"
    },
    {
      "cell_type": "markdown",
      "metadata": {
        "id": "Vmeoq8kXj72B"
      },
      "source": [
        "## 4. Plotting"
      ],
      "id": "Vmeoq8kXj72B"
    },
    {
      "cell_type": "markdown",
      "source": [
        "Folder for pics"
      ],
      "metadata": {
        "id": "cJtNvgBsavTS"
      },
      "id": "cJtNvgBsavTS"
    },
    {
      "cell_type": "code",
      "execution_count": null,
      "metadata": {
        "id": "VaVLIgP1jBLj"
      },
      "outputs": [],
      "source": [
        "if not os.path.exists(\"output-images\"):\n",
        "    os.mkdir(\"output-images\")"
      ],
      "id": "VaVLIgP1jBLj"
    },
    {
      "cell_type": "markdown",
      "metadata": {
        "id": "f2oElJBEdu3R"
      },
      "source": [
        "## Trying multidimensional methods (PCA, t-SNE, LDA, UMAP)"
      ],
      "id": "f2oElJBEdu3R"
    },
    {
      "cell_type": "markdown",
      "metadata": {
        "id": "KrI3LBrfgFbO"
      },
      "source": [
        "#### Preprocessing: data standardization with standard scaler"
      ],
      "id": "KrI3LBrfgFbO"
    },
    {
      "cell_type": "code",
      "execution_count": null,
      "metadata": {
        "id": "yKbwq3u1svWb"
      },
      "outputs": [],
      "source": [
        "def standardize(df, feature_list):\n",
        "    data_to_process = df.loc[:, feature_list].values\n",
        "    standardized_data_to_process = StandardScaler().fit_transform(data_to_process)\n",
        "    return standardized_data_to_process"
      ],
      "id": "yKbwq3u1svWb"
    },
    {
      "cell_type": "markdown",
      "metadata": {
        "id": "jzeLBz5DhI2G"
      },
      "source": [
        "### Common visualization functions"
      ],
      "id": "jzeLBz5DhI2G"
    },
    {
      "cell_type": "code",
      "execution_count": null,
      "metadata": {
        "id": "yvnyNUveSuOa"
      },
      "outputs": [],
      "source": [
        "def plot_2d_no_legend(df, component1, component2, output_filename, title):\n",
        "\n",
        "    fig = go.Figure(data=go.Scatter(\n",
        "        x = component1,\n",
        "        y = component2,\n",
        "        mode='markers',\n",
        "        marker=dict(\n",
        "            size=20,\n",
        "            color=df['color_subgenres'], #set color equal to a variable\n",
        "            colorscale='Rainbow', # one of plotly colorscales\n",
        "            showscale=False,\n",
        "            line_width=1\n",
        "        ),\n",
        "        text=df['subtitle'],\n",
        "        #showlegend=True\n",
        "    ))\n",
        "    fig.update_layout(margin=dict( l=100,r=100,b=100,t=100),\n",
        "                      width=2000,height=1200,\n",
        "                      font=dict(size=18),\n",
        "                      title=title)\n",
        "    fig.layout.template = 'plotly'\n",
        "\n",
        "    fig.show()\n",
        "    fig.write_image(\"output-images/\" + output_filename + \".png\",scale=2)"
      ],
      "id": "yvnyNUveSuOa"
    },
    {
      "cell_type": "code",
      "execution_count": null,
      "metadata": {
        "id": "EDP7BKfOeG3o"
      },
      "outputs": [],
      "source": [
        "def plot_2d(df, component1, component2, output_filename, title):\n",
        "\n",
        "    df['comp 1'] = component1\n",
        "    df['comp 2'] = component2\n",
        "    pxscatter = px.scatter(df, x='comp 1', y='comp 2',\n",
        "                           color_discrete_sequence=list(df['color_subgenres'].unique()),\n",
        "                           color='genre_with_libretto_subgenres',\n",
        "                           hover_data=['subtitle']\n",
        "\n",
        "    )\n",
        "\n",
        "\n",
        "    fig = go.Figure(data = pxscatter)\n",
        "    fig.update_traces(marker=dict(size=20,\n",
        "                              line=dict(width=1)),\n",
        "                      selector=dict(mode='markers'))\n",
        "    fig.update_layout(margin=dict( l=100,r=100,b=100,t=100),\n",
        "                      width=2000,height=1200,\n",
        "                      font=dict(size=18),\n",
        "                      title=title,\n",
        "                      legend=dict(title=\"Genre\")\n",
        "                      )\n",
        "    fig.layout.template = 'plotly'\n",
        "\n",
        "    fig.show()\n",
        "    fig.write_image(\"output-images/\" + output_filename + \".png\",scale=2)"
      ],
      "id": "EDP7BKfOeG3o"
    },
    {
      "cell_type": "code",
      "execution_count": null,
      "metadata": {
        "id": "1mSty0mRfOZk"
      },
      "outputs": [],
      "source": [
        "def plot_2d_no_subgenres(df, component1, component2, output_filename, title):\n",
        "\n",
        "    df['comp 1'] = component1\n",
        "    df['comp 2'] = component2\n",
        "    pxscatter = px.scatter(df, x='comp 1', y='comp 2',\n",
        "                           color_discrete_sequence=['red','blue', 'orange', 'green'],\n",
        "                           color='libretto_or_genre',\n",
        "                           hover_data=['subtitle']\n",
        "\n",
        "    )\n",
        "\n",
        "    fig = go.Figure(data = pxscatter)\n",
        "    fig.update_traces(marker=dict(size=20,\n",
        "                              line=dict(width=1)),\n",
        "                                        #color='DarkSlateGrey')),\n",
        "                      selector=dict(mode='markers'))\n",
        "    fig.update_layout(margin=dict( l=100,r=100,b=100,t=100),\n",
        "                      width=2000,height=1200,\n",
        "                      font=dict(size=18),\n",
        "                      title=title,\n",
        "                      legend=dict(title=\"Genre\")\n",
        "                      )\n",
        "    fig.layout.template = 'plotly'\n",
        "\n",
        "    fig.show()\n",
        "    fig.write_image(\"output-images/\" + output_filename + \".png\",scale=2)"
      ],
      "id": "1mSty0mRfOZk"
    },
    {
      "cell_type": "markdown",
      "metadata": {
        "id": "v2ljurYMf7BI"
      },
      "source": [
        "#### t-SNE"
      ],
      "id": "v2ljurYMf7BI"
    },
    {
      "cell_type": "markdown",
      "metadata": {
        "id": "DV5S-nCvodkH"
      },
      "source": [
        "##### German"
      ],
      "id": "DV5S-nCvodkH"
    },
    {
      "cell_type": "code",
      "execution_count": null,
      "metadata": {
        "id": "1xuo086Cf9RU"
      },
      "outputs": [],
      "source": [
        "from sklearn.manifold import TSNE"
      ],
      "id": "1xuo086Cf9RU"
    },
    {
      "cell_type": "markdown",
      "metadata": {
        "id": "h-b4uGy7sjty"
      },
      "source": [
        "#### German 1770-1819\n"
      ],
      "id": "h-b4uGy7sjty"
    },
    {
      "cell_type": "code",
      "execution_count": null,
      "metadata": {
        "id": "fsSzS06isf-9"
      },
      "outputs": [],
      "source": [
        "def make_tsne(df, feature_list, perp, output_filename, title):\n",
        "    standardized_data = standardize(df, feature_list)\n",
        "    start = time.time()\n",
        "    tsne = TSNE(random_state = 42,\n",
        "            n_components=3,\n",
        "            verbose=0,\n",
        "            perplexity=perp,\n",
        "            n_iter=400).fit_transform(standardized_data)\n",
        "    print('Duration: {} seconds'.format(time.time() - start))\n",
        "    plot_2d(df, tsne[:, 0], tsne[:, 1], output_filename, title)\n"
      ],
      "id": "fsSzS06isf-9"
    },
    {
      "cell_type": "code",
      "execution_count": null,
      "metadata": {
        "id": "8k7hRGSOwlaB"
      },
      "outputs": [],
      "source": [
        "make_tsne(german_data_1770_1819, list_features_pyd, 10, \"german_data_1770_1819\", \"german_data_1770_1819\")"
      ],
      "id": "8k7hRGSOwlaB"
    },
    {
      "cell_type": "code",
      "execution_count": null,
      "metadata": {
        "id": "QJgV5zBEyJb3"
      },
      "outputs": [],
      "source": [
        "make_tsne(german_data_1770_1819, list_features_pyd, 50, \"german_data_1770_1819-50\", \"german_data_1770_1819\")"
      ],
      "id": "QJgV5zBEyJb3"
    },
    {
      "cell_type": "code",
      "execution_count": null,
      "metadata": {
        "id": "yJQ0QAwkyYzY"
      },
      "outputs": [],
      "source": [
        "make_tsne(german_data_1820_1869, list_features_pyd, 10, \"german_data_1820_1869\", \"german_data_1820_1869\")"
      ],
      "id": "yJQ0QAwkyYzY"
    },
    {
      "cell_type": "code",
      "execution_count": null,
      "metadata": {
        "id": "181u_-nsyjCc"
      },
      "outputs": [],
      "source": [
        "make_tsne(german_data_1820_1869, list_features_pyd, 50, \"german_data_1820_1869-50\", \"german_data_1820_1869\")"
      ],
      "id": "181u_-nsyjCc"
    },
    {
      "cell_type": "code",
      "execution_count": null,
      "metadata": {
        "id": "myc_55P5suXy"
      },
      "outputs": [],
      "source": [
        "make_tsne(german_data_1870_1920, list_features_pyd, 10, \"german_data_1820_1869\", \"german_data_1870_1920\")"
      ],
      "id": "myc_55P5suXy"
    },
    {
      "cell_type": "code",
      "execution_count": null,
      "metadata": {
        "id": "aormmK6Ds7FT"
      },
      "outputs": [],
      "source": [
        "make_tsne(german_data_1870_1920, list_features_pyd, 50, \"german_data_1870_1920-50\",\"german_data_1870_1920\")"
      ],
      "id": "aormmK6Ds7FT"
    },
    {
      "cell_type": "markdown",
      "metadata": {
        "id": "6sqInetRoh-9"
      },
      "source": [
        "#### French"
      ],
      "id": "6sqInetRoh-9"
    },
    {
      "cell_type": "code",
      "execution_count": null,
      "metadata": {
        "id": "9XsNip6etF5j"
      },
      "outputs": [],
      "source": [
        "make_tsne(french_data_1620_1669, list_features_pyd, 10, \"french_data_1620_1669\", \"french_data_1620_1669\")"
      ],
      "id": "9XsNip6etF5j"
    },
    {
      "cell_type": "code",
      "execution_count": null,
      "metadata": {
        "id": "9xZkPiRkjLYM"
      },
      "outputs": [],
      "source": [
        "make_tsne(french_data_1620_1669, list_features_pyd, 50, \"french_data_1620_1669-50\", \"french_data_1620_1669\")"
      ],
      "id": "9xZkPiRkjLYM"
    },
    {
      "cell_type": "code",
      "execution_count": null,
      "metadata": {
        "id": "hdilUIs8jPBg"
      },
      "outputs": [],
      "source": [
        "make_tsne(french_data_1670_1719, list_features_pyd, 10, \"french_data_1670_1719\", \"french_data_1670_1719\")"
      ],
      "id": "hdilUIs8jPBg"
    },
    {
      "cell_type": "code",
      "execution_count": null,
      "metadata": {
        "id": "Ektp9FqBjX9J"
      },
      "outputs": [],
      "source": [
        "make_tsne(french_data_1670_1719, list_features_pyd, 50, \"french_data_1670_1719-50\", \"french_data_1670_1719\")"
      ],
      "id": "Ektp9FqBjX9J"
    },
    {
      "cell_type": "code",
      "execution_count": null,
      "metadata": {
        "id": "Jm8yWZqnkE_p"
      },
      "outputs": [],
      "source": [
        "make_tsne(french_data_1720_1769, list_features_pyd, 10, \"french_data_1720_1769\", \"french_data_1720_1769\")"
      ],
      "id": "Jm8yWZqnkE_p"
    },
    {
      "cell_type": "code",
      "execution_count": null,
      "metadata": {
        "id": "eym6U-XUkrQd"
      },
      "outputs": [],
      "source": [
        "make_tsne(french_data_1720_1769, list_features_pyd, 50, \"french_data_1720_1769-50\", \"french_data_1720_1769\")"
      ],
      "id": "eym6U-XUkrQd"
    },
    {
      "cell_type": "code",
      "execution_count": null,
      "metadata": {
        "id": "hanwAGh_lDmj"
      },
      "outputs": [],
      "source": [
        "make_tsne(french_data_1770_1819, list_features_pyd, 10, \"french_data_1770_1819\", \"french_data_1770_1819\")"
      ],
      "id": "hanwAGh_lDmj"
    },
    {
      "cell_type": "code",
      "execution_count": null,
      "metadata": {
        "id": "mURYoesPlHvv"
      },
      "outputs": [],
      "source": [
        "make_tsne(french_data_1770_1819, list_features_pyd, 50, \"french_data_1770_1819-50\", \"french_data_1770_1819\")"
      ],
      "id": "mURYoesPlHvv"
    },
    {
      "cell_type": "code",
      "execution_count": null,
      "metadata": {
        "id": "CdzcQi3WlUZj"
      },
      "outputs": [],
      "source": [
        "make_tsne(french_data_1820_1889, list_features_pyd, 10, \"french_data_1820_1889\", \"french_data_1820_1889\")"
      ],
      "id": "CdzcQi3WlUZj"
    },
    {
      "cell_type": "code",
      "execution_count": null,
      "metadata": {
        "id": "KA8uqGReldoq"
      },
      "outputs": [],
      "source": [
        "make_tsne(french_data_1820_1889, list_features_pyd, 50, \"french_data_1820_1889-50\", \"french_data_1820_1889\")"
      ],
      "id": "KA8uqGReldoq"
    },
    {
      "cell_type": "code",
      "execution_count": null,
      "metadata": {
        "id": "UX-fp0a7StG8"
      },
      "outputs": [],
      "source": [
        "# download all pics as zip\n",
        "#from google.colab import files\n",
        "#!zip -r /content/output_images.zip /content/output-images\n",
        "#files.download('/content/output_images.zip')"
      ],
      "id": "UX-fp0a7StG8"
    },
    {
      "cell_type": "markdown",
      "metadata": {
        "id": "8Rdp8WUbeTtx"
      },
      "source": [
        "### UMAP"
      ],
      "id": "8Rdp8WUbeTtx"
    },
    {
      "cell_type": "code",
      "execution_count": null,
      "metadata": {
        "id": "OcYZXgwxd3VT"
      },
      "outputs": [],
      "source": [
        "!pip install umap-learn"
      ],
      "id": "OcYZXgwxd3VT"
    },
    {
      "cell_type": "code",
      "execution_count": null,
      "metadata": {
        "id": "MIwPDQKOb333"
      },
      "outputs": [],
      "source": [
        "import umap"
      ],
      "id": "MIwPDQKOb333"
    },
    {
      "cell_type": "code",
      "execution_count": null,
      "metadata": {
        "id": "ISHX54Efv3Lp"
      },
      "outputs": [],
      "source": [
        "def make_umap(df, feature_list, title, filename):\n",
        "    standardized_data = standardize(df, feature_list)\n",
        "    start = time.time()\n",
        "    reducer = umap.UMAP(random_state=42,n_components=3)\n",
        "    embedding = reducer.fit_transform(standardized_data)\n",
        "    print('Duration: {} seconds'.format(time.time() - start))\n",
        "    plot_2d(df, reducer.embedding_[:, 0],reducer.embedding_[:, 1], title, filename)\n"
      ],
      "id": "ISHX54Efv3Lp"
    },
    {
      "cell_type": "markdown",
      "metadata": {
        "id": "Puqqohz4zSVx"
      },
      "source": [
        "### German"
      ],
      "id": "Puqqohz4zSVx"
    },
    {
      "cell_type": "markdown",
      "metadata": {
        "id": "1EBtfT6lw9Kx"
      },
      "source": [
        "#### German timestamps"
      ],
      "id": "1EBtfT6lw9Kx"
    },
    {
      "cell_type": "code",
      "execution_count": null,
      "metadata": {
        "id": "_p7RGjy6wRo6"
      },
      "outputs": [],
      "source": [
        "make_umap(german_data_1770_1819, list_features_pyd, 'german_data_1770_1819', 'german_data_1770_1819')"
      ],
      "id": "_p7RGjy6wRo6"
    },
    {
      "cell_type": "code",
      "execution_count": null,
      "metadata": {
        "id": "8Ozdw5A2wIlf"
      },
      "outputs": [],
      "source": [
        "make_umap(german_data_1820_1869, list_features_pyd, 'german_data_1820_1869', 'german_data_1820_1869')"
      ],
      "id": "8Ozdw5A2wIlf"
    },
    {
      "cell_type": "code",
      "execution_count": null,
      "metadata": {
        "id": "ZPRZGDV3wV3w"
      },
      "outputs": [],
      "source": [
        "make_umap(german_data_1870_1920, list_features_pyd, 'german_data_1870_1920', 'german_data_1870_1920')"
      ],
      "id": "ZPRZGDV3wV3w"
    },
    {
      "cell_type": "markdown",
      "metadata": {
        "id": "LKZkkAzg0PZd"
      },
      "source": [
        "### French"
      ],
      "id": "LKZkkAzg0PZd"
    },
    {
      "cell_type": "code",
      "execution_count": null,
      "metadata": {
        "id": "IxKjqhVJwzr8"
      },
      "outputs": [],
      "source": [
        "make_umap(fd, list_features_pyd, 'french umap', 'french umap')"
      ],
      "id": "IxKjqhVJwzr8"
    },
    {
      "cell_type": "markdown",
      "metadata": {
        "id": "yz2DGMRtxBGk"
      },
      "source": [
        "#### French timestamps"
      ],
      "id": "yz2DGMRtxBGk"
    },
    {
      "cell_type": "code",
      "execution_count": null,
      "metadata": {
        "id": "5qA0aZIuxDOd"
      },
      "outputs": [],
      "source": [
        "make_umap(french_data_1620_1669, list_features_pyd,'french_data_1620_1669','french_data_1620_1669')"
      ],
      "id": "5qA0aZIuxDOd"
    },
    {
      "cell_type": "code",
      "execution_count": null,
      "metadata": {
        "id": "ZIXU_bvrxDU0"
      },
      "outputs": [],
      "source": [
        "make_umap(french_data_1670_1719, list_features_pyd, 'french_data_1670_1719', 'french_data_1670_1719')"
      ],
      "id": "ZIXU_bvrxDU0"
    },
    {
      "cell_type": "code",
      "execution_count": null,
      "metadata": {
        "id": "cUWVcyt2xJC6"
      },
      "outputs": [],
      "source": [
        "make_umap(french_data_1720_1769, list_features_pyd, 'french_data_1720_1769', 'french_data_1720_1769')"
      ],
      "id": "cUWVcyt2xJC6"
    },
    {
      "cell_type": "code",
      "execution_count": null,
      "metadata": {
        "id": "hOEF1R43xMNi"
      },
      "outputs": [],
      "source": [
        "make_umap(french_data_1770_1819, list_features_pyd, 'french_data_1770_1819', 'french_data_1770_1819')"
      ],
      "id": "hOEF1R43xMNi"
    },
    {
      "cell_type": "code",
      "execution_count": null,
      "metadata": {
        "id": "vxDzMOX3xO7m"
      },
      "outputs": [],
      "source": [
        "make_umap(french_data_1820_1889, list_features_pyd, 'french_data_1820_1889', 'french_data_1820_1889')"
      ],
      "id": "vxDzMOX3xO7m"
    },
    {
      "cell_type": "markdown",
      "metadata": {
        "id": "6A9TswKP1D0H"
      },
      "source": [
        "### PCA"
      ],
      "id": "6A9TswKP1D0H"
    },
    {
      "cell_type": "markdown",
      "metadata": {
        "id": "lqnhmAIR1FQu"
      },
      "source": [
        "### German"
      ],
      "id": "lqnhmAIR1FQu"
    },
    {
      "cell_type": "code",
      "execution_count": null,
      "metadata": {
        "id": "YefGhOBs1bY8"
      },
      "outputs": [],
      "source": [
        "def make_pca(df, feature_list, output_filename, title):\n",
        "    standardized_data = standardize(df, feature_list)\n",
        "    start = time.time()\n",
        "    pca = PCA(n_components=3)\n",
        "    principalComponents = pca.fit_transform(standardized_data)\n",
        "    print('Duration: {} seconds'.format(time.time() - start))\n",
        "    principal = pd.DataFrame(data = principalComponents\n",
        "                , columns = ['principal component 1', 'principal component 2','principal component 3'])\n",
        "    plot_2d(df, principalComponents[:, 0],\n",
        "            principalComponents[:, 1],\n",
        "            output_filename,\n",
        "            title)"
      ],
      "id": "YefGhOBs1bY8"
    },
    {
      "cell_type": "code",
      "execution_count": null,
      "metadata": {
        "id": "COiR_S011lC0"
      },
      "outputs": [],
      "source": [
        "make_pca(gd, list_features_pyd, 'German PCA', 'German PCA')"
      ],
      "id": "COiR_S011lC0"
    },
    {
      "cell_type": "markdown",
      "metadata": {
        "id": "QZ9EWtoTz2C-"
      },
      "source": [
        "#### German timestamps"
      ],
      "id": "QZ9EWtoTz2C-"
    },
    {
      "cell_type": "code",
      "source": [
        "make_pca(german_data_1770_1819, list_features_pyd, 'pcagerman_data_1770_1819', 'pcagerman_data_1770_1819')"
      ],
      "metadata": {
        "id": "8JCReCr6y9fU"
      },
      "id": "8JCReCr6y9fU",
      "execution_count": null,
      "outputs": []
    },
    {
      "cell_type": "code",
      "execution_count": null,
      "metadata": {
        "id": "DZKaBAza68Fj"
      },
      "outputs": [],
      "source": [
        "make_pca(german_data_1770_1819, list_features_pyd, '1770_1819allfeatures', '1770_1819allfeatures')"
      ],
      "id": "DZKaBAza68Fj"
    },
    {
      "cell_type": "code",
      "execution_count": null,
      "metadata": {
        "id": "GUbjMI41z2C_"
      },
      "outputs": [],
      "source": [
        "make_pca(german_data_1820_1869, list_features_pyd, 'pcagerman_data_1820_1869', 'pcagerman_data_1820_1869')"
      ],
      "id": "GUbjMI41z2C_"
    },
    {
      "cell_type": "code",
      "execution_count": null,
      "metadata": {
        "id": "u2XdkxWoz2C_"
      },
      "outputs": [],
      "source": [
        "make_pca(german_data_1870_1920, list_features_pyd, 'pcagerman_data_1870_1920', 'pcagerman_data_1870_1920')"
      ],
      "id": "u2XdkxWoz2C_"
    },
    {
      "cell_type": "markdown",
      "metadata": {
        "id": "xONAoPqEz2C_"
      },
      "source": [
        "### French"
      ],
      "id": "xONAoPqEz2C_"
    },
    {
      "cell_type": "code",
      "execution_count": null,
      "metadata": {
        "id": "IN334D1Fz2C_"
      },
      "outputs": [],
      "source": [
        "make_pca(gd, list_features_pyd, 'French PCA', 'French PCA')"
      ],
      "id": "IN334D1Fz2C_"
    },
    {
      "cell_type": "markdown",
      "metadata": {
        "id": "-uOhrYuJz2C_"
      },
      "source": [
        "#### French timestamps"
      ],
      "id": "-uOhrYuJz2C_"
    },
    {
      "cell_type": "code",
      "execution_count": null,
      "metadata": {
        "id": "cD51CNqMz2C_"
      },
      "outputs": [],
      "source": [
        "make_pca(french_data_1620_1669, list_features_pyd, 'pcafrench_data_1620_1669', 'pcafrench_data_1620_1669')"
      ],
      "id": "cD51CNqMz2C_"
    },
    {
      "cell_type": "code",
      "execution_count": null,
      "metadata": {
        "id": "F5lvJNXpz2C_"
      },
      "outputs": [],
      "source": [
        "make_pca(french_data_1670_1719, list_features_pyd, 'pcafrench_data_1670_1719', 'pcafrench_data_1670_1719')"
      ],
      "id": "F5lvJNXpz2C_"
    },
    {
      "cell_type": "code",
      "execution_count": null,
      "metadata": {
        "id": "E1nIvRiiz2C_"
      },
      "outputs": [],
      "source": [
        "make_pca(french_data_1720_1769, list_features_pyd, 'pcafrench_data_1720_1769', 'pcafrench_data_1720_1769')"
      ],
      "id": "E1nIvRiiz2C_"
    },
    {
      "cell_type": "code",
      "execution_count": null,
      "metadata": {
        "id": "Yf_HUt8Dz2C_"
      },
      "outputs": [],
      "source": [
        "make_pca(french_data_1770_1819, list_features_pyd, 'pcafrench_data_1770_1819', 'pcafrench_data_1770_1819')"
      ],
      "id": "Yf_HUt8Dz2C_"
    },
    {
      "cell_type": "code",
      "execution_count": null,
      "metadata": {
        "id": "jYZlNMISz2C_"
      },
      "outputs": [],
      "source": [
        "make_pca(french_data_1820_1889, list_features_pyd, 'pcafrench_data_1820_1889', 'pcafrench_data_1820_1889')"
      ],
      "id": "jYZlNMISz2C_"
    },
    {
      "cell_type": "markdown",
      "metadata": {
        "id": "DVMQ1FC4gT21"
      },
      "source": [
        "### PCA for German and French stuff together!"
      ],
      "id": "DVMQ1FC4gT21"
    },
    {
      "cell_type": "code",
      "execution_count": null,
      "metadata": {
        "id": "7xq6Ko1WgYPj"
      },
      "outputs": [],
      "source": [
        "df_both = pd.concat([gd, fd])"
      ],
      "id": "7xq6Ko1WgYPj"
    },
    {
      "cell_type": "code",
      "execution_count": null,
      "metadata": {
        "id": "KLAiWHZlckRS"
      },
      "outputs": [],
      "source": [
        "def attach_lang(row):\n",
        "    #print(some_df.columns)\n",
        "   #genre = row.loc['genre_with_libretto_subgenres']\n",
        "    #lang = row.loc['id']\n",
        "    #lang = some_df['id'].apply(lambda x: x[:3])\n",
        "    lang_specific_genre = lang + genre\n",
        "    return lang_specific_genre"
      ],
      "id": "KLAiWHZlckRS"
    },
    {
      "cell_type": "code",
      "execution_count": null,
      "metadata": {
        "id": "EldUxaBkfX0d"
      },
      "outputs": [],
      "source": [
        "df_both['lang'] = df_both['id'].apply(lambda x: x[:3])"
      ],
      "id": "EldUxaBkfX0d"
    },
    {
      "cell_type": "code",
      "execution_count": null,
      "metadata": {
        "id": "fSBi_ooih0xS"
      },
      "outputs": [],
      "source": [
        "df_both['lang_genre_with_libretto_subgenres'] = df_both['lang']+' '+df_both['genre_with_libretto_subgenres']"
      ],
      "id": "fSBi_ooih0xS"
    },
    {
      "cell_type": "code",
      "execution_count": null,
      "metadata": {
        "id": "eusdpFtAfpwe"
      },
      "outputs": [],
      "source": [
        "df_both['lang_genre_with_libretto_subgenres']"
      ],
      "id": "eusdpFtAfpwe"
    },
    {
      "cell_type": "code",
      "execution_count": null,
      "metadata": {
        "id": "KcOg8Se9gxwI"
      },
      "outputs": [],
      "source": [
        "df_both['bicolor'] = df_both['lang'].apply(lambda x: 'blue' if x == 'fre' else 'orange')"
      ],
      "id": "KcOg8Se9gxwI"
    },
    {
      "cell_type": "code",
      "execution_count": null,
      "metadata": {
        "id": "jw7QSQhghB7K"
      },
      "outputs": [],
      "source": [
        "def make_pca_bilingual(df, feature_list, output_filename, title):\n",
        "    standardized_data = standardize(df, feature_list)\n",
        "    start = time.time()\n",
        "    pca = PCA(n_components=3)\n",
        "    principalComponents = pca.fit_transform(standardized_data)\n",
        "    print('Duration: {} seconds'.format(time.time() - start))\n",
        "    principal = pd.DataFrame(data = principalComponents\n",
        "                , columns = ['principal component 1', 'principal component 2','principal component 3'])\n",
        "    plot_2d_bilingual(df, principalComponents[:, 0],\n",
        "            principalComponents[:, 1],\n",
        "            output_filename,\n",
        "            title)"
      ],
      "id": "jw7QSQhghB7K"
    },
    {
      "cell_type": "code",
      "execution_count": null,
      "metadata": {
        "id": "ryS-VmvwgRO5"
      },
      "outputs": [],
      "source": [
        "def plot_2d_bilingual(df, component1, component2, output_filename, title):\n",
        "\n",
        "    df['comp 1'] = component1\n",
        "    df['comp 2'] = component2\n",
        "    pxscatter = px.scatter(df, x='comp 1', y='comp 2',\n",
        "                           color_discrete_sequence=list(df['bicolor'].unique()), # 'lang_color_subgenres'\n",
        "                           color = 'lang',\n",
        "                           #color='lang_genre_with_libretto_subgenres',\n",
        "                           hover_data=['title']\n",
        "                           #text='subtitle'\n",
        "\n",
        "    )\n",
        "\n",
        "    fig = go.Figure(data = pxscatter)\n",
        "    fig.update_traces(marker=dict(size=12,\n",
        "                              line=dict(width=1)),\n",
        "                                        #color='DarkSlateGrey')),\n",
        "                      selector=dict(mode='markers'))\n",
        "    fig.update_layout(margin=dict( l=100,r=100,b=100,t=100),\n",
        "                      width=2000,height=1200,\n",
        "                      font=dict(size=18),\n",
        "                      title=title,\n",
        "                      legend=dict(title=\"Genre\")\n",
        "                      )\n",
        "    fig.layout.template = 'plotly'\n",
        "\n",
        "    fig.show()\n",
        "    fig.write_image(\"output-images/\" + output_filename + \".png\",scale=2)"
      ],
      "id": "ryS-VmvwgRO5"
    },
    {
      "cell_type": "code",
      "execution_count": null,
      "metadata": {
        "id": "J7z9PYfQgivi"
      },
      "outputs": [],
      "source": [
        "make_pca_bilingual(df_both, list_features_pyd, 'PCA both corpora', 'PCA both corpora')"
      ],
      "id": "J7z9PYfQgivi"
    },
    {
      "cell_type": "code",
      "execution_count": null,
      "metadata": {
        "id": "oFaiupmxkqWi"
      },
      "outputs": [],
      "source": [
        "df_both['color_subgenres'].unique()"
      ],
      "id": "oFaiupmxkqWi"
    },
    {
      "cell_type": "code",
      "execution_count": null,
      "metadata": {
        "id": "0Ipg7jF_lFsH"
      },
      "outputs": [],
      "source": [
        "german_recolorer = {'blue':'#6495ED',\n",
        "                    'red':'#8B0000',\n",
        "                    'aquamarine':'#00CED1',\n",
        "                    'green':'#8FBC8F',\n",
        "                    'orange':'#F0E68C'}"
      ],
      "id": "0Ipg7jF_lFsH"
    },
    {
      "cell_type": "code",
      "execution_count": null,
      "metadata": {
        "id": "9bt9LL05sTOT"
      },
      "outputs": [],
      "source": [
        "df_both['lang_color_subgenres'] = df_both.apply(lambda x: x['color_subgenres']\n",
        "                                                if x['lang'] == 'fre'\n",
        "                                                else german_recolorer[x['color_subgenres']],\n",
        "                                                axis=1)"
      ],
      "id": "9bt9LL05sTOT"
    },
    {
      "cell_type": "code",
      "execution_count": null,
      "metadata": {
        "id": "m7rn_5o5s3JY"
      },
      "outputs": [],
      "source": [
        "def make_pca_bilingual_genre_aware(df, feature_list, output_filename, title, centroids=False):\n",
        "    standardized_data = standardize(df, feature_list)\n",
        "    start = time.time()\n",
        "    pca = PCA(n_components=3)\n",
        "    principalComponents = pca.fit_transform(standardized_data)\n",
        "    print('Duration: {} seconds'.format(time.time() - start))\n",
        "    principal = pd.DataFrame(data = principalComponents\n",
        "                , columns = ['principal component 1', 'principal component 2','principal component 3'])\n",
        "    if centroids:\n",
        "        plot_2d_bilingual_genre_aware_centroids(df, principalComponents[:, 0],\n",
        "            principalComponents[:, 1],\n",
        "            output_filename,\n",
        "            title)\n",
        "    else:\n",
        "        plot_2d_bilingual_genre_aware(df, principalComponents[:, 0],\n",
        "            principalComponents[:, 1],\n",
        "            output_filename,\n",
        "            title)\n",
        "\n",
        "\n"
      ],
      "id": "m7rn_5o5s3JY"
    },
    {
      "cell_type": "code",
      "execution_count": null,
      "metadata": {
        "id": "V9lrl_avtcEi"
      },
      "outputs": [],
      "source": [
        "def plot_2d_bilingual_genre_aware(df, component1, component2, output_filename, title):\n",
        "\n",
        "    df['comp 1'] = component1\n",
        "    df['comp 2'] = component2\n",
        "    pxscatter = px.scatter(df, x='comp 1', y='comp 2',\n",
        "                           color_discrete_sequence=list(df['lang_color_subgenres'].unique()), # 'lang_color_subgenres'\n",
        "                           #color = 'lang',\n",
        "                           color='lang_genre_with_libretto_subgenres',\n",
        "                           hover_data=['title']\n",
        "                           #text='subtitle'\n",
        "\n",
        "    )\n",
        "\n",
        "    fig = go.Figure(data = pxscatter)\n",
        "    fig.update_traces(marker=dict(size=12,\n",
        "                              line=dict(width=1)),\n",
        "                                        #color='DarkSlateGrey')),\n",
        "                      selector=dict(mode='markers'))\n",
        "    fig.update_layout(margin=dict( l=100,r=100,b=100,t=100),\n",
        "                      width=2000,height=1200,\n",
        "                      font=dict(size=18),\n",
        "                      title=title,\n",
        "                      legend=dict(title=\"Genre\")\n",
        "                      )\n",
        "    fig.layout.template = 'plotly'\n",
        "\n",
        "    fig.show()\n",
        "    fig.write_image(\"output-images/\" + output_filename + \".png\",scale=2)"
      ],
      "id": "V9lrl_avtcEi"
    },
    {
      "cell_type": "code",
      "execution_count": null,
      "metadata": {
        "id": "21Y-hFpKtnFD"
      },
      "outputs": [],
      "source": [
        "make_pca_bilingual_genre_aware(df_both, list_features_pyd, 'PCA both corpora', 'PCA both corpora')"
      ],
      "id": "21Y-hFpKtnFD"
    },
    {
      "cell_type": "code",
      "execution_count": null,
      "metadata": {
        "id": "DwHO6_D5kgSf"
      },
      "outputs": [],
      "source": [
        "df_libretti_only = df_both[df_both['is_real_libretto']==True]"
      ],
      "id": "DwHO6_D5kgSf"
    },
    {
      "cell_type": "code",
      "execution_count": null,
      "metadata": {
        "id": "G3lwpPWru2kW"
      },
      "outputs": [],
      "source": [
        "df_libretti_only['lang'].value_counts()"
      ],
      "id": "G3lwpPWru2kW"
    },
    {
      "cell_type": "code",
      "execution_count": null,
      "metadata": {
        "id": "R2AR78zfzYT-"
      },
      "outputs": [],
      "source": [
        "onlylibr_recolorer = {'aquamarine':'aquamarine',\n",
        "                    '#F0E68C':'#FF8C00',\n",
        "                    '#00CED1':'#FFD700',\n",
        "                    'orange':'#00CED1'}"
      ],
      "id": "R2AR78zfzYT-"
    },
    {
      "cell_type": "code",
      "execution_count": null,
      "metadata": {
        "id": "fOBsCP8j0j2N"
      },
      "outputs": [],
      "source": [
        "df_libretti_only['lang_color_subgenres'] = df_libretti_only['lang_color_subgenres'].apply(lambda x: onlylibr_recolorer[x])"
      ],
      "id": "fOBsCP8j0j2N"
    },
    {
      "cell_type": "code",
      "execution_count": null,
      "metadata": {
        "id": "xrj2XiIxvikG"
      },
      "outputs": [],
      "source": [
        "make_pca_bilingual_genre_aware(df_libretti_only, list_features_pyd, 'PCA both corpora libretti only', 'PCA both corpora libretti only')"
      ],
      "id": "xrj2XiIxvikG"
    },
    {
      "cell_type": "code",
      "execution_count": null,
      "metadata": {
        "id": "yCvpB-tZ2GOI"
      },
      "outputs": [],
      "source": [
        "def make_tsne_bilingual_genre_aware(df, feature_list, perp, output_filename, title):\n",
        "    standardized_data = standardize(df, feature_list)\n",
        "    start = time.time()\n",
        "    tsne = TSNE(random_state = 42,\n",
        "            n_components=3,\n",
        "            verbose=0,\n",
        "            perplexity=perp,\n",
        "            n_iter=400).fit_transform(standardized_data)\n",
        "    print('Duration: {} seconds'.format(time.time() - start))\n",
        "    plot_2d_bilingual_genre_aware(df, tsne[:, 0], tsne[:, 1], output_filename, title)"
      ],
      "id": "yCvpB-tZ2GOI"
    },
    {
      "cell_type": "code",
      "execution_count": null,
      "metadata": {
        "id": "t192VlM22Q5x"
      },
      "outputs": [],
      "source": [
        "make_tsne_bilingual_genre_aware(df_libretti_only, list_features_pyd, 25, 't-SNE both corpora libretti only', 't-SNE both corpora libretti only')"
      ],
      "id": "t192VlM22Q5x"
    },
    {
      "cell_type": "code",
      "execution_count": null,
      "metadata": {
        "id": "iWd2QGvV4VeI"
      },
      "outputs": [],
      "source": [
        "def plot_2d_bilingual_genre_aware_centroids(df, component1, component2, output_filename, title):\n",
        "\n",
        "    df['comp 1'] = component1\n",
        "    df['comp 2'] = component2\n",
        "    pxscatter = px.scatter(df, x='comp 1', y='comp 2',\n",
        "                           color_discrete_sequence=list(df['lang_color_subgenres'].unique()), # 'lang_color_subgenres'\n",
        "                           #color = 'lang',\n",
        "                           color='lang_genre_with_libretto_subgenres',\n",
        "                           hover_data=['title']\n",
        "                           #text='subtitle'\n",
        "\n",
        "    )\n",
        "\n",
        "\n",
        "\n",
        "    fig = go.Figure(data = pxscatter)\n",
        "    fig.update_traces(marker=dict(size=20,\n",
        "                              line=dict(width=1)),\n",
        "                                        #color='DarkSlateGrey')),\n",
        "                      selector=dict(mode='markers'))\n",
        "    fig.update_layout(margin=dict( l=100,r=100,b=100,t=100),\n",
        "                      width=2000,height=1200,\n",
        "                      font=dict(size=18),\n",
        "                      title=title,\n",
        "                      legend=dict(title=\"Genre\")\n",
        "                      )\n",
        "    fig.layout.template = 'plotly'\n",
        "\n",
        "\n",
        "    centroids = df.groupby('lang_genre_with_libretto_subgenres').mean()[['comp 1', 'comp 2']]\n",
        "    fig.add_trace(\n",
        "        go.Scatter(\n",
        "                mode='markers',\n",
        "                x=centroids['comp 1'],\n",
        "                y=centroids['comp 2'],\n",
        "                text=centroids.index,\n",
        "                marker=dict(\n",
        "                    color= df.groupby('lang_genre_with_libretto_subgenres').first()['lang_color_subgenres'], #df['lang_color_subgenres'].unique(),\n",
        "                    size=30,\n",
        "                    symbol=\"x\",\n",
        "                    line=dict(\n",
        "                        color='black',\n",
        "                        width=2\n",
        "                    )\n",
        "                ),\n",
        "                showlegend=False\n",
        "            )\n",
        "    )\n",
        "\n",
        "\n",
        "\n",
        "    fig.show()\n",
        "    fig.write_image(\"output-images/\" + output_filename + \".png\",scale=2)"
      ],
      "id": "iWd2QGvV4VeI"
    },
    {
      "cell_type": "code",
      "execution_count": null,
      "metadata": {
        "id": "Z7rFTz9s6CoB"
      },
      "outputs": [],
      "source": [
        "make_pca_bilingual_genre_aware(df_libretti_only, list_features_pyd,\n",
        "                                'PCA both corpora libretti only',\n",
        "                                'PCA both corpora libretti only',\n",
        "                               centroids=True)"
      ],
      "id": "Z7rFTz9s6CoB"
    },
    {
      "cell_type": "code",
      "execution_count": null,
      "metadata": {
        "id": "1KfF03LL4ebW"
      },
      "outputs": [],
      "source": [
        "list(df_libretti_only.groupby('lang_genre_with_libretto_subgenres').first()['lang_color_subgenres'])"
      ],
      "id": "1KfF03LL4ebW"
    },
    {
      "cell_type": "markdown",
      "metadata": {
        "id": "ca0aiUKv_JTF"
      },
      "source": [
        "## Statistical Testing"
      ],
      "id": "ca0aiUKv_JTF"
    },
    {
      "cell_type": "markdown",
      "metadata": {
        "id": "kqGzUHVNAX8F"
      },
      "source": [
        "### German"
      ],
      "id": "kqGzUHVNAX8F"
    },
    {
      "cell_type": "code",
      "execution_count": null,
      "metadata": {
        "id": "M4qayS8Qf7zT"
      },
      "outputs": [],
      "source": [
        "def test_significance(data, feature_name, binary_split_criteria):\n",
        "    A = data[data[binary_split_criteria]==False][feature_name]\n",
        "    B = data[data[binary_split_criteria]==True][feature_name]\n",
        "    norm_counter = 0\n",
        "    for sample in (A,B):\n",
        "        w, pvalue = stats.shapiro(sample)\n",
        "        if pvalue > 0.05:\n",
        "            norm_counter+=1\n",
        "\n",
        "    if norm_counter == 2:\n",
        "        #print('Two normal distrs, using unpaired T-test')\n",
        "        result = stats.ttest_ind(A, B)\n",
        "    elif norm_counter == 1:\n",
        "        #print('One distr is normal and one is not!')\n",
        "        #print('Using Wilcoxon rank sum test')\n",
        "        result = stats.mannwhitneyu(x=A, y=B, alternative = 'two-sided')\n",
        "    else:\n",
        "        #print('Both non-Normal, using Wilcoxon rank sum test')\n",
        "        result = stats.mannwhitneyu(x=A, y=B, alternative = 'two-sided')\n",
        "\n",
        "    #if result.pvalue < 0.05:\n",
        "    #    print('Difference is significant! ✅ pvalue is', result.pvalue)\n",
        "\n",
        "    #else:\n",
        "    #    print('Not significant❌, pvalue is', result.pvalue)\n",
        "\n",
        "    return result.pvalue\n",
        "\n",
        "    #print(f\"{feature_name} & {round(result.pvalue, 20)} & some number \\\\\\\\\") #format(result.pvalue, '.8f')\n",
        "    #print(format(result.pvalue, '.10f'))\n"
      ],
      "id": "M4qayS8Qf7zT"
    },
    {
      "cell_type": "code",
      "execution_count": null,
      "metadata": {
        "id": "_l6HRADfJfpI"
      },
      "outputs": [],
      "source": [
        "for feature in list_features_pyd:\n",
        "    print(feature, test_significance(gd, feature, 'is_real_libretto'))\n",
        "    #print()"
      ],
      "id": "_l6HRADfJfpI"
    },
    {
      "cell_type": "markdown",
      "metadata": {
        "id": "4_JdifUIJhRt"
      },
      "source": [
        "### French"
      ],
      "id": "4_JdifUIJhRt"
    },
    {
      "cell_type": "code",
      "execution_count": null,
      "metadata": {
        "id": "bq_GuQ6KvQ5-"
      },
      "outputs": [],
      "source": [
        "for feature in list_features_pyd:\n",
        "    print(feature, test_significance(fd, feature, 'is_real_libretto'))"
      ],
      "id": "bq_GuQ6KvQ5-"
    },
    {
      "cell_type": "markdown",
      "source": [
        "### Automated LATEX table creation for significance test reporting\n",
        "\n"
      ],
      "metadata": {
        "id": "cl03EJmkf3sD"
      },
      "id": "cl03EJmkf3sD"
    },
    {
      "cell_type": "code",
      "source": [
        "def bold_tex(pval):\n",
        "    if pval < 0.05:\n",
        "        pval = round(pval, 20)\n",
        "        return \"\\\\textbf{\" + str(pval) + \"}\"\n",
        "    else:\n",
        "        pval = round(pval, 2)\n",
        "        return pval"
      ],
      "metadata": {
        "id": "UFmR3G7-spVY"
      },
      "id": "UFmR3G7-spVY",
      "execution_count": null,
      "outputs": []
    },
    {
      "cell_type": "code",
      "execution_count": null,
      "metadata": {
        "id": "xUSn4dD53hfg"
      },
      "outputs": [],
      "source": [
        "def test_significance_both(data1, data2, features_list, binary_split_criteria):\n",
        "    for feature_name in features_list:\n",
        "        sig_1 = bold_tex(test_significance(data1, feature_name, binary_split_criteria))\n",
        "        sig_2 = bold_tex(test_significance(data2, feature_name, binary_split_criteria))\n",
        "        latex_fname = feature_name.replace('_', '\\_')\n",
        "        print(f'{latex_fname} & {sig_1} & {sig_2}\\\\\\\\')"
      ],
      "id": "xUSn4dD53hfg"
    },
    {
      "cell_type": "code",
      "source": [
        "test_significance_both(gd,fd,list_features_pyd,'is_real_libretto')"
      ],
      "metadata": {
        "id": "Lo3uE4MzrEdS"
      },
      "id": "Lo3uE4MzrEdS",
      "execution_count": null,
      "outputs": []
    },
    {
      "cell_type": "markdown",
      "metadata": {
        "id": "V2aAvRycYcob"
      },
      "source": [
        "## Scatterplots"
      ],
      "id": "V2aAvRycYcob"
    },
    {
      "cell_type": "markdown",
      "metadata": {
        "id": "UnccxI6AL3LK"
      },
      "source": [
        "FILTER THE SUBSET BY LIBRETTO PERIOD"
      ],
      "id": "UnccxI6AL3LK"
    },
    {
      "cell_type": "code",
      "execution_count": null,
      "metadata": {
        "id": "cra3Ac5EL6Px"
      },
      "outputs": [],
      "source": [
        "years = fd[fd['is_real_libretto'] == True]['year_normalized']\n",
        "earliest_french_libr = years.min()\n",
        "earliest_french_libr"
      ],
      "id": "cra3Ac5EL6Px"
    },
    {
      "cell_type": "code",
      "execution_count": null,
      "metadata": {
        "id": "r3SrG6_JME5j"
      },
      "outputs": [],
      "source": [
        "latest_french_libr = years.max()\n",
        "latest_french_libr"
      ],
      "id": "r3SrG6_JME5j"
    },
    {
      "cell_type": "code",
      "execution_count": null,
      "metadata": {
        "id": "ciMjMGqvKbW6"
      },
      "outputs": [],
      "source": [
        "fd_sc = fd[(fd['libretto_or_genre'] != 'Tragicomedy') &\n",
        "            (fd['year_normalized'] >= earliest_french_libr) &\n",
        "            (fd['year_normalized'] <= latest_french_libr)]"
      ],
      "id": "ciMjMGqvKbW6"
    },
    {
      "cell_type": "code",
      "execution_count": null,
      "metadata": {
        "id": "kqjpefRvMox5"
      },
      "outputs": [],
      "source": [
        "fd_sc['year_normalized'].describe()"
      ],
      "id": "kqjpefRvMox5"
    },
    {
      "cell_type": "code",
      "execution_count": null,
      "metadata": {
        "id": "vREpkQjmY4U7"
      },
      "outputs": [],
      "source": [
        "gyears = gd[gd['is_real_libretto'] == True]['year_normalized']\n",
        "earliest_g_libr = gyears.min()\n",
        "earliest_g_libr"
      ],
      "id": "vREpkQjmY4U7"
    },
    {
      "cell_type": "code",
      "execution_count": null,
      "metadata": {
        "id": "FUTw6SfuM79g"
      },
      "outputs": [],
      "source": [
        "latest_g_libr = gyears.max()\n",
        "latest_g_libr"
      ],
      "id": "FUTw6SfuM79g"
    },
    {
      "cell_type": "code",
      "execution_count": null,
      "metadata": {
        "id": "n-4mfLqsNAU8"
      },
      "outputs": [],
      "source": [
        "gd_sc = gd[(gd['libretto_or_genre'] != 'Tragicomedy') &\n",
        "            (gd['year_normalized'] >= earliest_g_libr) &\n",
        "            (gd['year_normalized'] <= latest_g_libr)]"
      ],
      "id": "n-4mfLqsNAU8"
    },
    {
      "cell_type": "code",
      "execution_count": null,
      "metadata": {
        "id": "F47u66FeNHeg"
      },
      "outputs": [],
      "source": [
        "gd_sc['year_normalized'].describe()"
      ],
      "id": "F47u66FeNHeg"
    },
    {
      "cell_type": "markdown",
      "metadata": {
        "id": "S6t8hfK3t1ZB"
      },
      "source": [
        "#### Basic scatterplot"
      ],
      "id": "S6t8hfK3t1ZB"
    },
    {
      "cell_type": "code",
      "execution_count": null,
      "metadata": {
        "id": "9M5rc3UDYf3u"
      },
      "outputs": [],
      "source": [
        "plt.figure(figsize=(10,10))\n",
        "sns.scatterplot(data=gd_sc,\n",
        "                x='year_normalized',\n",
        "                y='word_count_sp',\n",
        "                hue='genre_with_libretto_subgenres')"
      ],
      "id": "9M5rc3UDYf3u"
    },
    {
      "cell_type": "markdown",
      "metadata": {
        "id": "pK4Ndml2yc6t"
      },
      "source": [
        "### lowess ( low-level version of lowess than in seaborn, more complicated implementation, BUT can make only dots transparent)"
      ],
      "id": "pK4Ndml2yc6t"
    },
    {
      "cell_type": "code",
      "execution_count": null,
      "metadata": {
        "id": "cpbp2sI2Z710"
      },
      "outputs": [],
      "source": [
        "from statsmodels.nonparametric.smoothers_lowess import lowess"
      ],
      "id": "cpbp2sI2Z710"
    },
    {
      "cell_type": "code",
      "execution_count": null,
      "metadata": {
        "id": "bQ8d0t4AZ2tC"
      },
      "outputs": [],
      "source": [
        "def make_lowess(df, column):\n",
        "    by_year = df.groupby('year_normalized').mean()\n",
        "    endog = np.array(by_year[column])\n",
        "    #print(endog)\n",
        "    exog = np.array(by_year.index)\n",
        "    #print(exog)\n",
        "\n",
        "    smooth = lowess(endog, exog)\n",
        "    index, data = np.transpose(smooth)\n",
        "\n",
        "    return pd.Series(data, index=index)"
      ],
      "id": "bQ8d0t4AZ2tC"
    },
    {
      "cell_type": "code",
      "execution_count": null,
      "metadata": {
        "id": "jdAOEh7neH-S"
      },
      "outputs": [],
      "source": [
        "def make_scatter_lowess_transp_dots(df, parameter):\n",
        "    fig = plt.gcf()\n",
        "\n",
        "    df_no_out = df[(np.abs(stats.zscore(df[parameter])) < 3)]\n",
        "\n",
        "    scatter_colors = list(df_no_out['color_subgenres'].unique())\n",
        "    # Change seaborn plot size\n",
        "    fig.set_size_inches(15, 10)\n",
        "    sns.scatterplot(data=df_no_out,\n",
        "                x='year_normalized',\n",
        "                y=parameter,\n",
        "                hue='genre_with_libretto_subgenres',\n",
        "                #height=12, aspect=1.5,\n",
        "                palette=scatter_colors,\n",
        "                alpha = 0.2)\n",
        "\n",
        "    for index, genre in enumerate(df_no_out['genre_with_libretto_subgenres'].unique()):\n",
        "        lwss = make_lowess(df_no_out[df_no_out['genre_with_libretto_subgenres'] == genre],\n",
        "                        parameter)\n",
        "        sns.lineplot(x = lwss.index, y = lwss, color=scatter_colors[index], linewidth = 2)\n",
        "\n",
        "    plt.savefig(f'{parameter}_scatter_with_lowess.png')"
      ],
      "id": "jdAOEh7neH-S"
    },
    {
      "cell_type": "markdown",
      "metadata": {
        "id": "QIgirAVVPfyA"
      },
      "source": [
        "#### german transparent scatterplots"
      ],
      "id": "QIgirAVVPfyA"
    },
    {
      "cell_type": "code",
      "execution_count": null,
      "metadata": {
        "id": "YHWTEt0TOgu5"
      },
      "outputs": [],
      "source": [
        "make_scatter_lowess_transp_dots(gd_sc, 'word_count_stage')"
      ],
      "id": "YHWTEt0TOgu5"
    },
    {
      "cell_type": "code",
      "execution_count": null,
      "metadata": {
        "id": "XrGRYr_1PVXm"
      },
      "outputs": [],
      "source": [
        "make_scatter_lowess_transp_dots(gd_sc, 'num_of_person_groups')"
      ],
      "id": "XrGRYr_1PVXm"
    },
    {
      "cell_type": "markdown",
      "metadata": {
        "id": "1uNShjIGPduF"
      },
      "source": [
        "#### french"
      ],
      "id": "1uNShjIGPduF"
    },
    {
      "cell_type": "code",
      "execution_count": null,
      "metadata": {
        "id": "OUmYUZh5KUy3"
      },
      "outputs": [],
      "source": [
        "make_scatter_lowess_transp_dots(fd_sc, 'num_of_speakers')"
      ],
      "id": "OUmYUZh5KUy3"
    },
    {
      "cell_type": "code",
      "execution_count": null,
      "metadata": {
        "id": "o2ZdIz-sPkEe"
      },
      "outputs": [],
      "source": [
        "make_scatter_lowess_transp_dots(fd_sc, 'density')"
      ],
      "id": "o2ZdIz-sPkEe"
    },
    {
      "cell_type": "code",
      "execution_count": null,
      "metadata": {
        "id": "Y2mcZypvPrQj"
      },
      "outputs": [],
      "source": [
        "make_scatter_lowess_transp_dots(fd_sc, 'word_count_stage')"
      ],
      "id": "Y2mcZypvPrQj"
    },
    {
      "cell_type": "code",
      "execution_count": null,
      "metadata": {
        "id": "leS1I-_RQaPP"
      },
      "outputs": [],
      "source": [
        "make_scatter_lowess_transp_dots(fd_sc, 'word_count_sp')"
      ],
      "id": "leS1I-_RQaPP"
    },
    {
      "cell_type": "markdown",
      "source": [
        "## Feature correlations"
      ],
      "metadata": {
        "id": "JlLSHbnSYKOo"
      },
      "id": "JlLSHbnSYKOo"
    },
    {
      "cell_type": "markdown",
      "metadata": {
        "id": "VvjyyChQ3UXa"
      },
      "source": [
        "### Correlation matrices separate for languages"
      ],
      "id": "VvjyyChQ3UXa"
    },
    {
      "cell_type": "code",
      "execution_count": null,
      "metadata": {
        "id": "EtR6kDFcVV7C"
      },
      "outputs": [],
      "source": [
        "feature_correlations = german_data[list_features_pyd].corr()"
      ],
      "id": "EtR6kDFcVV7C"
    },
    {
      "cell_type": "code",
      "execution_count": null,
      "metadata": {
        "id": "AG28pOsbWBxn"
      },
      "outputs": [],
      "source": [
        "fig, ax = plt.subplots(figsize=(12,10))\n",
        "sns.heatmap(feature_correlations, annot=True, cmap = 'coolwarm')\n",
        "plt.savefig('correlation_matrix.png', dpi=300)"
      ],
      "id": "AG28pOsbWBxn"
    },
    {
      "cell_type": "markdown",
      "source": [
        "french"
      ],
      "metadata": {
        "id": "pzRyMr7QqwJO"
      },
      "id": "pzRyMr7QqwJO"
    },
    {
      "cell_type": "code",
      "execution_count": null,
      "metadata": {
        "id": "Xpt4nrOQWMyX"
      },
      "outputs": [],
      "source": [
        "feature_correlations = french_data[list_features_pyd].corr()"
      ],
      "id": "Xpt4nrOQWMyX"
    },
    {
      "cell_type": "code",
      "execution_count": null,
      "metadata": {
        "id": "BkC5Sz_fe42K"
      },
      "outputs": [],
      "source": [
        "feature_correlations"
      ],
      "id": "BkC5Sz_fe42K"
    },
    {
      "cell_type": "code",
      "execution_count": null,
      "metadata": {
        "id": "J4D4ZZI1WHUR"
      },
      "outputs": [],
      "source": [
        "fig, ax = plt.subplots(figsize=(12,8))\n",
        "sns.heatmap(feature_correlations, annot=True, cmap = 'coolwarm')\n",
        "plt.savefig('correlation_matrix_fre.png', dpi=300)"
      ],
      "id": "J4D4ZZI1WHUR"
    },
    {
      "cell_type": "markdown",
      "source": [
        "remove empty `num_of_person_groups`"
      ],
      "metadata": {
        "id": "_oOWjKVmq2S9"
      },
      "id": "_oOWjKVmq2S9"
    },
    {
      "cell_type": "code",
      "execution_count": null,
      "metadata": {
        "id": "SDmgnYf99-5w"
      },
      "outputs": [],
      "source": [
        "fig, ax = plt.subplots(figsize=(12,8))\n",
        "sns.heatmap(feature_correlations.drop('num_of_person_groups').drop('num_of_person_groups', axis=1), annot=True, cmap = 'coolwarm')\n",
        "plt.savefig('correlation_matrix_fre.png', dpi=300)"
      ],
      "id": "SDmgnYf99-5w"
    },
    {
      "cell_type": "markdown",
      "metadata": {
        "id": "7J4PMx3pBxO-"
      },
      "source": [
        "### Getting highly correlated features as list on formal grounds (above 0.75 or below -0.75 correlation)"
      ],
      "id": "7J4PMx3pBxO-"
    },
    {
      "cell_type": "markdown",
      "metadata": {
        "id": "Wx6fcp2XBsPq"
      },
      "source": [
        "### German"
      ],
      "id": "Wx6fcp2XBsPq"
    },
    {
      "cell_type": "code",
      "execution_count": null,
      "metadata": {
        "id": "tCvdQiBLAsya"
      },
      "outputs": [],
      "source": [
        "def get_higlhy_correcated_feature_pairs(series):\n",
        "    correlated = list(series[series == True].index)\n",
        "    name = series.name\n",
        "    try:\n",
        "        correlated.remove(name)\n",
        "    except:\n",
        "        pass\n",
        "    if len(correlated) > 0:\n",
        "        for cf in correlated:\n",
        "            print(f'**{name}** is highly correlated with **{cf}**')\n"
      ],
      "id": "tCvdQiBLAsya"
    },
    {
      "cell_type": "code",
      "execution_count": null,
      "metadata": {
        "id": "bXH8sruFBmS6"
      },
      "outputs": [],
      "source": [
        "feature_correlations = german_data[list_features_pyd].corr()\n",
        "colnames  = feature_correlations.columns\n",
        "hiposcorr = feature_correlations > 0.75\n",
        "hinegcorr = feature_correlations < -0.75\n",
        "hicorr = pd.DataFrame(np.nansum([x.values for x in [hiposcorr, hinegcorr]], axis=0))\n",
        "hicorr.columns = colnames\n",
        "hicorr.index = colnames\n",
        "hicorr.apply(get_higlhy_correcated_feature_pairs)"
      ],
      "id": "bXH8sruFBmS6"
    },
    {
      "cell_type": "markdown",
      "metadata": {
        "id": "5Pf9kjoPATDr"
      },
      "source": [
        "#### Plotting a network of highly correlated features"
      ],
      "id": "5Pf9kjoPATDr"
    },
    {
      "cell_type": "code",
      "execution_count": null,
      "metadata": {
        "id": "4PxYoVb9-9n6"
      },
      "outputs": [],
      "source": [
        "def plot_corr_graph(hicorrdf):\n",
        "    graph = nx.from_pandas_adjacency(hicorrdf)\n",
        "    graph.remove_edges_from(nx.selfloop_edges(graph))\n",
        "    plt.subplots(figsize=(14,12))\n",
        "    nx.draw(graph,\n",
        "        with_labels=True,\n",
        "        pos=nx.spring_layout(graph))"
      ],
      "id": "4PxYoVb9-9n6"
    },
    {
      "cell_type": "code",
      "execution_count": null,
      "metadata": {
        "id": "D7H8EEDl_JF1"
      },
      "outputs": [],
      "source": [
        "plot_corr_graph(hicorr)"
      ],
      "id": "D7H8EEDl_JF1"
    },
    {
      "cell_type": "markdown",
      "metadata": {
        "id": "hXh8yZbYB0ZC"
      },
      "source": [
        "#### French"
      ],
      "id": "hXh8yZbYB0ZC"
    },
    {
      "cell_type": "code",
      "execution_count": null,
      "metadata": {
        "id": "S3lBnrB_N-nv"
      },
      "outputs": [],
      "source": [
        "feature_correlations = french_data[list_features_pyd].corr()"
      ],
      "id": "S3lBnrB_N-nv"
    },
    {
      "cell_type": "code",
      "execution_count": null,
      "metadata": {
        "id": "KwJyzFHFvMEH"
      },
      "outputs": [],
      "source": [
        "colnames  = feature_correlations.columns\n",
        "hiposcorr = feature_correlations > 0.75\n",
        "hinegcorr = feature_correlations < -0.75\n",
        "hicorr = pd.DataFrame(np.nansum([x.values for x in [hiposcorr, hinegcorr]], axis=0))\n",
        "hicorr.columns = colnames\n",
        "hicorr.index = colnames"
      ],
      "id": "KwJyzFHFvMEH"
    },
    {
      "cell_type": "code",
      "execution_count": null,
      "metadata": {
        "id": "EcNpsWQ0Bb2I"
      },
      "outputs": [],
      "source": [
        "hicorr.apply(get_higlhy_correcated_feature_pairs)"
      ],
      "id": "EcNpsWQ0Bb2I"
    },
    {
      "cell_type": "markdown",
      "metadata": {
        "id": "XNVz8zCHCm9N"
      },
      "source": [
        "#### Plotting a network of highly correlated features"
      ],
      "id": "XNVz8zCHCm9N"
    },
    {
      "cell_type": "code",
      "execution_count": null,
      "metadata": {
        "id": "BjSNl6NHAiOK"
      },
      "outputs": [],
      "source": [
        "plot_corr_graph(hicorr)"
      ],
      "id": "BjSNl6NHAiOK"
    },
    {
      "cell_type": "markdown",
      "metadata": {
        "id": "a-PN5ZvoYf2l"
      },
      "source": [
        "### Drop correlated features"
      ],
      "id": "a-PN5ZvoYf2l"
    },
    {
      "cell_type": "code",
      "execution_count": null,
      "metadata": {
        "id": "vHoaIekzDrY9"
      },
      "outputs": [],
      "source": [
        "german_features_to_drop = ['average_path_length',\n",
        "                           'diameter',\n",
        "                           'max_degree',\n",
        "                           'num_connected_components']"
      ],
      "id": "vHoaIekzDrY9"
    },
    {
      "cell_type": "code",
      "execution_count": null,
      "metadata": {
        "id": "A1NDk6_9EIEo"
      },
      "outputs": [],
      "source": [
        "french_features_to_drop = ['num_of_segments',\n",
        "                           'average_path_length',\n",
        "                           'max_degree']"
      ],
      "id": "A1NDk6_9EIEo"
    },
    {
      "cell_type": "code",
      "execution_count": null,
      "metadata": {
        "id": "4difSC-KEoiU"
      },
      "outputs": [],
      "source": [
        "german_features = [feature for feature in list_features_pyd if feature not in german_features_to_drop]"
      ],
      "id": "4difSC-KEoiU"
    },
    {
      "cell_type": "code",
      "execution_count": null,
      "metadata": {
        "id": "PNHLVK3lGi_V"
      },
      "outputs": [],
      "source": [
        "french_features = [feature for feature in list_features_pyd if feature not in french_features_to_drop]"
      ],
      "id": "PNHLVK3lGi_V"
    },
    {
      "cell_type": "markdown",
      "metadata": {
        "id": "dj11rreNg0ql"
      },
      "source": [
        "##  Classifier, checking accuracy and getting feature importance\n",
        "\n",
        "Expecting this to align well with the statistical test above"
      ],
      "id": "dj11rreNg0ql"
    },
    {
      "cell_type": "code",
      "execution_count": null,
      "metadata": {
        "id": "nQgZ6gLnp1js"
      },
      "outputs": [],
      "source": [
        "rstate = 42"
      ],
      "id": "nQgZ6gLnp1js"
    },
    {
      "cell_type": "code",
      "execution_count": null,
      "metadata": {
        "id": "3_dcBuXsQE_Z"
      },
      "outputs": [],
      "source": [
        "from sklearn.model_selection import KFold, cross_val_score"
      ],
      "id": "3_dcBuXsQE_Z"
    },
    {
      "cell_type": "code",
      "execution_count": null,
      "metadata": {
        "id": "E8VPyd0x6_Rx"
      },
      "outputs": [],
      "source": [
        "from sklearn.ensemble import RandomForestClassifier"
      ],
      "id": "E8VPyd0x6_Rx"
    },
    {
      "cell_type": "code",
      "execution_count": null,
      "metadata": {
        "id": "5mZvkJleAMVT"
      },
      "outputs": [],
      "source": [
        "from imblearn.ensemble import BalancedRandomForestClassifier"
      ],
      "id": "5mZvkJleAMVT"
    },
    {
      "cell_type": "code",
      "execution_count": null,
      "metadata": {
        "id": "AIcZ5NTLQyqg"
      },
      "outputs": [],
      "source": [
        "from sklearn.model_selection import train_test_split"
      ],
      "id": "AIcZ5NTLQyqg"
    },
    {
      "cell_type": "code",
      "execution_count": null,
      "metadata": {
        "id": "BVQQ9R0_hw5i"
      },
      "outputs": [],
      "source": [
        "from sklearn.metrics import accuracy_score"
      ],
      "id": "BVQQ9R0_hw5i"
    },
    {
      "cell_type": "code",
      "execution_count": null,
      "metadata": {
        "id": "eeJMqks0h11L"
      },
      "outputs": [],
      "source": [
        "from sklearn.metrics import confusion_matrix, ConfusionMatrixDisplay"
      ],
      "id": "eeJMqks0h11L"
    },
    {
      "cell_type": "code",
      "execution_count": null,
      "metadata": {
        "id": "_YesGrf7PpCA"
      },
      "outputs": [],
      "source": [
        "from typing import Tuple"
      ],
      "id": "_YesGrf7PpCA"
    },
    {
      "cell_type": "code",
      "execution_count": null,
      "metadata": {
        "id": "aQoyZdCfTJcJ"
      },
      "outputs": [],
      "source": [
        "import copy as cp"
      ],
      "id": "aQoyZdCfTJcJ"
    },
    {
      "cell_type": "code",
      "execution_count": null,
      "metadata": {
        "id": "8AIYrvmmroPB"
      },
      "outputs": [],
      "source": [
        "from sklearn.inspection import permutation_importance"
      ],
      "id": "8AIYrvmmroPB"
    },
    {
      "cell_type": "code",
      "execution_count": null,
      "metadata": {
        "id": "FeSaC1rVg_SU"
      },
      "outputs": [],
      "source": [
        "def analyze_model_classwise(trained_model, features_val, target_val):\n",
        "    \"\"\"this function analyzes classifier models class-wise\n",
        "    prints confusion matrix and calculates accuracy per class\n",
        "    \"\"\"\n",
        "\n",
        "    with open('new.csv', 'a', encoding='utf-8') as allfile:\n",
        "        allfile.write(str(trained_model))\n",
        "        allfile.write('\\n')\n",
        "        predicted_val = trained_model.predict(features_val)\n",
        "        print(f'accuracy : {accuracy_score(target_val, predicted_val)}')\n",
        "        allfile.write(f'accuracy \\t{\"{:.3f}\".format(accuracy_score(target_val, predicted_val))} \\n')\n",
        "\n",
        "\n",
        "        labels = trained_model.classes_\n",
        "        cm = confusion_matrix(target_val, predicted_val, labels=labels)\n",
        "\n",
        "\n",
        "        disp = ConfusionMatrixDisplay(confusion_matrix=cm, display_labels=(labels))\n",
        "        disp.plot(xticks_rotation = 90)\n",
        "        class_recalls = list(zip(labels, cm.diagonal()/cm.sum(axis=1)))\n",
        "        class_precisions = list(zip(labels, cm.diagonal()/cm.sum(axis=0)))\n",
        "        for i, some_class in enumerate(class_recalls):\n",
        "            this_class = some_class[0]\n",
        "            p = class_precisions[i][1]\n",
        "            r = some_class[1]\n",
        "            f1 = (2*p*r)/(p+r)\n",
        "            print(f'precision for class {this_class}: {p}')\n",
        "            print(f'recall for class {this_class}: {r}')\n",
        "            print(f'f1 for class {this_class}: {f1}')\n",
        "            allfile.write(f'precision for class {this_class}\\t {\"{:.3f}\".format(p)} \\n')\n",
        "            allfile.write(f'recall_for_class {this_class}\\t{\"{:.3f}\".format(r)} \\n')\n",
        "            allfile.write(f'f1 for class {this_class}\\t{\"{:.3f}\".format(f1)} \\n')\n",
        "\n",
        "    #print('ROC AUC')\n",
        "    #draw_roc(target_val, predicted_val)\n",
        "\n",
        "    plt.show()\n"
      ],
      "id": "FeSaC1rVg_SU"
    },
    {
      "cell_type": "code",
      "execution_count": null,
      "metadata": {
        "id": "aO3CuIZl5y8h"
      },
      "outputs": [],
      "source": [
        "def cross_val_predict(model, kfold : KFold, X : np.array, y : np.array) -> Tuple[np.array, np.array, np.array]:\n",
        "\n",
        "    model_ = cp.deepcopy(model)\n",
        "\n",
        "    no_classes = len(np.unique(y))\n",
        "\n",
        "    actual_classes = np.empty([0], dtype=int)\n",
        "    predicted_classes = np.empty([0], dtype=int)\n",
        "    predicted_proba = np.empty([0, no_classes])\n",
        "\n",
        "    for train_ndx, test_ndx in kfold.split(X):\n",
        "\n",
        "        train_X, train_y, test_X, test_y = X[train_ndx], y[train_ndx], X[test_ndx], y[test_ndx]\n",
        "\n",
        "        actual_classes = np.append(actual_classes, test_y)\n",
        "\n",
        "        model_.fit(train_X, train_y)\n",
        "        predicted_classes = np.append(predicted_classes, model_.predict(test_X))\n",
        "\n",
        "        try:\n",
        "            predicted_proba = np.append(predicted_proba, model_.predict_proba(test_X), axis=0)\n",
        "        except:\n",
        "            predicted_proba = np.append(predicted_proba, np.zeros((len(test_X), no_classes), dtype=float), axis=0)\n",
        "\n",
        "    return actual_classes, predicted_classes, predicted_proba"
      ],
      "id": "aO3CuIZl5y8h"
    },
    {
      "cell_type": "code",
      "execution_count": null,
      "metadata": {
        "id": "_0e9_Py_O_aL"
      },
      "outputs": [],
      "source": [
        "def plot_confusion_matrix(actual_classes : np.array, predicted_classes : np.array, sorted_labels : list, lang='German'):\n",
        "\n",
        "    matrix = confusion_matrix(actual_classes, predicted_classes, labels=sorted_labels)\n",
        "\n",
        "    plt.figure(figsize=(12.8,6))\n",
        "    sns.heatmap(matrix, annot=True, xticklabels=sorted_labels, yticklabels=sorted_labels, cmap=\"Blues\", fmt=\"g\")\n",
        "    plt.xlabel('Predicted'); plt.ylabel('Actual'); plt.title(f'Combined Confusion Matrix for all folds of the 5-Fold Cross-Validation on {lang} corpus')\n",
        "\n",
        "\n",
        "\n",
        "    plt.savefig(f'confusion_matrix_{lang}_balanced_kfold_combined.png',\n",
        "                dpi=300)\n",
        "    plt.show()\n",
        "\n",
        "    print(f'accuracy : {accuracy_score(actual_classes, predicted_classes)}')\n",
        "\n",
        "    cm = matrix\n",
        "    class_recalls = list(zip(sorted_labels, cm.diagonal()/cm.sum(axis=1)))\n",
        "    class_precisions = list(zip(sorted_labels, cm.diagonal()/cm.sum(axis=0)))\n",
        "    for i, some_class in enumerate(class_recalls):\n",
        "        this_class = some_class[0]\n",
        "        p = class_precisions[i][1]\n",
        "        r = some_class[1]\n",
        "        f1 = (2*p*r)/(p+r)\n",
        "        print(f'precision for class {this_class}: {p}')\n",
        "        print(f'recall for class {this_class}: {r}')\n",
        "        print(f'f1 for class {this_class}: {f1}')"
      ],
      "id": "_0e9_Py_O_aL"
    },
    {
      "cell_type": "code",
      "execution_count": null,
      "metadata": {
        "id": "rN7k8keff-L7"
      },
      "outputs": [],
      "source": [
        "def classify(classifier, df, feature_list, classification_parameter):\n",
        "    features = standardize(df, feature_list)\n",
        "    target = df[classification_parameter]\n",
        "    scores = cross_val_score(classifier, features, target)\n",
        "    return(scores)"
      ],
      "id": "rN7k8keff-L7"
    },
    {
      "cell_type": "code",
      "execution_count": null,
      "metadata": {
        "id": "jLZlCFyTAgZP"
      },
      "outputs": [],
      "source": [
        "def assess_best_rf(df, features_list, classification_parameter):\n",
        "    best = 0\n",
        "    for i in range(100,1000,50):\n",
        "        model = RandomForestClassifier(n_estimators = i, random_state = rstate)\n",
        "        cross_val_scores = classify(model, df, features_list, classification_parameter)\n",
        "        meanscore = np.mean(cross_val_scores)\n",
        "        print(meanscore)\n",
        "        if meanscore > best:\n",
        "            best = meanscore\n",
        "            best_n_est = i\n",
        "            best_rf_model = model\n",
        "\n",
        "    print(f'Best result: {best} Produced by model with {best_n_est} estimators')\n",
        "\n"
      ],
      "id": "jLZlCFyTAgZP"
    },
    {
      "cell_type": "code",
      "execution_count": null,
      "metadata": {
        "id": "F_O3rWwk_9Va"
      },
      "outputs": [],
      "source": [
        "def assess_best_brf(df, features_list, classification_parameter):\n",
        "    best = 0\n",
        "    for i in range(100,1000,50):\n",
        "        model = BalancedRandomForestClassifier(n_estimators = i, random_state = rstate)\n",
        "        cross_val_scores = classify(model, df, features_list, classification_parameter)\n",
        "        meanscore = np.mean(cross_val_scores)\n",
        "        print(meanscore)\n",
        "        if meanscore > best:\n",
        "            best = meanscore\n",
        "            best_n_est = i\n",
        "            best_rf_model = model\n",
        "\n",
        "    print(f'Best result: {best} Produced by model with {best_n_est} estimators')\n",
        "\n"
      ],
      "id": "F_O3rWwk_9Va"
    },
    {
      "cell_type": "code",
      "execution_count": null,
      "metadata": {
        "id": "vWLD2Jul2Sba"
      },
      "outputs": [],
      "source": [
        "def assess_best(df, features_list, classification_parameter, balanced=True):\n",
        "    best = 0\n",
        "    for i in range(100,800,50):\n",
        "        if balanced:\n",
        "            model = BalancedRandomForestClassifier(n_estimators = i, random_state = rstate)\n",
        "        else:\n",
        "            model = RandomForestClassifier(n_estimators = i, random_state = rstate)\n",
        "        cross_val_scores = classify(model, df, features_list, classification_parameter)\n",
        "        meanscore = np.mean(cross_val_scores)\n",
        "        print(meanscore)\n",
        "        if meanscore > best:\n",
        "            best = meanscore\n",
        "            best_n_est = i\n",
        "            best_rf_model = model\n",
        "    print(f'Best result: {best} Produced by model with {best_n_est} estimators')\n",
        "    return best_rf_model"
      ],
      "id": "vWLD2Jul2Sba"
    },
    {
      "cell_type": "code",
      "execution_count": null,
      "metadata": {
        "id": "1BAm8fhgCtsH"
      },
      "outputs": [],
      "source": [
        "def get_feature_importances(df, good_model, target_col, features_list, corpusname):\n",
        "    features = standardize(df, features_list)\n",
        "    target = df[target_col]\n",
        "    features_train, features_test, target_train, target_test = train_test_split(features,\n",
        "                                                                                    target,\n",
        "                                                                                    test_size = 0.3,\n",
        "                                                                                    random_state=rstate)\n",
        "    result = permutation_importance(\n",
        "    good_model, features_test, target_test, n_repeats=10, random_state=rstate, n_jobs=2)\n",
        "    forest_importances = pd.Series(result.importances_mean, index=features_list)\n",
        "    fig, ax = plt.subplots()\n",
        "    forest_importances.plot.bar(yerr=result.importances_std, ax=ax)\n",
        "    ax.set_title(f\"Feature importances using permutation on full model on {corpusname} corpus\")\n",
        "    ax.set_ylabel(\"Mean accuracy decrease\")\n",
        "    #ax.grid(False)\n",
        "    ax.set_facecolor('white')\n",
        "    fig.set_size_inches(10, 6)\n",
        "    fig.tight_layout()\n",
        "    plt.savefig('latest_features_imp.png', dpi=300)\n",
        "    plt.show()\n"
      ],
      "id": "1BAm8fhgCtsH"
    },
    {
      "cell_type": "code",
      "execution_count": null,
      "metadata": {
        "id": "DNCG5P1K4IA1"
      },
      "outputs": [],
      "source": [
        "def fully_automated_model_assessment(df,\n",
        "                                     features_list,\n",
        "                                     classification_parameter,\n",
        "                                     balanced=True,\n",
        "                                     lang='German'):\n",
        "    model = assess_best(df, features_list, classification_parameter, balanced=balanced)\n",
        "    df = df.reset_index(drop=True)\n",
        "    X = standardize(df, features_list)\n",
        "    y = df[classification_parameter]\n",
        "\n",
        "    ## cross val conf matrix\n",
        "    kfold = KFold(n_splits=5, random_state=rstate, shuffle=True)\n",
        "    class_labels = df[classification_parameter].unique()\n",
        "    class_labels.sort()\n",
        "    actual_classes, predicted_classes, _ = cross_val_predict(model, kfold, X, y)\n",
        "    plot_confusion_matrix(actual_classes, predicted_classes, class_labels, lang=lang)\n",
        "\n",
        "    ## importances\n",
        "\n",
        "    features_train, features_test, target_train, target_test = train_test_split(X,\n",
        "                                                                            y,\n",
        "                                                                            test_size = 0.3,\n",
        "                                                                            random_state=rstate)\n",
        "\n",
        "    model.fit(features_train, target_train)\n",
        "    get_feature_importances(df,\n",
        "                            model,\n",
        "                            classification_parameter,\n",
        "                            features_list,\n",
        "                            lang)\n"
      ],
      "id": "DNCG5P1K4IA1"
    },
    {
      "cell_type": "code",
      "source": [
        "import warnings"
      ],
      "metadata": {
        "id": "whFhOFWuwUu3"
      },
      "id": "whFhOFWuwUu3",
      "execution_count": null,
      "outputs": []
    },
    {
      "cell_type": "markdown",
      "source": [
        "## Assessing the classifier and producing feature importances"
      ],
      "metadata": {
        "id": "2T1gIKL_sRLX"
      },
      "id": "2T1gIKL_sRLX"
    },
    {
      "cell_type": "code",
      "source": [
        "gd_lt = gd[(gd['year_normalized']>1769) & (gd['libretto_or_genre'] != 'Tragicomedy')]"
      ],
      "metadata": {
        "id": "r8fyDkt8BRHI"
      },
      "id": "r8fyDkt8BRHI",
      "execution_count": null,
      "outputs": []
    },
    {
      "cell_type": "code",
      "source": [
        "fd_lt = fd[(fd['libretto_or_genre'] != 'Tragicomedy')]"
      ],
      "metadata": {
        "id": "FawGijaHBYO1"
      },
      "id": "FawGijaHBYO1",
      "execution_count": null,
      "outputs": []
    },
    {
      "cell_type": "markdown",
      "metadata": {
        "id": "7l-Yssfyu65b"
      },
      "source": [
        "### German binary balanced"
      ],
      "id": "7l-Yssfyu65b"
    },
    {
      "cell_type": "code",
      "execution_count": null,
      "metadata": {
        "id": "QXXUBg6MA40q"
      },
      "outputs": [],
      "source": [
        "with warnings.catch_warnings():\n",
        "    warnings.filterwarnings(\"ignore\")\n",
        "    fully_automated_model_assessment(gd_lt,\n",
        "                                 german_features,\n",
        "                                 'is_real_libretto')"
      ],
      "id": "QXXUBg6MA40q"
    },
    {
      "cell_type": "markdown",
      "source": [
        "### German binary IMbalanced"
      ],
      "metadata": {
        "id": "xlu-XYgJshXi"
      },
      "id": "xlu-XYgJshXi"
    },
    {
      "cell_type": "code",
      "source": [
        "with warnings.catch_warnings():\n",
        "    warnings.filterwarnings(\"ignore\")\n",
        "    fully_automated_model_assessment(gd_lt,\n",
        "                                 german_features,\n",
        "                                 'is_real_libretto',\n",
        "                                    balanced=False)"
      ],
      "metadata": {
        "id": "Cylbh-r4scNr"
      },
      "id": "Cylbh-r4scNr",
      "execution_count": null,
      "outputs": []
    },
    {
      "cell_type": "markdown",
      "metadata": {
        "id": "4lfmkVGEsv_j"
      },
      "source": [
        "### French binary balanced"
      ],
      "id": "4lfmkVGEsv_j"
    },
    {
      "cell_type": "code",
      "execution_count": null,
      "metadata": {
        "id": "nq7r9Dd8sv_k"
      },
      "outputs": [],
      "source": [
        "with warnings.catch_warnings():\n",
        "    warnings.filterwarnings(\"ignore\")\n",
        "    fully_automated_model_assessment(fd_lt,\n",
        "                                 french_features,\n",
        "                                 'is_real_libretto',\n",
        "                                 lang='French')"
      ],
      "id": "nq7r9Dd8sv_k"
    },
    {
      "cell_type": "markdown",
      "metadata": {
        "id": "1jKUXf1qCIqc"
      },
      "source": [
        "### French binary IMbalanced"
      ],
      "id": "1jKUXf1qCIqc"
    },
    {
      "cell_type": "code",
      "execution_count": null,
      "metadata": {
        "id": "Hdv-jmx8CLjY"
      },
      "outputs": [],
      "source": [
        "with warnings.catch_warnings():\n",
        "    warnings.filterwarnings(\"ignore\")\n",
        "    fully_automated_model_assessment(fd_lt,\n",
        "                                 french_features,\n",
        "                                 'is_real_libretto',\n",
        "                                 balanced = False,\n",
        "                                 lang='French')"
      ],
      "id": "Hdv-jmx8CLjY"
    },
    {
      "cell_type": "markdown",
      "metadata": {
        "id": "JsfA4NlMs-uA"
      },
      "source": [
        "### German 4 class balanced"
      ],
      "id": "JsfA4NlMs-uA"
    },
    {
      "cell_type": "code",
      "execution_count": null,
      "metadata": {
        "id": "6QeYL5lhs-uH"
      },
      "outputs": [],
      "source": [
        "with warnings.catch_warnings():\n",
        "    warnings.filterwarnings(\"ignore\")\n",
        "    fully_automated_model_assessment(gd_lt,\n",
        "                                    german_features,\n",
        "                                    'genre_with_libretto_subgenres')"
      ],
      "id": "6QeYL5lhs-uH"
    },
    {
      "cell_type": "markdown",
      "metadata": {
        "id": "laMWhTFjbrZs"
      },
      "source": [
        "### German 4 class imbalanced"
      ],
      "id": "laMWhTFjbrZs"
    },
    {
      "cell_type": "code",
      "execution_count": null,
      "metadata": {
        "id": "oRh9BO8FbuKd"
      },
      "outputs": [],
      "source": [
        "with warnings.catch_warnings():\n",
        "    warnings.filterwarnings(\"ignore\")\n",
        "    fully_automated_model_assessment(gd_lt,\n",
        "                                    german_features,\n",
        "                                    'genre_with_libretto_subgenres',\n",
        "                                    balanced=False)"
      ],
      "id": "oRh9BO8FbuKd"
    },
    {
      "cell_type": "markdown",
      "metadata": {
        "id": "iqgcM-WqtKiz"
      },
      "source": [
        "#### French 4 class balanced"
      ],
      "id": "iqgcM-WqtKiz"
    },
    {
      "cell_type": "code",
      "execution_count": null,
      "metadata": {
        "id": "FtJfULsqtKi0"
      },
      "outputs": [],
      "source": [
        "with warnings.catch_warnings():\n",
        "    warnings.filterwarnings(\"ignore\")\n",
        "    fully_automated_model_assessment(fd_lt,\n",
        "                                 french_features,\n",
        "                                 'genre_with_libretto_subgenres',\n",
        "                                 lang='French')"
      ],
      "id": "FtJfULsqtKi0"
    },
    {
      "cell_type": "markdown",
      "metadata": {
        "id": "SO8LOfY7tptD"
      },
      "source": [
        "#### French 4 class imbalanced"
      ],
      "id": "SO8LOfY7tptD"
    },
    {
      "cell_type": "code",
      "execution_count": null,
      "metadata": {
        "id": "lVPwEKi1Qr9A"
      },
      "outputs": [],
      "source": [
        "with warnings.catch_warnings():\n",
        "    warnings.filterwarnings(\"ignore\")\n",
        "    fully_automated_model_assessment(fd_lt,\n",
        "                                 french_features,\n",
        "                                 'genre_with_libretto_subgenres',\n",
        "                                 lang='French',\n",
        "                                 balanced=False)"
      ],
      "id": "lVPwEKi1Qr9A"
    }
  ],
  "metadata": {
    "colab": {
      "provenance": []
    },
    "gpuClass": "standard",
    "kernelspec": {
      "display_name": "Python 3",
      "language": "python",
      "name": "python3"
    },
    "language_info": {
      "codemirror_mode": {
        "name": "ipython",
        "version": 3
      },
      "file_extension": ".py",
      "mimetype": "text/x-python",
      "name": "python",
      "nbconvert_exporter": "python",
      "pygments_lexer": "ipython3",
      "version": "3.9.7"
    }
  },
  "nbformat": 4,
  "nbformat_minor": 5
}