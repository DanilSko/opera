{
  "cells": [
    {
      "cell_type": "markdown",
      "metadata": {
        "id": "-sabLeEnBkbj"
      },
      "source": [
        "#Link to the draft:\n",
        "\n",
        "https://docs.google.com/document/d/1BaUYUjYpS7lKsZLL5jVfBHLOrwUrEfoj_3G3X9ablDc/edit#heading=h.76bewmjofvoz\n"
      ],
      "id": "-sabLeEnBkbj"
    },
    {
      "cell_type": "markdown",
      "metadata": {
        "id": "PZDEmoCi_5VF"
      },
      "source": [
        "###Roadmap\n",
        "\n",
        "*   We can start from Henny's notebook below\n",
        "*   To measure the distance between the three genres, let's use the 11 features employed by Botond and Szemes 2022 (cf. https://github.com/SzemesBotond/drama_cluster_genre/blob/main/drama_cluster_genre.R)\n",
        "1. Correlation matrix to exclude redundant measures + discussion of the most distinctive measures\n",
        "3. Visualisation trough PCA/t-sne, filtered by corpus\n",
        "4. filtering out last act and seeing what it happens (cf. https://github.com/SzemesBotond/drama_cluster_genre/blob/main/last_act_differences.R)\n",
        "\n",
        "* Contrastive exploration of operas in DraCor:\n",
        "- relative frequence of `<div type=\"prologue\">`\n",
        "- drama change rate\n",
        "- computing ration sp/stage directions\n",
        "- intricacy of plot?\n",
        "\n",
        "\n",
        "\n"
      ],
      "id": "PZDEmoCi_5VF"
    },
    {
      "cell_type": "markdown",
      "metadata": {
        "id": "opposite-lodge"
      },
      "source": [
        "##Initialisation\n",
        "### Load libraries"
      ],
      "id": "opposite-lodge"
    },
    {
      "cell_type": "code",
      "execution_count": null,
      "metadata": {
        "id": "integral-motel"
      },
      "outputs": [],
      "source": [
        "# if libraries are not installed, remove the hash from the line starting with '!'\n",
        "# if you want to reproduce an analysis you can add the version number like this:\n",
        "# requests==2.25.1 pandas==1.2.3 matplotlib==3.3.4\n",
        "#! pip install requests pandas matplotlib"
      ],
      "id": "integral-motel"
    },
    {
      "cell_type": "code",
      "execution_count": null,
      "metadata": {
        "id": "92r2IKpfWiff"
      },
      "outputs": [],
      "source": [
        "!pip install pydracor"
      ],
      "id": "92r2IKpfWiff"
    },
    {
      "cell_type": "code",
      "execution_count": null,
      "metadata": {
        "id": "CjJIJGn1V-SC"
      },
      "outputs": [],
      "source": [
        "import pydracor"
      ],
      "id": "CjJIJGn1V-SC"
    },
    {
      "cell_type": "code",
      "execution_count": null,
      "metadata": {
        "id": "younger-industry"
      },
      "outputs": [],
      "source": [
        "import math\n",
        "from datetime import datetime\n",
        "\n",
        "import requests\n",
        "import pandas as pd\n",
        "import matplotlib.pyplot as plt"
      ],
      "id": "younger-industry"
    },
    {
      "cell_type": "code",
      "execution_count": null,
      "metadata": {
        "id": "VaVLIgP1jBLj"
      },
      "outputs": [],
      "source": [
        "import os\n",
        "\n",
        "if not os.path.exists(\"output-images\"):\n",
        "    os.mkdir(\"output-images\")"
      ],
      "id": "VaVLIgP1jBLj"
    },
    {
      "cell_type": "code",
      "execution_count": null,
      "metadata": {
        "id": "zYaklkj2NHCg"
      },
      "outputs": [],
      "source": [
        "import numpy as np"
      ],
      "id": "zYaklkj2NHCg"
    },
    {
      "cell_type": "code",
      "execution_count": null,
      "metadata": {
        "id": "2qpFNqUpYuSd"
      },
      "outputs": [],
      "source": [
        "import seaborn as sns"
      ],
      "id": "2qpFNqUpYuSd"
    },
    {
      "cell_type": "code",
      "execution_count": null,
      "metadata": {
        "id": "jdvZe0kQ6Sdr"
      },
      "outputs": [],
      "source": [
        "import networkx as nx"
      ],
      "id": "jdvZe0kQ6Sdr"
    },
    {
      "cell_type": "code",
      "source": [
        "from scipy import stats"
      ],
      "metadata": {
        "id": "KWKCXzuthWcy"
      },
      "id": "KWKCXzuthWcy",
      "execution_count": null,
      "outputs": []
    },
    {
      "cell_type": "code",
      "execution_count": null,
      "metadata": {
        "id": "cJaK9yBh483a"
      },
      "outputs": [],
      "source": [
        "from sklearn.preprocessing import StandardScaler"
      ],
      "id": "cJaK9yBh483a"
    },
    {
      "cell_type": "code",
      "execution_count": null,
      "metadata": {
        "id": "X9ujCaoiFUAj"
      },
      "outputs": [],
      "source": [
        "from sklearn.decomposition import PCA"
      ],
      "id": "X9ujCaoiFUAj"
    },
    {
      "cell_type": "code",
      "execution_count": null,
      "metadata": {
        "id": "im6bi7AgYSvc"
      },
      "outputs": [],
      "source": [
        "!pip install wikidata"
      ],
      "id": "im6bi7AgYSvc"
    },
    {
      "cell_type": "code",
      "execution_count": null,
      "metadata": {
        "id": "rUOo-jw3YQq0"
      },
      "outputs": [],
      "source": [
        "from wikidata.client import Client as wikiclient"
      ],
      "id": "rUOo-jw3YQq0"
    },
    {
      "cell_type": "code",
      "execution_count": null,
      "metadata": {
        "id": "iOMYLvtLgp9x"
      },
      "outputs": [],
      "source": [
        "import json"
      ],
      "id": "iOMYLvtLgp9x"
    },
    {
      "cell_type": "markdown",
      "metadata": {
        "id": "great-stylus"
      },
      "source": [
        "#### Get version information for reproducibility"
      ],
      "id": "great-stylus"
    },
    {
      "cell_type": "code",
      "execution_count": null,
      "metadata": {
        "id": "compressed-dayton"
      },
      "outputs": [],
      "source": [
        "pip freeze | grep \"matplotlib\\|pandas\\|requests\""
      ],
      "id": "compressed-dayton"
    },
    {
      "cell_type": "markdown",
      "metadata": {
        "id": "cloudy-burke"
      },
      "source": [
        "#### Get current date for version information of corpus and API"
      ],
      "id": "cloudy-burke"
    },
    {
      "cell_type": "code",
      "execution_count": null,
      "metadata": {
        "id": "economic-employer"
      },
      "outputs": [],
      "source": [
        "print(datetime.now())"
      ],
      "id": "economic-employer"
    },
    {
      "cell_type": "markdown",
      "source": [
        "# I. Data preparation"
      ],
      "metadata": {
        "id": "hH-OwAXqfaIA"
      },
      "id": "hH-OwAXqfaIA"
    },
    {
      "cell_type": "markdown",
      "metadata": {
        "id": "QRSYLgPPV4JL"
      },
      "source": [
        "## 1. Downloading corpora metadata from DraCor"
      ],
      "id": "QRSYLgPPV4JL"
    },
    {
      "cell_type": "code",
      "source": [
        "import requests\n",
        "from urllib3.exceptions import InsecureRequestWarning\n",
        " \n",
        "# Suppress only the single warning from urllib3 needed.\n",
        "requests.packages.urllib3.disable_warnings(category=InsecureRequestWarning)"
      ],
      "metadata": {
        "id": "PhqbO-faOUeM"
      },
      "id": "PhqbO-faOUeM",
      "execution_count": null,
      "outputs": []
    },
    {
      "cell_type": "code",
      "execution_count": null,
      "metadata": {
        "id": "BepTGgnHV_ql"
      },
      "outputs": [],
      "source": [
        "# switched off due to SSL issues, using requests instead\n",
        "#ger_corpus = pydracor.Corpus('ger')"
      ],
      "id": "BepTGgnHV_ql"
    },
    {
      "cell_type": "code",
      "source": [
        "gerdata = requests.get('https://dracor.org/api/corpora/ger/metadata', verify=False)"
      ],
      "metadata": {
        "id": "40uQkIsbOl84"
      },
      "id": "40uQkIsbOl84",
      "execution_count": null,
      "outputs": []
    },
    {
      "cell_type": "code",
      "source": [
        "type(gerdata.text)"
      ],
      "metadata": {
        "id": "jgo7ruWdR2Be"
      },
      "id": "jgo7ruWdR2Be",
      "execution_count": null,
      "outputs": []
    },
    {
      "cell_type": "code",
      "source": [
        "german_data = pd.DataFrame(json.loads(gerdata.text))"
      ],
      "metadata": {
        "id": "v3vdGCw_OtDL"
      },
      "id": "v3vdGCw_OtDL",
      "execution_count": null,
      "outputs": []
    },
    {
      "cell_type": "code",
      "source": [
        "german_data"
      ],
      "metadata": {
        "id": "IRIp5D-v_0U8"
      },
      "id": "IRIp5D-v_0U8",
      "execution_count": null,
      "outputs": []
    },
    {
      "cell_type": "code",
      "execution_count": null,
      "metadata": {
        "id": "ajvzKxVIZ6aV"
      },
      "outputs": [],
      "source": [
        "#german_data = ger_corpus.metadata()"
      ],
      "id": "ajvzKxVIZ6aV"
    },
    {
      "cell_type": "code",
      "execution_count": null,
      "metadata": {
        "id": "onQnfoOCaB6j"
      },
      "outputs": [],
      "source": [
        "#german_data = pd.DataFrame(german_data)"
      ],
      "id": "onQnfoOCaB6j"
    },
    {
      "cell_type": "code",
      "source": [
        "german_data.columns"
      ],
      "metadata": {
        "id": "kotxlSOZIATm"
      },
      "id": "kotxlSOZIATm",
      "execution_count": null,
      "outputs": []
    },
    {
      "cell_type": "code",
      "source": [
        "col_renamer = {'normalizedGenre':'normalized_genre', \n",
        " 'firstAuthor':'first_author',\n",
        " 'numOfSegments':'num_of_segments',\n",
        " 'numOfSpeakers':'num_of_speakers', \n",
        " 'numOfPersonGroups':'num_of_person_groups',\n",
        " 'wordCountSp':'word_count_sp',\n",
        " 'wordCountStage':'word_count_stage',\n",
        " 'yearNormalized':'year_normalized',\n",
        " 'averageDegree':'average_degree',\n",
        " 'averageClustering':'average_clustering', \n",
        " 'maxDegree':'max_degree',\n",
        " 'numConnectedComponents':'num_connected_components', \n",
        " 'averagePathLength':'average_path_length'}"
      ],
      "metadata": {
        "id": "EOPnDaxTUAYs"
      },
      "id": "EOPnDaxTUAYs",
      "execution_count": null,
      "outputs": []
    },
    {
      "cell_type": "code",
      "source": [
        "german_data = german_data.rename(columns=col_renamer)"
      ],
      "metadata": {
        "id": "WEmvMbBOWjYv"
      },
      "id": "WEmvMbBOWjYv",
      "execution_count": null,
      "outputs": []
    },
    {
      "cell_type": "code",
      "source": [
        "german_data.info()"
      ],
      "metadata": {
        "id": "Ef_yr9VkIt4Y"
      },
      "id": "Ef_yr9VkIt4Y",
      "execution_count": null,
      "outputs": []
    },
    {
      "cell_type": "markdown",
      "source": [
        "Initial number of explicitly marked libretti"
      ],
      "metadata": {
        "id": "t2BMBLS8qAJn"
      },
      "id": "t2BMBLS8qAJn"
    },
    {
      "cell_type": "code",
      "source": [
        "german_data[german_data['libretto'] == True].shape[0]"
      ],
      "metadata": {
        "id": "p9JtYNRVp_cW"
      },
      "id": "p9JtYNRVp_cW",
      "execution_count": null,
      "outputs": []
    },
    {
      "cell_type": "markdown",
      "source": [
        "Are there any libretti which also have genre marked? Look at the ambiguous German plays:"
      ],
      "metadata": {
        "id": "b2Kq1_fFoBge"
      },
      "id": "b2Kq1_fFoBge"
    },
    {
      "cell_type": "code",
      "source": [
        "german_data[~(german_data['normalized_genre'].isna()) & (german_data['libretto'] == True)]"
      ],
      "metadata": {
        "id": "aZuEHbDUoB9W"
      },
      "id": "aZuEHbDUoB9W",
      "execution_count": null,
      "outputs": []
    },
    {
      "cell_type": "markdown",
      "source": [
        "None.."
      ],
      "metadata": {
        "id": "79Q0eEWEoPgd"
      },
      "id": "79Q0eEWEoPgd"
    },
    {
      "cell_type": "markdown",
      "source": [
        "Now same for the French"
      ],
      "metadata": {
        "id": "njT4ZybKoAVf"
      },
      "id": "njT4ZybKoAVf"
    },
    {
      "cell_type": "code",
      "execution_count": null,
      "metadata": {
        "id": "-NH5D1g4xnLl"
      },
      "outputs": [],
      "source": [
        "#fre_corpus = pydracor.Corpus('fre')"
      ],
      "id": "-NH5D1g4xnLl"
    },
    {
      "cell_type": "code",
      "execution_count": null,
      "metadata": {
        "id": "wc-Ug-n7xnLm"
      },
      "outputs": [],
      "source": [
        "#french_data = fre_corpus.metadata()"
      ],
      "id": "wc-Ug-n7xnLm"
    },
    {
      "cell_type": "code",
      "source": [
        "fredata = requests.get('https://dracor.org/api/corpora/fre/metadata', verify=False)"
      ],
      "metadata": {
        "id": "dQ9C0RJTW0S5"
      },
      "id": "dQ9C0RJTW0S5",
      "execution_count": null,
      "outputs": []
    },
    {
      "cell_type": "code",
      "source": [
        "french_data = json.loads(fredata.text)"
      ],
      "metadata": {
        "id": "49nWRPZJWtxF"
      },
      "id": "49nWRPZJWtxF",
      "execution_count": null,
      "outputs": []
    },
    {
      "cell_type": "code",
      "execution_count": null,
      "metadata": {
        "id": "BNAOeQI_xnLm"
      },
      "outputs": [],
      "source": [
        "french_data = pd.DataFrame(french_data)"
      ],
      "id": "BNAOeQI_xnLm"
    },
    {
      "cell_type": "code",
      "source": [
        "french_data.columns"
      ],
      "metadata": {
        "id": "RYecewYSJDKG"
      },
      "id": "RYecewYSJDKG",
      "execution_count": null,
      "outputs": []
    },
    {
      "cell_type": "code",
      "source": [
        "french_data = french_data.rename(columns=col_renamer)"
      ],
      "metadata": {
        "id": "IlrWZOzUW-F6"
      },
      "id": "IlrWZOzUW-F6",
      "execution_count": null,
      "outputs": []
    },
    {
      "cell_type": "markdown",
      "source": [
        "Initial number of explicitly marked libretti"
      ],
      "metadata": {
        "id": "rDa1u8XDqbpq"
      },
      "id": "rDa1u8XDqbpq"
    },
    {
      "cell_type": "code",
      "source": [
        "french_data[french_data['libretto'] == True].shape[0]"
      ],
      "metadata": {
        "id": "007xuHWcqWQh"
      },
      "id": "007xuHWcqWQh",
      "execution_count": null,
      "outputs": []
    },
    {
      "cell_type": "markdown",
      "source": [
        "Are there any libretti which also have genre marked? Look at the ambiguous French plays:"
      ],
      "metadata": {
        "id": "beujkl5Bnky7"
      },
      "id": "beujkl5Bnky7"
    },
    {
      "cell_type": "code",
      "source": [
        "french_data[~(french_data['normalized_genre'].isna()) & (french_data['libretto'] == True)]"
      ],
      "metadata": {
        "id": "MFV20ClMl-Lc"
      },
      "id": "MFV20ClMl-Lc",
      "execution_count": null,
      "outputs": []
    },
    {
      "cell_type": "code",
      "source": [
        "noamb = french_data[~(french_data['normalized_genre'].isna()) & (french_data['libretto'] == True)].shape[0]"
      ],
      "metadata": {
        "id": "RVxOQpiVoXdb"
      },
      "id": "RVxOQpiVoXdb",
      "execution_count": null,
      "outputs": []
    },
    {
      "cell_type": "code",
      "source": [
        "print(f'There are {noamb} ambigous french plays')"
      ],
      "metadata": {
        "id": "19atbooKoTrS"
      },
      "id": "19atbooKoTrS",
      "execution_count": null,
      "outputs": []
    },
    {
      "cell_type": "markdown",
      "source": [
        "### Preliminary stats: Libretti vs traditional Genres in the unencriched off-the-shelf corpora "
      ],
      "metadata": {
        "id": "wj1oI0CMxs0p"
      },
      "id": "wj1oI0CMxs0p"
    },
    {
      "cell_type": "code",
      "source": [
        "sns.set(rc={'figure.figsize':(10, 5.8)})"
      ],
      "metadata": {
        "id": "Ihk9IgGc4ORG"
      },
      "id": "Ihk9IgGc4ORG",
      "execution_count": null,
      "outputs": []
    },
    {
      "cell_type": "code",
      "source": [
        "datatoplot = german_data.apply(lambda x: x['normalized_genre'] if x['libretto'] == False \n",
        "                  else 'Libretto', axis=1).value_counts()\n",
        "\n",
        "ax = sns.barplot(x=datatoplot.index, y=datatoplot, palette=['darkblue', 'crimson', 'orange', 'green'])\n",
        "ax.set(title='German Libretto or Genre initital')\n",
        "\n",
        "for step, index in enumerate(datatoplot.index):\n",
        "    ax.text(step, datatoplot.loc[index]+1, str(datatoplot.loc[index]), color='black', ha='center')"
      ],
      "metadata": {
        "id": "ypLwfjKxxvUp"
      },
      "id": "ypLwfjKxxvUp",
      "execution_count": null,
      "outputs": []
    },
    {
      "cell_type": "code",
      "source": [
        "datatoplot = french_data.apply(lambda x: x['normalized_genre'] if x['libretto'] == False \n",
        "                  else 'Libretto', axis=1).value_counts()\n",
        "\n",
        "ax = sns.barplot(x=datatoplot.index, y=datatoplot, palette=['darkblue', 'crimson',  'green', 'orange'])\n",
        "ax.set(title='French Libretto or Genre initital')\n",
        "for step, index in enumerate(datatoplot.index):\n",
        "    ax.text(step, datatoplot.loc[index]+2, str(datatoplot.loc[index]), color='black', ha='center')"
      ],
      "metadata": {
        "id": "9EIbHC6b1fVo"
      },
      "id": "9EIbHC6b1fVo",
      "execution_count": null,
      "outputs": []
    },
    {
      "cell_type": "markdown",
      "metadata": {
        "id": "f0OeLR1xiX95"
      },
      "source": [
        "## 2. Enrichment "
      ],
      "id": "f0OeLR1xiX95"
    },
    {
      "cell_type": "markdown",
      "metadata": {
        "id": "ijPDlZRQ5r4D"
      },
      "source": [
        "## Uploading libretto corpus from Github\n",
        "\n",
        "Downloading curated libretti corpus from Github repository\n"
      ],
      "id": "ijPDlZRQ5r4D"
    },
    {
      "cell_type": "code",
      "execution_count": null,
      "metadata": {
        "id": "KzCQrZCW0TQN"
      },
      "outputs": [],
      "source": [
        "corpus_libretti_curated = pd.read_csv('https://github.com/DanilSko/opera/raw/main/data/curated_libretti.csv')"
      ],
      "id": "KzCQrZCW0TQN"
    },
    {
      "cell_type": "code",
      "execution_count": null,
      "metadata": {
        "id": "LPWIX7uynZPH"
      },
      "outputs": [],
      "source": [
        "corpus_libretti_curated.columns"
      ],
      "id": "LPWIX7uynZPH"
    },
    {
      "cell_type": "code",
      "execution_count": null,
      "metadata": {
        "id": "aqORv5ZzolbT"
      },
      "outputs": [],
      "source": [
        "corpus_libretti_curated.describe()"
      ],
      "id": "aqORv5ZzolbT"
    },
    {
      "cell_type": "code",
      "execution_count": null,
      "metadata": {
        "id": "m0hu0EdUjQnN"
      },
      "outputs": [],
      "source": [
        "## corpus_libretti_curated = pd.read_csv('https://github.com/lucagiovannini7/computational-opera-ccls2023/raw/main/opera_dracor_corpus.csv')"
      ],
      "id": "m0hu0EdUjQnN"
    },
    {
      "cell_type": "code",
      "source": [],
      "metadata": {
        "id": "JdbfzMO8enX2"
      },
      "id": "JdbfzMO8enX2",
      "execution_count": null,
      "outputs": []
    },
    {
      "cell_type": "markdown",
      "metadata": {
        "id": "_wJCg-VZX7LI"
      },
      "source": [
        "## 3. Preprocessing"
      ],
      "id": "_wJCg-VZX7LI"
    },
    {
      "cell_type": "markdown",
      "metadata": {
        "id": "l0XBIfVEWyj9"
      },
      "source": [
        "### Feature selection (new, on the whole data)"
      ],
      "id": "l0XBIfVEWyj9"
    },
    {
      "cell_type": "code",
      "execution_count": null,
      "metadata": {
        "id": "I80I-i1p2vRv"
      },
      "outputs": [],
      "source": [
        "## all features available:\n",
        "german_data.columns"
      ],
      "id": "I80I-i1p2vRv"
    },
    {
      "cell_type": "code",
      "execution_count": null,
      "metadata": {
        "id": "sSr7SezMOC7f"
      },
      "outputs": [],
      "source": [
        "len(german_data.columns)"
      ],
      "id": "sSr7SezMOC7f"
    },
    {
      "cell_type": "code",
      "execution_count": null,
      "metadata": {
        "id": "zYgIlS9sYEB_"
      },
      "outputs": [],
      "source": [
        "## features we selected manually as the meaningful ones (dropping year and such stuff)\n",
        "list_features_pyd = ['num_of_segments', 'num_of_speakers', 'num_of_person_groups',\n",
        "                      'word_count_sp', 'word_count_stage', 'average_degree', 'density', 'average_clustering',\n",
        "                      'max_degree', 'num_connected_components', 'diameter', 'average_path_length']"
      ],
      "id": "zYgIlS9sYEB_"
    },
    {
      "cell_type": "code",
      "execution_count": null,
      "metadata": {
        "id": "DRVP9H8_OYMZ"
      },
      "outputs": [],
      "source": [
        "len(list_features_pyd)"
      ],
      "id": "DRVP9H8_OYMZ"
    },
    {
      "cell_type": "markdown",
      "metadata": {
        "id": "QnK5EzKYFVRX"
      },
      "source": [
        "Now we go on to check which of these features correlate with each other:"
      ],
      "id": "QnK5EzKYFVRX"
    },
    {
      "cell_type": "markdown",
      "metadata": {
        "id": "f9a2WWRUlbqe"
      },
      "source": [
        "NEW 31.12: list of network features only:"
      ],
      "id": "f9a2WWRUlbqe"
    },
    {
      "cell_type": "code",
      "execution_count": null,
      "metadata": {
        "id": "4bQp-BrOlfsz"
      },
      "outputs": [],
      "source": [
        "network_features = ['num_of_segments', 'num_of_speakers', 'average_degree', \n",
        "                     'density', 'average_clustering','max_degree', 'num_connected_components', \n",
        "                     'diameter', 'average_path_length']"
      ],
      "id": "4bQp-BrOlfsz"
    },
    {
      "cell_type": "markdown",
      "metadata": {
        "id": "VvjyyChQ3UXa"
      },
      "source": [
        "### Correlation matrices separate for languages"
      ],
      "id": "VvjyyChQ3UXa"
    },
    {
      "cell_type": "code",
      "execution_count": null,
      "metadata": {
        "id": "EtR6kDFcVV7C"
      },
      "outputs": [],
      "source": [
        "feature_correlations = german_data[list_features_pyd].corr()"
      ],
      "id": "EtR6kDFcVV7C"
    },
    {
      "cell_type": "code",
      "execution_count": null,
      "metadata": {
        "id": "AG28pOsbWBxn"
      },
      "outputs": [],
      "source": [
        "fig, ax = plt.subplots(figsize=(12,10)) \n",
        "sns.heatmap(feature_correlations, annot=True, cmap = 'coolwarm')\n",
        "plt.savefig('correlation_matrix.png', dpi=300)"
      ],
      "id": "AG28pOsbWBxn"
    },
    {
      "cell_type": "code",
      "execution_count": null,
      "metadata": {
        "id": "PSsxRW6BfT4g"
      },
      "outputs": [],
      "source": [
        "french_data.columns"
      ],
      "id": "PSsxRW6BfT4g"
    },
    {
      "cell_type": "code",
      "execution_count": null,
      "metadata": {
        "id": "wMk1_Evqf05p"
      },
      "outputs": [],
      "source": [
        "list_features_pyd"
      ],
      "id": "wMk1_Evqf05p"
    },
    {
      "cell_type": "code",
      "execution_count": null,
      "metadata": {
        "id": "Xpt4nrOQWMyX"
      },
      "outputs": [],
      "source": [
        "feature_correlations = french_data[list_features_pyd].corr()"
      ],
      "id": "Xpt4nrOQWMyX"
    },
    {
      "cell_type": "code",
      "execution_count": null,
      "metadata": {
        "id": "BkC5Sz_fe42K"
      },
      "outputs": [],
      "source": [
        "feature_correlations"
      ],
      "id": "BkC5Sz_fe42K"
    },
    {
      "cell_type": "code",
      "execution_count": null,
      "metadata": {
        "id": "M9kpnqNMc0r-"
      },
      "outputs": [],
      "source": [
        "german_data['num_of_person_groups'].value_counts()"
      ],
      "id": "M9kpnqNMc0r-"
    },
    {
      "cell_type": "code",
      "execution_count": null,
      "metadata": {
        "id": "g8Ix06HxWViU"
      },
      "outputs": [],
      "source": [
        "french_data['num_of_person_groups'].value_counts()"
      ],
      "id": "g8Ix06HxWViU"
    },
    {
      "cell_type": "code",
      "execution_count": null,
      "metadata": {
        "id": "lpiVjQUcDfK5"
      },
      "outputs": [],
      "source": [
        "#feature_correlations"
      ],
      "id": "lpiVjQUcDfK5"
    },
    {
      "cell_type": "code",
      "execution_count": null,
      "metadata": {
        "id": "J4D4ZZI1WHUR"
      },
      "outputs": [],
      "source": [
        "fig, ax = plt.subplots(figsize=(12,8)) \n",
        "sns.heatmap(feature_correlations, annot=True, cmap = 'coolwarm')\n",
        "plt.savefig('correlation_matrix_fre.png', dpi=300)"
      ],
      "id": "J4D4ZZI1WHUR"
    },
    {
      "cell_type": "code",
      "source": [
        "fig, ax = plt.subplots(figsize=(12,8)) \n",
        "sns.heatmap(feature_correlations.drop('num_of_person_groups').drop('num_of_person_groups', axis=1), annot=True, cmap = 'coolwarm')\n",
        "plt.savefig('correlation_matrix_fre.png', dpi=300)"
      ],
      "metadata": {
        "id": "SDmgnYf99-5w"
      },
      "id": "SDmgnYf99-5w",
      "execution_count": null,
      "outputs": []
    },
    {
      "cell_type": "markdown",
      "metadata": {
        "id": "7J4PMx3pBxO-"
      },
      "source": [
        "### Getting highly correlated features as list on formal grounds (above 0.75 or below -0.75 correlation)"
      ],
      "id": "7J4PMx3pBxO-"
    },
    {
      "cell_type": "markdown",
      "metadata": {
        "id": "Wx6fcp2XBsPq"
      },
      "source": [
        "### German"
      ],
      "id": "Wx6fcp2XBsPq"
    },
    {
      "cell_type": "code",
      "execution_count": null,
      "metadata": {
        "id": "tCvdQiBLAsya"
      },
      "outputs": [],
      "source": [
        "def get_higlhy_correcated_feature_pairs(series):\n",
        "    correlated = list(series[series == True].index)\n",
        "    name = series.name\n",
        "    try:\n",
        "        correlated.remove(name)\n",
        "    except:\n",
        "        pass\n",
        "    if len(correlated) > 0:\n",
        "        for cf in correlated:\n",
        "            print(f'**{name}** is highly correlated with **{cf}**')\n"
      ],
      "id": "tCvdQiBLAsya"
    },
    {
      "cell_type": "code",
      "execution_count": null,
      "metadata": {
        "id": "bXH8sruFBmS6"
      },
      "outputs": [],
      "source": [
        "feature_correlations = german_data[list_features_pyd].corr()\n",
        "colnames  = feature_correlations.columns\n",
        "hiposcorr = feature_correlations > 0.75\n",
        "hinegcorr = feature_correlations < -0.75\n",
        "hicorr = pd.DataFrame(np.nansum([x.values for x in [hiposcorr, hinegcorr]], axis=0))\n",
        "hicorr.columns = colnames\n",
        "hicorr.index = colnames\n",
        "hicorr.apply(get_higlhy_correcated_feature_pairs)"
      ],
      "id": "bXH8sruFBmS6"
    },
    {
      "cell_type": "markdown",
      "metadata": {
        "id": "5Pf9kjoPATDr"
      },
      "source": [
        "#### Plotting a network of highly correlated features"
      ],
      "id": "5Pf9kjoPATDr"
    },
    {
      "cell_type": "code",
      "execution_count": null,
      "metadata": {
        "id": "4PxYoVb9-9n6"
      },
      "outputs": [],
      "source": [
        "def plot_corr_graph(hicorrdf):\n",
        "    graph = nx.from_pandas_adjacency(hicorrdf)\n",
        "    graph.remove_edges_from(nx.selfloop_edges(graph))\n",
        "    plt.subplots(figsize=(14,12)) \n",
        "    nx.draw(graph, \n",
        "        with_labels=True, \n",
        "        pos=nx.spring_layout(graph))"
      ],
      "id": "4PxYoVb9-9n6"
    },
    {
      "cell_type": "code",
      "execution_count": null,
      "metadata": {
        "id": "D7H8EEDl_JF1"
      },
      "outputs": [],
      "source": [
        "plot_corr_graph(hicorr)"
      ],
      "id": "D7H8EEDl_JF1"
    },
    {
      "cell_type": "markdown",
      "metadata": {
        "id": "hXh8yZbYB0ZC"
      },
      "source": [
        "#### French"
      ],
      "id": "hXh8yZbYB0ZC"
    },
    {
      "cell_type": "code",
      "execution_count": null,
      "metadata": {
        "id": "S3lBnrB_N-nv"
      },
      "outputs": [],
      "source": [
        "feature_correlations = french_data[list_features_pyd].corr()"
      ],
      "id": "S3lBnrB_N-nv"
    },
    {
      "cell_type": "code",
      "execution_count": null,
      "metadata": {
        "id": "KwJyzFHFvMEH"
      },
      "outputs": [],
      "source": [
        "colnames  = feature_correlations.columns\n",
        "hiposcorr = feature_correlations > 0.75\n",
        "hinegcorr = feature_correlations < -0.75\n",
        "hicorr = pd.DataFrame(np.nansum([x.values for x in [hiposcorr, hinegcorr]], axis=0))\n",
        "hicorr.columns = colnames\n",
        "hicorr.index = colnames"
      ],
      "id": "KwJyzFHFvMEH"
    },
    {
      "cell_type": "code",
      "execution_count": null,
      "metadata": {
        "id": "EcNpsWQ0Bb2I"
      },
      "outputs": [],
      "source": [
        "hicorr.apply(get_higlhy_correcated_feature_pairs)"
      ],
      "id": "EcNpsWQ0Bb2I"
    },
    {
      "cell_type": "markdown",
      "metadata": {
        "id": "XNVz8zCHCm9N"
      },
      "source": [
        "#### Plotting a network of highly correlated features"
      ],
      "id": "XNVz8zCHCm9N"
    },
    {
      "cell_type": "code",
      "execution_count": null,
      "metadata": {
        "id": "BjSNl6NHAiOK"
      },
      "outputs": [],
      "source": [
        "plot_corr_graph(hicorr)"
      ],
      "id": "BjSNl6NHAiOK"
    },
    {
      "cell_type": "code",
      "execution_count": null,
      "metadata": {
        "id": "MPjVy16EwVLJ"
      },
      "outputs": [],
      "source": [
        "#hicorr.apply(lambda x: print(x.name, list(x[x == True].index))) "
      ],
      "id": "MPjVy16EwVLJ"
    },
    {
      "cell_type": "markdown",
      "metadata": {
        "id": "a-PN5ZvoYf2l"
      },
      "source": [
        "### Drop correlated features"
      ],
      "id": "a-PN5ZvoYf2l"
    },
    {
      "cell_type": "code",
      "execution_count": null,
      "metadata": {
        "id": "vHoaIekzDrY9"
      },
      "outputs": [],
      "source": [
        "german_features_to_drop = ['average_path_length', \n",
        "                           'diameter',  \n",
        "                           'max_degree', \n",
        "                           'num_connected_components']"
      ],
      "id": "vHoaIekzDrY9"
    },
    {
      "cell_type": "code",
      "execution_count": null,
      "metadata": {
        "id": "A1NDk6_9EIEo"
      },
      "outputs": [],
      "source": [
        "french_features_to_drop = ['num_of_segments', \n",
        "                           'average_path_length', \n",
        "                           'max_degree']"
      ],
      "id": "A1NDk6_9EIEo"
    },
    {
      "cell_type": "code",
      "execution_count": null,
      "metadata": {
        "id": "CNClJfIlEgNg"
      },
      "outputs": [],
      "source": [
        "#german_data = german_data.drop(german_features_to_drop, axis=1)"
      ],
      "id": "CNClJfIlEgNg"
    },
    {
      "cell_type": "code",
      "execution_count": null,
      "metadata": {
        "id": "bgSHDv8WEbzb"
      },
      "outputs": [],
      "source": [
        "#french_data = french_data.drop(french_features_to_drop, axis=1)"
      ],
      "id": "bgSHDv8WEbzb"
    },
    {
      "cell_type": "code",
      "execution_count": null,
      "metadata": {
        "id": "4difSC-KEoiU"
      },
      "outputs": [],
      "source": [
        "german_features = [feature for feature in list_features_pyd if feature not in german_features_to_drop]"
      ],
      "id": "4difSC-KEoiU"
    },
    {
      "cell_type": "code",
      "execution_count": null,
      "metadata": {
        "id": "PNHLVK3lGi_V"
      },
      "outputs": [],
      "source": [
        "french_features = [feature for feature in list_features_pyd if feature not in french_features_to_drop]"
      ],
      "id": "PNHLVK3lGi_V"
    },
    {
      "cell_type": "code",
      "execution_count": null,
      "metadata": {
        "id": "8pgbw7XPYf2l"
      },
      "outputs": [],
      "source": [
        "#metadata_df = metadata_df.drop(['diameter', 'max_degree'], axis=1)"
      ],
      "id": "8pgbw7XPYf2l"
    },
    {
      "cell_type": "code",
      "execution_count": null,
      "metadata": {
        "id": "Ji-HrGGxYf2l"
      },
      "outputs": [],
      "source": [
        "# list_features_pyd.remove('diameter')"
      ],
      "id": "Ji-HrGGxYf2l"
    },
    {
      "cell_type": "code",
      "execution_count": null,
      "metadata": {
        "id": "qutkW5wRYf2l"
      },
      "outputs": [],
      "source": [
        "# list_features_pyd.remove('max_degree')"
      ],
      "id": "qutkW5wRYf2l"
    },
    {
      "cell_type": "code",
      "execution_count": null,
      "metadata": {
        "id": "y5zrMg_JjbqG"
      },
      "outputs": [],
      "source": [
        "# joining the two dataframes\n",
        "\n",
        "# replace rows in german_data / french_data with rows from corpus_libretti_curated"
      ],
      "id": "y5zrMg_JjbqG"
    },
    {
      "cell_type": "code",
      "source": [
        "german_data['normalized_genre'].unique()"
      ],
      "metadata": {
        "id": "ygVv-IufYpJ9"
      },
      "id": "ygVv-IufYpJ9",
      "execution_count": null,
      "outputs": []
    },
    {
      "cell_type": "markdown",
      "metadata": {
        "id": "WD3RqWxiil1J"
      },
      "source": [
        "## Dealing with unlabelled plays through Wikidata scraping "
      ],
      "id": "WD3RqWxiil1J"
    },
    {
      "cell_type": "markdown",
      "metadata": {
        "id": "5OLXbX2uHLcK"
      },
      "source": [
        "### German wikidata enrichment"
      ],
      "id": "5OLXbX2uHLcK"
    },
    {
      "cell_type": "code",
      "execution_count": null,
      "metadata": {
        "id": "ALzUKpzzgyCQ"
      },
      "outputs": [],
      "source": [
        "client = wikiclient()"
      ],
      "id": "ALzUKpzzgyCQ"
    },
    {
      "cell_type": "code",
      "execution_count": null,
      "metadata": {
        "id": "q6AwaLx8ilCn"
      },
      "outputs": [],
      "source": [
        "def get_genre_from_wikidata(wiki_id):\n",
        "    if wiki_id == 'No wikidata':\n",
        "        return None\n",
        "    entity = client.get(wiki_id, load=True)\n",
        "    try:\n",
        "        genre_prop = client.get('P136')\n",
        "        genre = entity[genre_prop]\n",
        "        return genre.id\n",
        "    except:\n",
        "        return 'No genre on wikidata'"
      ],
      "id": "q6AwaLx8ilCn"
    },
    {
      "cell_type": "code",
      "execution_count": null,
      "metadata": {
        "id": "XC-8lPaFZ4rL"
      },
      "outputs": [],
      "source": [
        "def get_wikidata_id(playid):\n",
        "    play = pydracor.Play(playid)\n",
        "    return play.wikidata_id"
      ],
      "id": "XC-8lPaFZ4rL"
    },
    {
      "cell_type": "code",
      "execution_count": null,
      "metadata": {
        "id": "lAUkna8MsfGT"
      },
      "outputs": [],
      "source": [
        "def get_label_and_description_from_wikidata(wiki_id):\n",
        "    try:\n",
        "        if 'Q' in wiki_id and wiki_id != 'No wikidata':\n",
        "            entity = client.get(wiki_id, load=True)\n",
        "            #return entity.label\n",
        "            return (entity.label, entity.description)\n",
        "        #return \n",
        "    except:\n",
        "        pass\n",
        "     #   return 'No genre on wikidata'"
      ],
      "id": "lAUkna8MsfGT"
    },
    {
      "cell_type": "code",
      "execution_count": null,
      "metadata": {
        "id": "0BRYEuWUgySY"
      },
      "outputs": [],
      "source": [
        "!wget https://raw.githubusercontent.com/DanilSko/opera/main/data/aux/gerdracor2wikidata.json"
      ],
      "id": "0BRYEuWUgySY"
    },
    {
      "cell_type": "code",
      "execution_count": null,
      "metadata": {
        "id": "Ygfdh2VBgrhb"
      },
      "outputs": [],
      "source": [
        "with open('gerdracor2wikidata.json') as jsonmapping:\n",
        "    dracor2wikidata = json.load(jsonmapping)"
      ],
      "id": "Ygfdh2VBgrhb"
    },
    {
      "cell_type": "code",
      "execution_count": null,
      "metadata": {
        "id": "cXFfxxeoaJ6o"
      },
      "outputs": [],
      "source": [
        "german_data['wikidata'] = german_data['id'].map(dracor2wikidata)"
      ],
      "id": "cXFfxxeoaJ6o"
    },
    {
      "cell_type": "code",
      "execution_count": null,
      "metadata": {
        "id": "2irnbq-XgkoR"
      },
      "outputs": [],
      "source": [
        "test = german_data[:4]"
      ],
      "id": "2irnbq-XgkoR"
    },
    {
      "cell_type": "code",
      "execution_count": null,
      "metadata": {
        "id": "5WbpcaqAqC13"
      },
      "outputs": [],
      "source": [
        "test['genre_from_wikidata'] = test['wikidata'].map(get_genre_from_wikidata).where(test['normalized_genre'].isna(), None)"
      ],
      "id": "5WbpcaqAqC13"
    },
    {
      "cell_type": "code",
      "execution_count": null,
      "metadata": {
        "id": "krwieumGqInO"
      },
      "outputs": [],
      "source": [
        "test[['name', 'genre_from_wikidata']]"
      ],
      "id": "krwieumGqInO"
    },
    {
      "cell_type": "markdown",
      "metadata": {
        "id": "HVr6O19Njnr1"
      },
      "source": [
        "Wikidata querying takes time, so here we'll upload wikidata genre IDs from json saved the previous time instead:"
      ],
      "id": "HVr6O19Njnr1"
    },
    {
      "cell_type": "code",
      "execution_count": null,
      "metadata": {
        "id": "yuWiuDYFnQGb"
      },
      "outputs": [],
      "source": [
        "#pd.read_json('https://raw.githubusercontent.com/DanilSko/opera/main/genre_wikidata_german.json')"
      ],
      "id": "yuWiuDYFnQGb"
    },
    {
      "cell_type": "code",
      "execution_count": null,
      "metadata": {
        "id": "JB8nvVKpkQpQ"
      },
      "outputs": [],
      "source": [
        "from_json = True\n",
        "\n",
        "path_to_json = 'https://raw.githubusercontent.com/DanilSko/opera/main/data/aux/genre_wikidata_german.json'\n",
        "\n",
        "if from_json:\n",
        "    saved_wikidata_german = pd.read_json(path_to_json, \n",
        "                                         typ='series')\n",
        "    german_data['genre_from_wikidata'] = saved_wikidata_german\n",
        "else:\n",
        "    german_data['genre_from_wikidata'] = german_data['wikidata'].map(get_genre_from_wikidata).where(german_data['normalized_genre'].isna(), None)"
      ],
      "id": "JB8nvVKpkQpQ"
    },
    {
      "cell_type": "code",
      "source": [
        "german_data[german_data['genre_from_wikidata'].fillna('None').str.contains('Q')][['title', 'normalized_genre']]"
      ],
      "metadata": {
        "id": "N13UUBcw5_KG"
      },
      "id": "N13UUBcw5_KG",
      "execution_count": null,
      "outputs": []
    },
    {
      "cell_type": "code",
      "execution_count": null,
      "metadata": {
        "id": "pJECbUIImTiR"
      },
      "outputs": [],
      "source": [
        "german_data['genre_from_wikidata'].unique()"
      ],
      "id": "pJECbUIImTiR"
    },
    {
      "cell_type": "code",
      "source": [
        "german_data[german_data['genre_from_wikidata'] == 'Q1311570'][['name', 'title', 'subtitle', 'genre_from_wikidata']]"
      ],
      "metadata": {
        "id": "5U5XprdqU8kg"
      },
      "id": "5U5XprdqU8kg",
      "execution_count": null,
      "outputs": []
    },
    {
      "cell_type": "code",
      "source": [
        "german_data.index"
      ],
      "metadata": {
        "id": "NG-tvlsRV1cE"
      },
      "id": "NG-tvlsRV1cE",
      "execution_count": null,
      "outputs": []
    },
    {
      "cell_type": "code",
      "execution_count": null,
      "metadata": {
        "id": "IEV1ZymRuGAS"
      },
      "outputs": [],
      "source": [
        "german_data['genre_from_wikidata'].value_counts()"
      ],
      "id": "IEV1ZymRuGAS"
    },
    {
      "cell_type": "code",
      "source": [
        "german_data['genre_from_wikidata'].to_json('genre_wikidata_german.json', indent=2)"
      ],
      "metadata": {
        "id": "qYQ-KJKUWdAi"
      },
      "id": "qYQ-KJKUWdAi",
      "execution_count": null,
      "outputs": []
    },
    {
      "cell_type": "code",
      "execution_count": null,
      "metadata": {
        "id": "Zh6db8oSQsNK"
      },
      "outputs": [],
      "source": [
        "#used once\n",
        "#german_data['genre_from_wikidata'].to_json('genre_wikidata_german.json')"
      ],
      "id": "Zh6db8oSQsNK"
    },
    {
      "cell_type": "code",
      "execution_count": null,
      "metadata": {
        "id": "oCadWnFXRL7T"
      },
      "outputs": [],
      "source": [
        "#used once\n",
        "#french_data['genre_from_wikidata'].to_json('genre_wikidata_french.json')"
      ],
      "id": "oCadWnFXRL7T"
    },
    {
      "cell_type": "code",
      "execution_count": null,
      "metadata": {
        "id": "MU7TPA3bvFuZ"
      },
      "outputs": [],
      "source": [
        "german_data['wikidata descr'] = german_data['genre_from_wikidata'].apply(get_label_and_description_from_wikidata)"
      ],
      "id": "MU7TPA3bvFuZ"
    },
    {
      "cell_type": "code",
      "execution_count": null,
      "metadata": {
        "id": "e7brcxmvrUcp"
      },
      "outputs": [],
      "source": [
        "wikidata_slice = german_data[(german_data['genre_from_wikidata'].fillna('').str.contains('Q')) & \n",
        "            (german_data['libretto'] == False)]"
      ],
      "id": "e7brcxmvrUcp"
    },
    {
      "cell_type": "code",
      "execution_count": null,
      "metadata": {
        "id": "GW46UXIsvrb1"
      },
      "outputs": [],
      "source": [
        "wikidata_slice"
      ],
      "id": "GW46UXIsvrb1"
    },
    {
      "cell_type": "code",
      "execution_count": null,
      "metadata": {
        "id": "MmH5xYMasFoa"
      },
      "outputs": [],
      "source": [
        "wikigenres = wikidata_slice['genre_from_wikidata'].unique()"
      ],
      "id": "MmH5xYMasFoa"
    },
    {
      "cell_type": "code",
      "execution_count": null,
      "metadata": {
        "id": "pt5AgUZNuORQ"
      },
      "outputs": [],
      "source": [
        "wikigenres"
      ],
      "id": "pt5AgUZNuORQ"
    },
    {
      "cell_type": "code",
      "execution_count": null,
      "metadata": {
        "id": "akpBnlQPsYFv"
      },
      "outputs": [],
      "source": [
        "for genre in wikigenres:\n",
        "    label, descr = get_label_and_description_from_wikidata(genre)\n",
        "    print(genre, '\\t', label, '\\t', descr)"
      ],
      "id": "akpBnlQPsYFv"
    },
    {
      "cell_type": "markdown",
      "metadata": {
        "id": "g2WGByvVxwB4"
      },
      "source": [
        "### French wikidata enrichment"
      ],
      "id": "g2WGByvVxwB4"
    },
    {
      "cell_type": "code",
      "execution_count": null,
      "metadata": {
        "id": "yZSGZeEt5ZaF"
      },
      "outputs": [],
      "source": [
        "!wget https://raw.githubusercontent.com/DanilSko/opera/main/data/aux/fredracor2wikidata.json"
      ],
      "id": "yZSGZeEt5ZaF"
    },
    {
      "cell_type": "code",
      "execution_count": null,
      "metadata": {
        "id": "bAQk-hZ-zMXn"
      },
      "outputs": [],
      "source": [
        "with open('fredracor2wikidata.json') as jsonmapping:\n",
        "    dracor2wikidata = json.load(jsonmapping)"
      ],
      "id": "bAQk-hZ-zMXn"
    },
    {
      "cell_type": "code",
      "execution_count": null,
      "metadata": {
        "id": "t17XigWizMXo"
      },
      "outputs": [],
      "source": [
        "french_data['wikidata'] = french_data['id'].map(dracor2wikidata)"
      ],
      "id": "t17XigWizMXo"
    },
    {
      "cell_type": "code",
      "execution_count": null,
      "metadata": {
        "id": "y-JJrskp567I"
      },
      "outputs": [],
      "source": [
        "french_data['wikidata'].value_counts()"
      ],
      "id": "y-JJrskp567I"
    },
    {
      "cell_type": "code",
      "execution_count": null,
      "metadata": {
        "id": "Lpp_S1qa6jGg"
      },
      "outputs": [],
      "source": [
        "french_data['wikidata'] = french_data['wikidata'].fillna('No wikidata')"
      ],
      "id": "Lpp_S1qa6jGg"
    },
    {
      "cell_type": "code",
      "execution_count": null,
      "metadata": {
        "id": "ZHgayD3s7DwN"
      },
      "outputs": [],
      "source": [
        "french_data['wikidata']"
      ],
      "id": "ZHgayD3s7DwN"
    },
    {
      "cell_type": "markdown",
      "metadata": {
        "id": "xfsOCaL4omSa"
      },
      "source": [
        "Updating wikidata genre codes from saved JSON to spare 6 minutes of wikidata queriyng every time"
      ],
      "id": "xfsOCaL4omSa"
    },
    {
      "cell_type": "code",
      "execution_count": null,
      "metadata": {
        "id": "F9_jRmiwzMXo"
      },
      "outputs": [],
      "source": [
        "from_json = True\n",
        "path_to_json = 'https://raw.githubusercontent.com/DanilSko/opera/main/data/aux/genre_wikidata_french.json'\n",
        "\n",
        "if from_json:\n",
        "    saved_wikidata_french = pd.read_json(path_to_json, \n",
        "                                         typ='series')\n",
        "    #saved_wikidata_french.columns = ['genre_from_wikidata']\n",
        "    french_data['genre_from_wikidata'] = saved_wikidata_french\n",
        "else:\n",
        "    french_data['genre_from_wikidata'] = french_data['wikidata'].map(get_genre_from_wikidata).where(french_data['normalized_genre'].isna(), None)\n",
        "#french_data['genre_from_wikidata'] = french_data['wikidata'].map(get_genre_from_wikidata).where(french_data['normalized_genre'].isna(), None)"
      ],
      "id": "F9_jRmiwzMXo"
    },
    {
      "cell_type": "code",
      "execution_count": null,
      "metadata": {
        "id": "MQ-wPCFtzMXo"
      },
      "outputs": [],
      "source": [
        "french_data['genre_from_wikidata'].unique()"
      ],
      "id": "MQ-wPCFtzMXo"
    },
    {
      "cell_type": "code",
      "execution_count": null,
      "metadata": {
        "id": "AvXseT3EzMXo"
      },
      "outputs": [],
      "source": [
        "french_data['genre_from_wikidata'].value_counts()"
      ],
      "id": "AvXseT3EzMXo"
    },
    {
      "cell_type": "code",
      "source": [
        "french_data[french_data['genre_from_wikidata'] == 'Q781470'][['name', 'title', 'subtitle', 'genre_from_wikidata']]"
      ],
      "metadata": {
        "id": "v3azgjudbsDj"
      },
      "id": "v3azgjudbsDj",
      "execution_count": null,
      "outputs": []
    },
    {
      "cell_type": "code",
      "execution_count": null,
      "metadata": {
        "id": "pCpx4KV-_rfn"
      },
      "outputs": [],
      "source": [
        "french_data['genre_from_wikidata'].unique()"
      ],
      "id": "pCpx4KV-_rfn"
    },
    {
      "cell_type": "code",
      "execution_count": null,
      "metadata": {
        "id": "NaDT_wYU_081"
      },
      "outputs": [],
      "source": [
        "french_data['normalized_genre']"
      ],
      "id": "NaDT_wYU_081"
    },
    {
      "cell_type": "code",
      "execution_count": null,
      "metadata": {
        "id": "W6aWhG2CzMXo"
      },
      "outputs": [],
      "source": [
        "french_data['wikidata descr'] = french_data['genre_from_wikidata'].apply(get_label_and_description_from_wikidata)"
      ],
      "id": "W6aWhG2CzMXo"
    },
    {
      "cell_type": "code",
      "execution_count": null,
      "metadata": {
        "id": "RCJcKwAFzMXo"
      },
      "outputs": [],
      "source": [
        "wikidata_slice = french_data[(french_data['genre_from_wikidata'].fillna('').str.contains('Q')) & \n",
        "            (french_data['libretto'] == False)]"
      ],
      "id": "RCJcKwAFzMXo"
    },
    {
      "cell_type": "code",
      "execution_count": null,
      "metadata": {
        "id": "YvTalxh88E4L"
      },
      "outputs": [],
      "source": [
        "wikidata_slice"
      ],
      "id": "YvTalxh88E4L"
    },
    {
      "cell_type": "code",
      "execution_count": null,
      "metadata": {
        "id": "MAlUHx86zMXo"
      },
      "outputs": [],
      "source": [
        "wikigenres = wikidata_slice['genre_from_wikidata'].unique()"
      ],
      "id": "MAlUHx86zMXo"
    },
    {
      "cell_type": "code",
      "execution_count": null,
      "metadata": {
        "id": "VhBXE8ae8BZP"
      },
      "outputs": [],
      "source": [
        "wikigenres"
      ],
      "id": "VhBXE8ae8BZP"
    },
    {
      "cell_type": "code",
      "execution_count": null,
      "metadata": {
        "id": "yqXUJx-PzMXo"
      },
      "outputs": [],
      "source": [
        "for genre in wikigenres:\n",
        "    label, descr = get_label_and_description_from_wikidata(genre)\n",
        "    print(genre, '\\t', label, '\\t', descr)"
      ],
      "id": "yqXUJx-PzMXo"
    },
    {
      "cell_type": "markdown",
      "metadata": {
        "id": "ake3oRsn-xvl"
      },
      "source": [
        "### Filling the normalized genre column"
      ],
      "id": "ake3oRsn-xvl"
    },
    {
      "cell_type": "markdown",
      "metadata": {
        "id": "d_ZNkpqfDRrH"
      },
      "source": [
        "#### 1. Uploading the manuallly created mapper table (from wikidata genres to generalized dracor normalised genres:"
      ],
      "id": "d_ZNkpqfDRrH"
    },
    {
      "cell_type": "code",
      "execution_count": null,
      "metadata": {
        "id": "5XsFLrPi_SAR"
      },
      "outputs": [],
      "source": [
        "!wget https://raw.githubusercontent.com/DanilSko/opera/main/data/aux/wikidata_genres_mapping.csv"
      ],
      "id": "5XsFLrPi_SAR"
    },
    {
      "cell_type": "code",
      "execution_count": null,
      "metadata": {
        "id": "Ysuxjot8_URb"
      },
      "outputs": [],
      "source": [
        "wd_genre_mapping = pd.read_csv('wikidata_genres_mapping.csv')"
      ],
      "id": "Ysuxjot8_URb"
    },
    {
      "cell_type": "code",
      "execution_count": null,
      "metadata": {
        "id": "9FxzSCIwAIYZ"
      },
      "outputs": [],
      "source": [
        "wd_genre_mapping.columns"
      ],
      "id": "9FxzSCIwAIYZ"
    },
    {
      "cell_type": "code",
      "execution_count": null,
      "metadata": {
        "id": "ohOS1Zdq_d--"
      },
      "outputs": [],
      "source": [
        "norm_genres = wd_genre_mapping[\"Normalized genre\"]"
      ],
      "id": "ohOS1Zdq_d--"
    },
    {
      "cell_type": "code",
      "execution_count": null,
      "metadata": {
        "id": "vx52i3hHByTY"
      },
      "outputs": [],
      "source": [
        "wd_genre_mapping[\"Wikidata ID\"] = wd_genre_mapping[\"Wikidata ID\"].str.strip()"
      ],
      "id": "vx52i3hHByTY"
    },
    {
      "cell_type": "code",
      "execution_count": null,
      "metadata": {
        "id": "ZpHLu1A1_mh6"
      },
      "outputs": [],
      "source": [
        "wd_genre_ids = wd_genre_mapping[\"Wikidata ID\"]"
      ],
      "id": "ZpHLu1A1_mh6"
    },
    {
      "cell_type": "code",
      "execution_count": null,
      "metadata": {
        "id": "BYjrV9YpAS0J"
      },
      "outputs": [],
      "source": [
        "genre_mapper = dict(zip(wd_genre_ids, norm_genres))"
      ],
      "id": "BYjrV9YpAS0J"
    },
    {
      "cell_type": "code",
      "execution_count": null,
      "metadata": {
        "id": "0UmB9L0eAaLQ"
      },
      "outputs": [],
      "source": [
        "genre_mapper"
      ],
      "id": "0UmB9L0eAaLQ"
    },
    {
      "cell_type": "code",
      "execution_count": null,
      "metadata": {
        "id": "5Z0Dz8sAAsv2"
      },
      "outputs": [],
      "source": [
        "def get_normalized_genre_for_wd(wiki_genre_id):\n",
        "    if wiki_genre_id in genre_mapper:\n",
        "        return genre_mapper[wiki_genre_id]\n",
        "    return None"
      ],
      "id": "5Z0Dz8sAAsv2"
    },
    {
      "cell_type": "markdown",
      "metadata": {
        "id": "YKTwX961DL9e"
      },
      "source": [
        "#### 2. Mapping the French ones:"
      ],
      "id": "YKTwX961DL9e"
    },
    {
      "cell_type": "code",
      "execution_count": null,
      "metadata": {
        "id": "8cWQ38gqBiqD"
      },
      "outputs": [],
      "source": [
        "french_data['genre_from_wikidata'].unique()"
      ],
      "id": "8cWQ38gqBiqD"
    },
    {
      "cell_type": "code",
      "execution_count": null,
      "metadata": {
        "id": "4ebW_35aBKbo"
      },
      "outputs": [],
      "source": [
        "french_data['normalized_genre_from_wd'] = french_data['genre_from_wikidata'].apply(get_normalized_genre_for_wd)"
      ],
      "id": "4ebW_35aBKbo"
    },
    {
      "cell_type": "code",
      "execution_count": null,
      "metadata": {
        "id": "uBRMX55oBdV8"
      },
      "outputs": [],
      "source": [
        "french_data['normalized_genre_from_wd'].unique()"
      ],
      "id": "uBRMX55oBdV8"
    },
    {
      "cell_type": "code",
      "execution_count": null,
      "metadata": {
        "id": "kTbZLDa5CF3D"
      },
      "outputs": [],
      "source": [
        "french_data.shape"
      ],
      "id": "kTbZLDa5CF3D"
    },
    {
      "cell_type": "code",
      "execution_count": null,
      "metadata": {
        "id": "BnzxgIl9B7M_"
      },
      "outputs": [],
      "source": [
        "french_data['normalized_genre'].value_counts()"
      ],
      "id": "BnzxgIl9B7M_"
    },
    {
      "cell_type": "code",
      "execution_count": null,
      "metadata": {
        "id": "n_PjSI-TAQhR"
      },
      "outputs": [],
      "source": [
        "french_data['normalized_genre'] = french_data['normalized_genre'].fillna(french_data['normalized_genre_from_wd'])"
      ],
      "id": "n_PjSI-TAQhR"
    },
    {
      "cell_type": "code",
      "execution_count": null,
      "metadata": {
        "id": "lQebNyvJCTpY"
      },
      "outputs": [],
      "source": [
        "french_data['normalized_genre'].value_counts()"
      ],
      "id": "lQebNyvJCTpY"
    },
    {
      "cell_type": "markdown",
      "metadata": {
        "id": "JB3fB-wdDJR2"
      },
      "source": [
        "#### 3. Mapping the German ones:\n"
      ],
      "id": "JB3fB-wdDJR2"
    },
    {
      "cell_type": "code",
      "source": [],
      "metadata": {
        "id": "tPGm81S_aWlR"
      },
      "id": "tPGm81S_aWlR",
      "execution_count": null,
      "outputs": []
    },
    {
      "cell_type": "code",
      "execution_count": null,
      "metadata": {
        "id": "fjVjQz5GDgS3"
      },
      "outputs": [],
      "source": [
        "german_data['normalized_genre_from_wd'] = german_data['genre_from_wikidata'].apply(get_normalized_genre_for_wd)"
      ],
      "id": "fjVjQz5GDgS3"
    },
    {
      "cell_type": "code",
      "execution_count": null,
      "metadata": {
        "id": "SjkSqcFEDkYo"
      },
      "outputs": [],
      "source": [
        "german_data['normalized_genre_from_wd'].unique()"
      ],
      "id": "SjkSqcFEDkYo"
    },
    {
      "cell_type": "code",
      "source": [
        "german_data[german_data['normalized_genre_from_wd'] == 'Libretto (attributed)'][['name', 'genre_from_wikidata']]"
      ],
      "metadata": {
        "id": "IgHFw2HvZ15T"
      },
      "id": "IgHFw2HvZ15T",
      "execution_count": null,
      "outputs": []
    },
    {
      "cell_type": "code",
      "source": [
        "german_data[~(german_data['genre_from_wikidata'].isna()) & \n",
        "            (german_data['genre_from_wikidata'] != 'No genre on wikidata') &\n",
        "            (german_data['normalized_genre'].isna())][['first_author', \n",
        "                                                       'title', \n",
        "                                                       'normalized_genre', \n",
        "                                                       'genre_from_wikidata',\n",
        "                                                       'normalized_genre_from_wd']]"
      ],
      "metadata": {
        "id": "qzXssXt37mC-"
      },
      "id": "qzXssXt37mC-",
      "execution_count": null,
      "outputs": []
    },
    {
      "cell_type": "code",
      "execution_count": null,
      "metadata": {
        "id": "bgEwuR_NDol2"
      },
      "outputs": [],
      "source": [
        "german_data['normalized_genre'].value_counts()"
      ],
      "id": "bgEwuR_NDol2"
    },
    {
      "cell_type": "code",
      "execution_count": null,
      "metadata": {
        "id": "Fb4jdAHuDv0a"
      },
      "outputs": [],
      "source": [
        "german_data['normalized_genre'] = german_data['normalized_genre'].fillna(german_data['normalized_genre_from_wd'])"
      ],
      "id": "Fb4jdAHuDv0a"
    },
    {
      "cell_type": "code",
      "execution_count": null,
      "metadata": {
        "id": "QvY13jOJDz4W"
      },
      "outputs": [],
      "source": [
        "german_data['normalized_genre'].value_counts()"
      ],
      "id": "QvY13jOJDz4W"
    },
    {
      "cell_type": "code",
      "source": [
        "german_data[german_data['normalized_genre'] == 'Libretto (attributed)']"
      ],
      "metadata": {
        "id": "xTDBZzALZI43"
      },
      "id": "xTDBZzALZI43",
      "execution_count": null,
      "outputs": []
    },
    {
      "cell_type": "markdown",
      "metadata": {
        "id": "c7cLX_8uFhDt"
      },
      "source": [
        "### Adding libretti information marked by Luca"
      ],
      "id": "c7cLX_8uFhDt"
    },
    {
      "cell_type": "code",
      "execution_count": null,
      "metadata": {
        "id": "3qKiu8qxbobA"
      },
      "outputs": [],
      "source": [
        "libretti_ids = corpus_libretti_curated['id']"
      ],
      "id": "3qKiu8qxbobA"
    },
    {
      "cell_type": "code",
      "execution_count": null,
      "metadata": {
        "id": "PN2r_C_jFvlc"
      },
      "outputs": [],
      "source": [
        "libretti_ids"
      ],
      "id": "PN2r_C_jFvlc"
    },
    {
      "cell_type": "code",
      "execution_count": null,
      "metadata": {
        "id": "ABiDNcyvcYij"
      },
      "outputs": [],
      "source": [
        "#metadata_df['is_ger'] = metadata_df['id'].str.contains('ger')"
      ],
      "id": "ABiDNcyvcYij"
    },
    {
      "cell_type": "code",
      "execution_count": null,
      "metadata": {
        "id": "czOrlrSKcP5I"
      },
      "outputs": [],
      "source": [
        "#metadata_df[metadata_df['is_ger']].shape[0]"
      ],
      "id": "czOrlrSKcP5I"
    },
    {
      "cell_type": "code",
      "execution_count": null,
      "metadata": {
        "id": "9XssE_Ncbzax"
      },
      "outputs": [],
      "source": [
        "german_data['is_real_libretto'] = german_data['id'].isin(libretti_ids)"
      ],
      "id": "9XssE_Ncbzax"
    },
    {
      "cell_type": "code",
      "execution_count": null,
      "metadata": {
        "id": "R0RB1jSyFpRR"
      },
      "outputs": [],
      "source": [
        "french_data['is_real_libretto'] = french_data['id'].isin(libretti_ids)"
      ],
      "id": "R0RB1jSyFpRR"
    },
    {
      "cell_type": "code",
      "execution_count": null,
      "metadata": {
        "id": "8R64u0kBcKX1"
      },
      "outputs": [],
      "source": [
        "# how many libretti are there in the german part?\n",
        "german_data['is_real_libretto'].sum()"
      ],
      "id": "8R64u0kBcKX1"
    },
    {
      "cell_type": "code",
      "execution_count": null,
      "metadata": {
        "id": "e1QsQOzxF0bV"
      },
      "outputs": [],
      "source": [
        "# how many libretti are there in the french part?\n",
        "french_data['is_real_libretto'].sum()"
      ],
      "id": "e1QsQOzxF0bV"
    },
    {
      "cell_type": "markdown",
      "source": [
        "Adding to 'is_real_libretto' the ones we got from wikidata"
      ],
      "metadata": {
        "id": "77GnTYVWf641"
      },
      "id": "77GnTYVWf641"
    },
    {
      "cell_type": "code",
      "source": [
        "indices = german_data[german_data['normalized_genre'] == 'Libretto (attributed)'].index"
      ],
      "metadata": {
        "id": "TeYRmATYgb07"
      },
      "id": "TeYRmATYgb07",
      "execution_count": null,
      "outputs": []
    },
    {
      "cell_type": "code",
      "source": [
        "indices"
      ],
      "metadata": {
        "id": "lzJhrHErgud9"
      },
      "id": "lzJhrHErgud9",
      "execution_count": null,
      "outputs": []
    },
    {
      "cell_type": "code",
      "source": [
        "german_data.loc[indices,:]"
      ],
      "metadata": {
        "id": "8CNAaDEehB6m"
      },
      "id": "8CNAaDEehB6m",
      "execution_count": null,
      "outputs": []
    },
    {
      "cell_type": "code",
      "source": [
        "german_data.loc[indices,'is_real_libretto'] = True"
      ],
      "metadata": {
        "id": "Xjxm8t3WgsRW"
      },
      "id": "Xjxm8t3WgsRW",
      "execution_count": null,
      "outputs": []
    },
    {
      "cell_type": "code",
      "source": [
        "german_data['is_real_libretto'].sum()"
      ],
      "metadata": {
        "id": "PL0aCt3HiSob"
      },
      "id": "PL0aCt3HiSob",
      "execution_count": null,
      "outputs": []
    },
    {
      "cell_type": "markdown",
      "source": [
        "same with the french"
      ],
      "metadata": {
        "id": "pOw1kUB4iUYu"
      },
      "id": "pOw1kUB4iUYu"
    },
    {
      "cell_type": "code",
      "source": [
        "indices = french_data[french_data['normalized_genre'] == 'Libretto (attributed)'].index"
      ],
      "metadata": {
        "id": "mSmE21rniYw5"
      },
      "id": "mSmE21rniYw5",
      "execution_count": null,
      "outputs": []
    },
    {
      "cell_type": "code",
      "source": [
        "indices"
      ],
      "metadata": {
        "id": "eLNUhIpuig6e"
      },
      "id": "eLNUhIpuig6e",
      "execution_count": null,
      "outputs": []
    },
    {
      "cell_type": "code",
      "source": [
        "french_data.loc[indices,:]"
      ],
      "metadata": {
        "id": "XlSayj0Cimli"
      },
      "id": "XlSayj0Cimli",
      "execution_count": null,
      "outputs": []
    },
    {
      "cell_type": "code",
      "source": [
        "french_data.loc[indices,'is_real_libretto'] = True"
      ],
      "metadata": {
        "id": "MIjv_8z3iyDR"
      },
      "id": "MIjv_8z3iyDR",
      "execution_count": null,
      "outputs": []
    },
    {
      "cell_type": "code",
      "source": [
        "# how many libretti are there in the french part?\n",
        "french_data['is_real_libretto'].sum()"
      ],
      "metadata": {
        "id": "VQyFoZvwi59L"
      },
      "id": "VQyFoZvwi59L",
      "execution_count": null,
      "outputs": []
    },
    {
      "cell_type": "markdown",
      "metadata": {
        "id": "B7c8c6tuGB0a"
      },
      "source": [
        "### making a single column with 'Libretto or Genre' in it"
      ],
      "id": "B7c8c6tuGB0a"
    },
    {
      "cell_type": "markdown",
      "metadata": {
        "id": "qCotcfnDGiyc"
      },
      "source": [
        "#### 1. German:"
      ],
      "id": "qCotcfnDGiyc"
    },
    {
      "cell_type": "code",
      "execution_count": null,
      "metadata": {
        "id": "cXCxPXQhedm6"
      },
      "outputs": [],
      "source": [
        "german_data['libretto_or_genre'] = german_data.apply(lambda x: \n",
        "                                                     x['normalized_genre'] \n",
        "                                                     if x['is_real_libretto'] == False \n",
        "                                                     else 'Libretto', axis=1)"
      ],
      "id": "cXCxPXQhedm6"
    },
    {
      "cell_type": "code",
      "execution_count": null,
      "metadata": {
        "id": "INdYgn68fdop"
      },
      "outputs": [],
      "source": [
        "german_data['libretto_or_genre'].value_counts()"
      ],
      "id": "INdYgn68fdop"
    },
    {
      "cell_type": "code",
      "execution_count": null,
      "metadata": {
        "id": "87is0bPMhRq8"
      },
      "outputs": [],
      "source": [
        "german_data['libretto_or_genre'] = german_data['libretto_or_genre'].fillna('Other')"
      ],
      "id": "87is0bPMhRq8"
    },
    {
      "cell_type": "code",
      "execution_count": null,
      "metadata": {
        "id": "m-15odSwhLPi"
      },
      "outputs": [],
      "source": [
        "german_data['libretto_or_genre'].value_counts()"
      ],
      "id": "m-15odSwhLPi"
    },
    {
      "cell_type": "code",
      "execution_count": null,
      "metadata": {
        "id": "q2qanPq4Jcs5"
      },
      "outputs": [],
      "source": [
        "german_data['libretto_or_genre'].value_counts().plot.bar()"
      ],
      "id": "q2qanPq4Jcs5"
    },
    {
      "cell_type": "code",
      "source": [
        "german_data['libretto_or_genre'] = german_data['libretto_or_genre'].replace('Libretto (attributed)', \n",
        "                                                                                                          'Libretto')"
      ],
      "metadata": {
        "id": "NwPIztiSiwnK"
      },
      "id": "NwPIztiSiwnK",
      "execution_count": null,
      "outputs": []
    },
    {
      "cell_type": "markdown",
      "metadata": {
        "id": "4o_XlwnLGoAc"
      },
      "source": [
        "#### 2. French:"
      ],
      "id": "4o_XlwnLGoAc"
    },
    {
      "cell_type": "code",
      "execution_count": null,
      "metadata": {
        "id": "ZP7DtB_iGrjy"
      },
      "outputs": [],
      "source": [
        "french_data['libretto_or_genre'] = french_data.apply(lambda x: \n",
        "                                                     x['normalized_genre'] \n",
        "                                                     if x['is_real_libretto'] == False \n",
        "                                                     else 'Libretto', axis=1)"
      ],
      "id": "ZP7DtB_iGrjy"
    },
    {
      "cell_type": "code",
      "execution_count": null,
      "metadata": {
        "id": "SuoEngZBGrjz"
      },
      "outputs": [],
      "source": [
        "french_data['libretto_or_genre'].value_counts()"
      ],
      "id": "SuoEngZBGrjz"
    },
    {
      "cell_type": "code",
      "execution_count": null,
      "metadata": {
        "id": "TgWEJg_3Grjz"
      },
      "outputs": [],
      "source": [
        "french_data['libretto_or_genre'] = french_data['libretto_or_genre'].fillna('Other')"
      ],
      "id": "TgWEJg_3Grjz"
    },
    {
      "cell_type": "code",
      "execution_count": null,
      "metadata": {
        "id": "f1ezI3OEGrjz"
      },
      "outputs": [],
      "source": [
        "french_data['libretto_or_genre'].value_counts()"
      ],
      "id": "f1ezI3OEGrjz"
    },
    {
      "cell_type": "code",
      "execution_count": null,
      "metadata": {
        "id": "7yH93q43JniV"
      },
      "outputs": [],
      "source": [
        "french_data['libretto_or_genre'].value_counts().plot.bar()"
      ],
      "id": "7yH93q43JniV"
    },
    {
      "cell_type": "code",
      "source": [],
      "metadata": {
        "id": "qrPuLi0_swtf"
      },
      "id": "qrPuLi0_swtf",
      "execution_count": null,
      "outputs": []
    },
    {
      "cell_type": "markdown",
      "metadata": {
        "id": "Py0cEeBJyloU"
      },
      "source": [
        "### Libretti apartheid: separating libretti Luca marked himself from the 'authority' dracor&wikidata libretti"
      ],
      "id": "Py0cEeBJyloU"
    },
    {
      "cell_type": "markdown",
      "metadata": {
        "id": "HI__OL2TIBrR"
      },
      "source": [
        "#### German"
      ],
      "id": "HI__OL2TIBrR"
    },
    {
      "cell_type": "code",
      "execution_count": null,
      "metadata": {
        "id": "f8F4fvDlyo45"
      },
      "outputs": [],
      "source": [
        "german_data['genre_with_putative_libretto'] = german_data.apply(lambda x: 'Libretto (attributed)' if \n",
        "                  x['is_real_libretto'] is True and x['libretto'] is False\n",
        "                  else x['libretto_or_genre'], axis=1)"
      ],
      "id": "f8F4fvDlyo45"
    },
    {
      "cell_type": "code",
      "execution_count": null,
      "metadata": {
        "id": "2XbIMRy31uhC"
      },
      "outputs": [],
      "source": [
        "german_data['genre_with_putative_libretto'].value_counts()"
      ],
      "id": "2XbIMRy31uhC"
    },
    {
      "cell_type": "code",
      "execution_count": null,
      "metadata": {
        "id": "QZR6JJB12IfE"
      },
      "outputs": [],
      "source": [
        "german_data['genre_with_putative_libretto'] = german_data['genre_with_putative_libretto'].replace('Libretto', 'Libretto (DraCor)')"
      ],
      "id": "QZR6JJB12IfE"
    },
    {
      "cell_type": "code",
      "execution_count": null,
      "metadata": {
        "id": "YxGrTzQu2aGN"
      },
      "outputs": [],
      "source": [
        "german_data['genre_with_putative_libretto'].value_counts()"
      ],
      "id": "YxGrTzQu2aGN"
    },
    {
      "cell_type": "code",
      "execution_count": null,
      "metadata": {
        "id": "7LLy78EOJKFV"
      },
      "outputs": [],
      "source": [
        "x = german_data[german_data['genre_with_putative_libretto'] !='Other'].shape[0]\n",
        "y = german_data.shape[0]"
      ],
      "id": "7LLy78EOJKFV"
    },
    {
      "cell_type": "code",
      "source": [],
      "metadata": {
        "id": "0Nz6HvZBjU5k"
      },
      "id": "0Nz6HvZBjU5k",
      "execution_count": null,
      "outputs": []
    },
    {
      "cell_type": "code",
      "execution_count": null,
      "metadata": {
        "id": "Vs1kEl7KJXxE"
      },
      "outputs": [],
      "source": [
        "x/y"
      ],
      "id": "Vs1kEl7KJXxE"
    },
    {
      "cell_type": "markdown",
      "metadata": {
        "id": "SJuJ4J9kJhgl"
      },
      "source": [
        "### French"
      ],
      "id": "SJuJ4J9kJhgl"
    },
    {
      "cell_type": "code",
      "execution_count": null,
      "metadata": {
        "id": "3Q8pjjqHJfhH"
      },
      "outputs": [],
      "source": [
        "french_data['genre_with_putative_libretto'] = french_data.apply(lambda x: 'Libretto (attributed)' if \n",
        "                  x['is_real_libretto'] is True and x['libretto'] is False\n",
        "                  else x['libretto_or_genre'], axis=1)"
      ],
      "id": "3Q8pjjqHJfhH"
    },
    {
      "cell_type": "code",
      "execution_count": null,
      "metadata": {
        "id": "nmEXEqgHJfhH"
      },
      "outputs": [],
      "source": [
        "french_data['genre_with_putative_libretto'].value_counts()"
      ],
      "id": "nmEXEqgHJfhH"
    },
    {
      "cell_type": "code",
      "execution_count": null,
      "metadata": {
        "id": "A_ZnOgk4JfhH"
      },
      "outputs": [],
      "source": [
        "french_data['genre_with_putative_libretto'] = french_data['genre_with_putative_libretto'].replace('Libretto', 'Libretto (DraCor)')"
      ],
      "id": "A_ZnOgk4JfhH"
    },
    {
      "cell_type": "code",
      "execution_count": null,
      "metadata": {
        "id": "8haNFy_rJfhI"
      },
      "outputs": [],
      "source": [
        "french_data['genre_with_putative_libretto'].value_counts()"
      ],
      "id": "8haNFy_rJfhI"
    },
    {
      "cell_type": "code",
      "execution_count": null,
      "metadata": {
        "id": "QA0UyHW1JfhI"
      },
      "outputs": [],
      "source": [
        "french_data[french_data['genre_with_putative_libretto'] !='Other'].shape"
      ],
      "id": "QA0UyHW1JfhI"
    },
    {
      "cell_type": "code",
      "execution_count": null,
      "metadata": {
        "id": "Y7T2NnjBJfhI"
      },
      "outputs": [],
      "source": [
        "1178/1560"
      ],
      "id": "Y7T2NnjBJfhI"
    },
    {
      "cell_type": "markdown",
      "metadata": {
        "id": "wWbXhmo3NBwU"
      },
      "source": [
        "#### Adding colors according to genres"
      ],
      "id": "wWbXhmo3NBwU"
    },
    {
      "cell_type": "code",
      "execution_count": null,
      "metadata": {
        "id": "LS4vzjPV5EyH"
      },
      "outputs": [],
      "source": [
        "genres = list(german_data['genre_with_putative_libretto'].unique())"
      ],
      "id": "LS4vzjPV5EyH"
    },
    {
      "cell_type": "code",
      "execution_count": null,
      "metadata": {
        "id": "YWZIEo6g5EyH"
      },
      "outputs": [],
      "source": [
        "len(genres)"
      ],
      "id": "YWZIEo6g5EyH"
    },
    {
      "cell_type": "code",
      "execution_count": null,
      "metadata": {
        "id": "-yuaGuIO5KU9"
      },
      "outputs": [],
      "source": [
        "genres"
      ],
      "id": "-yuaGuIO5KU9"
    },
    {
      "cell_type": "code",
      "execution_count": null,
      "metadata": {
        "id": "PqGH46zn5EyH"
      },
      "outputs": [],
      "source": [
        "colors = ['white', 'green', 'blue', 'orange', 'yellow', 'red']"
      ],
      "id": "PqGH46zn5EyH"
    },
    {
      "cell_type": "code",
      "execution_count": null,
      "metadata": {
        "id": "owfwkmkc5EyI"
      },
      "outputs": [],
      "source": [
        "genre_color_mapping = zip(genres, colors)"
      ],
      "id": "owfwkmkc5EyI"
    },
    {
      "cell_type": "code",
      "execution_count": null,
      "metadata": {
        "id": "y4f39ocZ5EyI"
      },
      "outputs": [],
      "source": [
        "genre_color_mapping = dict(genre_color_mapping)"
      ],
      "id": "y4f39ocZ5EyI"
    },
    {
      "cell_type": "code",
      "execution_count": null,
      "metadata": {
        "id": "oipkt7ez5EyI"
      },
      "outputs": [],
      "source": [
        "genre_color_mapping"
      ],
      "id": "oipkt7ez5EyI"
    },
    {
      "cell_type": "code",
      "execution_count": null,
      "metadata": {
        "id": "hCTnlfBv7mKR"
      },
      "outputs": [],
      "source": [
        "german_data['color'] = german_data['genre_with_putative_libretto'].apply(lambda x: \n",
        "                                                              genre_color_mapping[x])"
      ],
      "id": "hCTnlfBv7mKR"
    },
    {
      "cell_type": "code",
      "execution_count": null,
      "metadata": {
        "id": "KTBlNwcbrBfi"
      },
      "outputs": [],
      "source": [
        "french_data['color'] = french_data['genre_with_putative_libretto'].apply(lambda x: \n",
        "                                                              genre_color_mapping[x])"
      ],
      "id": "KTBlNwcbrBfi"
    },
    {
      "cell_type": "code",
      "execution_count": null,
      "metadata": {
        "id": "MivUq896l-AW"
      },
      "outputs": [],
      "source": [
        "#german_data.loc[:, features].min()"
      ],
      "id": "MivUq896l-AW"
    },
    {
      "cell_type": "code",
      "execution_count": null,
      "metadata": {
        "id": "23GV1URXlX-v"
      },
      "outputs": [],
      "source": [
        "#german_data.loc[:, features].apply(np.log)"
      ],
      "id": "23GV1URXlX-v"
    },
    {
      "cell_type": "code",
      "execution_count": null,
      "metadata": {
        "id": "ODX5sojxyjgd"
      },
      "outputs": [],
      "source": [
        "#def remove_outliers(pca_loadings):\n",
        "\n"
      ],
      "id": "ODX5sojxyjgd"
    },
    {
      "cell_type": "markdown",
      "metadata": {
        "id": "Iu3ZjKESkyyt"
      },
      "source": [
        "### Removing 'Other'"
      ],
      "id": "Iu3ZjKESkyyt"
    },
    {
      "cell_type": "code",
      "execution_count": null,
      "metadata": {
        "id": "MuhJgoDrkyIB"
      },
      "outputs": [],
      "source": [
        "filtered_german_data = german_data[german_data['libretto_or_genre'] != 'Other']\n",
        "filtered_french_data = french_data[french_data['libretto_or_genre'] != 'Other']"
      ],
      "id": "MuhJgoDrkyIB"
    },
    {
      "cell_type": "code",
      "execution_count": null,
      "metadata": {
        "id": "qUdp8yEIpm3z"
      },
      "outputs": [],
      "source": [
        "## removing 3 french plays with NaNs\n",
        "to_remove = filtered_french_data[(filtered_french_data['average_degree'].isna()) \n",
        "& (filtered_french_data['density'].isna())].index"
      ],
      "id": "qUdp8yEIpm3z"
    },
    {
      "cell_type": "code",
      "execution_count": null,
      "metadata": {
        "id": "9ss3jW8EqtpB"
      },
      "outputs": [],
      "source": [
        "filtered_french_data = filtered_french_data.drop(to_remove)"
      ],
      "id": "9ss3jW8EqtpB"
    },
    {
      "cell_type": "markdown",
      "source": [
        "### Shorter names for dfs"
      ],
      "metadata": {
        "id": "Rh1LPMjle1cS"
      },
      "id": "Rh1LPMjle1cS"
    },
    {
      "cell_type": "code",
      "source": [
        "gd = filtered_german_data"
      ],
      "metadata": {
        "id": "TGfDy0NyJQNU"
      },
      "id": "TGfDy0NyJQNU",
      "execution_count": null,
      "outputs": []
    },
    {
      "cell_type": "code",
      "source": [
        "fd = filtered_french_data"
      ],
      "metadata": {
        "id": "2QhGtAhKMsmv"
      },
      "id": "2QhGtAhKMsmv",
      "execution_count": null,
      "outputs": []
    },
    {
      "cell_type": "markdown",
      "source": [
        "### Analytics: how much more after enrichment"
      ],
      "metadata": {
        "id": "JySFTyx-t5eA"
      },
      "id": "JySFTyx-t5eA"
    },
    {
      "cell_type": "code",
      "source": [
        "gd['genre_with_putative_libretto'].value_counts()"
      ],
      "metadata": {
        "id": "aCVTrliTtvbc"
      },
      "id": "aCVTrliTtvbc",
      "execution_count": null,
      "outputs": []
    },
    {
      "cell_type": "code",
      "source": [
        "newly_added_sum = gd['genre_with_putative_libretto'].value_counts().loc['Libretto (attributed)']"
      ],
      "metadata": {
        "id": "iWJZtiBPucLm"
      },
      "id": "iWJZtiBPucLm",
      "execution_count": null,
      "outputs": []
    },
    {
      "cell_type": "code",
      "source": [],
      "metadata": {
        "id": "8TrTdu2ut4-A"
      },
      "id": "8TrTdu2ut4-A",
      "execution_count": null,
      "outputs": []
    },
    {
      "cell_type": "code",
      "source": [
        "datatoplot = gd['libretto_or_genre'].value_counts()\n",
        "\n",
        "ax = sns.barplot(x=datatoplot.index, y=datatoplot, palette=['darkblue', 'crimson', 'orange', 'green'])\n",
        "ax.set(title='German Libretto or Genre after Enrichment')\n",
        "\n",
        "for step, index in enumerate(datatoplot.index):\n",
        "    string = ''\n",
        "    if index == 'Libretto':\n",
        "        string = f' (+{newly_added_sum})'\n",
        "    ax.text(step, datatoplot.loc[index]+1, str(datatoplot.loc[index]) + string, color='black', ha='center')"
      ],
      "metadata": {
        "id": "Mh0cx9N4tIIy"
      },
      "id": "Mh0cx9N4tIIy",
      "execution_count": null,
      "outputs": []
    },
    {
      "cell_type": "code",
      "source": [
        "fd['genre_with_putative_libretto'].value_counts()"
      ],
      "metadata": {
        "id": "XpMKWthxvsSV"
      },
      "id": "XpMKWthxvsSV",
      "execution_count": null,
      "outputs": []
    },
    {
      "cell_type": "code",
      "source": [
        "newly_added_sum_fr = fd['genre_with_putative_libretto'].value_counts().loc['Libretto (attributed)']"
      ],
      "metadata": {
        "id": "5GrsNPd-vHrw"
      },
      "id": "5GrsNPd-vHrw",
      "execution_count": null,
      "outputs": []
    },
    {
      "cell_type": "code",
      "source": [
        "datatoplot = fd['libretto_or_genre'].value_counts()\n",
        "\n",
        "ax = sns.barplot(x=datatoplot.index, y=datatoplot, palette=['darkblue', 'crimson', 'orange', 'green'])\n",
        "ax.set(title='French Libretto or Genre after Enrichment')\n",
        "\n",
        "for step, index in enumerate(datatoplot.index):\n",
        "    string = ''\n",
        "    if index == 'Libretto':\n",
        "        string = f' (+{newly_added_sum_fr})'\n",
        "    ax.text(step, datatoplot.loc[index]+1, str(datatoplot.loc[index]) + string, color='black', ha='center')"
      ],
      "metadata": {
        "id": "CHTxNEz0vFV-"
      },
      "id": "CHTxNEz0vFV-",
      "execution_count": null,
      "outputs": []
    },
    {
      "cell_type": "markdown",
      "source": [
        "### Distinguish comic and non-comic libretti"
      ],
      "metadata": {
        "id": "mjcHIxFVe8Ct"
      },
      "id": "mjcHIxFVe8Ct"
    },
    {
      "cell_type": "code",
      "source": [
        "gd['subtitle'] = gd['subtitle'].fillna('-')"
      ],
      "metadata": {
        "id": "bnSpab11JqpD"
      },
      "id": "bnSpab11JqpD",
      "execution_count": null,
      "outputs": []
    },
    {
      "cell_type": "code",
      "source": [
        "fd['subtitle'] = fd['subtitle'].fillna('-')"
      ],
      "metadata": {
        "id": "NT78WpHNMvsX"
      },
      "id": "NT78WpHNMvsX",
      "execution_count": null,
      "outputs": []
    },
    {
      "cell_type": "code",
      "source": [
        "gd[gd['subtitle'].str.contains('Oper')][['first_author', 'title', 'subtitle']]"
      ],
      "metadata": {
        "id": "8Wo5PoxAJSGd"
      },
      "id": "8Wo5PoxAJSGd",
      "execution_count": null,
      "outputs": []
    },
    {
      "cell_type": "code",
      "source": [
        "fd[fd['subtitle'].str.contains('Opéra')][['first_author', 'title', 'subtitle']]"
      ],
      "metadata": {
        "id": "WHFvGmn6Mzxn"
      },
      "id": "WHFvGmn6Mzxn",
      "execution_count": null,
      "outputs": []
    },
    {
      "cell_type": "code",
      "source": [
        "list(gd[gd['is_real_libretto']==True]['subtitle'])"
      ],
      "metadata": {
        "id": "PsgqEcyiPiQT"
      },
      "id": "PsgqEcyiPiQT",
      "execution_count": null,
      "outputs": []
    },
    {
      "cell_type": "code",
      "source": [
        "list(fd[fd['is_real_libretto']==True]['subtitle'])"
      ],
      "metadata": {
        "id": "trtaBQb4NiL5"
      },
      "id": "trtaBQb4NiL5",
      "execution_count": null,
      "outputs": []
    },
    {
      "cell_type": "code",
      "source": [
        "import re"
      ],
      "metadata": {
        "id": "HoEzCT9DTa_L"
      },
      "id": "HoEzCT9DTa_L",
      "execution_count": null,
      "outputs": []
    },
    {
      "cell_type": "code",
      "source": [
        "def mark_comic_opera(some_subtitle, lang='de'):\n",
        "    some_subtitle = some_subtitle.lower()\n",
        "    comic_regex_fr = re.compile('comique|operette|comédie|comedie|vaudevill|divertissement')\n",
        "    comic_regex_de = re.compile('komisch|operette|komödie|comedie|parodie|posse')\n",
        "    if lang=='de':\n",
        "        regex = comic_regex_de\n",
        "    else:\n",
        "        regex = comic_regex_fr\n",
        "    if re.search(regex, some_subtitle) is not None:\n",
        "        return 'Comic libretto'\n",
        "    else:\n",
        "        return 'Non-comic libretto'"
      ],
      "metadata": {
        "id": "IxnYSvblOkYl"
      },
      "id": "IxnYSvblOkYl",
      "execution_count": null,
      "outputs": []
    },
    {
      "cell_type": "code",
      "source": [
        "gd['libretto_subgenre'] = gd['subtitle'].apply(mark_comic_opera)"
      ],
      "metadata": {
        "id": "Lrw6OuKvTIgC"
      },
      "id": "Lrw6OuKvTIgC",
      "execution_count": null,
      "outputs": []
    },
    {
      "cell_type": "code",
      "source": [
        "gd[gd['is_real_libretto']==False]['libretto_subgenre'] = 'Not libretto'"
      ],
      "metadata": {
        "id": "g027I_meTevj"
      },
      "id": "g027I_meTevj",
      "execution_count": null,
      "outputs": []
    },
    {
      "cell_type": "code",
      "source": [
        "gd['libretto_subgenre']"
      ],
      "metadata": {
        "id": "re6YxN5kTe1f"
      },
      "id": "re6YxN5kTe1f",
      "execution_count": null,
      "outputs": []
    },
    {
      "cell_type": "code",
      "source": [
        "gd['genre_with_libretto_subgenres'] = gd.apply(lambda x: x['libretto_or_genre'] \n",
        "                                               if x['is_real_libretto'] == False\n",
        "                                               else x['libretto_subgenre'], \n",
        "                                               axis=1)"
      ],
      "metadata": {
        "id": "34lT5uJ7Sadx"
      },
      "id": "34lT5uJ7Sadx",
      "execution_count": null,
      "outputs": []
    },
    {
      "cell_type": "code",
      "source": [
        "gd['genre_with_libretto_subgenres'].value_counts()"
      ],
      "metadata": {
        "id": "YW_NlBlIV9PX"
      },
      "id": "YW_NlBlIV9PX",
      "execution_count": null,
      "outputs": []
    },
    {
      "cell_type": "code",
      "source": [
        "gd = gd[gd['genre_with_libretto_subgenres'] != 'Libretto']"
      ],
      "metadata": {
        "id": "wpozvzwBWTaq"
      },
      "id": "wpozvzwBWTaq",
      "execution_count": null,
      "outputs": []
    },
    {
      "cell_type": "code",
      "source": [
        "gd['genre_with_libretto_subgenres'].value_counts()"
      ],
      "metadata": {
        "id": "KaUvUuzifLmL"
      },
      "id": "KaUvUuzifLmL",
      "execution_count": null,
      "outputs": []
    },
    {
      "cell_type": "code",
      "source": [
        "fd['libretto_subgenre'] = fd['subtitle'].apply(mark_comic_opera, lang='fr')"
      ],
      "metadata": {
        "id": "tE0mHb4BgcYw"
      },
      "id": "tE0mHb4BgcYw",
      "execution_count": null,
      "outputs": []
    },
    {
      "cell_type": "code",
      "source": [
        "fd['genre_with_libretto_subgenres'] = fd.apply(lambda x: x['libretto_or_genre'] \n",
        "                                               if x['is_real_libretto'] == False\n",
        "                                               else x['libretto_subgenre'], \n",
        "                                               axis=1)"
      ],
      "metadata": {
        "id": "w5Bp7CtpgiwA"
      },
      "id": "w5Bp7CtpgiwA",
      "execution_count": null,
      "outputs": []
    },
    {
      "cell_type": "code",
      "source": [
        "fd['genre_with_libretto_subgenres'].value_counts()"
      ],
      "metadata": {
        "id": "cjY44fi2gmZo"
      },
      "id": "cjY44fi2gmZo",
      "execution_count": null,
      "outputs": []
    },
    {
      "cell_type": "markdown",
      "source": [
        "### Color 2 for libretti subgenre"
      ],
      "metadata": {
        "id": "GHZZRGgihV2p"
      },
      "id": "GHZZRGgihV2p"
    },
    {
      "cell_type": "code",
      "source": [
        "fd.columns"
      ],
      "metadata": {
        "id": "1nOKLbOghjIG"
      },
      "execution_count": null,
      "outputs": [],
      "id": "1nOKLbOghjIG"
    },
    {
      "cell_type": "code",
      "source": [
        "genres_with_subgenres = list(fd['genre_with_libretto_subgenres'].unique())"
      ],
      "metadata": {
        "id": "gYTxi9Afhb0G"
      },
      "execution_count": null,
      "outputs": [],
      "id": "gYTxi9Afhb0G"
    },
    {
      "cell_type": "code",
      "source": [
        "genres_with_subgenres"
      ],
      "metadata": {
        "id": "6R-6fVmVhqTv"
      },
      "execution_count": null,
      "outputs": [],
      "id": "6R-6fVmVhqTv"
    },
    {
      "cell_type": "code",
      "source": [
        "colors_sg = ['red', 'blue', 'orange', 'aquamarine', 'green']"
      ],
      "metadata": {
        "id": "re1BrwLOhruG"
      },
      "execution_count": null,
      "outputs": [],
      "id": "re1BrwLOhruG"
    },
    {
      "cell_type": "code",
      "source": [
        "genre_color_mapping_sg = dict(zip(genres_with_subgenres, colors_sg))"
      ],
      "metadata": {
        "id": "er2gJCwViAKd"
      },
      "execution_count": null,
      "outputs": [],
      "id": "er2gJCwViAKd"
    },
    {
      "cell_type": "code",
      "source": [
        "genre_color_mapping_sg"
      ],
      "metadata": {
        "id": "2kUIo1UOiXfc"
      },
      "execution_count": null,
      "outputs": [],
      "id": "2kUIo1UOiXfc"
    },
    {
      "cell_type": "code",
      "source": [
        "fd['color_subgenres'] = fd['genre_with_libretto_subgenres'].apply(lambda x: \n",
        "                                                              genre_color_mapping_sg[x])"
      ],
      "metadata": {
        "id": "izx_WMbfiIgQ"
      },
      "execution_count": null,
      "outputs": [],
      "id": "izx_WMbfiIgQ"
    },
    {
      "cell_type": "code",
      "source": [
        "gd['color_subgenres'] = gd['genre_with_libretto_subgenres'].apply(lambda x: \n",
        "                                                              genre_color_mapping_sg[x])"
      ],
      "metadata": {
        "id": "H0Xvwc7tidKr"
      },
      "execution_count": null,
      "outputs": [],
      "id": "H0Xvwc7tidKr"
    },
    {
      "cell_type": "markdown",
      "metadata": {
        "id": "O_Qtm0SOMTaX"
      },
      "source": [
        "### Checking timeframes"
      ],
      "id": "O_Qtm0SOMTaX"
    },
    {
      "cell_type": "markdown",
      "metadata": {
        "id": "rqHWwFewMXgg"
      },
      "source": [
        "#### German"
      ],
      "id": "rqHWwFewMXgg"
    },
    {
      "cell_type": "code",
      "execution_count": null,
      "metadata": {
        "id": "yGP6jpLnMWyv"
      },
      "outputs": [],
      "source": [
        "gd[gd['genre_with_putative_libretto'].str.contains('Libretto')]['year_normalized'].describe()"
      ],
      "id": "yGP6jpLnMWyv"
    },
    {
      "cell_type": "code",
      "execution_count": null,
      "metadata": {
        "id": "O5JYQ2ISM-d5"
      },
      "outputs": [],
      "source": [
        "gd[(gd['genre_with_putative_libretto'].str.contains(\n",
        "    'Libretto')) & (gd['year_normalized'] == 1770)] "
      ],
      "id": "O5JYQ2ISM-d5"
    },
    {
      "cell_type": "code",
      "execution_count": null,
      "metadata": {
        "id": "QX5Tcq3UOB7f"
      },
      "outputs": [],
      "source": [
        "gd[(gd['genre_with_putative_libretto'].str.contains(\n",
        "    'Libretto')) & (gd['year_normalized'] == 1920)] "
      ],
      "id": "QX5Tcq3UOB7f"
    },
    {
      "cell_type": "markdown",
      "metadata": {
        "id": "iv1e7VHZOOdn"
      },
      "source": [
        "#### French"
      ],
      "id": "iv1e7VHZOOdn"
    },
    {
      "cell_type": "code",
      "execution_count": null,
      "metadata": {
        "id": "Os_tR6CXOL2r"
      },
      "outputs": [],
      "source": [
        "fd[fd['genre_with_putative_libretto'].str.contains('Libretto')]['year_normalized'].describe()"
      ],
      "id": "Os_tR6CXOL2r"
    },
    {
      "cell_type": "code",
      "execution_count": null,
      "metadata": {
        "id": "PqCZ5SCNPgZK"
      },
      "outputs": [],
      "source": [
        "libretto_years = fd[fd['genre_with_putative_libretto'].str.contains('Libretto')]['year_normalized']"
      ],
      "id": "PqCZ5SCNPgZK"
    },
    {
      "cell_type": "code",
      "execution_count": null,
      "metadata": {
        "id": "B6HgACjRPoBr"
      },
      "outputs": [],
      "source": [
        "libretto_years.max() - libretto_years.min() "
      ],
      "id": "B6HgACjRPoBr"
    },
    {
      "cell_type": "code",
      "execution_count": null,
      "metadata": {
        "id": "AAH7LCgOOL2s"
      },
      "outputs": [],
      "source": [
        "fd[(fd['genre_with_putative_libretto'].str.contains(\n",
        "    'Libretto')) & (fd['year_normalized'] == 1626)] "
      ],
      "id": "AAH7LCgOOL2s"
    },
    {
      "cell_type": "code",
      "execution_count": null,
      "metadata": {
        "id": "yvfV-7kJOL2s"
      },
      "outputs": [],
      "source": [
        "fd[(fd['genre_with_putative_libretto'].str.contains(\n",
        "    'Libretto')) & (fd['year_normalized'] == 1889)] "
      ],
      "id": "yvfV-7kJOL2s"
    },
    {
      "cell_type": "code",
      "execution_count": null,
      "metadata": {
        "id": "TTN0nRmoP2vI"
      },
      "outputs": [],
      "source": [
        "libretto_years.hist(bins=30)"
      ],
      "id": "TTN0nRmoP2vI"
    },
    {
      "cell_type": "code",
      "execution_count": null,
      "metadata": {
        "id": "IBboBvAuQWWx"
      },
      "outputs": [],
      "source": [
        "libretto_years.sort_values().to_csv('year_to_see.txt', index=False)"
      ],
      "id": "IBboBvAuQWWx"
    },
    {
      "cell_type": "markdown",
      "metadata": {
        "id": "E94nsHVEt0Ym"
      },
      "source": [
        "## Creating time slices"
      ],
      "id": "E94nsHVEt0Ym"
    },
    {
      "cell_type": "markdown",
      "metadata": {
        "id": "zO5Bio-1S_Av"
      },
      "source": [
        "#### 1770 - 1819"
      ],
      "id": "zO5Bio-1S_Av"
    },
    {
      "cell_type": "code",
      "execution_count": null,
      "metadata": {
        "id": "cENJaZ7RTFLS"
      },
      "outputs": [],
      "source": [
        "german_data_1770_1819 = gd[(gd['year_normalized'] >= 1770) & \n",
        "                                      (gd['year_normalized'] <= 1819)]"
      ],
      "id": "cENJaZ7RTFLS"
    },
    {
      "cell_type": "code",
      "execution_count": null,
      "metadata": {
        "id": "miDThPM6TY1p"
      },
      "outputs": [],
      "source": [
        "german_data_1770_1819['libretto'].value_counts()"
      ],
      "id": "miDThPM6TY1p"
    },
    {
      "cell_type": "code",
      "execution_count": null,
      "metadata": {
        "id": "OIWmnmBbTinc"
      },
      "outputs": [],
      "source": [
        "german_data_1770_1819['genre_with_putative_libretto'].str.contains('Libretto').sum()"
      ],
      "id": "OIWmnmBbTinc"
    },
    {
      "cell_type": "code",
      "execution_count": null,
      "metadata": {
        "id": "fHh1oY32UjkU"
      },
      "outputs": [],
      "source": [
        "german_data_1770_1819['genre_with_putative_libretto'].value_counts()"
      ],
      "id": "fHh1oY32UjkU"
    },
    {
      "cell_type": "markdown",
      "metadata": {
        "id": "V8YUmgR3VHwl"
      },
      "source": [
        "#### 1820 - 1869"
      ],
      "id": "V8YUmgR3VHwl"
    },
    {
      "cell_type": "code",
      "execution_count": null,
      "metadata": {
        "id": "WKak5lI2VHUo"
      },
      "outputs": [],
      "source": [
        "german_data_1820_1869 = gd[(gd['year_normalized'] >= 1820) & \n",
        "                                      (gd['year_normalized'] <= 1869)]"
      ],
      "id": "WKak5lI2VHUo"
    },
    {
      "cell_type": "code",
      "execution_count": null,
      "metadata": {
        "id": "A1e52oJTVSUq"
      },
      "outputs": [],
      "source": [
        "german_data_1820_1869['genre_with_putative_libretto'].str.contains('Libretto').sum()"
      ],
      "id": "A1e52oJTVSUq"
    },
    {
      "cell_type": "markdown",
      "metadata": {
        "id": "D5HgIZHCVoXq"
      },
      "source": [
        "#### 1870 - 1920"
      ],
      "id": "D5HgIZHCVoXq"
    },
    {
      "cell_type": "code",
      "execution_count": null,
      "metadata": {
        "id": "wlGzOAGMVoXq"
      },
      "outputs": [],
      "source": [
        "german_data_1870_1920 = gd[(gd['year_normalized'] >= 1870) & \n",
        "                                      (gd['year_normalized'] <= 1920)]"
      ],
      "id": "wlGzOAGMVoXq"
    },
    {
      "cell_type": "code",
      "execution_count": null,
      "metadata": {
        "id": "EdAbpQmCVoXr"
      },
      "outputs": [],
      "source": [
        "german_data_1870_1920['genre_with_putative_libretto'].str.contains('Libretto').sum()"
      ],
      "id": "EdAbpQmCVoXr"
    },
    {
      "cell_type": "code",
      "source": [
        "german_data_1870_1920.columns"
      ],
      "metadata": {
        "id": "yWvRaXye4NH-"
      },
      "id": "yWvRaXye4NH-",
      "execution_count": null,
      "outputs": []
    },
    {
      "cell_type": "code",
      "source": [
        "german_data_1870_1920[german_data_1870_1920[\"genre_with_libretto_subgenres\"] == 'Non-comic libretto'][['first_author','title', 'word_count_sp']].sort_values('word_count_sp')"
      ],
      "metadata": {
        "id": "a2GfW_dD3-88"
      },
      "id": "a2GfW_dD3-88",
      "execution_count": null,
      "outputs": []
    },
    {
      "cell_type": "code",
      "execution_count": null,
      "metadata": {
        "id": "xeJHxM0OV7_P"
      },
      "outputs": [],
      "source": [
        "def slice_and_get_proportion(data, startyear, endyear):\n",
        "    data = data[(data['year_normalized'] >= startyear) & \n",
        "                                      (data['year_normalized'] <= endyear)]\n",
        "    no_librettti = data['genre_with_putative_libretto'].str.contains('Libretto').sum()\n",
        "    no_total = data.shape[0]\n",
        "    no_nonlibretti = no_total - no_librettti\n",
        "    print(f'Period from {startyear} to {endyear}:')\n",
        "    print(f'Libretti: {no_librettti}')\n",
        "    print(f'Other: {no_nonlibretti}')\n",
        "    return data"
      ],
      "id": "xeJHxM0OV7_P"
    },
    {
      "cell_type": "code",
      "execution_count": null,
      "metadata": {
        "id": "dq8RSJNuWatw"
      },
      "outputs": [],
      "source": [
        "french_data_1620_1669 =  slice_and_get_proportion(fd, 1620, 1669)"
      ],
      "id": "dq8RSJNuWatw"
    },
    {
      "cell_type": "code",
      "execution_count": null,
      "metadata": {
        "id": "CtO39GChW7I2"
      },
      "outputs": [],
      "source": [
        "french_data_1670_1719 = slice_and_get_proportion(fd, 1670, 1719)"
      ],
      "id": "CtO39GChW7I2"
    },
    {
      "cell_type": "code",
      "source": [
        "french_data_1670_1719[french_data_1670_1719['is_real_libretto']==True].sort_values('word_count_stage', ascending=False)[['first_author', 'title', 'word_count_stage', 'num_of_speakers']]"
      ],
      "metadata": {
        "id": "5tiHtQ2x9-Ft"
      },
      "id": "5tiHtQ2x9-Ft",
      "execution_count": null,
      "outputs": []
    },
    {
      "cell_type": "code",
      "source": [],
      "metadata": {
        "id": "ZCxO8ExIZh8Q"
      },
      "id": "ZCxO8ExIZh8Q",
      "execution_count": null,
      "outputs": []
    },
    {
      "cell_type": "code",
      "source": [
        "gd[['density', 'average_path_length']].sort_values('average_path_length')"
      ],
      "metadata": {
        "id": "lzO-5XBLZiGa"
      },
      "id": "lzO-5XBLZiGa",
      "execution_count": null,
      "outputs": []
    },
    {
      "cell_type": "code",
      "source": [
        "px.scatter(gd, x='density', y='average_path_length', labels='title')"
      ],
      "metadata": {
        "id": "j7vtnu8qafvw"
      },
      "id": "j7vtnu8qafvw",
      "execution_count": null,
      "outputs": []
    },
    {
      "cell_type": "code",
      "source": [
        "french_data_1670_1719[french_data_1670_1719['is_real_libretto']==True][['first_author', 'title', 'year_normalized', 'density', 'num_of_speakers']].to_excel('1670_1719_libretti.xls')"
      ],
      "metadata": {
        "id": "Xb8LQbwtod6l"
      },
      "id": "Xb8LQbwtod6l",
      "execution_count": null,
      "outputs": []
    },
    {
      "cell_type": "code",
      "execution_count": null,
      "metadata": {
        "id": "PN94yKSzW_7p"
      },
      "outputs": [],
      "source": [
        "french_data_1720_1769 = slice_and_get_proportion(fd, 1720, 1769)"
      ],
      "id": "PN94yKSzW_7p"
    },
    {
      "cell_type": "code",
      "execution_count": null,
      "metadata": {
        "id": "2BeFhVW4XDtk"
      },
      "outputs": [],
      "source": [
        "french_data_1770_1819 = slice_and_get_proportion(fd, 1770, 1819)"
      ],
      "id": "2BeFhVW4XDtk"
    },
    {
      "cell_type": "code",
      "execution_count": null,
      "metadata": {
        "id": "TXThorYMXHGw"
      },
      "outputs": [],
      "source": [
        "french_data_1820_1889 = slice_and_get_proportion(fd, 1820, 1889)"
      ],
      "id": "TXThorYMXHGw"
    },
    {
      "cell_type": "markdown",
      "metadata": {
        "id": "0nRvHrRTMNDm"
      },
      "source": [
        "## At this point we have our corpus ready for exploration (all genres are mapped)"
      ],
      "id": "0nRvHrRTMNDm"
    },
    {
      "cell_type": "markdown",
      "source": [
        "# II. Data exploration"
      ],
      "metadata": {
        "id": "YIyO7cUeftsO"
      },
      "id": "YIyO7cUeftsO"
    },
    {
      "cell_type": "markdown",
      "metadata": {
        "id": "Vmeoq8kXj72B"
      },
      "source": [
        "## 4. Plotting"
      ],
      "id": "Vmeoq8kXj72B"
    },
    {
      "cell_type": "markdown",
      "metadata": {
        "id": "f2oElJBEdu3R"
      },
      "source": [
        "## Trying multidimensional methods (PCA, t-SNE, LDA, UMAP)"
      ],
      "id": "f2oElJBEdu3R"
    },
    {
      "cell_type": "markdown",
      "metadata": {
        "id": "KrI3LBrfgFbO"
      },
      "source": [
        "#### Preprocessing: data standardization with standard scaler"
      ],
      "id": "KrI3LBrfgFbO"
    },
    {
      "cell_type": "code",
      "execution_count": null,
      "metadata": {
        "id": "WS_14TKZfT-P"
      },
      "outputs": [],
      "source": [
        "import time"
      ],
      "id": "WS_14TKZfT-P"
    },
    {
      "cell_type": "code",
      "execution_count": null,
      "metadata": {
        "id": "Z6rnoybteVfh"
      },
      "outputs": [],
      "source": [
        "from sklearn.preprocessing import StandardScaler\n",
        "## Standardizing the data\n",
        "german_features_to_process = gd.loc[:, german_features].values\n",
        "german_standardized_features = StandardScaler().fit_transform(german_features_to_process)"
      ],
      "id": "Z6rnoybteVfh"
    },
    {
      "cell_type": "code",
      "execution_count": null,
      "metadata": {
        "id": "yKbwq3u1svWb"
      },
      "outputs": [],
      "source": [
        "def standardize(df, feature_list):\n",
        "    data_to_process = df.loc[:, feature_list].values\n",
        "    standardized_data_to_process = StandardScaler().fit_transform(data_to_process)\n",
        "    return standardized_data_to_process"
      ],
      "id": "yKbwq3u1svWb"
    },
    {
      "cell_type": "code",
      "execution_count": null,
      "metadata": {
        "id": "wnXdMoIkpLKL"
      },
      "outputs": [],
      "source": [
        "french_standardized_features = standardize(fd, french_features)"
      ],
      "id": "wnXdMoIkpLKL"
    },
    {
      "cell_type": "code",
      "execution_count": null,
      "metadata": {
        "id": "dV4Q-BVUibLn"
      },
      "outputs": [],
      "source": [
        "#len(features_to_process)"
      ],
      "id": "dV4Q-BVUibLn"
    },
    {
      "cell_type": "code",
      "execution_count": null,
      "metadata": {
        "id": "WtgX_yhcif0Q"
      },
      "outputs": [],
      "source": [
        "#len(standardized_features)"
      ],
      "id": "WtgX_yhcif0Q"
    },
    {
      "cell_type": "markdown",
      "metadata": {
        "id": "jzeLBz5DhI2G"
      },
      "source": [
        "### Common visualization functions"
      ],
      "id": "jzeLBz5DhI2G"
    },
    {
      "cell_type": "code",
      "execution_count": null,
      "metadata": {
        "id": "nDo1RevOeQ5j"
      },
      "outputs": [],
      "source": [
        "import plotly.io as plt_io\n",
        "import plotly.graph_objects as go\n",
        "!pip install kaleido #static image generation\n",
        "import kaleido"
      ],
      "id": "nDo1RevOeQ5j"
    },
    {
      "cell_type": "code",
      "source": [
        "def plot_2d_no_legend(df, component1, component2, output_filename, title):\n",
        "    \n",
        "    fig = go.Figure(data=go.Scatter(\n",
        "        x = component1,\n",
        "        y = component2,\n",
        "        mode='markers',\n",
        "        marker=dict(\n",
        "            size=20,\n",
        "            color=df['color_subgenres'], #set color equal to a variable\n",
        "            colorscale='Rainbow', # one of plotly colorscales\n",
        "            showscale=False,\n",
        "            line_width=1\n",
        "        ),\n",
        "        text=df['subtitle'],\n",
        "        #showlegend=True\n",
        "    ))\n",
        "    fig.update_layout(margin=dict( l=100,r=100,b=100,t=100),\n",
        "                      width=2000,height=1200,\n",
        "                      font=dict(size=18),\n",
        "                      title=title)                 \n",
        "    fig.layout.template = 'plotly'\n",
        "    \n",
        "    fig.show()\n",
        "    fig.write_image(\"output-images/\" + output_filename + \".png\",scale=2)"
      ],
      "metadata": {
        "id": "yvnyNUveSuOa"
      },
      "id": "yvnyNUveSuOa",
      "execution_count": null,
      "outputs": []
    },
    {
      "cell_type": "code",
      "execution_count": null,
      "metadata": {
        "id": "EDP7BKfOeG3o"
      },
      "outputs": [],
      "source": [
        "def plot_2d(df, component1, component2, output_filename, title):\n",
        "\n",
        "    df['comp 1'] = component1\n",
        "    df['comp 2'] = component2\n",
        "    pxscatter = px.scatter(df, x='comp 1', y='comp 2', \n",
        "                           color_discrete_sequence=list(df['color_subgenres'].unique()), \n",
        "                           color='genre_with_libretto_subgenres',\n",
        "                           hover_data=['subtitle']\n",
        "                           #text='subtitle'\n",
        "\n",
        "    )\n",
        "\n",
        "\n",
        "\n",
        "    #fig = go.Figure(data=go.Scatter(\n",
        "     #   x = component1,\n",
        "      #  y = component2,\n",
        "       # mode='markers',\n",
        "        #marker=dict(\n",
        "         #   size=20,\n",
        "          #  color=df['color_subgenres'], #set color equal to a variable\n",
        "           # colorscale='Rainbow', # one of plotly colorscales\n",
        "            #showscale=False,\n",
        "            #line_width=1\n",
        "        #),\n",
        "        #text=df['subtitle'],\n",
        "        #showlegend=True\n",
        "    #))\n",
        "    fig = go.Figure(data = pxscatter)\n",
        "    fig.update_traces(marker=dict(size=20,\n",
        "                              line=dict(width=1)),\n",
        "                                        #color='DarkSlateGrey')),\n",
        "                      selector=dict(mode='markers'))\n",
        "    fig.update_layout(margin=dict( l=100,r=100,b=100,t=100),\n",
        "                      width=2000,height=1200,\n",
        "                      font=dict(size=18),\n",
        "                      title=title,\n",
        "                      legend=dict(title=\"Genre\")\n",
        "                      )                 \n",
        "    fig.layout.template = 'plotly'\n",
        "    \n",
        "    fig.show()\n",
        "    fig.write_image(\"output-images/\" + output_filename + \".png\",scale=2)"
      ],
      "id": "EDP7BKfOeG3o"
    },
    {
      "cell_type": "code",
      "source": [
        "gd.columns"
      ],
      "metadata": {
        "id": "ry7ZogE4vcIF"
      },
      "id": "ry7ZogE4vcIF",
      "execution_count": null,
      "outputs": []
    },
    {
      "cell_type": "code",
      "source": [
        "def plot_2d_no_subgenres(df, component1, component2, output_filename, title):\n",
        "\n",
        "    df['comp 1'] = component1\n",
        "    df['comp 2'] = component2\n",
        "    pxscatter = px.scatter(df, x='comp 1', y='comp 2', \n",
        "                           color_discrete_sequence=['red','blue', 'orange', 'green'], \n",
        "                           color='libretto_or_genre',\n",
        "                           hover_data=['subtitle']\n",
        "\n",
        "    )\n",
        "\n",
        "    fig = go.Figure(data = pxscatter)\n",
        "    fig.update_traces(marker=dict(size=20,\n",
        "                              line=dict(width=1)),\n",
        "                                        #color='DarkSlateGrey')),\n",
        "                      selector=dict(mode='markers'))\n",
        "    fig.update_layout(margin=dict( l=100,r=100,b=100,t=100),\n",
        "                      width=2000,height=1200,\n",
        "                      font=dict(size=18),\n",
        "                      title=title,\n",
        "                      legend=dict(title=\"Genre\")\n",
        "                      )                 \n",
        "    fig.layout.template = 'plotly'\n",
        "    \n",
        "    fig.show()\n",
        "    fig.write_image(\"output-images/\" + output_filename + \".png\",scale=2)"
      ],
      "metadata": {
        "id": "1mSty0mRfOZk"
      },
      "id": "1mSty0mRfOZk",
      "execution_count": null,
      "outputs": []
    },
    {
      "cell_type": "markdown",
      "metadata": {
        "id": "v2ljurYMf7BI"
      },
      "source": [
        "#### t-SNE"
      ],
      "id": "v2ljurYMf7BI"
    },
    {
      "cell_type": "markdown",
      "metadata": {
        "id": "DV5S-nCvodkH"
      },
      "source": [
        "##### German"
      ],
      "id": "DV5S-nCvodkH"
    },
    {
      "cell_type": "code",
      "execution_count": null,
      "metadata": {
        "id": "1xuo086Cf9RU"
      },
      "outputs": [],
      "source": [
        "from sklearn.manifold import TSNE"
      ],
      "id": "1xuo086Cf9RU"
    },
    {
      "cell_type": "code",
      "execution_count": null,
      "metadata": {
        "id": "juaVjtt-f-Lq"
      },
      "outputs": [],
      "source": [
        "start = time.time()\n",
        "tsne = TSNE(random_state = 42, \n",
        "            n_components=3,\n",
        "            verbose=0, \n",
        "            perplexity=50, \n",
        "            n_iter=400).fit_transform(german_standardized_features)\n",
        "print('Duration: {} seconds'.format(time.time() - start))"
      ],
      "id": "juaVjtt-f-Lq"
    },
    {
      "cell_type": "code",
      "execution_count": null,
      "metadata": {
        "id": "lYO7gdcshASp"
      },
      "outputs": [],
      "source": [
        "#plot_2d(filtered_german_data, tsne[:, 0], tsne[:, 1])"
      ],
      "id": "lYO7gdcshASp"
    },
    {
      "cell_type": "markdown",
      "metadata": {
        "id": "h-b4uGy7sjty"
      },
      "source": [
        "#### German 1770-1819\n"
      ],
      "id": "h-b4uGy7sjty"
    },
    {
      "cell_type": "code",
      "execution_count": null,
      "metadata": {
        "id": "fsSzS06isf-9"
      },
      "outputs": [],
      "source": [
        "def make_tsne(df, feature_list, perp, output_filename, title):\n",
        "    standardized_data = standardize(df, feature_list)\n",
        "    start = time.time()\n",
        "    tsne = TSNE(random_state = 42, \n",
        "            n_components=3,\n",
        "            verbose=0, \n",
        "            perplexity=perp, \n",
        "            n_iter=400).fit_transform(standardized_data)\n",
        "    print('Duration: {} seconds'.format(time.time() - start))\n",
        "    plot_2d(df, tsne[:, 0], tsne[:, 1], output_filename, title)\n"
      ],
      "id": "fsSzS06isf-9"
    },
    {
      "cell_type": "code",
      "execution_count": null,
      "metadata": {
        "id": "8k7hRGSOwlaB"
      },
      "outputs": [],
      "source": [
        "make_tsne(german_data_1770_1819, german_features, 10, \"german_data_1770_1819\", \"german_data_1770_1819\")"
      ],
      "id": "8k7hRGSOwlaB"
    },
    {
      "cell_type": "code",
      "execution_count": null,
      "metadata": {
        "id": "QJgV5zBEyJb3"
      },
      "outputs": [],
      "source": [
        "make_tsne(german_data_1770_1819, german_features, 50, \"german_data_1770_1819-50\", \"german_data_1770_1819\")"
      ],
      "id": "QJgV5zBEyJb3"
    },
    {
      "cell_type": "code",
      "execution_count": null,
      "metadata": {
        "id": "yJQ0QAwkyYzY"
      },
      "outputs": [],
      "source": [
        "make_tsne(german_data_1820_1869, german_features, 10, \"german_data_1820_1869\", \"german_data_1820_1869\")"
      ],
      "id": "yJQ0QAwkyYzY"
    },
    {
      "cell_type": "code",
      "execution_count": null,
      "metadata": {
        "id": "181u_-nsyjCc"
      },
      "outputs": [],
      "source": [
        "make_tsne(german_data_1820_1869, german_features, 50, \"german_data_1820_1869-50\", \"german_data_1820_1869\")"
      ],
      "id": "181u_-nsyjCc"
    },
    {
      "cell_type": "code",
      "execution_count": null,
      "metadata": {
        "id": "myc_55P5suXy"
      },
      "outputs": [],
      "source": [
        "make_tsne(german_data_1870_1920, german_features, 10, \"german_data_1820_1869\", \"german_data_1870_1920\")"
      ],
      "id": "myc_55P5suXy"
    },
    {
      "cell_type": "code",
      "execution_count": null,
      "metadata": {
        "id": "aormmK6Ds7FT"
      },
      "outputs": [],
      "source": [
        "make_tsne(german_data_1870_1920, german_features, 50, \"german_data_1870_1920-50\",\"german_data_1870_1920\")"
      ],
      "id": "aormmK6Ds7FT"
    },
    {
      "cell_type": "markdown",
      "metadata": {
        "id": "6sqInetRoh-9"
      },
      "source": [
        "#### French"
      ],
      "id": "6sqInetRoh-9"
    },
    {
      "cell_type": "code",
      "execution_count": null,
      "metadata": {
        "id": "u2dsccfmpaP_"
      },
      "outputs": [],
      "source": [
        "len(french_standardized_features)"
      ],
      "id": "u2dsccfmpaP_"
    },
    {
      "cell_type": "code",
      "execution_count": null,
      "metadata": {
        "id": "ku-MeloEpVD6"
      },
      "outputs": [],
      "source": [
        "start = time.time()\n",
        "tsne = TSNE(random_state = 42, \n",
        "            n_components=3,\n",
        "            verbose=0, \n",
        "            perplexity=50, \n",
        "            n_iter=400).fit_transform(french_standardized_features)\n",
        "print('Duration: {} seconds'.format(time.time() - start))"
      ],
      "id": "ku-MeloEpVD6"
    },
    {
      "cell_type": "code",
      "execution_count": null,
      "metadata": {
        "id": "pZpVvfbjq8Th"
      },
      "outputs": [],
      "source": [
        "plot_2d(fd, tsne[:, 0], tsne[:, 1], 'french_tsne', 'french_tsne')"
      ],
      "id": "pZpVvfbjq8Th"
    },
    {
      "cell_type": "code",
      "execution_count": null,
      "metadata": {
        "id": "9XsNip6etF5j"
      },
      "outputs": [],
      "source": [
        "make_tsne(french_data_1620_1669, french_features, 10, \"french_data_1620_1669\", \"french_data_1620_1669\")"
      ],
      "id": "9XsNip6etF5j"
    },
    {
      "cell_type": "code",
      "execution_count": null,
      "metadata": {
        "id": "9xZkPiRkjLYM"
      },
      "outputs": [],
      "source": [
        "make_tsne(french_data_1620_1669, french_features, 50, \"french_data_1620_1669-50\", \"french_data_1620_1669\")"
      ],
      "id": "9xZkPiRkjLYM"
    },
    {
      "cell_type": "code",
      "execution_count": null,
      "metadata": {
        "id": "hdilUIs8jPBg"
      },
      "outputs": [],
      "source": [
        "make_tsne(french_data_1670_1719, french_features, 10, \"french_data_1670_1719\", \"french_data_1670_1719\")"
      ],
      "id": "hdilUIs8jPBg"
    },
    {
      "cell_type": "code",
      "execution_count": null,
      "metadata": {
        "id": "Ektp9FqBjX9J"
      },
      "outputs": [],
      "source": [
        "make_tsne(french_data_1670_1719, french_features, 50, \"french_data_1670_1719-50\", \"french_data_1670_1719\")"
      ],
      "id": "Ektp9FqBjX9J"
    },
    {
      "cell_type": "code",
      "execution_count": null,
      "metadata": {
        "id": "Jm8yWZqnkE_p"
      },
      "outputs": [],
      "source": [
        "make_tsne(french_data_1720_1769, french_features, 10, \"french_data_1720_1769\", \"french_data_1720_1769\")"
      ],
      "id": "Jm8yWZqnkE_p"
    },
    {
      "cell_type": "code",
      "execution_count": null,
      "metadata": {
        "id": "eym6U-XUkrQd"
      },
      "outputs": [],
      "source": [
        "make_tsne(french_data_1720_1769, french_features, 50, \"french_data_1720_1769-50\", \"french_data_1720_1769\")"
      ],
      "id": "eym6U-XUkrQd"
    },
    {
      "cell_type": "code",
      "execution_count": null,
      "metadata": {
        "id": "hanwAGh_lDmj"
      },
      "outputs": [],
      "source": [
        "make_tsne(french_data_1770_1819, french_features, 10, \"french_data_1770_1819\", \"french_data_1770_1819\")"
      ],
      "id": "hanwAGh_lDmj"
    },
    {
      "cell_type": "code",
      "execution_count": null,
      "metadata": {
        "id": "mURYoesPlHvv"
      },
      "outputs": [],
      "source": [
        "make_tsne(french_data_1770_1819, french_features, 50, \"french_data_1770_1819-50\", \"french_data_1770_1819\")"
      ],
      "id": "mURYoesPlHvv"
    },
    {
      "cell_type": "code",
      "execution_count": null,
      "metadata": {
        "id": "CdzcQi3WlUZj"
      },
      "outputs": [],
      "source": [
        "make_tsne(french_data_1820_1889, french_features, 10, \"french_data_1820_1889\", \"french_data_1820_1889\")"
      ],
      "id": "CdzcQi3WlUZj"
    },
    {
      "cell_type": "code",
      "execution_count": null,
      "metadata": {
        "id": "KA8uqGReldoq"
      },
      "outputs": [],
      "source": [
        "make_tsne(french_data_1820_1889, french_features, 50, \"french_data_1820_1889-50\", \"french_data_1820_1889\")"
      ],
      "id": "KA8uqGReldoq"
    },
    {
      "cell_type": "code",
      "execution_count": null,
      "metadata": {
        "id": "UX-fp0a7StG8"
      },
      "outputs": [],
      "source": [
        "# download all pics as zip\n",
        "#from google.colab import files\n",
        "#!zip -r /content/output_images.zip /content/output-images\n",
        "#files.download('/content/output_images.zip')"
      ],
      "id": "UX-fp0a7StG8"
    },
    {
      "cell_type": "markdown",
      "metadata": {
        "id": "8Rdp8WUbeTtx"
      },
      "source": [
        "### UMAP"
      ],
      "id": "8Rdp8WUbeTtx"
    },
    {
      "cell_type": "code",
      "execution_count": null,
      "metadata": {
        "id": "OcYZXgwxd3VT"
      },
      "outputs": [],
      "source": [
        "!pip install umap-learn"
      ],
      "id": "OcYZXgwxd3VT"
    },
    {
      "cell_type": "code",
      "execution_count": null,
      "metadata": {
        "id": "MIwPDQKOb333"
      },
      "outputs": [],
      "source": [
        "import umap"
      ],
      "id": "MIwPDQKOb333"
    },
    {
      "cell_type": "code",
      "execution_count": null,
      "metadata": {
        "id": "wBzNp6mszR_L"
      },
      "outputs": [],
      "source": [],
      "id": "wBzNp6mszR_L"
    },
    {
      "cell_type": "markdown",
      "metadata": {
        "id": "Puqqohz4zSVx"
      },
      "source": [
        "### German"
      ],
      "id": "Puqqohz4zSVx"
    },
    {
      "cell_type": "code",
      "execution_count": null,
      "metadata": {
        "id": "zTGW6cqWfLfL"
      },
      "outputs": [],
      "source": [
        "start = time.time()\n",
        "reducer = umap.UMAP(random_state=42,n_components=3)\n",
        "embedding = reducer.fit_transform(german_standardized_features)\n",
        "print('Duration: {} seconds'.format(time.time() - start))"
      ],
      "id": "zTGW6cqWfLfL"
    },
    {
      "cell_type": "code",
      "execution_count": null,
      "metadata": {
        "id": "DaaL943LzvtM"
      },
      "outputs": [],
      "source": [
        "plot_2d(gd, reducer.embedding_[:, 0],reducer.embedding_[:, 1], 'umap_german', 'umap_german')"
      ],
      "id": "DaaL943LzvtM"
    },
    {
      "cell_type": "code",
      "execution_count": null,
      "metadata": {
        "id": "ISHX54Efv3Lp"
      },
      "outputs": [],
      "source": [
        "def make_umap(df, feature_list, title, filename):\n",
        "    standardized_data = standardize(df, feature_list)\n",
        "    start = time.time()\n",
        "    reducer = umap.UMAP(random_state=42,n_components=3)\n",
        "    embedding = reducer.fit_transform(standardized_data)\n",
        "    print('Duration: {} seconds'.format(time.time() - start))\n",
        "    plot_2d(df, reducer.embedding_[:, 0],reducer.embedding_[:, 1], title, filename)\n"
      ],
      "id": "ISHX54Efv3Lp"
    },
    {
      "cell_type": "markdown",
      "metadata": {
        "id": "1EBtfT6lw9Kx"
      },
      "source": [
        "#### German timestamps"
      ],
      "id": "1EBtfT6lw9Kx"
    },
    {
      "cell_type": "code",
      "execution_count": null,
      "metadata": {
        "id": "_p7RGjy6wRo6"
      },
      "outputs": [],
      "source": [
        "make_umap(german_data_1770_1819, german_features, 'german_data_1770_1819', 'german_data_1770_1819')"
      ],
      "id": "_p7RGjy6wRo6"
    },
    {
      "cell_type": "code",
      "execution_count": null,
      "metadata": {
        "id": "8Ozdw5A2wIlf"
      },
      "outputs": [],
      "source": [
        "make_umap(german_data_1820_1869, german_features, 'german_data_1820_1869', 'german_data_1820_1869')"
      ],
      "id": "8Ozdw5A2wIlf"
    },
    {
      "cell_type": "code",
      "execution_count": null,
      "metadata": {
        "id": "ZPRZGDV3wV3w"
      },
      "outputs": [],
      "source": [
        "make_umap(german_data_1870_1920, german_features, 'german_data_1870_1920', 'german_data_1870_1920')"
      ],
      "id": "ZPRZGDV3wV3w"
    },
    {
      "cell_type": "markdown",
      "metadata": {
        "id": "LKZkkAzg0PZd"
      },
      "source": [
        "### French"
      ],
      "id": "LKZkkAzg0PZd"
    },
    {
      "cell_type": "code",
      "execution_count": null,
      "metadata": {
        "id": "IxKjqhVJwzr8"
      },
      "outputs": [],
      "source": [
        "make_umap(fd, french_features, 'french umap', 'french umap')"
      ],
      "id": "IxKjqhVJwzr8"
    },
    {
      "cell_type": "markdown",
      "metadata": {
        "id": "yz2DGMRtxBGk"
      },
      "source": [
        "#### French timestamps"
      ],
      "id": "yz2DGMRtxBGk"
    },
    {
      "cell_type": "code",
      "execution_count": null,
      "metadata": {
        "id": "5qA0aZIuxDOd"
      },
      "outputs": [],
      "source": [
        "make_umap(french_data_1620_1669, french_features,'french_data_1620_1669','french_data_1620_1669')"
      ],
      "id": "5qA0aZIuxDOd"
    },
    {
      "cell_type": "code",
      "execution_count": null,
      "metadata": {
        "id": "ZIXU_bvrxDU0"
      },
      "outputs": [],
      "source": [
        "make_umap(french_data_1670_1719, french_features, 'french_data_1670_1719', 'french_data_1670_1719')"
      ],
      "id": "ZIXU_bvrxDU0"
    },
    {
      "cell_type": "code",
      "execution_count": null,
      "metadata": {
        "id": "cUWVcyt2xJC6"
      },
      "outputs": [],
      "source": [
        "make_umap(french_data_1720_1769, french_features, 'french_data_1720_1769', 'french_data_1720_1769')"
      ],
      "id": "cUWVcyt2xJC6"
    },
    {
      "cell_type": "code",
      "execution_count": null,
      "metadata": {
        "id": "hOEF1R43xMNi"
      },
      "outputs": [],
      "source": [
        "make_umap(french_data_1770_1819, french_features, 'french_data_1770_1819', 'french_data_1770_1819')"
      ],
      "id": "hOEF1R43xMNi"
    },
    {
      "cell_type": "code",
      "execution_count": null,
      "metadata": {
        "id": "vxDzMOX3xO7m"
      },
      "outputs": [],
      "source": [
        "make_umap(french_data_1820_1889, french_features, 'french_data_1820_1889', 'french_data_1820_1889')"
      ],
      "id": "vxDzMOX3xO7m"
    },
    {
      "cell_type": "markdown",
      "metadata": {
        "id": "6A9TswKP1D0H"
      },
      "source": [
        "### PCA"
      ],
      "id": "6A9TswKP1D0H"
    },
    {
      "cell_type": "markdown",
      "metadata": {
        "id": "lqnhmAIR1FQu"
      },
      "source": [
        "### German"
      ],
      "id": "lqnhmAIR1FQu"
    },
    {
      "cell_type": "code",
      "execution_count": null,
      "metadata": {
        "id": "YefGhOBs1bY8"
      },
      "outputs": [],
      "source": [
        "def make_pca(df, feature_list, output_filename, title):\n",
        "    standardized_data = standardize(df, feature_list)\n",
        "    start = time.time()\n",
        "    pca = PCA(n_components=3)\n",
        "    principalComponents = pca.fit_transform(standardized_data)\n",
        "    print('Duration: {} seconds'.format(time.time() - start))\n",
        "    principal = pd.DataFrame(data = principalComponents\n",
        "                , columns = ['principal component 1', 'principal component 2','principal component 3'])\n",
        "    plot_2d(df, principalComponents[:, 0],\n",
        "            principalComponents[:, 1], \n",
        "            output_filename, \n",
        "            title)"
      ],
      "id": "YefGhOBs1bY8"
    },
    {
      "cell_type": "code",
      "execution_count": null,
      "metadata": {
        "id": "COiR_S011lC0"
      },
      "outputs": [],
      "source": [
        "make_pca(gd, german_features, 'German PCA', 'German PCA')"
      ],
      "id": "COiR_S011lC0"
    },
    {
      "cell_type": "markdown",
      "metadata": {
        "id": "QZ9EWtoTz2C-"
      },
      "source": [
        "#### German timestamps"
      ],
      "id": "QZ9EWtoTz2C-"
    },
    {
      "cell_type": "code",
      "execution_count": null,
      "metadata": {
        "id": "nDgQMjEDz2C-"
      },
      "outputs": [],
      "source": [
        "make_pca(german_data_1770_1819, german_features, 'pcagerman_data_1770_1819', 'pcagerman_data_1770_1819')"
      ],
      "id": "nDgQMjEDz2C-"
    },
    {
      "cell_type": "code",
      "source": [
        "make_pca(german_data_1770_1819, german_features, '1770_1819', '1770_1819')\n",
        "make_pca(german_data_1770_1819, list_features_pyd, '1770_1819allfeatures', '1770_1819allfeatures') "
      ],
      "metadata": {
        "id": "DZKaBAza68Fj"
      },
      "id": "DZKaBAza68Fj",
      "execution_count": null,
      "outputs": []
    },
    {
      "cell_type": "code",
      "execution_count": null,
      "metadata": {
        "id": "GUbjMI41z2C_"
      },
      "outputs": [],
      "source": [
        "make_pca(german_data_1820_1869, german_features, 'pcagerman_data_1820_1869', 'pcagerman_data_1820_1869')"
      ],
      "id": "GUbjMI41z2C_"
    },
    {
      "cell_type": "code",
      "execution_count": null,
      "metadata": {
        "id": "u2XdkxWoz2C_"
      },
      "outputs": [],
      "source": [
        "make_pca(german_data_1870_1920, german_features, 'pcagerman_data_1870_1920', 'pcagerman_data_1870_1920')"
      ],
      "id": "u2XdkxWoz2C_"
    },
    {
      "cell_type": "markdown",
      "metadata": {
        "id": "xONAoPqEz2C_"
      },
      "source": [
        "### French"
      ],
      "id": "xONAoPqEz2C_"
    },
    {
      "cell_type": "code",
      "execution_count": null,
      "metadata": {
        "id": "IN334D1Fz2C_"
      },
      "outputs": [],
      "source": [
        "make_pca(gd, french_features, 'French PCA', 'French PCA')"
      ],
      "id": "IN334D1Fz2C_"
    },
    {
      "cell_type": "markdown",
      "metadata": {
        "id": "-uOhrYuJz2C_"
      },
      "source": [
        "#### French timestamps"
      ],
      "id": "-uOhrYuJz2C_"
    },
    {
      "cell_type": "code",
      "execution_count": null,
      "metadata": {
        "id": "cD51CNqMz2C_"
      },
      "outputs": [],
      "source": [
        "make_pca(french_data_1620_1669, french_features, 'pcafrench_data_1620_1669', 'pcafrench_data_1620_1669')"
      ],
      "id": "cD51CNqMz2C_"
    },
    {
      "cell_type": "code",
      "execution_count": null,
      "metadata": {
        "id": "F5lvJNXpz2C_"
      },
      "outputs": [],
      "source": [
        "make_pca(french_data_1670_1719, french_features, 'pcafrench_data_1670_1719', 'pcafrench_data_1670_1719')"
      ],
      "id": "F5lvJNXpz2C_"
    },
    {
      "cell_type": "code",
      "execution_count": null,
      "metadata": {
        "id": "E1nIvRiiz2C_"
      },
      "outputs": [],
      "source": [
        "make_pca(french_data_1720_1769, french_features, 'pcafrench_data_1720_1769', 'pcafrench_data_1720_1769')"
      ],
      "id": "E1nIvRiiz2C_"
    },
    {
      "cell_type": "code",
      "execution_count": null,
      "metadata": {
        "id": "Yf_HUt8Dz2C_"
      },
      "outputs": [],
      "source": [
        "make_pca(french_data_1770_1819, french_features, 'pcafrench_data_1770_1819', 'pcafrench_data_1770_1819')"
      ],
      "id": "Yf_HUt8Dz2C_"
    },
    {
      "cell_type": "code",
      "execution_count": null,
      "metadata": {
        "id": "jYZlNMISz2C_"
      },
      "outputs": [],
      "source": [
        "make_pca(french_data_1820_1889, french_features, 'pcafrench_data_1820_1889', 'pcafrench_data_1820_1889')"
      ],
      "id": "jYZlNMISz2C_"
    },
    {
      "cell_type": "markdown",
      "metadata": {
        "id": "2fjcKu1UntFX"
      },
      "source": [
        "### Trying only network features (31.12):"
      ],
      "id": "2fjcKu1UntFX"
    },
    {
      "cell_type": "markdown",
      "metadata": {
        "id": "dkdra1tiqOlb"
      },
      "source": [
        "#### t-SNE"
      ],
      "id": "dkdra1tiqOlb"
    },
    {
      "cell_type": "markdown",
      "metadata": {
        "id": "QKoBuhtnqOlc"
      },
      "source": [
        "##### German"
      ],
      "id": "QKoBuhtnqOlc"
    },
    {
      "cell_type": "code",
      "execution_count": null,
      "metadata": {
        "id": "4fQm6KNkqVVJ"
      },
      "outputs": [],
      "source": [
        "#make_tsne(filtered_german_data, network_features, 10)"
      ],
      "id": "4fQm6KNkqVVJ"
    },
    {
      "cell_type": "markdown",
      "metadata": {
        "id": "arOFg8yAqOlc"
      },
      "source": [
        "#### German 1770-1819\n"
      ],
      "id": "arOFg8yAqOlc"
    },
    {
      "cell_type": "code",
      "execution_count": null,
      "metadata": {
        "id": "D9igJLa0qOld"
      },
      "outputs": [],
      "source": [
        "#make_tsne(german_data_1770_1819, network_features, 10)"
      ],
      "id": "D9igJLa0qOld"
    },
    {
      "cell_type": "code",
      "execution_count": null,
      "metadata": {
        "id": "qoVv_fAxqOld"
      },
      "outputs": [],
      "source": [
        "#make_tsne(german_data_1770_1819, network_features, 50)"
      ],
      "id": "qoVv_fAxqOld"
    },
    {
      "cell_type": "code",
      "execution_count": null,
      "metadata": {
        "id": "4DGLraO-qOld"
      },
      "outputs": [],
      "source": [
        "#make_tsne(german_data_1820_1869, network_features, 10)"
      ],
      "id": "4DGLraO-qOld"
    },
    {
      "cell_type": "code",
      "execution_count": null,
      "metadata": {
        "id": "gMVCd9zaqOld"
      },
      "outputs": [],
      "source": [
        "#make_tsne(german_data_1820_1869, network_features, 50)"
      ],
      "id": "gMVCd9zaqOld"
    },
    {
      "cell_type": "code",
      "execution_count": null,
      "metadata": {
        "id": "8L2pDvP3qOld"
      },
      "outputs": [],
      "source": [
        "#make_tsne(german_data_1870_1920, network_features, 10)"
      ],
      "id": "8L2pDvP3qOld"
    },
    {
      "cell_type": "code",
      "execution_count": null,
      "metadata": {
        "id": "nHokRWlFqOld"
      },
      "outputs": [],
      "source": [
        "#make_tsne(german_data_1870_1920, network_features, 50)"
      ],
      "id": "nHokRWlFqOld"
    },
    {
      "cell_type": "markdown",
      "metadata": {
        "id": "9h8tpYIRqOld"
      },
      "source": [
        "#### French"
      ],
      "id": "9h8tpYIRqOld"
    },
    {
      "cell_type": "code",
      "execution_count": null,
      "metadata": {
        "id": "Np9FuUS3rZth"
      },
      "outputs": [],
      "source": [
        "#make_tsne(filtered_french_data, network_features, 10)"
      ],
      "id": "Np9FuUS3rZth"
    },
    {
      "cell_type": "code",
      "execution_count": null,
      "metadata": {
        "id": "6hYJ5Re1qOle"
      },
      "outputs": [],
      "source": [
        "#make_tsne(french_data_1620_1669, network_features, 10)"
      ],
      "id": "6hYJ5Re1qOle"
    },
    {
      "cell_type": "code",
      "execution_count": null,
      "metadata": {
        "id": "Ke25qm3SqOle"
      },
      "outputs": [],
      "source": [
        "#make_tsne(french_data_1620_1669, network_features, 50)"
      ],
      "id": "Ke25qm3SqOle"
    },
    {
      "cell_type": "code",
      "execution_count": null,
      "metadata": {
        "id": "fpr5v7vYqOle"
      },
      "outputs": [],
      "source": [
        "#make_tsne(french_data_1670_1719, network_features, 10)"
      ],
      "id": "fpr5v7vYqOle"
    },
    {
      "cell_type": "code",
      "execution_count": null,
      "metadata": {
        "id": "Chrs1zw_qOle"
      },
      "outputs": [],
      "source": [
        "#make_tsne(french_data_1670_1719, network_features, 50)"
      ],
      "id": "Chrs1zw_qOle"
    },
    {
      "cell_type": "code",
      "execution_count": null,
      "metadata": {
        "id": "YzqF7HcGqOle"
      },
      "outputs": [],
      "source": [
        "#make_tsne(french_data_1720_1769, network_features, 10)"
      ],
      "id": "YzqF7HcGqOle"
    },
    {
      "cell_type": "code",
      "execution_count": null,
      "metadata": {
        "id": "vAAIfFGXqOle"
      },
      "outputs": [],
      "source": [
        "#make_tsne(french_data_1720_1769, network_features, 50)"
      ],
      "id": "vAAIfFGXqOle"
    },
    {
      "cell_type": "code",
      "execution_count": null,
      "metadata": {
        "id": "c9o_IC1XqOle"
      },
      "outputs": [],
      "source": [
        "#make_tsne(french_data_1770_1819, network_features, 10)"
      ],
      "id": "c9o_IC1XqOle"
    },
    {
      "cell_type": "code",
      "execution_count": null,
      "metadata": {
        "id": "9jOI2zN8qOle"
      },
      "outputs": [],
      "source": [
        "#make_tsne(french_data_1770_1819, network_features, 50)"
      ],
      "id": "9jOI2zN8qOle"
    },
    {
      "cell_type": "code",
      "execution_count": null,
      "metadata": {
        "id": "sOx6hrcGqOle"
      },
      "outputs": [],
      "source": [
        "#make_tsne(french_data_1820_1889, network_features, 10)"
      ],
      "id": "sOx6hrcGqOle"
    },
    {
      "cell_type": "code",
      "execution_count": null,
      "metadata": {
        "id": "MoMd8ERNqOle"
      },
      "outputs": [],
      "source": [
        "#make_tsne(french_data_1820_1889, network_features, 50)"
      ],
      "id": "MoMd8ERNqOle"
    },
    {
      "cell_type": "markdown",
      "metadata": {
        "id": "Qx7XXFxsqOlf"
      },
      "source": [
        "#### UMAP"
      ],
      "id": "Qx7XXFxsqOlf"
    },
    {
      "cell_type": "markdown",
      "metadata": {
        "id": "mKk0LXr7qOlf"
      },
      "source": [
        "#### German"
      ],
      "id": "mKk0LXr7qOlf"
    },
    {
      "cell_type": "code",
      "execution_count": null,
      "metadata": {
        "id": "noT49Lxot1AV"
      },
      "outputs": [],
      "source": [
        "#make_umap(filtered_german_data, network_features)"
      ],
      "id": "noT49Lxot1AV"
    },
    {
      "cell_type": "markdown",
      "metadata": {
        "id": "u6EWlI1PqOlf"
      },
      "source": [
        "#### German timestamps"
      ],
      "id": "u6EWlI1PqOlf"
    },
    {
      "cell_type": "code",
      "execution_count": null,
      "metadata": {
        "id": "XV0bdWWcqOlf"
      },
      "outputs": [],
      "source": [
        "#make_umap(german_data_1770_1819, network_features)"
      ],
      "id": "XV0bdWWcqOlf"
    },
    {
      "cell_type": "code",
      "execution_count": null,
      "metadata": {
        "id": "SxLP84CMqOlg"
      },
      "outputs": [],
      "source": [
        "#make_umap(german_data_1820_1869, network_features)"
      ],
      "id": "SxLP84CMqOlg"
    },
    {
      "cell_type": "code",
      "execution_count": null,
      "metadata": {
        "id": "qWIaFPeSqOlg"
      },
      "outputs": [],
      "source": [
        "#make_umap(german_data_1870_1920, network_features)"
      ],
      "id": "qWIaFPeSqOlg"
    },
    {
      "cell_type": "markdown",
      "metadata": {
        "id": "S6m299j9qOlg"
      },
      "source": [
        "#### French"
      ],
      "id": "S6m299j9qOlg"
    },
    {
      "cell_type": "code",
      "execution_count": null,
      "metadata": {
        "id": "byvcaQPFqOlg"
      },
      "outputs": [],
      "source": [
        "#make_umap(filtered_french_data, network_features)"
      ],
      "id": "byvcaQPFqOlg"
    },
    {
      "cell_type": "markdown",
      "metadata": {
        "id": "ERamw6T8qOlg"
      },
      "source": [
        "#### French timestamps"
      ],
      "id": "ERamw6T8qOlg"
    },
    {
      "cell_type": "code",
      "execution_count": null,
      "metadata": {
        "id": "MP3yGaokqOlg"
      },
      "outputs": [],
      "source": [
        "#make_umap(french_data_1620_1669, network_features)"
      ],
      "id": "MP3yGaokqOlg"
    },
    {
      "cell_type": "code",
      "execution_count": null,
      "metadata": {
        "id": "J5hp9KuSqOlg"
      },
      "outputs": [],
      "source": [
        "#make_umap(french_data_1670_1719, network_features)"
      ],
      "id": "J5hp9KuSqOlg"
    },
    {
      "cell_type": "code",
      "execution_count": null,
      "metadata": {
        "id": "MZATh4o3qOlg"
      },
      "outputs": [],
      "source": [
        "#make_umap(french_data_1720_1769, network_features)"
      ],
      "id": "MZATh4o3qOlg"
    },
    {
      "cell_type": "code",
      "execution_count": null,
      "metadata": {
        "id": "235jK_o7qOlg"
      },
      "outputs": [],
      "source": [
        "#make_umap(french_data_1770_1819, network_features)"
      ],
      "id": "235jK_o7qOlg"
    },
    {
      "cell_type": "code",
      "execution_count": null,
      "metadata": {
        "id": "Xf4--lieqOlg"
      },
      "outputs": [],
      "source": [
        "#make_umap(french_data_1820_1889, network_features)"
      ],
      "id": "Xf4--lieqOlg"
    },
    {
      "cell_type": "markdown",
      "metadata": {
        "id": "SBgUt8A-qOlg"
      },
      "source": [
        "#### neetowrk PCA"
      ],
      "id": "SBgUt8A-qOlg"
    },
    {
      "cell_type": "markdown",
      "metadata": {
        "id": "mnUdlTrlqOlh"
      },
      "source": [
        "### German"
      ],
      "id": "mnUdlTrlqOlh"
    },
    {
      "cell_type": "code",
      "execution_count": null,
      "metadata": {
        "id": "WKSkFlblt94S"
      },
      "outputs": [],
      "source": [
        "#make_pca(gd, network_features)"
      ],
      "id": "WKSkFlblt94S"
    },
    {
      "cell_type": "markdown",
      "metadata": {
        "id": "p_8hZjjlqOlh"
      },
      "source": [
        "#### German timestamps"
      ],
      "id": "p_8hZjjlqOlh"
    },
    {
      "cell_type": "code",
      "execution_count": null,
      "metadata": {
        "id": "l7SGFp8KqOlh"
      },
      "outputs": [],
      "source": [
        "#make_pca(german_data_1770_1819, network_features)"
      ],
      "id": "l7SGFp8KqOlh"
    },
    {
      "cell_type": "code",
      "execution_count": null,
      "metadata": {
        "id": "od7bFQSbqOlh"
      },
      "outputs": [],
      "source": [
        "#make_pca(german_data_1820_1869, network_features)"
      ],
      "id": "od7bFQSbqOlh"
    },
    {
      "cell_type": "code",
      "execution_count": null,
      "metadata": {
        "id": "1tCG4JMIqOlh"
      },
      "outputs": [],
      "source": [
        "#make_pca(german_data_1870_1920, network_features)"
      ],
      "id": "1tCG4JMIqOlh"
    },
    {
      "cell_type": "markdown",
      "metadata": {
        "id": "xZ7W2Ih-qOlh"
      },
      "source": [
        "### French"
      ],
      "id": "xZ7W2Ih-qOlh"
    },
    {
      "cell_type": "code",
      "execution_count": null,
      "metadata": {
        "id": "XG3nf_YxqOlh"
      },
      "outputs": [],
      "source": [
        "#make_pca(fd, network_features)"
      ],
      "id": "XG3nf_YxqOlh"
    },
    {
      "cell_type": "markdown",
      "metadata": {
        "id": "m384-tV7qOlh"
      },
      "source": [
        "#### French timestamps"
      ],
      "id": "m384-tV7qOlh"
    },
    {
      "cell_type": "code",
      "execution_count": null,
      "metadata": {
        "id": "3LTVwtBkqOlh"
      },
      "outputs": [],
      "source": [
        "#make_pca(french_data_1620_1669, network_features)"
      ],
      "id": "3LTVwtBkqOlh"
    },
    {
      "cell_type": "code",
      "execution_count": null,
      "metadata": {
        "id": "dL6H4H_xqOli"
      },
      "outputs": [],
      "source": [
        "#make_pca(french_data_1670_1719, network_features)"
      ],
      "id": "dL6H4H_xqOli"
    },
    {
      "cell_type": "code",
      "execution_count": null,
      "metadata": {
        "id": "p5JXEgNjqOli"
      },
      "outputs": [],
      "source": [
        "#make_pca(french_data_1720_1769, network_features)"
      ],
      "id": "p5JXEgNjqOli"
    },
    {
      "cell_type": "code",
      "execution_count": null,
      "metadata": {
        "id": "O39h__DoqOli"
      },
      "outputs": [],
      "source": [
        "#make_pca(french_data_1770_1819, network_features)"
      ],
      "id": "O39h__DoqOli"
    },
    {
      "cell_type": "code",
      "execution_count": null,
      "metadata": {
        "id": "UNQPqxqUqOli"
      },
      "outputs": [],
      "source": [
        "#make_pca(french_data_1820_1889, network_features)"
      ],
      "id": "UNQPqxqUqOli"
    },
    {
      "cell_type": "markdown",
      "source": [
        "### PCA for German and French stuff together!"
      ],
      "metadata": {
        "id": "DVMQ1FC4gT21"
      },
      "id": "DVMQ1FC4gT21"
    },
    {
      "cell_type": "code",
      "source": [
        "df_both = pd.concat([gd, fd])"
      ],
      "metadata": {
        "id": "7xq6Ko1WgYPj"
      },
      "id": "7xq6Ko1WgYPj",
      "execution_count": null,
      "outputs": []
    },
    {
      "cell_type": "code",
      "source": [
        "list_features_pyd"
      ],
      "metadata": {
        "id": "B2Yt1seahJHF"
      },
      "id": "B2Yt1seahJHF",
      "execution_count": null,
      "outputs": []
    },
    {
      "cell_type": "code",
      "source": [
        "def attach_lang(row):\n",
        "    #print(some_df.columns)\n",
        "   #genre = row.loc['genre_with_libretto_subgenres']\n",
        "    #lang = row.loc['id']\n",
        "    #lang = some_df['id'].apply(lambda x: x[:3])\n",
        "    lang_specific_genre = lang + genre\n",
        "    return lang_specific_genre"
      ],
      "metadata": {
        "id": "KLAiWHZlckRS"
      },
      "id": "KLAiWHZlckRS",
      "execution_count": null,
      "outputs": []
    },
    {
      "cell_type": "code",
      "source": [
        "df_both['lang'] = df_both['id'].apply(lambda x: x[:3])"
      ],
      "metadata": {
        "id": "EldUxaBkfX0d"
      },
      "id": "EldUxaBkfX0d",
      "execution_count": null,
      "outputs": []
    },
    {
      "cell_type": "code",
      "source": [
        "df_both['lang_genre_with_libretto_subgenres'] = df_both['lang']+' '+df_both['genre_with_libretto_subgenres']"
      ],
      "metadata": {
        "id": "fSBi_ooih0xS"
      },
      "id": "fSBi_ooih0xS",
      "execution_count": null,
      "outputs": []
    },
    {
      "cell_type": "code",
      "source": [
        "df_both['lang_genre_with_libretto_subgenres']"
      ],
      "metadata": {
        "id": "eusdpFtAfpwe"
      },
      "id": "eusdpFtAfpwe",
      "execution_count": null,
      "outputs": []
    },
    {
      "cell_type": "code",
      "source": [
        "df_both['bicolor'] = df_both['lang'].apply(lambda x: 'blue' if x == 'fre' else 'orange')"
      ],
      "metadata": {
        "id": "KcOg8Se9gxwI"
      },
      "id": "KcOg8Se9gxwI",
      "execution_count": null,
      "outputs": []
    },
    {
      "cell_type": "code",
      "source": [
        "def make_pca_bilingual(df, feature_list, output_filename, title):\n",
        "    standardized_data = standardize(df, feature_list)\n",
        "    start = time.time()\n",
        "    pca = PCA(n_components=3)\n",
        "    principalComponents = pca.fit_transform(standardized_data)\n",
        "    print('Duration: {} seconds'.format(time.time() - start))\n",
        "    principal = pd.DataFrame(data = principalComponents\n",
        "                , columns = ['principal component 1', 'principal component 2','principal component 3'])\n",
        "    plot_2d_bilingual(df, principalComponents[:, 0],\n",
        "            principalComponents[:, 1], \n",
        "            output_filename, \n",
        "            title)"
      ],
      "metadata": {
        "id": "jw7QSQhghB7K"
      },
      "id": "jw7QSQhghB7K",
      "execution_count": null,
      "outputs": []
    },
    {
      "cell_type": "code",
      "source": [
        "def plot_2d_bilingual(df, component1, component2, output_filename, title):\n",
        "\n",
        "    df['comp 1'] = component1\n",
        "    df['comp 2'] = component2\n",
        "    pxscatter = px.scatter(df, x='comp 1', y='comp 2', \n",
        "                           color_discrete_sequence=list(df['bicolor'].unique()), # 'lang_color_subgenres'\n",
        "                           color = 'lang',\n",
        "                           #color='lang_genre_with_libretto_subgenres',\n",
        "                           hover_data=['title']\n",
        "                           #text='subtitle'\n",
        "\n",
        "    )\n",
        "\n",
        "    fig = go.Figure(data = pxscatter)\n",
        "    fig.update_traces(marker=dict(size=12,\n",
        "                              line=dict(width=1)),\n",
        "                                        #color='DarkSlateGrey')),\n",
        "                      selector=dict(mode='markers'))\n",
        "    fig.update_layout(margin=dict( l=100,r=100,b=100,t=100),\n",
        "                      width=2000,height=1200,\n",
        "                      font=dict(size=18),\n",
        "                      title=title,\n",
        "                      legend=dict(title=\"Genre\")\n",
        "                      )                 \n",
        "    fig.layout.template = 'plotly'\n",
        "    \n",
        "    fig.show()\n",
        "    fig.write_image(\"output-images/\" + output_filename + \".png\",scale=2)"
      ],
      "metadata": {
        "id": "ryS-VmvwgRO5"
      },
      "id": "ryS-VmvwgRO5",
      "execution_count": null,
      "outputs": []
    },
    {
      "cell_type": "code",
      "source": [
        "make_pca_bilingual(df_both, list_features_pyd, 'PCA both corpora', 'PCA both corpora')"
      ],
      "metadata": {
        "id": "J7z9PYfQgivi"
      },
      "id": "J7z9PYfQgivi",
      "execution_count": null,
      "outputs": []
    },
    {
      "cell_type": "code",
      "source": [
        "df_both['color_subgenres'].unique()"
      ],
      "metadata": {
        "id": "oFaiupmxkqWi"
      },
      "id": "oFaiupmxkqWi",
      "execution_count": null,
      "outputs": []
    },
    {
      "cell_type": "code",
      "source": [
        "german_recolorer = {'blue':'#6495ED',\n",
        "                    'red':'#8B0000',\n",
        "                    'aquamarine':'#00CED1',\n",
        "                    'green':'#8FBC8F',\n",
        "                    'orange':'#F0E68C'}"
      ],
      "metadata": {
        "id": "0Ipg7jF_lFsH"
      },
      "id": "0Ipg7jF_lFsH",
      "execution_count": null,
      "outputs": []
    },
    {
      "cell_type": "code",
      "source": [
        "df_both['lang_color_subgenres'] = df_both.apply(lambda x: x['color_subgenres'] \n",
        "                                                if x['lang'] == 'fre' \n",
        "                                                else german_recolorer[x['color_subgenres']],\n",
        "                                                axis=1)"
      ],
      "metadata": {
        "id": "9bt9LL05sTOT"
      },
      "id": "9bt9LL05sTOT",
      "execution_count": null,
      "outputs": []
    },
    {
      "cell_type": "code",
      "source": [
        "def make_pca_bilingual_genre_aware(df, feature_list, output_filename, title, centroids=False):\n",
        "    standardized_data = standardize(df, feature_list)\n",
        "    start = time.time()\n",
        "    pca = PCA(n_components=3)\n",
        "    principalComponents = pca.fit_transform(standardized_data)\n",
        "    print('Duration: {} seconds'.format(time.time() - start))\n",
        "    principal = pd.DataFrame(data = principalComponents\n",
        "                , columns = ['principal component 1', 'principal component 2','principal component 3'])\n",
        "    if centroids:\n",
        "        plot_2d_bilingual_genre_aware_centroids(df, principalComponents[:, 0],\n",
        "            principalComponents[:, 1], \n",
        "            output_filename, \n",
        "            title)\n",
        "    else:\n",
        "        plot_2d_bilingual_genre_aware(df, principalComponents[:, 0],\n",
        "            principalComponents[:, 1], \n",
        "            output_filename, \n",
        "            title)    \n",
        "\n",
        "\n"
      ],
      "metadata": {
        "id": "m7rn_5o5s3JY"
      },
      "id": "m7rn_5o5s3JY",
      "execution_count": null,
      "outputs": []
    },
    {
      "cell_type": "code",
      "source": [
        "def plot_2d_bilingual_genre_aware(df, component1, component2, output_filename, title):\n",
        "\n",
        "    df['comp 1'] = component1\n",
        "    df['comp 2'] = component2\n",
        "    pxscatter = px.scatter(df, x='comp 1', y='comp 2', \n",
        "                           color_discrete_sequence=list(df['lang_color_subgenres'].unique()), # 'lang_color_subgenres'\n",
        "                           #color = 'lang',\n",
        "                           color='lang_genre_with_libretto_subgenres',\n",
        "                           hover_data=['title']\n",
        "                           #text='subtitle'\n",
        "\n",
        "    )\n",
        "\n",
        "    fig = go.Figure(data = pxscatter)\n",
        "    fig.update_traces(marker=dict(size=12,\n",
        "                              line=dict(width=1)),\n",
        "                                        #color='DarkSlateGrey')),\n",
        "                      selector=dict(mode='markers'))\n",
        "    fig.update_layout(margin=dict( l=100,r=100,b=100,t=100),\n",
        "                      width=2000,height=1200,\n",
        "                      font=dict(size=18),\n",
        "                      title=title,\n",
        "                      legend=dict(title=\"Genre\")\n",
        "                      )                 \n",
        "    fig.layout.template = 'plotly'\n",
        "    \n",
        "    fig.show()\n",
        "    fig.write_image(\"output-images/\" + output_filename + \".png\",scale=2)"
      ],
      "metadata": {
        "id": "V9lrl_avtcEi"
      },
      "id": "V9lrl_avtcEi",
      "execution_count": null,
      "outputs": []
    },
    {
      "cell_type": "code",
      "source": [
        "make_pca_bilingual_genre_aware(df_both, list_features_pyd, 'PCA both corpora', 'PCA both corpora')"
      ],
      "metadata": {
        "id": "21Y-hFpKtnFD"
      },
      "id": "21Y-hFpKtnFD",
      "execution_count": null,
      "outputs": []
    },
    {
      "cell_type": "code",
      "source": [
        "df_libretti_only = df_both[df_both['is_real_libretto']==True]"
      ],
      "metadata": {
        "id": "DwHO6_D5kgSf"
      },
      "id": "DwHO6_D5kgSf",
      "execution_count": null,
      "outputs": []
    },
    {
      "cell_type": "code",
      "source": [
        "df_libretti_only['lang'].value_counts()"
      ],
      "metadata": {
        "id": "G3lwpPWru2kW"
      },
      "id": "G3lwpPWru2kW",
      "execution_count": null,
      "outputs": []
    },
    {
      "cell_type": "code",
      "source": [
        "onlylibr_recolorer = {'aquamarine':'aquamarine',\n",
        "                    '#F0E68C':'#FF8C00',\n",
        "                    '#00CED1':'#FFD700',\n",
        "                    'orange':'#00CED1'}"
      ],
      "metadata": {
        "id": "R2AR78zfzYT-"
      },
      "id": "R2AR78zfzYT-",
      "execution_count": null,
      "outputs": []
    },
    {
      "cell_type": "code",
      "source": [
        "df_libretti_only['lang_color_subgenres'] = df_libretti_only['lang_color_subgenres'].apply(lambda x: onlylibr_recolorer[x])"
      ],
      "metadata": {
        "id": "fOBsCP8j0j2N"
      },
      "id": "fOBsCP8j0j2N",
      "execution_count": null,
      "outputs": []
    },
    {
      "cell_type": "code",
      "source": [
        "make_pca_bilingual_genre_aware(df_libretti_only, list_features_pyd, 'PCA both corpora libretti only', 'PCA both corpora libretti only')"
      ],
      "metadata": {
        "id": "xrj2XiIxvikG"
      },
      "id": "xrj2XiIxvikG",
      "execution_count": null,
      "outputs": []
    },
    {
      "cell_type": "code",
      "source": [
        "def make_tsne_bilingual_genre_aware(df, feature_list, perp, output_filename, title):\n",
        "    standardized_data = standardize(df, feature_list)\n",
        "    start = time.time()\n",
        "    tsne = TSNE(random_state = 42, \n",
        "            n_components=3,\n",
        "            verbose=0, \n",
        "            perplexity=perp, \n",
        "            n_iter=400).fit_transform(standardized_data)\n",
        "    print('Duration: {} seconds'.format(time.time() - start))\n",
        "    plot_2d_bilingual_genre_aware(df, tsne[:, 0], tsne[:, 1], output_filename, title)"
      ],
      "metadata": {
        "id": "yCvpB-tZ2GOI"
      },
      "id": "yCvpB-tZ2GOI",
      "execution_count": null,
      "outputs": []
    },
    {
      "cell_type": "code",
      "source": [
        "make_tsne_bilingual_genre_aware(df_libretti_only, list_features_pyd, 25, 't-SNE both corpora libretti only', 't-SNE both corpora libretti only')"
      ],
      "metadata": {
        "id": "t192VlM22Q5x"
      },
      "id": "t192VlM22Q5x",
      "execution_count": null,
      "outputs": []
    },
    {
      "cell_type": "code",
      "source": [
        "def plot_2d_bilingual_genre_aware_centroids(df, component1, component2, output_filename, title):\n",
        "\n",
        "    df['comp 1'] = component1\n",
        "    df['comp 2'] = component2\n",
        "    pxscatter = px.scatter(df, x='comp 1', y='comp 2', \n",
        "                           color_discrete_sequence=list(df['lang_color_subgenres'].unique()), # 'lang_color_subgenres'\n",
        "                           #color = 'lang',\n",
        "                           color='lang_genre_with_libretto_subgenres',\n",
        "                           hover_data=['title']\n",
        "                           #text='subtitle'\n",
        "\n",
        "    )\n",
        "        \n",
        "\n",
        "\n",
        "    fig = go.Figure(data = pxscatter)\n",
        "    fig.update_traces(marker=dict(size=20,\n",
        "                              line=dict(width=1)),\n",
        "                                        #color='DarkSlateGrey')),\n",
        "                      selector=dict(mode='markers'))\n",
        "    fig.update_layout(margin=dict( l=100,r=100,b=100,t=100),\n",
        "                      width=2000,height=1200,\n",
        "                      font=dict(size=18),\n",
        "                      title=title,\n",
        "                      legend=dict(title=\"Genre\")\n",
        "                      )                 \n",
        "    fig.layout.template = 'plotly'\n",
        "\n",
        "\n",
        "    centroids = df.groupby('lang_genre_with_libretto_subgenres').mean()[['comp 1', 'comp 2']]\n",
        "    fig.add_trace(\n",
        "        go.Scatter(\n",
        "                mode='markers',\n",
        "                x=centroids['comp 1'],\n",
        "                y=centroids['comp 2'],\n",
        "                text=centroids.index,\n",
        "                marker=dict(\n",
        "                    color= df.groupby('lang_genre_with_libretto_subgenres').first()['lang_color_subgenres'], #df['lang_color_subgenres'].unique(),\n",
        "                    size=30,\n",
        "                    symbol=\"x\",\n",
        "                    line=dict(\n",
        "                        color='black',\n",
        "                        width=2\n",
        "                    )\n",
        "                ),\n",
        "                showlegend=False\n",
        "            )\n",
        "    )\n",
        "\n",
        "    \n",
        "    \n",
        "    fig.show()\n",
        "    fig.write_image(\"output-images/\" + output_filename + \".png\",scale=2)"
      ],
      "metadata": {
        "id": "iWd2QGvV4VeI"
      },
      "id": "iWd2QGvV4VeI",
      "execution_count": null,
      "outputs": []
    },
    {
      "cell_type": "code",
      "source": [
        "make_pca_bilingual_genre_aware(df_libretti_only, list_features_pyd, \n",
        "                                'PCA both corpora libretti only', \n",
        "                                'PCA both corpora libretti only',\n",
        "                               centroids=True)"
      ],
      "metadata": {
        "id": "Z7rFTz9s6CoB"
      },
      "id": "Z7rFTz9s6CoB",
      "execution_count": null,
      "outputs": []
    },
    {
      "cell_type": "code",
      "source": [
        "list(df_libretti_only.groupby('lang_genre_with_libretto_subgenres').first()['lang_color_subgenres'])"
      ],
      "metadata": {
        "id": "1KfF03LL4ebW"
      },
      "id": "1KfF03LL4ebW",
      "execution_count": null,
      "outputs": []
    },
    {
      "cell_type": "markdown",
      "metadata": {
        "id": "9xaxCDdW0or9"
      },
      "source": [
        "### LDA "
      ],
      "id": "9xaxCDdW0or9"
    },
    {
      "cell_type": "code",
      "execution_count": null,
      "metadata": {
        "id": "UZ3HX7z0dDCU"
      },
      "outputs": [],
      "source": [
        "from sklearn.discriminant_analysis import LinearDiscriminantAnalysis as LDA"
      ],
      "id": "UZ3HX7z0dDCU"
    },
    {
      "cell_type": "code",
      "execution_count": null,
      "metadata": {
        "id": "E1msRbzylKZs"
      },
      "outputs": [],
      "source": [
        "def make_lda(df, features, filename='some LDA', title='some LDA'):\n",
        "    x = df.loc[:, features].values\n",
        "    x = StandardScaler().fit_transform(x)\n",
        "    \"\"\"LDA is supervised; \n",
        "    it tries to differentiate classes; \n",
        "    so we need to give it classes; in our case they are libretto_or_genre: \n",
        "    here two types of libretti are not differentiated. \n",
        "    But we color them differently in the viz\"\"\"\n",
        "    X_LDA_fitted = LDA(n_components=2).fit(x, df['libretto_or_genre'])\n",
        "    X_LDA = X_LDA_fitted.transform(x)\n",
        "    print(len(X_LDA))\n",
        "    scalings = X_LDA_fitted.scalings_\n",
        "    plot_2d(df, X_LDA[:, 0],X_LDA[:, 1], filename, title)\n"
      ],
      "id": "E1msRbzylKZs"
    },
    {
      "cell_type": "code",
      "execution_count": null,
      "metadata": {
        "id": "cmWiIXjtntXB"
      },
      "outputs": [],
      "source": [
        "make_lda(gd, german_features, 'german_lda', 'german LDA')"
      ],
      "id": "cmWiIXjtntXB"
    },
    {
      "cell_type": "code",
      "execution_count": null,
      "metadata": {
        "id": "thBTDzVwdQCk"
      },
      "outputs": [],
      "source": [
        "#start = time.time()\n",
        "#X_LDA = LDA(n_components=3).fit_transform(x, german_data['libretto_or_genre'])\n",
        "#print('Duration: {} seconds'.format(time.time() - start))\n"
      ],
      "id": "thBTDzVwdQCk"
    },
    {
      "cell_type": "code",
      "execution_count": null,
      "metadata": {
        "id": "XbkDMkwXte3S"
      },
      "outputs": [],
      "source": [
        "make_lda(german_data_1770_1819, german_features, \"german_lda_1770_1819\", \"german_lda_1770_1819\")"
      ],
      "id": "XbkDMkwXte3S"
    },
    {
      "cell_type": "code",
      "execution_count": null,
      "metadata": {
        "id": "tuV5l3hmte3T"
      },
      "outputs": [],
      "source": [
        "make_lda(german_data_1820_1869, german_features, \"german_lda_1820_1869\", \"german_lda_1820_1869\")"
      ],
      "id": "tuV5l3hmte3T"
    },
    {
      "cell_type": "code",
      "execution_count": null,
      "metadata": {
        "id": "SkFTvI2Qte3T"
      },
      "outputs": [],
      "source": [
        "make_lda(german_data_1870_1920, german_features, \"german_lda_1870_1920\",\"german_lda_1870_1920\")"
      ],
      "id": "SkFTvI2Qte3T"
    },
    {
      "cell_type": "markdown",
      "metadata": {
        "id": "R76a4r4vuZjS"
      },
      "source": [
        "### French LDA"
      ],
      "id": "R76a4r4vuZjS"
    },
    {
      "cell_type": "code",
      "execution_count": null,
      "metadata": {
        "id": "f6Wp-61PuWj-"
      },
      "outputs": [],
      "source": [
        "make_lda(filtered_french_data, french_features, 'french_lda', 'French LDA')"
      ],
      "id": "f6Wp-61PuWj-"
    },
    {
      "cell_type": "code",
      "execution_count": null,
      "metadata": {
        "id": "y8-lcuesutnG"
      },
      "outputs": [],
      "source": [
        "make_lda(french_data_1620_1669, french_features, \"french_lda_1620_1669\", \"french_lda_1620_1669\")"
      ],
      "id": "y8-lcuesutnG"
    },
    {
      "cell_type": "code",
      "execution_count": null,
      "metadata": {
        "id": "PInpAhRxutnG"
      },
      "outputs": [],
      "source": [
        "make_lda(french_data_1670_1719, french_features, \"french_lda_1670_1719\", \"french_lda_1670_1719\")"
      ],
      "id": "PInpAhRxutnG"
    },
    {
      "cell_type": "code",
      "execution_count": null,
      "metadata": {
        "id": "-sr6e0pwutnG"
      },
      "outputs": [],
      "source": [
        "make_lda(french_data_1720_1769, french_features, \"french_lda_1720_1769\", \"french_lda_1720_1769\")"
      ],
      "id": "-sr6e0pwutnG"
    },
    {
      "cell_type": "code",
      "execution_count": null,
      "metadata": {
        "id": "Q31C1PQGutnG"
      },
      "outputs": [],
      "source": [
        "make_lda(french_data_1770_1819, french_features, \"french_lda_1770_1819\", \"french_lda_1770_1819\")"
      ],
      "id": "Q31C1PQGutnG"
    },
    {
      "cell_type": "code",
      "execution_count": null,
      "metadata": {
        "id": "qTkpwg1mutnH"
      },
      "outputs": [],
      "source": [
        "make_lda(french_data_1820_1889, french_features, \"french_lda_1820_1889\", \"french_lda_1820_1889\")"
      ],
      "id": "qTkpwg1mutnH"
    },
    {
      "cell_type": "markdown",
      "metadata": {
        "id": "zqzhNQgVwayA"
      },
      "source": [
        "### LDA feature importance and interpretation"
      ],
      "id": "zqzhNQgVwayA"
    },
    {
      "cell_type": "markdown",
      "source": [
        "1. LDA with feature vectors plotted:"
      ],
      "metadata": {
        "id": "AaSZFwzg05YC"
      },
      "id": "AaSZFwzg05YC"
    },
    {
      "cell_type": "code",
      "source": [
        "def plot_2d_vectors(df, features, component1, component2, scalings, filename, title):\n",
        "    feature_vectors = []\n",
        "    for i in range(len(features)):\n",
        "        new_feature_vector = go.Scatter(x = [0,scalings[i][0]],\n",
        "                     y = [0,scalings[i][1]],\n",
        "                     marker = dict(size = 1,\n",
        "                                    color = \"black\"),\n",
        "                     line = dict(color = \"violet\",\n",
        "                                width = 6),\n",
        "                     name = features[i],\n",
        "                     text = features[i],\n",
        "                     mode = 'lines+markers+text'\n",
        "                     )\n",
        "        feature_vectors.append(new_feature_vector)\n",
        "    \n",
        "\n",
        "    full_plot = go.Scatter(\n",
        "        x = component1,\n",
        "        y = component2,\n",
        "        mode='markers',\n",
        "        marker=dict(\n",
        "            size=20,\n",
        "            color=df['color'], #set color equal to a variable\n",
        "            colorscale='Rainbow', # one of plotly colorscales\n",
        "            showscale=True,\n",
        "            line_width=1\n",
        "        ),\n",
        "        text=df['name']\n",
        "    )\n",
        "    all_data_to_plot = [full_plot]\n",
        "    all_data_to_plot.extend(feature_vectors)\n",
        "    fig = go.Figure(data=all_data_to_plot)\n",
        "    fig.update_layout(margin=dict( l=100,r=100,b=100,t=100),width=2000,height=1200, font=dict(size=18),\n",
        "                      title=title)                 \n",
        "    fig.layout.template = 'plotly'\n",
        "        \n",
        "    fig.write_image(\"output-images/\" + filename + \".png\",scale=2)\n",
        "    fig.show()"
      ],
      "metadata": {
        "id": "8bm6x3WN1pP7"
      },
      "id": "8bm6x3WN1pP7",
      "execution_count": null,
      "outputs": []
    },
    {
      "cell_type": "code",
      "source": [
        "def make_lda(df, features, filename='some LDA', title='some LDA'):\n",
        "    x = df.loc[:, features].values\n",
        "    x = StandardScaler().fit_transform(x)\n",
        "    \"\"\"LDA is supervised; \n",
        "    it tries to differentiate classes; \n",
        "    so we need to give it classes; in our case they are libretto_or_genre: \n",
        "    here two types of libretti are not differentiated. \n",
        "    But we color them differently in the viz\"\"\"\n",
        "    X_LDA_fitted = LDA(n_components=2).fit(x, df['libretto_or_genre'])\n",
        "    X_LDA = X_LDA_fitted.transform(x)\n",
        "    scalings = X_LDA_fitted.scalings_\n",
        "    plot_2d_vectors(df, features, X_LDA[:, 0], X_LDA[:, 1], scalings, filename, title)\n"
      ],
      "metadata": {
        "id": "5ZQPIHCs1ttX"
      },
      "id": "5ZQPIHCs1ttX",
      "execution_count": null,
      "outputs": []
    },
    {
      "cell_type": "code",
      "source": [],
      "metadata": {
        "id": "t_Ws2QVf3E7B"
      },
      "id": "t_Ws2QVf3E7B",
      "execution_count": null,
      "outputs": []
    },
    {
      "cell_type": "code",
      "execution_count": null,
      "metadata": {
        "id": "pb061u943FPh"
      },
      "outputs": [],
      "source": [
        "make_lda(gd, german_features, 'german_lda_features', 'German LDA with feature vectors')"
      ],
      "id": "pb061u943FPh"
    },
    {
      "cell_type": "code",
      "execution_count": null,
      "metadata": {
        "id": "0Bg3qGon3FPi"
      },
      "outputs": [],
      "source": [
        "#start = time.time()\n",
        "#X_LDA = LDA(n_components=3).fit_transform(x, german_data['libretto_or_genre'])\n",
        "#print('Duration: {} seconds'.format(time.time() - start))\n"
      ],
      "id": "0Bg3qGon3FPi"
    },
    {
      "cell_type": "code",
      "execution_count": null,
      "metadata": {
        "id": "7_cGSPbX3FPi"
      },
      "outputs": [],
      "source": [
        "make_lda(german_data_1770_1819, german_features, \"german_lda_1770_1819_w_features\", \"german_lda_1770_1819 with features\")"
      ],
      "id": "7_cGSPbX3FPi"
    },
    {
      "cell_type": "code",
      "execution_count": null,
      "metadata": {
        "id": "bTdPVtcj3FPi"
      },
      "outputs": [],
      "source": [
        "make_lda(german_data_1820_1869, german_features, \"german_lda_1820_1869_w_features\", \"german_lda_1820_1869_w_features\")"
      ],
      "id": "bTdPVtcj3FPi"
    },
    {
      "cell_type": "code",
      "execution_count": null,
      "metadata": {
        "id": "2tZiQKH43FPi"
      },
      "outputs": [],
      "source": [
        "make_lda(german_data_1870_1920, german_features, \"german_lda_1870_1920_w_features\",\"german_lda_1870_1920_w_features\")"
      ],
      "id": "2tZiQKH43FPi"
    },
    {
      "cell_type": "markdown",
      "metadata": {
        "id": "eNSFprAt3FPi"
      },
      "source": [
        "### French LDA"
      ],
      "id": "eNSFprAt3FPi"
    },
    {
      "cell_type": "code",
      "execution_count": null,
      "metadata": {
        "id": "8l0HpkOi3FPi"
      },
      "outputs": [],
      "source": [
        "make_lda(filtered_french_data, french_features, 'french_lda_with_features', 'French LDA with feature vectors')"
      ],
      "id": "8l0HpkOi3FPi"
    },
    {
      "cell_type": "code",
      "execution_count": null,
      "metadata": {
        "id": "_ecD2tkj3FPi"
      },
      "outputs": [],
      "source": [
        "make_lda(french_data_1620_1669, french_features, \"french_lda_1620_1669_w_features\", \"french_lda_1620_1669_w_features\")"
      ],
      "id": "_ecD2tkj3FPi"
    },
    {
      "cell_type": "code",
      "execution_count": null,
      "metadata": {
        "id": "rgbXarI83FPi"
      },
      "outputs": [],
      "source": [
        "make_lda(french_data_1670_1719, french_features, \"french_lda_1670_1719_w_features\", \"french_lda_1670_1719_w_features\")"
      ],
      "id": "rgbXarI83FPi"
    },
    {
      "cell_type": "code",
      "execution_count": null,
      "metadata": {
        "id": "fILB0xq13FPj"
      },
      "outputs": [],
      "source": [
        "make_lda(french_data_1720_1769, french_features, \"french_lda_1720_1769_w_features\", \"french_lda_1720_1769_w_features\")"
      ],
      "id": "fILB0xq13FPj"
    },
    {
      "cell_type": "code",
      "execution_count": null,
      "metadata": {
        "id": "cFI1UFuc3FPj"
      },
      "outputs": [],
      "source": [
        "make_lda(french_data_1770_1819, french_features, \"french_lda_1770_1819_w_features\", \"french_lda_1770_1819_w_features\")"
      ],
      "id": "cFI1UFuc3FPj"
    },
    {
      "cell_type": "code",
      "execution_count": null,
      "metadata": {
        "id": "IJ_1rVh43FPj"
      },
      "outputs": [],
      "source": [
        "make_lda(french_data_1820_1889, french_features, \"french_lda_1820_1889_w_features\", \"french_lda_1820_1889_w_features\")"
      ],
      "id": "IJ_1rVh43FPj"
    },
    {
      "cell_type": "markdown",
      "source": [
        "### Median values for significant features"
      ],
      "metadata": {
        "id": "oOSMEvXtt_eB"
      },
      "id": "oOSMEvXtt_eB"
    },
    {
      "cell_type": "markdown",
      "source": [
        "German"
      ],
      "metadata": {
        "id": "pw3h1ZfIux0Q"
      },
      "id": "pw3h1ZfIux0Q"
    },
    {
      "cell_type": "code",
      "source": [
        "gdm = filtered_german_data.groupby('libretto_or_genre').median()\n",
        "gdm[\n",
        "    ['word_count_stage', \n",
        "    'word_count_sp',\n",
        "    'num_of_segments', \n",
        "    'num_of_person_groups',\n",
        "    'average_degree',\n",
        "     'density']\n",
        "    ]"
      ],
      "metadata": {
        "id": "3WuHvjEbuAXT"
      },
      "id": "3WuHvjEbuAXT",
      "execution_count": null,
      "outputs": []
    },
    {
      "cell_type": "markdown",
      "source": [
        "French"
      ],
      "metadata": {
        "id": "k2geazfDu4am"
      },
      "id": "k2geazfDu4am"
    },
    {
      "cell_type": "code",
      "source": [
        "fdm = filtered_french_data.groupby('libretto_or_genre').median()\n",
        "fdm[\n",
        "    ['word_count_stage', \n",
        "    'word_count_sp',\n",
        "    'num_of_speakers', \n",
        "    'num_connected_components',\n",
        "    'average_degree',\n",
        "     'average_clustering',\n",
        "     'density']\n",
        "    ]"
      ],
      "metadata": {
        "id": "R5e0gsmIu4an"
      },
      "execution_count": null,
      "outputs": [],
      "id": "R5e0gsmIu4an"
    },
    {
      "cell_type": "code",
      "source": [
        "filtered_french_data['num_connected_components'].hist(bins=10)"
      ],
      "metadata": {
        "id": "KuMLAjW1wvE_"
      },
      "id": "KuMLAjW1wvE_",
      "execution_count": null,
      "outputs": []
    },
    {
      "cell_type": "code",
      "source": [
        "fdm = filtered_french_data.groupby('libretto_or_genre').mean()\n",
        "fdm[\n",
        "    ['word_count_stage', \n",
        "    'word_count_sp',\n",
        "    'num_of_speakers', \n",
        "    'num_connected_components',\n",
        "    'average_degree',\n",
        "     'average_clustering',\n",
        "     'density']\n",
        "    ]"
      ],
      "metadata": {
        "id": "H9NkwqX9xF19"
      },
      "id": "H9NkwqX9xF19",
      "execution_count": null,
      "outputs": []
    },
    {
      "cell_type": "markdown",
      "source": [
        "### Compute distance between points\n",
        "... to see if libretti are getting nearer and nearer through centuries (genrification process)."
      ],
      "metadata": {
        "id": "MuCEl8RhpaN_"
      },
      "id": "MuCEl8RhpaN_"
    },
    {
      "cell_type": "code",
      "source": [
        "# the coordinates we need are inside the make_lda_function\n",
        "# and called as X_LDA[:, 0] and X_LDA[:, 1]\n",
        "# first we store them in some way\n",
        "\n",
        "def get_libretti_coord_from_lda(df, features):\n",
        "\n",
        "\n",
        "    df = df.reset_index()\n",
        "\n",
        "    x = df.loc[:, features].values\n",
        "    x = StandardScaler().fit_transform(x)\n",
        "    \n",
        "    X_LDA_fitted = LDA(n_components=2).fit(x, df['libretto_or_genre']) #something like this\n",
        "\n",
        "    X_LDA = X_LDA_fitted.transform(x)\n",
        "    #scalings = X_LDA_fitted.scalings_\n",
        "\n",
        "\n",
        "    #here we should get only data on libretti\n",
        "\n",
        "\n",
        "    #we should store all pairs of x, y in arrays (one for each libretto) \n",
        "    libretti_index = df[df['is_real_libretto'] == True].index\n",
        "\n",
        "    #list of libretti \n",
        "    #print(len(X_LDA))\n",
        "    #print(len(libretti_index))\n",
        "    libretti_coords_list = [X_LDA[i] for i in libretti_index]\n",
        "    #print(len(libretti_coords_list))\n",
        "    return libretti_coords_list"
      ],
      "metadata": {
        "id": "8Ozinh2opjhW"
      },
      "id": "8Ozinh2opjhW",
      "execution_count": null,
      "outputs": []
    },
    {
      "cell_type": "code",
      "source": [
        "from itertools import combinations"
      ],
      "metadata": {
        "id": "sfXbViXrZZn1"
      },
      "id": "sfXbViXrZZn1",
      "execution_count": null,
      "outputs": []
    },
    {
      "cell_type": "code",
      "source": [
        "#compute distance for each pair of libretti\n",
        "#see https://datascienceparichay.com/article/distance-between-two-points-python/\n",
        "\n",
        "def get_mean_dist_from_coord_list(coord_list):\n",
        "    distances_list = []\n",
        "    dot_pairs = combinations(coord_list, 2) # all pairs of dots in the list\n",
        "    for pair in dot_pairs:\n",
        "        distance = np.linalg.norm(pair[0]-pair[1])\n",
        "        distances_list.append(distance)\n",
        "\n",
        "    #mean of all distances\n",
        "    #the lower it is, the nearer the libretti should be\n",
        "\n",
        "    return np.mean(distances_list) \n"
      ],
      "metadata": {
        "id": "QP40uer7rjsg"
      },
      "id": "QP40uer7rjsg",
      "execution_count": null,
      "outputs": []
    },
    {
      "cell_type": "code",
      "source": [
        "def lib_mean_dist(df, title):\n",
        "    if 'german' in title:\n",
        "        features = german_features\n",
        "    else:\n",
        "        features = french_features\n",
        "    coord_list = get_libretti_coord_from_lda(df, features)\n",
        "    mean_dist = get_mean_dist_from_coord_list(coord_list)\n",
        "    print(title)\n",
        "    print('mean LDA distance between libretti:', mean_dist)"
      ],
      "metadata": {
        "id": "owPGEzCkXgD-"
      },
      "id": "owPGEzCkXgD-",
      "execution_count": null,
      "outputs": []
    },
    {
      "cell_type": "code",
      "source": [
        "titles_and_dfs = {'german 1770 - 1819':german_data_1770_1819,\n",
        "'german 1820 - 1869':german_data_1820_1869,\n",
        "'german 1870 - 1920':german_data_1870_1920,\n",
        "'french 1620 - 1669':french_data_1620_1669,\n",
        "'french 1670 - 1719':french_data_1670_1719,\n",
        "'french 1720 - 1769':french_data_1720_1769,\n",
        "'french 1770 - 1819':french_data_1770_1819,\n",
        "'french 1820 - 1889':french_data_1820_1889}"
      ],
      "metadata": {
        "id": "Y8MrsmVjVaFD"
      },
      "id": "Y8MrsmVjVaFD",
      "execution_count": null,
      "outputs": []
    },
    {
      "cell_type": "code",
      "source": [
        "for title in titles_and_dfs:\n",
        "    lib_mean_dist(titles_and_dfs[title], title)\n"
      ],
      "metadata": {
        "id": "fEtobFVwXQAI"
      },
      "id": "fEtobFVwXQAI",
      "execution_count": null,
      "outputs": []
    },
    {
      "cell_type": "markdown",
      "source": [
        "### Distances between periods on one single LDA model"
      ],
      "metadata": {
        "id": "sAJuUd5ppuU2"
      },
      "id": "sAJuUd5ppuU2"
    },
    {
      "cell_type": "code",
      "source": [
        "titles_and_dates = [\n",
        "    {'german 1770 - 1819':(1770,1819),\n",
        "     'german 1820 - 1869':(1820,1869),\n",
        "     'german 1870 - 1920':(1870,1920)\n",
        "    },\n",
        "    {'french 1620 - 1669':(1620,1669),\n",
        "      'french 1670 - 1719':(1670,1719),\n",
        "      'french 1720 - 1769':(1720,1769),\n",
        "      'french 1770 - 1819':(1770,1819),\n",
        "      'french 1820 - 1889':(1820,1889)\n",
        "    }\n",
        "]"
      ],
      "metadata": {
        "id": "eoJJf5V4YIvv"
      },
      "id": "eoJJf5V4YIvv",
      "execution_count": null,
      "outputs": []
    },
    {
      "cell_type": "code",
      "source": [
        "def output_X_LDA(df, features):\n",
        "    x = df.loc[:, features].values\n",
        "    x = StandardScaler().fit_transform(x)\n",
        "    \n",
        "    X_LDA_fitted = LDA(n_components=2).fit(x, df['libretto_or_genre'])\n",
        "\n",
        "    X_LDA = X_LDA_fitted.transform(x)\n",
        "    return X_LDA\n",
        "    #scalings = X_LDA_fitted.scalings_"
      ],
      "metadata": {
        "id": "SNKw_hsHXk-r"
      },
      "id": "SNKw_hsHXk-r",
      "execution_count": null,
      "outputs": []
    },
    {
      "cell_type": "code",
      "source": [
        "def get_libretti_for_timeframe_coord_from_lda(df, XLDA, start, end):\n",
        "\n",
        "\n",
        "    #here we should get only data on libretti\n",
        "\n",
        "\n",
        "    #we should store all pairs of x, y in arrays (one for each libretto) \n",
        "    libretti_index = df[(df['is_real_libretto'] == True) & \n",
        "                        (df['year_normalized'] >= start) & \n",
        "                        (df['year_normalized'] <= end)].index\n",
        "\n",
        "\n",
        "    print('Number of libretti:', len(libretti_index))\n",
        "    libretti_coords_list = [XLDA[i] for i in libretti_index]\n",
        "    #print(len(libretti_coords_list))\n",
        "    return libretti_coords_list"
      ],
      "metadata": {
        "id": "H52qGI3uWEXn"
      },
      "id": "H52qGI3uWEXn",
      "execution_count": null,
      "outputs": []
    },
    {
      "cell_type": "code",
      "source": [
        "def lib_mean_dist(df, title, timeframe, XLDA):\n",
        "    coord_list = get_libretti_for_timeframe_coord_from_lda(df, \n",
        "                                                           XLDA, \n",
        "                                                           timeframe[0], \n",
        "                                                           timeframe[1])\n",
        "    mean_dist = get_mean_dist_from_coord_list(coord_list)\n",
        "    print('mean LDA distance between libretti:', mean_dist)\n",
        "    print()"
      ],
      "metadata": {
        "id": "55uZvT_TaF9j"
      },
      "id": "55uZvT_TaF9j",
      "execution_count": null,
      "outputs": []
    },
    {
      "cell_type": "code",
      "source": [
        "dfs = [gd, fd]\n",
        "feats = [german_features, french_features]\n",
        "for index, df in enumerate(dfs):\n",
        "    df = df.reset_index()\n",
        "    XLDA = output_X_LDA(df, feats[index])\n",
        "    current_titles_and_dates = titles_and_dates[index]\n",
        "    for title in current_titles_and_dates:\n",
        "        print(title)\n",
        "        lib_mean_dist(df, title, current_titles_and_dates[title], XLDA)\n"
      ],
      "metadata": {
        "id": "Wg-qBN7EaT3I"
      },
      "id": "Wg-qBN7EaT3I",
      "execution_count": null,
      "outputs": []
    },
    {
      "cell_type": "markdown",
      "source": [
        "trying median"
      ],
      "metadata": {
        "id": "aC7yDmJqtWSb"
      },
      "id": "aC7yDmJqtWSb"
    },
    {
      "cell_type": "code",
      "source": [
        "def lib_median_dist(df, title, timeframe, XLDA):\n",
        "    coord_list = get_libretti_for_timeframe_coord_from_lda(df, \n",
        "                                                           XLDA, \n",
        "                                                           timeframe[0], \n",
        "                                                           timeframe[1])\n",
        "    median_dist = get_median_dist_from_coord_list(coord_list)\n",
        "    print('median LDA distance between libretti:', median_dist)\n",
        "    print()"
      ],
      "metadata": {
        "id": "GxYo23AitFuj"
      },
      "id": "GxYo23AitFuj",
      "execution_count": null,
      "outputs": []
    },
    {
      "cell_type": "code",
      "source": [
        "#compute distance for each pair of libretti\n",
        "#see https://datascienceparichay.com/article/distance-between-two-points-python/\n",
        "\n",
        "def get_median_dist_from_coord_list(coord_list):\n",
        "    distances_list = []\n",
        "    dot_pairs = combinations(coord_list, 2) # all pairs of dots in the list\n",
        "    for pair in dot_pairs:\n",
        "        distance = np.linalg.norm(pair[0]-pair[1])\n",
        "        distances_list.append(distance)\n",
        "\n",
        "    #mean of all distances\n",
        "    #the lower it is, the nearer the libretti should be\n",
        "\n",
        "    return np.median(distances_list) \n"
      ],
      "metadata": {
        "id": "0ZC_-QRxtRB9"
      },
      "id": "0ZC_-QRxtRB9",
      "execution_count": null,
      "outputs": []
    },
    {
      "cell_type": "code",
      "source": [
        "dfs = [gd, fd]\n",
        "feats = [german_features, french_features]\n",
        "for index, df in enumerate(dfs):\n",
        "    df = df.reset_index()\n",
        "    XLDA = output_X_LDA(df, feats[index])\n",
        "    current_titles_and_dates = titles_and_dates[index]\n",
        "    for title in current_titles_and_dates:\n",
        "        print(title)\n",
        "        lib_median_dist(df, title, current_titles_and_dates[title], XLDA)"
      ],
      "metadata": {
        "id": "0g_yPT4btYRx"
      },
      "id": "0g_yPT4btYRx",
      "execution_count": null,
      "outputs": []
    },
    {
      "cell_type": "markdown",
      "source": [
        "### Distances on original features"
      ],
      "metadata": {
        "id": "rDAnlse_poUs"
      },
      "id": "rDAnlse_poUs"
    },
    {
      "cell_type": "code",
      "source": [
        "from scipy import spatial\n"
      ],
      "metadata": {
        "id": "Z5kAiUtguTXU"
      },
      "id": "Z5kAiUtguTXU",
      "execution_count": null,
      "outputs": []
    },
    {
      "cell_type": "code",
      "source": [
        "#from sklearn import metrics"
      ],
      "metadata": {
        "id": "XjSx080TwTRg"
      },
      "id": "XjSx080TwTRg",
      "execution_count": null,
      "outputs": []
    },
    {
      "cell_type": "code",
      "source": [
        "#for df in dfs:\n",
        "#index = filtered_german_data['name']\n",
        "def get_mean_euclidean(df, features):\n",
        "    x = df.loc[:, features].values\n",
        "    x = StandardScaler().fit_transform(x)\n",
        "    #distances = metrics.pairwise.euclidean_distances(x)\n",
        "    distances = spatial.distance.pdist(x)\n",
        "\n",
        "    print(np.mean(distances))"
      ],
      "metadata": {
        "id": "uHy_SiH2tw1O"
      },
      "id": "uHy_SiH2tw1O",
      "execution_count": null,
      "outputs": []
    },
    {
      "cell_type": "code",
      "source": [
        "def get_mean_euclidean_time_slice(df, scalings, features, timeframe):\n",
        "    #distances = metrics.pairwise.euclidean_distances(x)\n",
        "    start = timeframe[0]\n",
        "    end = timeframe[1]\n",
        "    period_libretti_index = df[(df['is_real_libretto'] == True) & \n",
        "                        (df['year_normalized'] >= start) & \n",
        "                        (df['year_normalized'] <= end)].index\n",
        "    period_libretti_vectors_list = [scalings[i] for i in period_libretti_index]\n",
        "    print('number of libretti:', len(period_libretti_vectors_list))\n",
        "    distances = spatial.distance.pdist(period_libretti_vectors_list)\n",
        "    print('mean euclidean distance between normalized features:', np.mean(distances))\n",
        "    print()"
      ],
      "metadata": {
        "id": "uPYpwzrFyHGc"
      },
      "id": "uPYpwzrFyHGc",
      "execution_count": null,
      "outputs": []
    },
    {
      "cell_type": "code",
      "source": [
        "for index, df in enumerate(dfs):\n",
        "    current_titles_and_dates = titles_and_dates[index]\n",
        "    features = feats[index]\n",
        "    x = df.loc[:, features].values\n",
        "    x = StandardScaler().fit_transform(x)\n",
        "    df = df.reset_index()\n",
        "    for title in current_titles_and_dates:\n",
        "        print(title)\n",
        "        timeframe = current_titles_and_dates[title]\n",
        "        get_mean_euclidean_time_slice(df, x, features, timeframe)\n"
      ],
      "metadata": {
        "id": "rzHeIO36y00u"
      },
      "id": "rzHeIO36y00u",
      "execution_count": null,
      "outputs": []
    },
    {
      "cell_type": "markdown",
      "metadata": {
        "id": "v25w-9KYwo43"
      },
      "source": [
        "## Boxplots for individual features"
      ],
      "id": "v25w-9KYwo43"
    },
    {
      "cell_type": "markdown",
      "metadata": {
        "id": "ds8KlP3y0Dng"
      },
      "source": [
        "#### 1. number of segments in libretti (attr+mark) vs. the rest\n",
        "hypothesis: libretti should have less segments because they use act as the main unit"
      ],
      "id": "ds8KlP3y0Dng"
    },
    {
      "cell_type": "code",
      "execution_count": null,
      "metadata": {
        "id": "e7hIGYRS2BwY"
      },
      "outputs": [],
      "source": [
        "#code"
      ],
      "id": "e7hIGYRS2BwY"
    },
    {
      "cell_type": "markdown",
      "source": [
        "#### German"
      ],
      "metadata": {
        "id": "J-DJYCvXcGBN"
      },
      "id": "J-DJYCvXcGBN"
    },
    {
      "cell_type": "code",
      "source": [
        "german_features"
      ],
      "metadata": {
        "id": "IjD4JR5JRt1T"
      },
      "id": "IjD4JR5JRt1T",
      "execution_count": null,
      "outputs": []
    },
    {
      "cell_type": "code",
      "source": [
        "gd.boxplot(column='num_of_segments', \n",
        "                             by='is_real_libretto',\n",
        "                             figsize = (15, 15))"
      ],
      "metadata": {
        "id": "LP5J80ybex8p"
      },
      "id": "LP5J80ybex8p",
      "execution_count": null,
      "outputs": []
    },
    {
      "cell_type": "markdown",
      "source": [
        "German without ourliers:"
      ],
      "metadata": {
        "id": "fHEQdx42hC38"
      },
      "id": "fHEQdx42hC38"
    },
    {
      "cell_type": "code",
      "source": [
        "german_no_num_seg_outliers = gd[(np.abs(stats.zscore(gd['num_of_segments'])) < 3)]"
      ],
      "metadata": {
        "id": "gmesn4jFf7oE"
      },
      "id": "gmesn4jFf7oE",
      "execution_count": null,
      "outputs": []
    },
    {
      "cell_type": "code",
      "source": [
        "german_no_num_seg_outliers.boxplot(column='num_of_segments', \n",
        "                             by='is_real_libretto',\n",
        "                             figsize = (15, 15))"
      ],
      "metadata": {
        "id": "X3aDD2Uuia4u"
      },
      "id": "X3aDD2Uuia4u",
      "execution_count": null,
      "outputs": []
    },
    {
      "cell_type": "code",
      "source": [
        "#german_no_num_seg_outliers['libretto_or_genre'] = german_no_num_seg_outliers['libretto_or_genre'].replace('Libretto (attributed)', \n",
        "                                                                                                          #'Libretto')"
      ],
      "metadata": {
        "id": "UTNCA2Tq-IyJ"
      },
      "id": "UTNCA2Tq-IyJ",
      "execution_count": null,
      "outputs": []
    },
    {
      "cell_type": "code",
      "source": [
        "german_no_num_seg_outliers.boxplot(column='num_of_segments', \n",
        "                             by='libretto_or_genre',\n",
        "                             figsize = (15, 15))"
      ],
      "metadata": {
        "id": "72Yc6kNU9bzg"
      },
      "id": "72Yc6kNU9bzg",
      "execution_count": null,
      "outputs": []
    },
    {
      "cell_type": "markdown",
      "source": [
        "#### Word Count stage"
      ],
      "metadata": {
        "id": "bHGBs-1ftb2Z"
      },
      "id": "bHGBs-1ftb2Z"
    },
    {
      "cell_type": "code",
      "source": [
        "gd.boxplot(column='word_count_stage', \n",
        "                             by='libretto_or_genre',\n",
        "                             figsize = (15, 15))"
      ],
      "metadata": {
        "id": "3FOnN8DQUNhT"
      },
      "id": "3FOnN8DQUNhT",
      "execution_count": null,
      "outputs": []
    },
    {
      "cell_type": "code",
      "source": [
        "german_no_wcstage_outliers = gd[(np.abs(stats.zscore(gd['word_count_stage'])) < 3)]"
      ],
      "metadata": {
        "id": "4Yu5AEehaI-Y"
      },
      "id": "4Yu5AEehaI-Y",
      "execution_count": null,
      "outputs": []
    },
    {
      "cell_type": "code",
      "source": [
        "german_no_wcstage_outliers.boxplot(column='word_count_stage', \n",
        "                             by='libretto_or_genre',\n",
        "                             figsize = (15, 15))"
      ],
      "metadata": {
        "id": "_Ukaus73aPow"
      },
      "id": "_Ukaus73aPow",
      "execution_count": null,
      "outputs": []
    },
    {
      "cell_type": "code",
      "source": [
        "filtered_german_data.groupby('libretto_or_genre').median()['word_count_stage'].plot.bar()"
      ],
      "metadata": {
        "id": "jyVv98CeXBR6"
      },
      "id": "jyVv98CeXBR6",
      "execution_count": null,
      "outputs": []
    },
    {
      "cell_type": "code",
      "source": [
        "german_no_num_seg_outliers.columns"
      ],
      "metadata": {
        "id": "4W81N5uocIUe"
      },
      "id": "4W81N5uocIUe",
      "execution_count": null,
      "outputs": []
    },
    {
      "cell_type": "code",
      "source": [
        "german_no_num_seg_outliers.boxplot(column='word_count_sp', \n",
        "                             by='genre_with_libretto_subgenres',\n",
        "                             figsize = (15, 15))"
      ],
      "metadata": {
        "id": "TIZBgMlgcEoP"
      },
      "id": "TIZBgMlgcEoP",
      "execution_count": null,
      "outputs": []
    },
    {
      "cell_type": "markdown",
      "source": [
        "#### French"
      ],
      "metadata": {
        "id": "fBUDwC-yf-mr"
      },
      "id": "fBUDwC-yf-mr"
    },
    {
      "cell_type": "code",
      "source": [
        "french_features"
      ],
      "metadata": {
        "id": "QrGvLCUyR0z4"
      },
      "id": "QrGvLCUyR0z4",
      "execution_count": null,
      "outputs": []
    },
    {
      "cell_type": "code",
      "source": [
        "fd.boxplot(column='num_of_segments', \n",
        "                             by='is_real_libretto',\n",
        "                             figsize = (15, 15))"
      ],
      "metadata": {
        "id": "rw9-fFrVgAoj"
      },
      "id": "rw9-fFrVgAoj",
      "execution_count": null,
      "outputs": []
    },
    {
      "cell_type": "code",
      "source": [
        "french_no_num_seg_outliers = fd[(np.abs(stats.zscore(fd['num_of_segments'])) < 3)]"
      ],
      "metadata": {
        "id": "akLr3jNKkiKM"
      },
      "id": "akLr3jNKkiKM",
      "execution_count": null,
      "outputs": []
    },
    {
      "cell_type": "code",
      "source": [
        "french_no_num_seg_outliers.boxplot(column='num_of_segments', \n",
        "                             by='is_real_libretto',\n",
        "                             figsize = (15, 15))"
      ],
      "metadata": {
        "id": "jiAD6zk6krrM"
      },
      "id": "jiAD6zk6krrM",
      "execution_count": null,
      "outputs": []
    },
    {
      "cell_type": "markdown",
      "source": [
        "#### split by genre"
      ],
      "metadata": {
        "id": "850fdXsL9YDZ"
      },
      "id": "850fdXsL9YDZ"
    },
    {
      "cell_type": "code",
      "source": [
        "french_no_num_seg_outliers.boxplot(column='num_of_segments', \n",
        "                             by='libretto_or_genre',\n",
        "                             figsize = (15, 15))"
      ],
      "metadata": {
        "id": "ZmmPoRiz9KOI"
      },
      "id": "ZmmPoRiz9KOI",
      "execution_count": null,
      "outputs": []
    },
    {
      "cell_type": "markdown",
      "source": [
        "Word count stage"
      ],
      "metadata": {
        "id": "vMYWOeQltmoQ"
      },
      "id": "vMYWOeQltmoQ"
    },
    {
      "cell_type": "code",
      "source": [
        "filtered_french_data.boxplot(column='word_count_stage', \n",
        "                             by='libretto_or_genre',\n",
        "                             figsize = (15, 15))"
      ],
      "metadata": {
        "id": "ekXvNemcVf0g"
      },
      "id": "ekXvNemcVf0g",
      "execution_count": null,
      "outputs": []
    },
    {
      "cell_type": "code",
      "source": [
        "french_no_wcstage_outliers = fd[(np.abs(stats.zscore(fd['word_count_stage'])) < 3)]"
      ],
      "metadata": {
        "id": "lnWNodvzacOw"
      },
      "id": "lnWNodvzacOw",
      "execution_count": null,
      "outputs": []
    },
    {
      "cell_type": "code",
      "source": [
        "french_no_wcstage_outliers.boxplot(column='word_count_stage', \n",
        "                             by='libretto_or_genre',\n",
        "                             figsize = (15, 15))"
      ],
      "metadata": {
        "id": "1zeY39JbaYcy"
      },
      "id": "1zeY39JbaYcy",
      "execution_count": null,
      "outputs": []
    },
    {
      "cell_type": "code",
      "source": [
        "fd.groupby('libretto_or_genre').median()['word_count_stage'].plot.bar()"
      ],
      "metadata": {
        "id": "g3NjChIKVqyX"
      },
      "id": "g3NjChIKVqyX",
      "execution_count": null,
      "outputs": []
    },
    {
      "cell_type": "markdown",
      "metadata": {
        "id": "5KAAmAco0ZuF"
      },
      "source": [
        "#### 2. NORMALISED word_count_sp in libretti (attr+mark) vs. the rest\n",
        "\n",
        "hypothesis: libretti should be shorter"
      ],
      "id": "5KAAmAco0ZuF"
    },
    {
      "cell_type": "code",
      "execution_count": null,
      "metadata": {
        "id": "9g_FkCND2GBu"
      },
      "outputs": [],
      "source": [
        "#code"
      ],
      "id": "9g_FkCND2GBu"
    },
    {
      "cell_type": "code",
      "source": [
        "filtered_german_data[['name','word_count_text',\n",
        "                     'word_count_sp',\n",
        "                     'word_count_stage']]"
      ],
      "metadata": {
        "id": "4HGb1Em4sfKW"
      },
      "id": "4HGb1Em4sfKW",
      "execution_count": null,
      "outputs": []
    },
    {
      "cell_type": "markdown",
      "source": [
        "Gotta decide which features to take"
      ],
      "metadata": {
        "id": "wJQPECuSmf7_"
      },
      "id": "wJQPECuSmf7_"
    },
    {
      "cell_type": "code",
      "source": [
        "# code"
      ],
      "metadata": {
        "id": "_5EYGL8glVtj"
      },
      "id": "_5EYGL8glVtj",
      "execution_count": null,
      "outputs": []
    },
    {
      "cell_type": "markdown",
      "metadata": {
        "id": "2YR5J9T80qEY"
      },
      "source": [
        "#### 3. DRAMA CHANGE RATE in libretti (attr+mark) vs. the rest\n",
        "\n",
        "* a rough proxy for dramatic complexity \n",
        "* as implemented here https://dh2017.adho.org/abstracts/071/071.pdf\n",
        "* is it possible to grab it via API?\n",
        "\n"
      ],
      "id": "2YR5J9T80qEY"
    },
    {
      "cell_type": "code",
      "execution_count": null,
      "metadata": {
        "id": "Cv2KJglR2HZ5"
      },
      "outputs": [],
      "source": [
        "#code"
      ],
      "id": "Cv2KJglR2HZ5"
    },
    {
      "cell_type": "markdown",
      "source": [
        "## Statistical Testing"
      ],
      "metadata": {
        "id": "ca0aiUKv_JTF"
      },
      "id": "ca0aiUKv_JTF"
    },
    {
      "cell_type": "markdown",
      "source": [
        "### German"
      ],
      "metadata": {
        "id": "kqGzUHVNAX8F"
      },
      "id": "kqGzUHVNAX8F"
    },
    {
      "cell_type": "markdown",
      "source": [
        "### sp"
      ],
      "metadata": {
        "id": "byvXV4zIIC1N"
      },
      "id": "byvXV4zIIC1N"
    },
    {
      "cell_type": "code",
      "source": [
        "nonlibsp = gd[gd['is_real_libretto']==False]['word_count_sp']"
      ],
      "metadata": {
        "id": "T8Q8-zo6IEQV"
      },
      "execution_count": null,
      "outputs": [],
      "id": "T8Q8-zo6IEQV"
    },
    {
      "cell_type": "code",
      "source": [
        "libsp = gd[gd['is_real_libretto']==True]['word_count_sp']"
      ],
      "metadata": {
        "id": "cIXbpPMnIEQV"
      },
      "execution_count": null,
      "outputs": [],
      "id": "cIXbpPMnIEQV"
    },
    {
      "cell_type": "code",
      "source": [
        "## checking that the distributions are not normal\n",
        "w, pvalue = stats.shapiro(nonlibsp)\n",
        "w, pvalue"
      ],
      "metadata": {
        "id": "bXzDNI7fIEQW"
      },
      "execution_count": null,
      "outputs": [],
      "id": "bXzDNI7fIEQW"
    },
    {
      "cell_type": "code",
      "source": [
        "if pvalue < 0.05:\n",
        "    print('All good, not normal as we expected ✅')\n",
        "else:\n",
        "    print('WARNING NORMAL DIST YOU NEED DIFFERENT TEST')"
      ],
      "metadata": {
        "id": "XkJ6-4J7IEQW"
      },
      "execution_count": null,
      "outputs": [],
      "id": "XkJ6-4J7IEQW"
    },
    {
      "cell_type": "code",
      "source": [
        "## checking that the distributions are not normal\n",
        "w, pvalue = stats.shapiro(libsp)\n",
        "w, pvalue"
      ],
      "metadata": {
        "id": "Gyj3UXTWIEQW"
      },
      "execution_count": null,
      "outputs": [],
      "id": "Gyj3UXTWIEQW"
    },
    {
      "cell_type": "code",
      "source": [
        "if pvalue < 0.05:\n",
        "    print('All good, not normal as we expected ✅')\n",
        "else:\n",
        "    print('WARNING NORMAL DIST YOU NEED DIFFERENT TEST')"
      ],
      "metadata": {
        "id": "eZN4Q3osIEQW"
      },
      "execution_count": null,
      "outputs": [],
      "id": "eZN4Q3osIEQW"
    },
    {
      "cell_type": "code",
      "source": [
        "result = stats.mannwhitneyu(x=nonlibsp, y=libsp, alternative = 'two-sided')"
      ],
      "metadata": {
        "id": "rUENcIQGIEQW"
      },
      "execution_count": null,
      "outputs": [],
      "id": "rUENcIQGIEQW"
    },
    {
      "cell_type": "code",
      "source": [
        "result"
      ],
      "metadata": {
        "id": "VL59G6SHIbwX"
      },
      "id": "VL59G6SHIbwX",
      "execution_count": null,
      "outputs": []
    },
    {
      "cell_type": "code",
      "source": [
        "if result.pvalue < 0.05:\n",
        "    print('Difference is significant! ✅')\n",
        "else:\n",
        "    print('Not significant❌')"
      ],
      "metadata": {
        "id": "Sh6HP_QaIYiS"
      },
      "id": "Sh6HP_QaIYiS",
      "execution_count": null,
      "outputs": []
    },
    {
      "cell_type": "markdown",
      "source": [
        "Wrap this into a function"
      ],
      "metadata": {
        "id": "Io3tqHgFcRBu"
      },
      "id": "Io3tqHgFcRBu"
    },
    {
      "cell_type": "code",
      "source": [
        "def test_significance(data, feature_name, binary_split_criteria):\n",
        "    A = data[data[binary_split_criteria]==False][feature_name]\n",
        "    B = data[data[binary_split_criteria]==True][feature_name]\n",
        "    norm_counter = 0\n",
        "    for sample in (A,B):\n",
        "        w, pvalue = stats.shapiro(sample)\n",
        "        if pvalue > 0.05:\n",
        "            norm_counter+=1\n",
        "\n",
        "    if norm_counter == 2:\n",
        "        #print('Two normal distrs, using unpaired T-test')\n",
        "        result = stats.ttest_ind(A, B)\n",
        "    elif norm_counter == 1:\n",
        "        #print('One distr is normal and one is not!')\n",
        "        #print('Using Wilcoxon rank sum test')\n",
        "        result = stats.mannwhitneyu(x=A, y=B, alternative = 'two-sided')\n",
        "    else:\n",
        "        #print('Both non-Normal, using Wilcoxon rank sum test')\n",
        "        result = stats.mannwhitneyu(x=A, y=B, alternative = 'two-sided')\n",
        "    \n",
        "    #if result.pvalue < 0.05:\n",
        "    #    print('Difference is significant! ✅ pvalue is', result.pvalue)\n",
        "        \n",
        "    #else:\n",
        "    #    print('Not significant❌, pvalue is', result.pvalue)\n",
        "    \n",
        "    print(f\"{feature_name} & {round(result.pvalue, 20)} & some number \\\\\\\\\") #format(result.pvalue, '.8f')\n",
        "    print(format(result.pvalue, '.10f'))\n"
      ],
      "metadata": {
        "id": "M4qayS8Qf7zT"
      },
      "id": "M4qayS8Qf7zT",
      "execution_count": null,
      "outputs": []
    },
    {
      "cell_type": "code",
      "source": [
        "for feature in list_features_pyd: #list_features_pyd: #\n",
        "    #print('Testing', feature)\n",
        "    test_significance(gd, feature, 'is_real_libretto')\n",
        "    #print()"
      ],
      "metadata": {
        "id": "_l6HRADfJfpI"
      },
      "id": "_l6HRADfJfpI",
      "execution_count": null,
      "outputs": []
    },
    {
      "cell_type": "markdown",
      "source": [
        "### French"
      ],
      "metadata": {
        "id": "4_JdifUIJhRt"
      },
      "id": "4_JdifUIJhRt"
    },
    {
      "cell_type": "code",
      "source": [
        "fd = filtered_french_data"
      ],
      "metadata": {
        "id": "gYOoaBtdJgAF"
      },
      "execution_count": null,
      "outputs": [],
      "id": "gYOoaBtdJgAF"
    },
    {
      "cell_type": "code",
      "source": [
        "for feature in list_features_pyd:\n",
        "    #print('Testing', feature)\n",
        "    test_significance(fd, feature, 'is_real_libretto')\n",
        "    #print()"
      ],
      "metadata": {
        "id": "bq_GuQ6KvQ5-"
      },
      "id": "bq_GuQ6KvQ5-",
      "execution_count": null,
      "outputs": []
    },
    {
      "cell_type": "code",
      "source": [],
      "metadata": {
        "id": "ohERJ6_w3hZs"
      },
      "id": "ohERJ6_w3hZs",
      "execution_count": null,
      "outputs": []
    },
    {
      "cell_type": "code",
      "source": [],
      "metadata": {
        "id": "xUSn4dD53hfg"
      },
      "id": "xUSn4dD53hfg",
      "execution_count": null,
      "outputs": []
    },
    {
      "cell_type": "markdown",
      "source": [
        "##  Important features dynamic plots (by timeframes)"
      ],
      "metadata": {
        "id": "YIWaM8zEgWr_"
      },
      "id": "YIWaM8zEgWr_"
    },
    {
      "cell_type": "code",
      "source": [
        "def mean_confidence_interval(data, confidence=0.95):\n",
        "    a = 1.0 * np.array(data)\n",
        "    n = len(a)\n",
        "    m, se = np.mean(a), scipy.stats.sem(a)\n",
        "    h = se * scipy.stats.t.ppf((1 + confidence) / 2., n-1)\n",
        "    return m, m-h, m+h"
      ],
      "metadata": {
        "id": "RtasfEMpC51K"
      },
      "id": "RtasfEMpC51K",
      "execution_count": null,
      "outputs": []
    },
    {
      "cell_type": "code",
      "source": [
        "def median_confidence_interval(data, confidence=0.95):\n",
        "    a = 1.0 * np.array(data)\n",
        "    n = len(a)\n",
        "    m, se = np.median(a), scipy.stats.sem(a)\n",
        "    h = se * scipy.stats.t.ppf((1 + confidence) / 2., n-1)\n",
        "    return m, m-h, m+h"
      ],
      "metadata": {
        "id": "Po_1o3X2AFTI"
      },
      "id": "Po_1o3X2AFTI",
      "execution_count": null,
      "outputs": []
    },
    {
      "cell_type": "code",
      "source": [
        "#ci1 = mean_confidence_interval(intra_distances)\n",
        "#plot_ci(ci1[0], ci1[1], ci1[2], height.mean(), pyplot)"
      ],
      "metadata": {
        "id": "N_LA9coBC1r5"
      },
      "id": "N_LA9coBC1r5",
      "execution_count": null,
      "outputs": []
    },
    {
      "cell_type": "code",
      "source": [],
      "metadata": {
        "id": "0IMdSBmFH_Vt"
      },
      "id": "0IMdSBmFH_Vt",
      "execution_count": null,
      "outputs": []
    },
    {
      "cell_type": "code",
      "source": [
        "def assign_period(year, lang='de'):\n",
        "    if 1600 <= year <= 1669:\n",
        "        return (1600,1669)\n",
        "    elif 1670 <= year <= 1719:\n",
        "        return (1670,1719)\n",
        "    elif 1720 <= year <= 1769:\n",
        "        return (1720,1769)\n",
        "    elif 1770 <= year <= 1819:\n",
        "        return (1770,1819)        \n",
        "    elif 1820 <= year <= 1869:\n",
        "        return (1820,1869)\n",
        "    else: \n",
        "        if lang=='de': # latest period exists for german only\n",
        "            return (1870,1920)\n",
        "        else: # but for french we attach them to a bigger 1820-1889 timeframe\n",
        "            return (1820,1869)"
      ],
      "metadata": {
        "id": "4_IxeMvfm8uC"
      },
      "id": "4_IxeMvfm8uC",
      "execution_count": null,
      "outputs": []
    },
    {
      "cell_type": "markdown",
      "source": [
        "#### German"
      ],
      "metadata": {
        "id": "VjtukdO2p3jV"
      },
      "id": "VjtukdO2p3jV"
    },
    {
      "cell_type": "code",
      "source": [
        "gd_lt = gd[(gd['year_normalized']>1769) & (gd['libretto_or_genre'] != 'Tragicomedy')]"
      ],
      "metadata": {
        "id": "yBsUj4yyw_DB"
      },
      "id": "yBsUj4yyw_DB",
      "execution_count": null,
      "outputs": []
    },
    {
      "cell_type": "code",
      "source": [],
      "metadata": {
        "id": "2ELeNBvRXtzQ"
      },
      "id": "2ELeNBvRXtzQ",
      "execution_count": null,
      "outputs": []
    },
    {
      "cell_type": "code",
      "source": [
        "\n",
        "gd_lt['period'] = gd_lt['year_normalized'].apply(assign_period)"
      ],
      "metadata": {
        "id": "hi19TBJjomJK"
      },
      "id": "hi19TBJjomJK",
      "execution_count": null,
      "outputs": []
    },
    {
      "cell_type": "code",
      "source": [
        "#gd[['period', 'year_normalized']]"
      ],
      "metadata": {
        "id": "uiLe5rOGot4p"
      },
      "id": "uiLe5rOGot4p",
      "execution_count": null,
      "outputs": []
    },
    {
      "cell_type": "code",
      "source": [
        "from matplotlib import colors as mplcolors"
      ],
      "metadata": {
        "id": "Pw8w5ofeLsWx"
      },
      "id": "Pw8w5ofeLsWx",
      "execution_count": null,
      "outputs": []
    },
    {
      "cell_type": "code",
      "source": [
        "colors_for_plot = ['blue', 'aquamarine', 'orange', 'red']"
      ],
      "metadata": {
        "id": "TGo69okEMoxH"
      },
      "id": "TGo69okEMoxH",
      "execution_count": null,
      "outputs": []
    },
    {
      "cell_type": "code",
      "source": [
        "colors = mplcolors.ListedColormap(colors_for_plot, name='libretti_colors', N=None)"
      ],
      "metadata": {
        "id": "N0Pvp7OwKl1E"
      },
      "id": "N0Pvp7OwKl1E",
      "execution_count": null,
      "outputs": []
    },
    {
      "cell_type": "code",
      "source": [
        "counts = gd_lt.groupby(['period', 'genre_with_libretto_subgenres']).count().unstack(level=-1)['word_count_sp']"
      ],
      "metadata": {
        "id": "Lccx-q5V7cl4"
      },
      "id": "Lccx-q5V7cl4",
      "execution_count": null,
      "outputs": []
    },
    {
      "cell_type": "code",
      "source": [
        "counts.columns"
      ],
      "metadata": {
        "id": "AakEPpbE7tmL"
      },
      "id": "AakEPpbE7tmL",
      "execution_count": null,
      "outputs": []
    },
    {
      "cell_type": "code",
      "source": [
        "toplot = gd_lt.groupby(['period', 'genre_with_libretto_subgenres']).median().unstack(level=-1)['word_count_sp']"
      ],
      "metadata": {
        "id": "jlcVzpF985G0"
      },
      "id": "jlcVzpF985G0",
      "execution_count": null,
      "outputs": []
    },
    {
      "cell_type": "code",
      "source": [
        "toplot.index"
      ],
      "metadata": {
        "id": "QRJQtGJo869b"
      },
      "id": "QRJQtGJo869b",
      "execution_count": null,
      "outputs": []
    },
    {
      "cell_type": "code",
      "source": [
        "toplot = gd_lt.groupby(['period', 'genre_with_libretto_subgenres']).median().unstack(level=-1)['word_count_sp']\n",
        "\n",
        "toplot.plot(figsize=(10, 18), colormap = colors)\n",
        "ax = plt.gca()\n",
        "#print(ax.get_xticks())\n",
        "#for line in ax.get_lines():\n",
        "#    print(line.get_data())\n",
        "\n",
        "counts = gd_lt.groupby(['period', 'genre_with_libretto_subgenres']).count().unstack(level=-1)['word_count_sp']\n",
        "for column in toplot.columns:\n",
        "    #print(column)\n",
        "    ys = toplot[column]\n",
        "    xs = toplot.index\n",
        "    values = counts[column]\n",
        "    for index, x in enumerate(xs):\n",
        "        #print(x)\n",
        "        #print(ys[index])\n",
        "        #print(ys[index])\n",
        "        #print(str(values[index]))\n",
        "        plt.text(index, ys[index], f'no. plays: {str(values[index])}', fontsize=10) #str(ys[index])\n",
        "\n",
        "\n",
        "ax.set_ylim(ymin=0)\n"
      ],
      "metadata": {
        "id": "PO41zuen1h9r"
      },
      "id": "PO41zuen1h9r",
      "execution_count": null,
      "outputs": []
    },
    {
      "cell_type": "code",
      "source": [
        "import random"
      ],
      "metadata": {
        "id": "ya7hE2q5LRQa"
      },
      "id": "ya7hE2q5LRQa",
      "execution_count": null,
      "outputs": []
    },
    {
      "cell_type": "code",
      "source": [
        "import scipy"
      ],
      "metadata": {
        "id": "I4CowA9LErTK"
      },
      "id": "I4CowA9LErTK",
      "execution_count": null,
      "outputs": []
    },
    {
      "cell_type": "code",
      "source": [
        "def get_lineplots(data, feature_name, shift, comedyup=False, tragedyup=False, get_mean=False):\n",
        "    \n",
        "    \n",
        "    toplot = data.groupby(['period', 'genre_with_libretto_subgenres']).median().unstack(level=-1)[feature_name]\n",
        "    if get_mean:\n",
        "        toplot = data.groupby(['period', 'genre_with_libretto_subgenres']).mean().unstack(level=-1)[feature_name]\n",
        "\n",
        "    #plt.plot(label='line with marker')\n",
        "    toplot.plot(marker=\"o\", figsize=(10, 15), colormap = colors)\n",
        "    \n",
        "    ax = plt.gca()\n",
        "    #print(ax.get_xticks())\n",
        "    #for line in ax.get_lines():\n",
        "    #    print(line.get_data())\n",
        "    colors_for_num = ['blue', 'black', 'black', 'red']#'orange', 'red']\n",
        "    \n",
        "\n",
        "    counts = data.groupby(['period', 'genre_with_libretto_subgenres']).count().unstack(level=-1)[feature_name]\n",
        "    for cindex, column in enumerate(toplot.columns):\n",
        "        #print(column)\n",
        "        ys = toplot[column]\n",
        "        #print('numbers for comedy', ys)\n",
        "        xs = toplot.index\n",
        "        values = counts[column]\n",
        "        realshift = shift\n",
        "        std = ys.std()\n",
        "        mean = ys.mean()\n",
        "        p025 = ys.quantile(0.025)\n",
        "        p975 = ys.quantile(0.975)\n",
        "        errorexes = list(range(len(xs)))\n",
        "\n",
        "        interval_ups = []\n",
        "        interval_downs = []\n",
        "        for period in xs:\n",
        "\n",
        "        #current_confint = [ci[1], ci[2]]\n",
        "            if get_mean:\n",
        "                current_confint = mean_confidence_interval(data[(data['genre_with_libretto_subgenres'] == column) &\n",
        "                                                                (data['period'] == period)][feature_name]\n",
        "                                                                )\n",
        "                \n",
        "                \n",
        "            else:\n",
        "                current_confint = median_confidence_interval(data[(data['genre_with_libretto_subgenres'] == column) &\n",
        "                                                                (data['period'] == period)][feature_name]\n",
        "                                                                )\n",
        "            interval_downs.append(current_confint[1])\n",
        "            interval_ups.append(current_confint[2])\n",
        "          \n",
        "        #print(column, interval_ups, interval_downs)\n",
        "        errorexes = [x+((cindex-2)*0.02) for x in errorexes]\n",
        "        #errorys = y. \n",
        "        dummyups = [2,2,2]\n",
        "        dummydowns = [1,1,1]\n",
        "        #print(list(ys))\n",
        "\n",
        "        print('real values', list(ys))\n",
        "        print('upper boundaries', interval_ups)\n",
        "        ups = np.array(interval_ups) - np.array(ys)\n",
        "        print('ups', ups)\n",
        "        print()\n",
        "        print('lower boundaries',interval_downs)\n",
        "        downs =  np.array(ys) - np.array(interval_downs) \n",
        "        print('downs', downs)\n",
        "        plt.errorbar(errorexes, ys, xerr=0, yerr=[downs, ups], linestyle='', \n",
        "                     color = colors_for_plot[cindex]) # label = 'errorbar'\n",
        "\n",
        "        if comedyup and 'Comedy' in column:\n",
        "            realshift = -shift\n",
        "        if tragedyup and 'Tragedy' in column:\n",
        "            realshift = -shift\n",
        "        for index, x in enumerate(xs):\n",
        "            #print(x)\n",
        "            #print(ys[index])\n",
        "            #print(ys[index])\n",
        "            #print(str(values[index]))\n",
        "            #shift = 400\n",
        "            #if values[index] == 32:\n",
        "            #    shift=-200\n",
        "            \n",
        "            plt.text(index, ys[index]-realshift, str(values[index]), fontsize=10, color=colors_for_num[cindex]) #str(ys[index])\n",
        "\n",
        "\n",
        "    ax.set_ylim(ymin=0)\n",
        "    \n",
        "    plt.savefig(f'{feature_name}_with_conf_int.jpeg', edgecolor='black', dpi=400)\n"
      ],
      "metadata": {
        "id": "HF9b7t8tDKfz"
      },
      "id": "HF9b7t8tDKfz",
      "execution_count": null,
      "outputs": []
    },
    {
      "cell_type": "code",
      "source": [
        "get_lineplots(gd_lt, 'average_degree', 0.2, tragedyup=True)"
      ],
      "metadata": {
        "id": "ImvmID6nRJnJ"
      },
      "id": "ImvmID6nRJnJ",
      "execution_count": null,
      "outputs": []
    },
    {
      "cell_type": "code",
      "source": [
        "get_lineplots(gd_lt, 'word_count_sp', 0.2, tragedyup=True)"
      ],
      "metadata": {
        "id": "XzaIznTn63I7"
      },
      "id": "XzaIznTn63I7",
      "execution_count": null,
      "outputs": []
    },
    {
      "cell_type": "code",
      "source": [
        "gd_lt.columns"
      ],
      "metadata": {
        "id": "F0bCDW1OvKsk"
      },
      "id": "F0bCDW1OvKsk",
      "execution_count": null,
      "outputs": []
    },
    {
      "cell_type": "code",
      "source": [],
      "metadata": {
        "id": "tn5YvxK2901n"
      },
      "id": "tn5YvxK2901n",
      "execution_count": null,
      "outputs": []
    },
    {
      "cell_type": "code",
      "source": [
        "get_lineplots(gd_lt, 'num_of_person_groups', 0.2, tragedyup=True) "
      ],
      "metadata": {
        "id": "BU_fxxnvs6mZ"
      },
      "id": "BU_fxxnvs6mZ",
      "execution_count": null,
      "outputs": []
    },
    {
      "cell_type": "code",
      "source": [
        "get_lineplots(gd_lt, 'word_count_sp', 300, comedyup=True)"
      ],
      "metadata": {
        "id": "CN1pI2wxn_DC"
      },
      "id": "CN1pI2wxn_DC",
      "execution_count": null,
      "outputs": []
    },
    {
      "cell_type": "code",
      "source": [
        "gd_lt.groupby(['period', 'genre_with_libretto_subgenres']).median().unstack(level=-1)['num_of_speakers'].plot(figsize=(10, 8), \n",
        "                                                                                                            colormap = colors)\n",
        "ax = plt.gca()\n",
        "ax.set_ylim(ymin=0)\n"
      ],
      "metadata": {
        "id": "q9jt3Rp5OJf2"
      },
      "id": "q9jt3Rp5OJf2",
      "execution_count": null,
      "outputs": []
    },
    {
      "cell_type": "code",
      "source": [
        "get_lineplots(gd_lt, 'num_of_speakers', 0.4)"
      ],
      "metadata": {
        "id": "Xlj3a7_IR6wO"
      },
      "id": "Xlj3a7_IR6wO",
      "execution_count": null,
      "outputs": []
    },
    {
      "cell_type": "code",
      "source": [
        "get_lineplots(gd_lt, 'num_of_person_groups', 0.4)"
      ],
      "metadata": {
        "id": "5uoUMU04OEn6"
      },
      "id": "5uoUMU04OEn6",
      "execution_count": null,
      "outputs": []
    },
    {
      "cell_type": "code",
      "source": [
        "gd_lt.groupby(['period', 'genre_with_libretto_subgenres']).mean().unstack(level=-1)['num_of_person_groups'].plot(figsize=(10, 8), \n",
        "                                                                                                            colormap = colors)\n",
        "ax = plt.gca()\n",
        "ax.set_ylim(ymin=0)\n"
      ],
      "metadata": {
        "id": "2DMgvlGd2eC-"
      },
      "id": "2DMgvlGd2eC-",
      "execution_count": null,
      "outputs": []
    },
    {
      "cell_type": "markdown",
      "source": [
        "#### French"
      ],
      "metadata": {
        "id": "_xB2lKOgp1e8"
      },
      "id": "_xB2lKOgp1e8"
    },
    {
      "cell_type": "code",
      "source": [
        "fd['period'] = fd['year_normalized'].apply(assign_period, lang='fr')"
      ],
      "metadata": {
        "id": "_AyInm6gptsg"
      },
      "id": "_AyInm6gptsg",
      "execution_count": null,
      "outputs": []
    },
    {
      "cell_type": "code",
      "source": [
        "fd_lt = fd[(fd['libretto_or_genre'] != 'Tragicomedy')]"
      ],
      "metadata": {
        "id": "T0tupSpq28db"
      },
      "id": "T0tupSpq28db",
      "execution_count": null,
      "outputs": []
    },
    {
      "cell_type": "code",
      "source": [
        "fd_lt.groupby(['period', 'genre_with_libretto_subgenres']).median().unstack(level=-1)['word_count_stage'].plot(figsize=(10, 8), \n",
        "                                                                                                            colormap = colors)\n",
        "ax = plt.gca()\n",
        "ax.set_ylim(ymin=0)"
      ],
      "metadata": {
        "id": "1oodgXUX3TrL"
      },
      "id": "1oodgXUX3TrL",
      "execution_count": null,
      "outputs": []
    },
    {
      "cell_type": "code",
      "source": [
        "get_lineplots(fd_lt, 'word_count_stage', 12, comedyup=True)"
      ],
      "metadata": {
        "id": "Wv2tlY5OScR-"
      },
      "id": "Wv2tlY5OScR-",
      "execution_count": null,
      "outputs": []
    },
    {
      "cell_type": "code",
      "source": [
        "french_data_1670_1719[french_data_1670_1719['genre_with_libretto_subgenres']=='Non-comic libretto'][['first_author','title', 'num_of_speakers']]"
      ],
      "metadata": {
        "id": "Uii5t6YITD9V"
      },
      "id": "Uii5t6YITD9V",
      "execution_count": null,
      "outputs": []
    },
    {
      "cell_type": "code",
      "source": [
        "fd_lt.groupby(['period', 'genre_with_libretto_subgenres']).median().unstack(level=-1)['num_of_speakers'].plot(figsize=(10, 8), \n",
        "                                                                                                            colormap = colors\n",
        "                                                                                                              )\n",
        "ax = plt.gca()\n",
        "ax.set_ylim(ymin=0)"
      ],
      "metadata": {
        "id": "FqaCgS9Y345D"
      },
      "id": "FqaCgS9Y345D",
      "execution_count": null,
      "outputs": []
    },
    {
      "cell_type": "code",
      "source": [
        "get_lineplots(fd_lt, 'num_of_speakers', 0.35, comedyup=True)"
      ],
      "metadata": {
        "id": "9_cbJlMqS1MV"
      },
      "id": "9_cbJlMqS1MV",
      "execution_count": null,
      "outputs": []
    },
    {
      "cell_type": "code",
      "source": [
        "fd_lt.groupby(['period', 'genre_with_libretto_subgenres']).median().unstack(level=-1)['word_count_sp'].plot(figsize=(10, 8), \n",
        "                                                                                                            colormap = colors\n",
        "                                                                                                              )\n",
        "ax = plt.gca()\n",
        "ax.set_ylim(ymin=0)"
      ],
      "metadata": {
        "id": "cRto6H_vWnCl"
      },
      "id": "cRto6H_vWnCl",
      "execution_count": null,
      "outputs": []
    },
    {
      "cell_type": "code",
      "source": [
        "get_lineplots(fd_lt, 'word_count_sp', 400, comedyup=True)"
      ],
      "metadata": {
        "id": "KM9s4zbLA7iO"
      },
      "id": "KM9s4zbLA7iO",
      "execution_count": null,
      "outputs": []
    },
    {
      "cell_type": "code",
      "source": [
        "fd_lt.groupby(['period', 'genre_with_libretto_subgenres']).median().unstack(level=-1)['density'].plot(figsize=(10, 8), \n",
        "                                                                                                            colormap = colors\n",
        "                                                                                                              )\n",
        "ax = plt.gca()\n",
        "ax.set_ylim(ymin=0)"
      ],
      "metadata": {
        "id": "lCYh7k-WXVju"
      },
      "id": "lCYh7k-WXVju",
      "execution_count": null,
      "outputs": []
    },
    {
      "cell_type": "code",
      "source": [
        "get_lineplots(fd_lt, 'density', 0.02, comedyup=True, tragedyup=True)"
      ],
      "metadata": {
        "id": "5Dljn9_iBjre"
      },
      "id": "5Dljn9_iBjre",
      "execution_count": null,
      "outputs": []
    },
    {
      "cell_type": "code",
      "source": [
        "fd_lt.groupby(['period', 'genre_with_libretto_subgenres']).mean().unstack(level=-1)['num_connected_components'].plot(figsize=(10, 8), \n",
        "                                                                                                            colormap = colors\n",
        "                                                                                                              )\n",
        "ax = plt.gca()\n",
        "ax.set_ylim(ymin=0)"
      ],
      "metadata": {
        "id": "sNgYP39zadKd"
      },
      "id": "sNgYP39zadKd",
      "execution_count": null,
      "outputs": []
    },
    {
      "cell_type": "code",
      "source": [
        "get_lineplots(fd_lt, 'num_connected_components', 0.05, tragedyup=True, get_mean=True)#, comedyup=True, tragedyup=True)"
      ],
      "metadata": {
        "id": "su-CZk3LRPVi"
      },
      "id": "su-CZk3LRPVi",
      "execution_count": null,
      "outputs": []
    },
    {
      "cell_type": "code",
      "source": [
        "french_features"
      ],
      "metadata": {
        "id": "IxditLMEatdU"
      },
      "id": "IxditLMEatdU",
      "execution_count": null,
      "outputs": []
    },
    {
      "cell_type": "code",
      "source": [
        "fd_lt.groupby(['period', 'genre_with_libretto_subgenres']).median().unstack(level=-1)['diameter'].plot(figsize=(10, 8), \n",
        "                                                                                                            colormap = colors\n",
        "                                                                                                              )\n",
        "ax = plt.gca()\n",
        "ax.set_ylim(ymin=0)"
      ],
      "metadata": {
        "id": "3msnqx9Kar4i"
      },
      "id": "3msnqx9Kar4i",
      "execution_count": null,
      "outputs": []
    },
    {
      "cell_type": "code",
      "source": [
        "get_lineplots(fd_lt, 'diameter', 0.15, comedyup=True, tragedyup=True)"
      ],
      "metadata": {
        "id": "LXDhcdBCSFzA"
      },
      "id": "LXDhcdBCSFzA",
      "execution_count": null,
      "outputs": []
    },
    {
      "cell_type": "code",
      "source": [
        "fd_lt.groupby(['period', 'genre_with_libretto_subgenres']).median().unstack(level=-1)['num_of_segments'].plot(figsize=(10, 8), \n",
        "                                                                                                            colormap = colors\n",
        "                                                                                                              )\n",
        "ax = plt.gca()\n",
        "ax.set_ylim(ymin=0)"
      ],
      "metadata": {
        "id": "YwMK5lORbQba"
      },
      "id": "YwMK5lORbQba",
      "execution_count": null,
      "outputs": []
    },
    {
      "cell_type": "code",
      "source": [
        "french_data_1720_1769[french_data_1720_1769['genre_with_libretto_subgenres'] == 'Comic libretto'][['first_author', 'title', 'num_of_segments']]"
      ],
      "metadata": {
        "id": "iDLy-_BocL6r"
      },
      "id": "iDLy-_BocL6r",
      "execution_count": null,
      "outputs": []
    },
    {
      "cell_type": "code",
      "source": [
        "fd_lt.groupby(['period', 'genre_with_libretto_subgenres']).median().unstack(level=-1)['max_degree'].plot(figsize=(10, 8), \n",
        "                                                                                                            colormap = colors\n",
        "                                                                                                              )\n",
        "ax = plt.gca()\n",
        "ax.set_ylim(ymin=0)"
      ],
      "metadata": {
        "id": "Vikhp_E6fGqJ"
      },
      "id": "Vikhp_E6fGqJ",
      "execution_count": null,
      "outputs": []
    },
    {
      "cell_type": "code",
      "source": [
        "fd_lt.groupby(['period', 'genre_with_libretto_subgenres']).median().unstack(level=-1)['average_path_length'].plot(figsize=(10, 8), \n",
        "                                                                                                            colormap = colors\n",
        "                                                                                                              )\n",
        "ax = plt.gca()\n",
        "ax.set_ylim(ymin=0)\n"
      ],
      "metadata": {
        "id": "36oRrsNqHBkt"
      },
      "id": "36oRrsNqHBkt",
      "execution_count": null,
      "outputs": []
    },
    {
      "cell_type": "markdown",
      "source": [
        "## Scatterplots"
      ],
      "metadata": {
        "id": "V2aAvRycYcob"
      },
      "id": "V2aAvRycYcob"
    },
    {
      "cell_type": "markdown",
      "source": [
        "FILTER THE SUBSET BY LIBRETTO PERIOD"
      ],
      "metadata": {
        "id": "UnccxI6AL3LK"
      },
      "id": "UnccxI6AL3LK"
    },
    {
      "cell_type": "code",
      "source": [
        "years = fd[fd['is_real_libretto'] == True]['year_normalized']\n",
        "earliest_french_libr = years.min()\n",
        "earliest_french_libr"
      ],
      "metadata": {
        "id": "cra3Ac5EL6Px"
      },
      "id": "cra3Ac5EL6Px",
      "execution_count": null,
      "outputs": []
    },
    {
      "cell_type": "code",
      "source": [
        "latest_french_libr = years.max()\n",
        "latest_french_libr"
      ],
      "metadata": {
        "id": "r3SrG6_JME5j"
      },
      "id": "r3SrG6_JME5j",
      "execution_count": null,
      "outputs": []
    },
    {
      "cell_type": "code",
      "source": [
        "fd_sc = fd[(fd['libretto_or_genre'] != 'Tragicomedy') & \n",
        "            (fd['year_normalized'] >= earliest_french_libr) &\n",
        "            (fd['year_normalized'] <= latest_french_libr)]"
      ],
      "metadata": {
        "id": "ciMjMGqvKbW6"
      },
      "id": "ciMjMGqvKbW6",
      "execution_count": null,
      "outputs": []
    },
    {
      "cell_type": "code",
      "source": [
        "fd_sc['year_normalized'].describe()"
      ],
      "metadata": {
        "id": "kqjpefRvMox5"
      },
      "id": "kqjpefRvMox5",
      "execution_count": null,
      "outputs": []
    },
    {
      "cell_type": "code",
      "source": [
        "gyears = gd[gd['is_real_libretto'] == True]['year_normalized']\n",
        "earliest_g_libr = gyears.min()\n",
        "earliest_g_libr"
      ],
      "metadata": {
        "id": "vREpkQjmY4U7"
      },
      "id": "vREpkQjmY4U7",
      "execution_count": null,
      "outputs": []
    },
    {
      "cell_type": "code",
      "source": [
        "latest_g_libr = gyears.max()\n",
        "latest_g_libr"
      ],
      "metadata": {
        "id": "FUTw6SfuM79g"
      },
      "id": "FUTw6SfuM79g",
      "execution_count": null,
      "outputs": []
    },
    {
      "cell_type": "code",
      "source": [
        "gd_sc = gd[(gd['libretto_or_genre'] != 'Tragicomedy') & \n",
        "            (gd['year_normalized'] >= earliest_g_libr) &\n",
        "            (gd['year_normalized'] <= latest_g_libr)]"
      ],
      "metadata": {
        "id": "n-4mfLqsNAU8"
      },
      "id": "n-4mfLqsNAU8",
      "execution_count": null,
      "outputs": []
    },
    {
      "cell_type": "code",
      "source": [
        "gd_sc['year_normalized'].describe()"
      ],
      "metadata": {
        "id": "F47u66FeNHeg"
      },
      "id": "F47u66FeNHeg",
      "execution_count": null,
      "outputs": []
    },
    {
      "cell_type": "markdown",
      "source": [
        "#### Basic scatterplot"
      ],
      "metadata": {
        "id": "S6t8hfK3t1ZB"
      },
      "id": "S6t8hfK3t1ZB"
    },
    {
      "cell_type": "code",
      "source": [
        "plt.figure(figsize=(10,10))\n",
        "sns.scatterplot(data=gd_sc, \n",
        "                x='year_normalized',\n",
        "                y='word_count_sp', \n",
        "                hue='genre_with_libretto_subgenres')"
      ],
      "metadata": {
        "id": "9M5rc3UDYf3u"
      },
      "id": "9M5rc3UDYf3u",
      "execution_count": null,
      "outputs": []
    },
    {
      "cell_type": "code",
      "source": [
        "colors_for_plot"
      ],
      "metadata": {
        "id": "5_PCTNo4e4vB"
      },
      "id": "5_PCTNo4e4vB",
      "execution_count": null,
      "outputs": []
    },
    {
      "cell_type": "markdown",
      "source": [
        "#### Lowess"
      ],
      "metadata": {
        "id": "0zFbzHVst3p-"
      },
      "id": "0zFbzHVst3p-"
    },
    {
      "cell_type": "code",
      "source": [
        "gd_lt_no_out = gd_sc[(np.abs(stats.zscore(gd_lt['word_count_sp'])) < 3)]\n",
        "sns.lmplot(data=gd_lt_no_out, \n",
        "            x='year_normalized',\n",
        "            y='word_count_sp', \n",
        "            hue='genre_with_libretto_subgenres',\n",
        "            height=12, aspect=1.5, \n",
        "           palette=['blue', 'red', 'aquamarine', 'orange'],\n",
        "           #logistic=True\n",
        "           lowess=True,\n",
        "           #alpha=0.3\n",
        "           )\n",
        "plt.savefig('scatter.png', dpi=300)\n",
        "#plt.show()"
      ],
      "metadata": {
        "id": "6g-Qt7tOccpY"
      },
      "id": "6g-Qt7tOccpY",
      "execution_count": null,
      "outputs": []
    },
    {
      "cell_type": "markdown",
      "source": [
        "wrap in a function"
      ],
      "metadata": {
        "id": "YJHBEf2ft797"
      },
      "id": "YJHBEf2ft797"
    },
    {
      "cell_type": "code",
      "source": [
        "gd_sc[['genre_with_libretto_subgenres', 'color_subgenres']].head(20)"
      ],
      "metadata": {
        "id": "VFYZmPUDzBmB"
      },
      "id": "VFYZmPUDzBmB",
      "execution_count": null,
      "outputs": []
    },
    {
      "cell_type": "code",
      "source": [
        "def get_lowess_plot(df, parameter):\n",
        "    df_no_out = df[(np.abs(stats.zscore(df[parameter])) < 3)]\n",
        "    sns.lmplot(data=df_no_out, \n",
        "                x='year_normalized',\n",
        "                y=parameter, \n",
        "                hue='genre_with_libretto_subgenres',\n",
        "                height=12, aspect=1.5, \n",
        "            palette=df['color_subgenres'].unique(),\n",
        "            #logistic=True\n",
        "            lowess=True,\n",
        "            alpha = 0.5\n",
        "            )\n",
        "    plt.savefig(f'{parameter}_scatter_lowess.png', dpi=300)"
      ],
      "metadata": {
        "id": "gqDyVMZmt_Dc"
      },
      "id": "gqDyVMZmt_Dc",
      "execution_count": null,
      "outputs": []
    },
    {
      "cell_type": "markdown",
      "source": [
        "#### Produce lowess german"
      ],
      "metadata": {
        "id": "Jb_DIrTdwNWD"
      },
      "id": "Jb_DIrTdwNWD"
    },
    {
      "cell_type": "code",
      "source": [
        "get_lowess_plot(gd_sc, 'word_count_sp')"
      ],
      "metadata": {
        "id": "TfPzyVlzwPwD"
      },
      "id": "TfPzyVlzwPwD",
      "execution_count": null,
      "outputs": []
    },
    {
      "cell_type": "code",
      "source": [
        "get_lowess_plot(gd_sc, 'num_of_person_groups')"
      ],
      "metadata": {
        "id": "x5R-aGEBwmWn"
      },
      "id": "x5R-aGEBwmWn",
      "execution_count": null,
      "outputs": []
    },
    {
      "cell_type": "markdown",
      "source": [
        "#### Produce lowess French"
      ],
      "metadata": {
        "id": "SCyg9eNfx0DF"
      },
      "id": "SCyg9eNfx0DF"
    },
    {
      "cell_type": "code",
      "source": [
        "get_lowess_plot(fd_sc, 'word_count_sp')"
      ],
      "metadata": {
        "id": "6y3Xsa23xs6G"
      },
      "id": "6y3Xsa23xs6G",
      "execution_count": null,
      "outputs": []
    },
    {
      "cell_type": "code",
      "source": [
        "get_lowess_plot(fd_sc, 'word_count_stage')"
      ],
      "metadata": {
        "id": "d5f7fGgrxvGO"
      },
      "id": "d5f7fGgrxvGO",
      "execution_count": null,
      "outputs": []
    },
    {
      "cell_type": "code",
      "source": [
        "get_lowess_plot(fd_sc, 'density')"
      ],
      "metadata": {
        "id": "PXavdTFZyxkE"
      },
      "id": "PXavdTFZyxkE",
      "execution_count": null,
      "outputs": []
    },
    {
      "cell_type": "code",
      "source": [
        "fd_sc['year_normalized'].describe()"
      ],
      "metadata": {
        "id": "NptQIEJr0Gdr"
      },
      "id": "NptQIEJr0Gdr",
      "execution_count": null,
      "outputs": []
    },
    {
      "cell_type": "code",
      "source": [
        "get_lowess_plot(fd_sc, 'num_of_speakers')"
      ],
      "metadata": {
        "id": "QpeqyP3DzsXl"
      },
      "id": "QpeqyP3DzsXl",
      "execution_count": null,
      "outputs": []
    },
    {
      "cell_type": "markdown",
      "source": [
        "### Mor low-level version of lowess (same result, more complicated implementation, BUT can make only dots transparent)"
      ],
      "metadata": {
        "id": "pK4Ndml2yc6t"
      },
      "id": "pK4Ndml2yc6t"
    },
    {
      "cell_type": "code",
      "source": [
        "from statsmodels.nonparametric.smoothers_lowess import lowess"
      ],
      "metadata": {
        "id": "cpbp2sI2Z710"
      },
      "id": "cpbp2sI2Z710",
      "execution_count": null,
      "outputs": []
    },
    {
      "cell_type": "code",
      "source": [
        "def make_lowess(df, column):\n",
        "    by_year = df.groupby('year_normalized').mean()\n",
        "    endog = np.array(by_year[column])\n",
        "    #print(endog)\n",
        "    exog = np.array(by_year.index)\n",
        "    #print(exog)\n",
        "\n",
        "    smooth = lowess(endog, exog)\n",
        "    index, data = np.transpose(smooth)\n",
        "\n",
        "    return pd.Series(data, index=index) "
      ],
      "metadata": {
        "id": "bQ8d0t4AZ2tC"
      },
      "id": "bQ8d0t4AZ2tC",
      "execution_count": null,
      "outputs": []
    },
    {
      "cell_type": "code",
      "source": [
        "def make_scatter_lowess_transp_dots(df, parameter):\n",
        "    fig = plt.gcf()\n",
        "\n",
        "    df_no_out = df[(np.abs(stats.zscore(df[parameter])) < 3)]\n",
        "\n",
        "    scatter_colors = list(df_no_out['color_subgenres'].unique())\n",
        "    # Change seaborn plot size\n",
        "    fig.set_size_inches(15, 10)\n",
        "    sns.scatterplot(data=df_no_out, \n",
        "                x='year_normalized',\n",
        "                y=parameter, \n",
        "                hue='genre_with_libretto_subgenres',\n",
        "                #height=12, aspect=1.5, \n",
        "                palette=scatter_colors, \n",
        "                alpha = 0.2)\n",
        "\n",
        "    for index, genre in enumerate(df_no_out['genre_with_libretto_subgenres'].unique()):\n",
        "        lwss = make_lowess(df_no_out[df_no_out['genre_with_libretto_subgenres'] == genre], \n",
        "                        parameter)\n",
        "        sns.lineplot(x = lwss.index, y = lwss, color=scatter_colors[index], linewidth = 2)\n",
        "    \n",
        "    plt.savefig(f'{parameter}_scatter_with_lowess.png')"
      ],
      "metadata": {
        "id": "jdAOEh7neH-S"
      },
      "id": "jdAOEh7neH-S",
      "execution_count": null,
      "outputs": []
    },
    {
      "cell_type": "markdown",
      "source": [
        "#### german transparent scatterplots"
      ],
      "metadata": {
        "id": "QIgirAVVPfyA"
      },
      "id": "QIgirAVVPfyA"
    },
    {
      "cell_type": "code",
      "source": [
        "make_scatter_lowess_transp_dots(gd_sc, 'word_count_sp')"
      ],
      "metadata": {
        "id": "YHWTEt0TOgu5"
      },
      "id": "YHWTEt0TOgu5",
      "execution_count": null,
      "outputs": []
    },
    {
      "cell_type": "code",
      "source": [
        "make_scatter_lowess_transp_dots(gd_sc, 'num_of_person_groups')"
      ],
      "metadata": {
        "id": "XrGRYr_1PVXm"
      },
      "id": "XrGRYr_1PVXm",
      "execution_count": null,
      "outputs": []
    },
    {
      "cell_type": "markdown",
      "source": [
        "#### french"
      ],
      "metadata": {
        "id": "1uNShjIGPduF"
      },
      "id": "1uNShjIGPduF"
    },
    {
      "cell_type": "code",
      "source": [
        "make_scatter_lowess_transp_dots(fd_sc, 'num_of_speakers')"
      ],
      "metadata": {
        "id": "OUmYUZh5KUy3"
      },
      "id": "OUmYUZh5KUy3",
      "execution_count": null,
      "outputs": []
    },
    {
      "cell_type": "code",
      "source": [
        "make_scatter_lowess_transp_dots(fd_sc, 'density')"
      ],
      "metadata": {
        "id": "o2ZdIz-sPkEe"
      },
      "id": "o2ZdIz-sPkEe",
      "execution_count": null,
      "outputs": []
    },
    {
      "cell_type": "code",
      "source": [
        "make_scatter_lowess_transp_dots(fd_sc, 'word_count_stage')"
      ],
      "metadata": {
        "id": "Y2mcZypvPrQj"
      },
      "id": "Y2mcZypvPrQj",
      "execution_count": null,
      "outputs": []
    },
    {
      "cell_type": "code",
      "source": [
        "make_scatter_lowess_transp_dots(fd_sc, 'word_count_sp')"
      ],
      "metadata": {
        "id": "leS1I-_RQaPP"
      },
      "id": "leS1I-_RQaPP",
      "execution_count": null,
      "outputs": []
    },
    {
      "cell_type": "markdown",
      "source": [
        "Unused plotly variant"
      ],
      "metadata": {
        "id": "SEdY_3QKOcVR"
      },
      "id": "SEdY_3QKOcVR"
    },
    {
      "cell_type": "code",
      "source": [
        "px.scatter(gd, x='density', y='average_path_length', labels='title')"
      ],
      "metadata": {
        "id": "rZDAmr-QYiof"
      },
      "id": "rZDAmr-QYiof",
      "execution_count": null,
      "outputs": []
    },
    {
      "cell_type": "markdown",
      "source": [
        "##  PCA loadings"
      ],
      "metadata": {
        "id": "gab6qmoFglFp"
      },
      "id": "gab6qmoFglFp"
    },
    {
      "cell_type": "code",
      "source": [
        "def make_pca_with_loadings(df, feature_list, output_filename, title):\n",
        "    standardized_data = standardize(df, feature_list)\n",
        "    start = time.time()\n",
        "    pca = PCA(n_components=2)\n",
        "\n",
        "    principalComponents = pca.fit_transform(standardized_data)\n",
        "    print('Duration: {} seconds'.format(time.time() - start))\n",
        "    principal = pd.DataFrame(data = principalComponents\n",
        "                , columns = ['principal component 1', 'principal component 2']) #,'principal component 3'])\n",
        "    plot_2d(df, principalComponents[:, 0],\n",
        "            principalComponents[:, 1], \n",
        "            output_filename, \n",
        "            title)\n",
        "    loadings = pca.components_\n",
        "    num_pc = pca.n_features_\n",
        "    pc_list = [\"PC\"+str(i) for i in list(range(1, num_pc+1))]\n",
        "    loadings_df = pd.DataFrame.from_dict(dict(zip(pc_list, loadings)))\n",
        "    loadings_df['variable'] = feature_list\n",
        "    loadings_df = loadings_df.set_index('variable')\n",
        "    print(pca.explained_variance_ratio_)\n",
        "    return loadings_df"
      ],
      "metadata": {
        "id": "66FFlmE-gXNc"
      },
      "execution_count": null,
      "outputs": [],
      "id": "66FFlmE-gXNc"
    },
    {
      "cell_type": "code",
      "source": [
        "loadings = make_pca_with_loadings(french_data_1670_1719, french_features, 'pcafrench_data_1670_1719', 'pcafrench_data_1670_1719')"
      ],
      "metadata": {
        "id": "uwzbwkIEpFrH"
      },
      "execution_count": null,
      "outputs": [],
      "id": "uwzbwkIEpFrH"
    },
    {
      "cell_type": "code",
      "source": [
        "loadings.T.plot.bar(figsize=(15,15))"
      ],
      "metadata": {
        "id": "-CTvUnjgpjPK"
      },
      "execution_count": null,
      "outputs": [],
      "id": "-CTvUnjgpjPK"
    },
    {
      "cell_type": "code",
      "source": [
        "french_data_1670_1719[['first_author', 'title', 'num_connected_components']].sort_values('num_connected_components', ascending=False).head(25)"
      ],
      "metadata": {
        "id": "41B8n8YAof-F"
      },
      "id": "41B8n8YAof-F",
      "execution_count": null,
      "outputs": []
    },
    {
      "cell_type": "code",
      "source": [
        "french_data_1670_1719[french_data_1670_1719['num_connected_components'] == 4][['first_author', 'title', 'subtitle', 'num_connected_components']]"
      ],
      "metadata": {
        "id": "T215Y4fWq8KF"
      },
      "id": "T215Y4fWq8KF",
      "execution_count": null,
      "outputs": []
    },
    {
      "cell_type": "markdown",
      "source": [
        "##  TODO: Classifier, checking accuracy and getting feature importance\n",
        "\n",
        "Expecting this to align well with the statistical test above"
      ],
      "metadata": {
        "id": "dj11rreNg0ql"
      },
      "id": "dj11rreNg0ql"
    },
    {
      "cell_type": "code",
      "source": [
        "rstate = 42"
      ],
      "metadata": {
        "id": "nQgZ6gLnp1js"
      },
      "id": "nQgZ6gLnp1js",
      "execution_count": null,
      "outputs": []
    },
    {
      "cell_type": "code",
      "source": [
        "from sklearn.model_selection import KFold, cross_val_score"
      ],
      "metadata": {
        "id": "3_dcBuXsQE_Z"
      },
      "id": "3_dcBuXsQE_Z",
      "execution_count": null,
      "outputs": []
    },
    {
      "cell_type": "code",
      "source": [
        "from sklearn.ensemble import RandomForestClassifier"
      ],
      "metadata": {
        "id": "E8VPyd0x6_Rx"
      },
      "id": "E8VPyd0x6_Rx",
      "execution_count": null,
      "outputs": []
    },
    {
      "cell_type": "code",
      "source": [
        "from imblearn.ensemble import BalancedRandomForestClassifier"
      ],
      "metadata": {
        "id": "5mZvkJleAMVT"
      },
      "id": "5mZvkJleAMVT",
      "execution_count": null,
      "outputs": []
    },
    {
      "cell_type": "code",
      "source": [
        "from sklearn.model_selection import train_test_split"
      ],
      "metadata": {
        "id": "AIcZ5NTLQyqg"
      },
      "id": "AIcZ5NTLQyqg",
      "execution_count": null,
      "outputs": []
    },
    {
      "cell_type": "code",
      "source": [
        "from sklearn.metrics import accuracy_score"
      ],
      "metadata": {
        "id": "BVQQ9R0_hw5i"
      },
      "execution_count": null,
      "outputs": [],
      "id": "BVQQ9R0_hw5i"
    },
    {
      "cell_type": "code",
      "source": [
        "from sklearn.metrics import confusion_matrix, ConfusionMatrixDisplay"
      ],
      "metadata": {
        "id": "eeJMqks0h11L"
      },
      "execution_count": null,
      "outputs": [],
      "id": "eeJMqks0h11L"
    },
    {
      "cell_type": "code",
      "source": [
        "from typing import Tuple"
      ],
      "metadata": {
        "id": "_YesGrf7PpCA"
      },
      "execution_count": null,
      "outputs": [],
      "id": "_YesGrf7PpCA"
    },
    {
      "cell_type": "code",
      "source": [
        "import copy as cp"
      ],
      "metadata": {
        "id": "aQoyZdCfTJcJ"
      },
      "id": "aQoyZdCfTJcJ",
      "execution_count": null,
      "outputs": []
    },
    {
      "cell_type": "code",
      "source": [
        "from sklearn.inspection import permutation_importance"
      ],
      "metadata": {
        "id": "8AIYrvmmroPB"
      },
      "id": "8AIYrvmmroPB",
      "execution_count": null,
      "outputs": []
    },
    {
      "cell_type": "code",
      "source": [
        "def analyze_model_classwise(trained_model, features_val, target_val):\n",
        "    \"\"\"функция для оценки модели в контексте дисбаланса классов\n",
        "    рисует матрицу ошибок и считает accuracy для каждого класса\n",
        "    \"\"\"\n",
        "    \n",
        "    with open('new.csv', 'a', encoding='utf-8') as allfile:\n",
        "        allfile.write(str(trained_model))\n",
        "        allfile.write('\\n')\n",
        "        predicted_val = trained_model.predict(features_val)\n",
        "        print(f'accuracy : {accuracy_score(target_val, predicted_val)}')\n",
        "        allfile.write(f'accuracy \\t{\"{:.3f}\".format(accuracy_score(target_val, predicted_val))} \\n')\n",
        "        \n",
        "        \n",
        "        labels = trained_model.classes_\n",
        "        cm = confusion_matrix(target_val, predicted_val, labels=labels)\n",
        "\n",
        "\n",
        "        disp = ConfusionMatrixDisplay(confusion_matrix=cm, display_labels=(labels))\n",
        "        disp.plot(xticks_rotation = 90)\n",
        "        class_recalls = list(zip(labels, cm.diagonal()/cm.sum(axis=1)))\n",
        "        class_precisions = list(zip(labels, cm.diagonal()/cm.sum(axis=0)))\n",
        "        for i, some_class in enumerate(class_recalls):\n",
        "            this_class = some_class[0]\n",
        "            p = class_precisions[i][1]\n",
        "            r = some_class[1]\n",
        "            f1 = (2*p*r)/(p+r)\n",
        "            print(f'precision for class {this_class}: {p}')\n",
        "            print(f'recall for class {this_class}: {r}')\n",
        "            print(f'f1 for class {this_class}: {f1}')\n",
        "            allfile.write(f'precision for class {this_class}\\t {\"{:.3f}\".format(p)} \\n')\n",
        "            allfile.write(f'recall_for_class {this_class}\\t{\"{:.3f}\".format(r)} \\n')\n",
        "            allfile.write(f'f1 for class {this_class}\\t{\"{:.3f}\".format(f1)} \\n')\n",
        "        \n",
        "    #print('ROC AUC')    \n",
        "    #draw_roc(target_val, predicted_val)\n",
        "\n",
        "    plt.show()\n",
        "    "
      ],
      "metadata": {
        "id": "FeSaC1rVg_SU"
      },
      "execution_count": null,
      "outputs": [],
      "id": "FeSaC1rVg_SU"
    },
    {
      "cell_type": "code",
      "source": [
        "def cross_val_predict(model, kfold : KFold, X : np.array, y : np.array) -> Tuple[np.array, np.array, np.array]:\n",
        "\n",
        "    model_ = cp.deepcopy(model)\n",
        "    \n",
        "    no_classes = len(np.unique(y))\n",
        "    \n",
        "    actual_classes = np.empty([0], dtype=int)\n",
        "    predicted_classes = np.empty([0], dtype=int)\n",
        "    predicted_proba = np.empty([0, no_classes]) \n",
        "\n",
        "    for train_ndx, test_ndx in kfold.split(X):\n",
        "\n",
        "        train_X, train_y, test_X, test_y = X[train_ndx], y[train_ndx], X[test_ndx], y[test_ndx]\n",
        "\n",
        "        actual_classes = np.append(actual_classes, test_y)\n",
        "\n",
        "        model_.fit(train_X, train_y)\n",
        "        predicted_classes = np.append(predicted_classes, model_.predict(test_X))\n",
        "\n",
        "        try:\n",
        "            predicted_proba = np.append(predicted_proba, model_.predict_proba(test_X), axis=0)\n",
        "        except:\n",
        "            predicted_proba = np.append(predicted_proba, np.zeros((len(test_X), no_classes), dtype=float), axis=0)\n",
        "\n",
        "    return actual_classes, predicted_classes, predicted_proba"
      ],
      "metadata": {
        "id": "aO3CuIZl5y8h"
      },
      "execution_count": null,
      "outputs": [],
      "id": "aO3CuIZl5y8h"
    },
    {
      "cell_type": "code",
      "source": [
        "def plot_confusion_matrix(actual_classes : np.array, predicted_classes : np.array, sorted_labels : list, lang='German'):\n",
        "\n",
        "    matrix = confusion_matrix(actual_classes, predicted_classes, labels=sorted_labels)\n",
        "    \n",
        "    plt.figure(figsize=(12.8,6))\n",
        "    sns.heatmap(matrix, annot=True, xticklabels=sorted_labels, yticklabels=sorted_labels, cmap=\"Blues\", fmt=\"g\")\n",
        "    plt.xlabel('Predicted'); plt.ylabel('Actual'); plt.title(f'Combined Confusion Matrix for all folds of the 5-Fold Cross-Validation on {lang} corpus')\n",
        "\n",
        "\n",
        "    \n",
        "    plt.savefig(f'confusion_matrix_{lang}_balanced_kfold_combined.png',\n",
        "                dpi=300)\n",
        "    plt.show()\n",
        "\n",
        "    print(f'accuracy : {accuracy_score(actual_classes, predicted_classes)}')\n",
        "\n",
        "    cm = matrix\n",
        "    class_recalls = list(zip(sorted_labels, cm.diagonal()/cm.sum(axis=1)))\n",
        "    class_precisions = list(zip(sorted_labels, cm.diagonal()/cm.sum(axis=0)))\n",
        "    for i, some_class in enumerate(class_recalls):\n",
        "        this_class = some_class[0]\n",
        "        p = class_precisions[i][1]\n",
        "        r = some_class[1]\n",
        "        f1 = (2*p*r)/(p+r)\n",
        "        print(f'precision for class {this_class}: {p}')\n",
        "        print(f'recall for class {this_class}: {r}')\n",
        "        print(f'f1 for class {this_class}: {f1}')"
      ],
      "metadata": {
        "id": "_0e9_Py_O_aL"
      },
      "execution_count": null,
      "outputs": [],
      "id": "_0e9_Py_O_aL"
    },
    {
      "cell_type": "code",
      "source": [],
      "metadata": {
        "id": "mtK8RH8mRIUK"
      },
      "id": "mtK8RH8mRIUK",
      "execution_count": null,
      "outputs": []
    },
    {
      "cell_type": "code",
      "source": [
        "def classify(classifier, df, feature_list, classification_parameter):\n",
        "    features = standardize(df, feature_list)\n",
        "    target = df[classification_parameter]\n",
        "    scores = cross_val_score(classifier, features, target)\n",
        "    return(scores)"
      ],
      "metadata": {
        "id": "rN7k8keff-L7"
      },
      "execution_count": null,
      "outputs": [],
      "id": "rN7k8keff-L7"
    },
    {
      "cell_type": "code",
      "source": [
        "def assess_best_rf(df, features_list, classification_parameter):\n",
        "    best = 0 \n",
        "    for i in range(100,1000,50):\n",
        "        model = RandomForestClassifier(n_estimators = i, random_state = rstate)\n",
        "        cross_val_scores = classify(model, df, features_list, classification_parameter)\n",
        "        meanscore = np.mean(cross_val_scores)\n",
        "        print(meanscore)\n",
        "        if meanscore > best:\n",
        "            best = meanscore\n",
        "            best_n_est = i\n",
        "            best_rf_model = model\n",
        "\n",
        "    print(f'Best result: {best} Produced by model with {best_n_est} estimators')\n",
        "\n"
      ],
      "metadata": {
        "id": "jLZlCFyTAgZP"
      },
      "execution_count": null,
      "outputs": [],
      "id": "jLZlCFyTAgZP"
    },
    {
      "cell_type": "code",
      "source": [
        "def assess_best_brf(df, features_list, classification_parameter):\n",
        "    best = 0 \n",
        "    for i in range(100,1000,50):\n",
        "        model = BalancedRandomForestClassifier(n_estimators = i, random_state = rstate)\n",
        "        cross_val_scores = classify(model, df, features_list, classification_parameter)\n",
        "        meanscore = np.mean(cross_val_scores)\n",
        "        print(meanscore)\n",
        "        if meanscore > best:\n",
        "            best = meanscore\n",
        "            best_n_est = i\n",
        "            best_rf_model = model\n",
        "\n",
        "    print(f'Best result: {best} Produced by model with {best_n_est} estimators')\n",
        "\n"
      ],
      "metadata": {
        "id": "F_O3rWwk_9Va"
      },
      "execution_count": null,
      "outputs": [],
      "id": "F_O3rWwk_9Va"
    },
    {
      "cell_type": "code",
      "source": [
        "def assess_best(df, features_list, classification_parameter, balanced=True):\n",
        "    best = 0 \n",
        "    for i in range(100,800,50):\n",
        "        if balanced:\n",
        "            model = BalancedRandomForestClassifier(n_estimators = i, random_state = rstate)\n",
        "        else:\n",
        "            model = RandomForestClassifier(n_estimators = i, random_state = rstate)\n",
        "        cross_val_scores = classify(model, df, features_list, classification_parameter)\n",
        "        meanscore = np.mean(cross_val_scores)\n",
        "        print(meanscore)\n",
        "        if meanscore > best:\n",
        "            best = meanscore\n",
        "            best_n_est = i\n",
        "            best_rf_model = model\n",
        "    print(f'Best result: {best} Produced by model with {best_n_est} estimators')\n",
        "    return best_rf_model"
      ],
      "metadata": {
        "id": "vWLD2Jul2Sba"
      },
      "id": "vWLD2Jul2Sba",
      "execution_count": null,
      "outputs": []
    },
    {
      "cell_type": "code",
      "source": [
        "def get_feature_importances(df, good_model, target_col, features_list, corpusname):\n",
        "    features = standardize(df, features_list)\n",
        "    target = df[target_col]\n",
        "    features_train, features_test, target_train, target_test = train_test_split(features, \n",
        "                                                                                    target, \n",
        "                                                                                    test_size = 0.3,\n",
        "                                                                                    random_state=rstate)\n",
        "    result = permutation_importance(\n",
        "    good_model, features_test, target_test, n_repeats=10, random_state=rstate, n_jobs=2)\n",
        "    forest_importances = pd.Series(result.importances_mean, index=features_list)\n",
        "    fig, ax = plt.subplots()\n",
        "    forest_importances.plot.bar(yerr=result.importances_std, ax=ax)\n",
        "    ax.set_title(f\"Feature importances using permutation on full model on {corpusname} corpus\")\n",
        "    ax.set_ylabel(\"Mean accuracy decrease\")\n",
        "    fig.set_size_inches(10, 6)\n",
        "    fig.tight_layout()\n",
        "    plt.savefig('latest_features_imp.png', dpi=300)\n",
        "    plt.show()\n"
      ],
      "metadata": {
        "id": "1BAm8fhgCtsH"
      },
      "id": "1BAm8fhgCtsH",
      "execution_count": null,
      "outputs": []
    },
    {
      "cell_type": "code",
      "source": [
        "def fully_automated_model_assessment(df, \n",
        "                                     features_list, \n",
        "                                     classification_parameter, \n",
        "                                     balanced=True,\n",
        "                                     lang='German'):\n",
        "    model = assess_best(df, features_list, classification_parameter, balanced=balanced)\n",
        "    df = df.reset_index(drop=True)\n",
        "    X = standardize(df, features_list)\n",
        "    y = df[classification_parameter]\n",
        "\n",
        "    ## cross val conf matrix\n",
        "    kfold = KFold(n_splits=5, random_state=rstate, shuffle=True)\n",
        "    class_labels = df[classification_parameter].unique()\n",
        "    class_labels.sort()\n",
        "    actual_classes, predicted_classes, _ = cross_val_predict(model, kfold, X, y)\n",
        "    plot_confusion_matrix(actual_classes, predicted_classes, class_labels, lang=lang)\n",
        "\n",
        "    ## importances \n",
        "\n",
        "    features_train, features_test, target_train, target_test = train_test_split(X, \n",
        "                                                                            y, \n",
        "                                                                            test_size = 0.3,\n",
        "                                                                            random_state=rstate)\n",
        "    \n",
        "    model.fit(features_train, target_train)\n",
        "    get_feature_importances(df, \n",
        "                            model, \n",
        "                            classification_parameter, \n",
        "                            features_list, \n",
        "                            lang)\n"
      ],
      "metadata": {
        "id": "DNCG5P1K4IA1"
      },
      "id": "DNCG5P1K4IA1",
      "execution_count": null,
      "outputs": []
    },
    {
      "cell_type": "markdown",
      "source": [
        "### German class-wise with cross val optimization, cross val testing and cross val conf matrix"
      ],
      "metadata": {
        "id": "M8UghV984fuw"
      },
      "id": "M8UghV984fuw"
    },
    {
      "cell_type": "code",
      "source": [
        "gd_lt = gd[gd['libretto_or_genre'] != 'Tragicomedy']"
      ],
      "metadata": {
        "id": "VmeeW4EJpcH9"
      },
      "id": "VmeeW4EJpcH9",
      "execution_count": null,
      "outputs": []
    },
    {
      "cell_type": "code",
      "source": [
        "gd_lt['genre_with_libretto_subgenres'].unique()"
      ],
      "metadata": {
        "id": "DkrBZC5jRlWG"
      },
      "id": "DkrBZC5jRlWG",
      "execution_count": null,
      "outputs": []
    },
    {
      "cell_type": "code",
      "source": [
        "fully_automated_model_assessment(gd_lt,\n",
        "                                 german_features,\n",
        "                                 'genre_with_libretto_subgenres')"
      ],
      "metadata": {
        "id": "nUdf3O4N7Twn"
      },
      "id": "nUdf3O4N7Twn",
      "execution_count": null,
      "outputs": []
    },
    {
      "cell_type": "markdown",
      "source": [
        "### German 4 class imbalanced"
      ],
      "metadata": {
        "id": "laMWhTFjbrZs"
      },
      "id": "laMWhTFjbrZs"
    },
    {
      "cell_type": "code",
      "source": [
        "fully_automated_model_assessment(gd_lt,\n",
        "                                 german_features,\n",
        "                                 'genre_with_libretto_subgenres',\n",
        "                                 balanced=False)"
      ],
      "metadata": {
        "id": "oRh9BO8FbuKd"
      },
      "id": "oRh9BO8FbuKd",
      "execution_count": null,
      "outputs": []
    },
    {
      "cell_type": "markdown",
      "source": [
        "### French class-wise with cross val optimization, cross val testing and cross val conf matrix"
      ],
      "metadata": {
        "id": "NYS54HWiWnVY"
      },
      "id": "NYS54HWiWnVY"
    },
    {
      "cell_type": "code",
      "source": [
        "fd_lt = fd[fd['libretto_or_genre'] != 'Tragicomedy']"
      ],
      "metadata": {
        "id": "AQtxhRZpGJa9"
      },
      "id": "AQtxhRZpGJa9",
      "execution_count": null,
      "outputs": []
    },
    {
      "cell_type": "code",
      "source": [
        "fully_automated_model_assessment(fd_lt,\n",
        "                                 french_features,\n",
        "                                 'genre_with_libretto_subgenres',\n",
        "                                 lang='French')"
      ],
      "metadata": {
        "id": "4ycWx01RGOT8"
      },
      "id": "4ycWx01RGOT8",
      "execution_count": null,
      "outputs": []
    },
    {
      "cell_type": "markdown",
      "source": [
        "#### French 4 class imbalanced"
      ],
      "metadata": {
        "id": "SO8LOfY7tptD"
      },
      "id": "SO8LOfY7tptD"
    },
    {
      "cell_type": "code",
      "source": [
        "fully_automated_model_assessment(fd_lt,\n",
        "                                 french_features,\n",
        "                                 'genre_with_libretto_subgenres',\n",
        "                                 lang='French',\n",
        "                                 balanced=False)"
      ],
      "metadata": {
        "id": "lVPwEKi1Qr9A"
      },
      "id": "lVPwEKi1Qr9A",
      "execution_count": null,
      "outputs": []
    },
    {
      "cell_type": "markdown",
      "source": [
        "### German binary balanced"
      ],
      "metadata": {
        "id": "7l-Yssfyu65b"
      },
      "id": "7l-Yssfyu65b"
    },
    {
      "cell_type": "code",
      "source": [
        "fully_automated_model_assessment(gd_lt,\n",
        "                                 german_features,\n",
        "                                 'is_real_libretto')"
      ],
      "metadata": {
        "id": "QXXUBg6MA40q"
      },
      "id": "QXXUBg6MA40q",
      "execution_count": null,
      "outputs": []
    },
    {
      "cell_type": "code",
      "source": [
        "assess_best_brf(gd_lt, german_features, 'is_real_libretto')"
      ],
      "metadata": {
        "id": "44p1F4E40dyG"
      },
      "id": "44p1F4E40dyG",
      "execution_count": null,
      "outputs": []
    },
    {
      "cell_type": "code",
      "source": [
        "good_model = BalancedRandomForestClassifier(n_estimators = 150, random_state = rstate)"
      ],
      "metadata": {
        "id": "skgReProu8nV"
      },
      "id": "skgReProu8nV",
      "execution_count": null,
      "outputs": []
    },
    {
      "cell_type": "code",
      "source": [
        "X = standardize(gd_lt, german_features)\n",
        "y = gd_lt['is_real_libretto']"
      ],
      "metadata": {
        "id": "VWmZqCEs6pmW"
      },
      "id": "VWmZqCEs6pmW",
      "execution_count": null,
      "outputs": []
    },
    {
      "cell_type": "code",
      "source": [],
      "metadata": {
        "id": "jsIpXBfw6pst"
      },
      "id": "jsIpXBfw6pst",
      "execution_count": null,
      "outputs": []
    },
    {
      "cell_type": "code",
      "source": [
        "features = standardize(gd_lt, german_features)\n",
        "target = gd_lt['is_real_libretto']\n",
        "features_train, features_test, target_train, target_test = train_test_split(features, \n",
        "                                                                                    target, \n",
        "                                                                                    test_size = 0.3,\n",
        "                                                                                    random_state=rstate)"
      ],
      "metadata": {
        "id": "VAcFD9DbvXat"
      },
      "id": "VAcFD9DbvXat",
      "execution_count": null,
      "outputs": []
    },
    {
      "cell_type": "code",
      "source": [
        "good_model.fit(features, target)"
      ],
      "metadata": {
        "id": "FwXWGzRYvckJ"
      },
      "id": "FwXWGzRYvckJ",
      "execution_count": null,
      "outputs": []
    },
    {
      "cell_type": "code",
      "source": [
        "get_feature_importances(gd_lt, good_model, 'is_real_libretto', german_features, 'German')"
      ],
      "metadata": {
        "id": "exhP_E-9vLd3"
      },
      "id": "exhP_E-9vLd3",
      "execution_count": null,
      "outputs": []
    },
    {
      "cell_type": "code",
      "source": [
        "genres = gd_lt['is_real_libretto'].unique()"
      ],
      "metadata": {
        "id": "xMXrS2EH1WHY"
      },
      "id": "xMXrS2EH1WHY",
      "execution_count": null,
      "outputs": []
    },
    {
      "cell_type": "code",
      "source": [
        "genres.sort()"
      ],
      "metadata": {
        "id": "6i6c2MWW1Zrk"
      },
      "id": "6i6c2MWW1Zrk",
      "execution_count": null,
      "outputs": []
    },
    {
      "cell_type": "code",
      "source": [
        "genres"
      ],
      "metadata": {
        "id": "tzY4M8Le1fhv"
      },
      "id": "tzY4M8Le1fhv",
      "execution_count": null,
      "outputs": []
    },
    {
      "cell_type": "code",
      "source": [
        "actual_classes, predicted_classes, _ = cross_val_predict(good_model, kfold, X, y)\n",
        "plot_confusion_matrix(actual_classes, predicted_classes, genres, lang= 'German')"
      ],
      "metadata": {
        "id": "OBY1d-Ga1OpN"
      },
      "id": "OBY1d-Ga1OpN",
      "execution_count": null,
      "outputs": []
    },
    {
      "cell_type": "code",
      "source": [
        "\n"
      ],
      "metadata": {
        "id": "gxOCj8Er1yiD"
      },
      "id": "gxOCj8Er1yiD",
      "execution_count": null,
      "outputs": []
    },
    {
      "cell_type": "code",
      "source": [],
      "metadata": {
        "id": "TyPx5rFf4EEc"
      },
      "id": "TyPx5rFf4EEc",
      "execution_count": null,
      "outputs": []
    },
    {
      "cell_type": "markdown",
      "source": [
        "### French binary balanced"
      ],
      "metadata": {
        "id": "_AMG5fHwzK9L"
      },
      "id": "_AMG5fHwzK9L"
    },
    {
      "cell_type": "code",
      "source": [
        "fully_automated_model_assessment(fd_lt,\n",
        "                                 french_features,\n",
        "                                 'is_real_libretto', \n",
        "                                 lang='French')"
      ],
      "metadata": {
        "id": "ow1vXXLmBAwV"
      },
      "id": "ow1vXXLmBAwV",
      "execution_count": null,
      "outputs": []
    },
    {
      "cell_type": "code",
      "source": [],
      "metadata": {
        "id": "K8xF85naCIWY"
      },
      "id": "K8xF85naCIWY",
      "execution_count": null,
      "outputs": []
    },
    {
      "cell_type": "markdown",
      "source": [
        "### French binary imbalanced"
      ],
      "metadata": {
        "id": "1jKUXf1qCIqc"
      },
      "id": "1jKUXf1qCIqc"
    },
    {
      "cell_type": "code",
      "source": [
        "fully_automated_model_assessment(fd_lt,\n",
        "                                 french_features,\n",
        "                                 'is_real_libretto',\n",
        "                                 balanced = False, \n",
        "                                 lang='French')"
      ],
      "metadata": {
        "id": "Hdv-jmx8CLjY"
      },
      "id": "Hdv-jmx8CLjY",
      "execution_count": null,
      "outputs": []
    },
    {
      "cell_type": "markdown",
      "source": [
        "### German Binary imbalanced"
      ],
      "metadata": {
        "id": "Zt6d9frQDsrF"
      },
      "id": "Zt6d9frQDsrF"
    },
    {
      "cell_type": "code",
      "source": [
        "fully_automated_model_assessment(gd_lt,\n",
        "                                 german_features,\n",
        "                                 'is_real_libretto',\n",
        "                                 balanced = False, \n",
        "                                 lang='German')"
      ],
      "metadata": {
        "id": "dGHtFeKLDm6z"
      },
      "id": "dGHtFeKLDm6z",
      "execution_count": null,
      "outputs": []
    },
    {
      "cell_type": "markdown",
      "source": [
        "#### Imbalanced german model, confusion matrix k fold"
      ],
      "metadata": {
        "id": "N9zsZggHp9nw"
      },
      "id": "N9zsZggHp9nw"
    },
    {
      "cell_type": "code",
      "source": [
        "assess_best_rf(gd_lt, german_features, 'genre_with_libretto_subgenres')"
      ],
      "metadata": {
        "id": "XZaDbEysqBA0"
      },
      "id": "XZaDbEysqBA0",
      "execution_count": null,
      "outputs": []
    },
    {
      "cell_type": "code",
      "source": [
        "good_unbalanced_model = RandomForestClassifier(n_estimators = 500, random_state = rstate)"
      ],
      "metadata": {
        "id": "jZVWDhUzp21H"
      },
      "id": "jZVWDhUzp21H",
      "execution_count": null,
      "outputs": []
    },
    {
      "cell_type": "code",
      "source": [
        "X = standardize(gd_lt, german_features)\n",
        "y = gd_lt['genre_with_libretto_subgenres']"
      ],
      "metadata": {
        "id": "labWTi7Wx5or"
      },
      "id": "labWTi7Wx5or",
      "execution_count": null,
      "outputs": []
    },
    {
      "cell_type": "code",
      "source": [
        "actual_classes, predicted_classes, _ = cross_val_predict(good_unbalanced_model, kfold, X, y)\n",
        "plot_confusion_matrix(actual_classes, predicted_classes, genres)"
      ],
      "metadata": {
        "id": "BwCdJyiawj3L"
      },
      "id": "BwCdJyiawj3L",
      "execution_count": null,
      "outputs": []
    },
    {
      "cell_type": "code",
      "source": [
        "good_unbalanced_model"
      ],
      "metadata": {
        "id": "OMP3LKbEy3aT"
      },
      "id": "OMP3LKbEy3aT",
      "execution_count": null,
      "outputs": []
    },
    {
      "cell_type": "code",
      "source": [
        "features = standardize(gd_lt, german_features)\n",
        "target = gd_lt['libretto_or_genre']\n",
        "features_train, features_test, target_train, target_test = train_test_split(features, \n",
        "                                                                                    target, \n",
        "                                                                                    test_size = 0.3,\n",
        "                                                                                    random_state=rstate)"
      ],
      "metadata": {
        "id": "-p72ZJ1Jy36X"
      },
      "execution_count": null,
      "outputs": [],
      "id": "-p72ZJ1Jy36X"
    },
    {
      "cell_type": "code",
      "source": [
        "good_unbalanced_model.fit(features, target)"
      ],
      "metadata": {
        "id": "OYEl37-4y36Y"
      },
      "execution_count": null,
      "outputs": [],
      "id": "OYEl37-4y36Y"
    },
    {
      "cell_type": "code",
      "source": [
        "get_feature_importances(gd_lt, good_unbalanced_model, german_features, 'German')"
      ],
      "metadata": {
        "id": "blUj5cwZytEN"
      },
      "id": "blUj5cwZytEN",
      "execution_count": null,
      "outputs": []
    },
    {
      "cell_type": "code",
      "source": [],
      "metadata": {
        "id": "3c9EWgcxwdf3"
      },
      "id": "3c9EWgcxwdf3",
      "execution_count": null,
      "outputs": []
    },
    {
      "cell_type": "markdown",
      "source": [
        "### Older testing"
      ],
      "metadata": {
        "id": "eM_gKTmSSCkr"
      },
      "id": "eM_gKTmSSCkr"
    },
    {
      "cell_type": "code",
      "source": [],
      "metadata": {
        "id": "nOHn96KIEYwU"
      },
      "id": "nOHn96KIEYwU",
      "execution_count": null,
      "outputs": []
    },
    {
      "cell_type": "code",
      "source": [
        "fd_lt['genre_with_libretto_subgenres'].unique()"
      ],
      "metadata": {
        "id": "AvVnSRI5Wzal"
      },
      "execution_count": null,
      "outputs": [],
      "id": "AvVnSRI5Wzal"
    },
    {
      "cell_type": "code",
      "source": [
        "assess_best_brf(fd_lt, french_features, 'genre_with_libretto_subgenres')"
      ],
      "metadata": {
        "id": "XdsuJBVmWzam"
      },
      "execution_count": null,
      "outputs": [],
      "id": "XdsuJBVmWzam"
    },
    {
      "cell_type": "code",
      "source": [
        "good_model = BalancedRandomForestClassifier(n_estimators = 250, random_state = rstate)"
      ],
      "metadata": {
        "id": "7SdavtLsWzam"
      },
      "execution_count": null,
      "outputs": [],
      "id": "7SdavtLsWzam"
    },
    {
      "cell_type": "code",
      "source": [],
      "metadata": {
        "id": "CGgIstt5W6N4"
      },
      "execution_count": null,
      "outputs": [],
      "id": "CGgIstt5W6N4"
    },
    {
      "cell_type": "code",
      "source": [
        "fd_lt = fd_lt.reset_index(drop=True)"
      ],
      "metadata": {
        "id": "4ymtCxNaW6lk"
      },
      "execution_count": null,
      "outputs": [],
      "id": "4ymtCxNaW6lk"
    },
    {
      "cell_type": "code",
      "source": [
        "X = standardize(fd_lt, french_features)\n",
        "y = fd_lt['genre_with_libretto_subgenres']\n"
      ],
      "metadata": {
        "id": "cLfoI9LuW6ll"
      },
      "execution_count": null,
      "outputs": [],
      "id": "cLfoI9LuW6ll"
    },
    {
      "cell_type": "code",
      "source": [
        "kfold = KFold(n_splits=5, random_state=rstate, shuffle=True)"
      ],
      "metadata": {
        "id": "XFEwSto9W6ll"
      },
      "execution_count": null,
      "outputs": [],
      "id": "XFEwSto9W6ll"
    },
    {
      "cell_type": "code",
      "source": [
        "actual_classes, predicted_classes, _ = cross_val_predict(good_model, kfold, X, y)\n",
        "plot_confusion_matrix(actual_classes, predicted_classes, genres, lang= 'French')"
      ],
      "metadata": {
        "id": "0qB-O3OLW6ll"
      },
      "execution_count": null,
      "outputs": [],
      "id": "0qB-O3OLW6ll"
    },
    {
      "cell_type": "code",
      "source": [
        "features_train, features_test, target_train, target_test = train_test_split(X, \n",
        "                                                                            y, \n",
        "                                                                            test_size = 0.3,\n",
        "                                                                            random_state=rstate)"
      ],
      "metadata": {
        "id": "iXO42H6rt-aY"
      },
      "execution_count": null,
      "outputs": [],
      "id": "iXO42H6rt-aY"
    },
    {
      "cell_type": "code",
      "source": [
        "good_model.fit(features_train, target_train)"
      ],
      "metadata": {
        "id": "oCc5b1tft-aY"
      },
      "execution_count": null,
      "outputs": [],
      "id": "oCc5b1tft-aY"
    },
    {
      "cell_type": "code",
      "source": [
        "get_feature_importances(fd_lt, \n",
        "                        good_model, \n",
        "                        'genre_with_libretto_subgenres', \n",
        "                        french_features, \n",
        "                        'French')"
      ],
      "metadata": {
        "id": "jtQ49chItX2S"
      },
      "execution_count": null,
      "outputs": [],
      "id": "jtQ49chItX2S"
    },
    {
      "cell_type": "code",
      "source": [
        "genres = sorted(list(gd_lt['genre_with_libretto_subgenres'].unique()))"
      ],
      "metadata": {
        "id": "oK7i7XEj68Kw"
      },
      "execution_count": null,
      "outputs": [],
      "id": "oK7i7XEj68Kw"
    },
    {
      "cell_type": "code",
      "source": [
        "genres"
      ],
      "metadata": {
        "id": "Vf52dusORqz0"
      },
      "execution_count": null,
      "outputs": [],
      "id": "Vf52dusORqz0"
    },
    {
      "cell_type": "code",
      "source": [
        "assess_best_brf(gd_lt, german_features, 'genre_with_libretto_subgenres')"
      ],
      "metadata": {
        "id": "Yo6gM9gw4jtC"
      },
      "execution_count": null,
      "outputs": [],
      "id": "Yo6gM9gw4jtC"
    },
    {
      "cell_type": "code",
      "source": [
        "good_model = BalancedRandomForestClassifier(n_estimators = 300, random_state = rstate)"
      ],
      "metadata": {
        "id": "UtTbY5hG43Sz"
      },
      "execution_count": null,
      "outputs": [],
      "id": "UtTbY5hG43Sz"
    },
    {
      "cell_type": "code",
      "source": [
        "gd_lt = gd_lt.reset_index(drop=True)"
      ],
      "metadata": {
        "id": "1_SDTZOuUUXr"
      },
      "execution_count": null,
      "outputs": [],
      "id": "1_SDTZOuUUXr"
    },
    {
      "cell_type": "code",
      "source": [
        "X = standardize(gd_lt, german_features)\n",
        "y = gd_lt['genre_with_libretto_subgenres']\n"
      ],
      "metadata": {
        "id": "DmF_wxwT6YcV"
      },
      "execution_count": null,
      "outputs": [],
      "id": "DmF_wxwT6YcV"
    },
    {
      "cell_type": "code",
      "source": [
        "gd_lt['genre_with_libretto_subgenres'].value_counts()"
      ],
      "metadata": {
        "id": "C15xmmFhXI76"
      },
      "execution_count": null,
      "outputs": [],
      "id": "C15xmmFhXI76"
    },
    {
      "cell_type": "code",
      "source": [
        "kfold = KFold(n_splits=5, random_state=rstate, shuffle=True)"
      ],
      "metadata": {
        "id": "w04Ehfl9Sjn0"
      },
      "execution_count": null,
      "outputs": [],
      "id": "w04Ehfl9Sjn0"
    },
    {
      "cell_type": "code",
      "source": [
        "actual_classes, predicted_classes, _ = cross_val_predict(good_model, kfold, X, y)\n",
        "plot_confusion_matrix(actual_classes, predicted_classes, genres)"
      ],
      "metadata": {
        "id": "IUZjXpXTRVFM"
      },
      "execution_count": null,
      "outputs": [],
      "id": "IUZjXpXTRVFM"
    },
    {
      "cell_type": "code",
      "source": [
        "features_train, features_test, target_train, target_test = train_test_split(X, \n",
        "                                                                            y, \n",
        "                                                                            test_size = 0.3,\n",
        "                                                                            random_state=rstate)"
      ],
      "metadata": {
        "id": "-A2VfPv-23D8"
      },
      "execution_count": null,
      "outputs": [],
      "id": "-A2VfPv-23D8"
    },
    {
      "cell_type": "code",
      "source": [
        "good_model.fit(features_train, target_train)"
      ],
      "metadata": {
        "id": "PJ-xQlJP4hix"
      },
      "execution_count": null,
      "outputs": [],
      "id": "PJ-xQlJP4hix"
    },
    {
      "cell_type": "code",
      "source": [
        "get_feature_importances(gd_lt, good_model, 'genre_with_libretto_subgenres', german_features, 'German')"
      ],
      "metadata": {
        "id": "p5MM9GRr4SPs"
      },
      "execution_count": null,
      "outputs": [],
      "id": "p5MM9GRr4SPs"
    },
    {
      "cell_type": "code",
      "source": [],
      "metadata": {
        "id": "zu8HM-Sb485B"
      },
      "execution_count": null,
      "outputs": [],
      "id": "zu8HM-Sb485B"
    },
    {
      "cell_type": "code",
      "source": [
        "features_train, features_test, target_train, target_test = train_test_split(features, \n",
        "                                                                                    target, \n",
        "                                                                                    test_size = 0.3,\n",
        "                                                                                    random_state=rstate)"
      ],
      "metadata": {
        "id": "gRwU1wfDSB6M"
      },
      "id": "gRwU1wfDSB6M",
      "execution_count": null,
      "outputs": []
    },
    {
      "cell_type": "code",
      "source": [
        "good_model.fit(features_train, target_train)"
      ],
      "metadata": {
        "id": "wxxGngQj6gvz"
      },
      "execution_count": null,
      "outputs": [],
      "id": "wxxGngQj6gvz"
    },
    {
      "cell_type": "code",
      "source": [
        "analyze_model_classwise(good_model, features_test, target_test)"
      ],
      "metadata": {
        "id": "8eKrAJdT6w9k"
      },
      "execution_count": null,
      "outputs": [],
      "id": "8eKrAJdT6w9k"
    },
    {
      "cell_type": "code",
      "source": [
        "get_feature_importances(gd_lt, good_model, german_features, 'German')"
      ],
      "metadata": {
        "id": "gXYlVlskF2qO"
      },
      "execution_count": null,
      "outputs": [],
      "id": "gXYlVlskF2qO"
    },
    {
      "cell_type": "markdown",
      "source": [
        "Multiclass (Comedy, Tragedy, Tragcomedy or libretto)"
      ],
      "metadata": {
        "id": "CFR_k1OXoMeE"
      },
      "id": "CFR_k1OXoMeE"
    },
    {
      "cell_type": "code",
      "source": [
        "def classify(classifier, df, feature_list):\n",
        "    features = standardize(df, feature_list)\n",
        "    target = df['libretto_or_genre']\n",
        "    scores = cross_val_score(classifier, features, target)\n",
        "    return(scores)"
      ],
      "metadata": {
        "id": "FfJ5mT9O6PWh"
      },
      "id": "FfJ5mT9O6PWh",
      "execution_count": null,
      "outputs": []
    },
    {
      "cell_type": "code",
      "source": [
        "rstate=42"
      ],
      "metadata": {
        "id": "IEl0y8I7bvG3"
      },
      "id": "IEl0y8I7bvG3",
      "execution_count": null,
      "outputs": []
    },
    {
      "cell_type": "code",
      "source": [
        "model = RandomForestClassifier(random_state=rstate)"
      ],
      "metadata": {
        "id": "enPCfPi2aB0G"
      },
      "id": "enPCfPi2aB0G",
      "execution_count": null,
      "outputs": []
    },
    {
      "cell_type": "code",
      "source": [
        "result = classify(model, gd, list_features_pyd)"
      ],
      "metadata": {
        "id": "QvZybIe9aHHZ"
      },
      "id": "QvZybIe9aHHZ",
      "execution_count": null,
      "outputs": []
    },
    {
      "cell_type": "code",
      "source": [
        "result"
      ],
      "metadata": {
        "id": "bSYAjlYocIDc"
      },
      "id": "bSYAjlYocIDc",
      "execution_count": null,
      "outputs": []
    },
    {
      "cell_type": "code",
      "source": [
        "np.mean(result)"
      ],
      "metadata": {
        "id": "jd26DqLvcMQc"
      },
      "id": "jd26DqLvcMQc",
      "execution_count": null,
      "outputs": []
    },
    {
      "cell_type": "code",
      "source": [
        "plt.bar(list(range(len(result))), list(result))\n",
        "ax = plt.gca()\n",
        "\n",
        "#ax.set_xlim([xmin, xmax])\n",
        "ax.set_ylim([0, 1])"
      ],
      "metadata": {
        "id": "uVh8mVgMaRlf"
      },
      "id": "uVh8mVgMaRlf",
      "execution_count": null,
      "outputs": []
    },
    {
      "cell_type": "code",
      "source": [],
      "metadata": {
        "id": "X6VFIxB94U2F"
      },
      "id": "X6VFIxB94U2F",
      "execution_count": null,
      "outputs": []
    },
    {
      "cell_type": "code",
      "source": [
        "best = 0 \n",
        "\n",
        "for i in range(100,1000,50):\n",
        "    model = RandomForestClassifier(n_estimators = i, random_state = rstate)\n",
        "    cross_val_scores = classify(model, gd, list_features_pyd)\n",
        "    meanscore = np.mean(cross_val_scores)\n",
        "    print(meanscore)\n",
        "    if meanscore > best:\n",
        "        best = meanscore\n",
        "        best_n_est = i\n",
        "        best_rf_model = model\n",
        "\n",
        "print(f'Best result: {best} Produced by model with {best_n_est} estimators')"
      ],
      "metadata": {
        "id": "85wMKJd9bTSv"
      },
      "id": "85wMKJd9bTSv",
      "execution_count": null,
      "outputs": []
    },
    {
      "cell_type": "code",
      "source": [
        "good_model = RandomForestClassifier(n_estimators = 200, random_state = rstate)"
      ],
      "metadata": {
        "id": "U2dBQ0Ibgkmc"
      },
      "id": "U2dBQ0Ibgkmc",
      "execution_count": null,
      "outputs": []
    },
    {
      "cell_type": "code",
      "source": [
        "features = standardize(gd, list_features_pyd)\n",
        "target = gd['libretto_or_genre']\n",
        "features_train, features_test, target_train, target_test = train_test_split(features, \n",
        "                                                                                    target, \n",
        "                                                                                    test_size = 0.3,\n",
        "                                                                                    random_state=rstate)"
      ],
      "metadata": {
        "id": "fz9sAo5Egp4u"
      },
      "id": "fz9sAo5Egp4u",
      "execution_count": null,
      "outputs": []
    },
    {
      "cell_type": "code",
      "source": [
        "target_test.value_counts()"
      ],
      "metadata": {
        "id": "w_wCF3NjjtBv"
      },
      "id": "w_wCF3NjjtBv",
      "execution_count": null,
      "outputs": []
    },
    {
      "cell_type": "code",
      "source": [
        "good_model.fit(features_train, target_train)"
      ],
      "metadata": {
        "id": "IG7vZq-WhPC_"
      },
      "id": "IG7vZq-WhPC_",
      "execution_count": null,
      "outputs": []
    },
    {
      "cell_type": "code",
      "source": [
        "analyze_model_classwise(good_model, features_test, target_test)"
      ],
      "metadata": {
        "id": "D3i7dSZzhTf7"
      },
      "id": "D3i7dSZzhTf7",
      "execution_count": null,
      "outputs": []
    },
    {
      "cell_type": "markdown",
      "source": [],
      "metadata": {
        "id": "hgM9xU8drmQy"
      },
      "id": "hgM9xU8drmQy"
    },
    {
      "cell_type": "code",
      "source": [
        "\n",
        "\n",
        "result = permutation_importance(\n",
        "    good_model, features_test, target_test, n_repeats=10, random_state=rstate, n_jobs=2\n",
        ")"
      ],
      "metadata": {
        "id": "HAjd5svanBW-"
      },
      "id": "HAjd5svanBW-",
      "execution_count": null,
      "outputs": []
    },
    {
      "cell_type": "code",
      "source": [
        "forest_importances = pd.Series(result.importances_mean, index=list_features_pyd)"
      ],
      "metadata": {
        "id": "AeYd41f-nXcK"
      },
      "id": "AeYd41f-nXcK",
      "execution_count": null,
      "outputs": []
    },
    {
      "cell_type": "code",
      "source": [
        "fig, ax = plt.subplots()\n",
        "forest_importances.plot.bar(yerr=result.importances_std, ax=ax)\n",
        "ax.set_title(\"Feature importances using permutation on full model\")\n",
        "ax.set_ylabel(\"Mean accuracy decrease\")\n",
        "fig.set_size_inches(10, 6)\n",
        "fig.tight_layout()\n",
        "plt.show()"
      ],
      "metadata": {
        "id": "2Z4EEQXjnRGA"
      },
      "id": "2Z4EEQXjnRGA",
      "execution_count": null,
      "outputs": []
    },
    {
      "cell_type": "markdown",
      "source": [
        "### Only german features"
      ],
      "metadata": {
        "id": "x8nreUor4ZXO"
      },
      "id": "x8nreUor4ZXO"
    },
    {
      "cell_type": "code",
      "source": [
        "best = 0 \n",
        "\n",
        "for i in range(100,1000,50):\n",
        "    model = RandomForestClassifier(n_estimators = i, random_state = rstate)\n",
        "    cross_val_scores = classify(model, gd, german_features)\n",
        "    meanscore = np.mean(cross_val_scores)\n",
        "    print(meanscore)\n",
        "    if meanscore > best:\n",
        "        best = meanscore\n",
        "        best_n_est = i\n",
        "        best_rf_model = model\n",
        "\n",
        "print(f'Best result: {best} Produced by model with {best_n_est} estimators')"
      ],
      "metadata": {
        "id": "petwpMFb4cM_"
      },
      "id": "petwpMFb4cM_",
      "execution_count": null,
      "outputs": []
    },
    {
      "cell_type": "code",
      "source": [
        "good_model = RandomForestClassifier(n_estimators = 350, random_state = rstate)"
      ],
      "metadata": {
        "id": "QgQLbGCJ7BIv"
      },
      "id": "QgQLbGCJ7BIv",
      "execution_count": null,
      "outputs": []
    },
    {
      "cell_type": "code",
      "source": [
        "features = standardize(gd, german_features)\n",
        "target = gd['libretto_or_genre']\n",
        "features_train, features_test, target_train, target_test = train_test_split(features, \n",
        "                                                                                    target, \n",
        "                                                                                    test_size = 0.3,\n",
        "                                                                                    random_state=rstate)"
      ],
      "metadata": {
        "id": "xvR-UV3c7CR6"
      },
      "id": "xvR-UV3c7CR6",
      "execution_count": null,
      "outputs": []
    },
    {
      "cell_type": "code",
      "source": [
        "good_model.fit(features_train, target_train)"
      ],
      "metadata": {
        "id": "Ffeb4al88H_J"
      },
      "id": "Ffeb4al88H_J",
      "execution_count": null,
      "outputs": []
    },
    {
      "cell_type": "code",
      "source": [
        "analyze_model_classwise(good_model, features_test, target_test)"
      ],
      "metadata": {
        "id": "YfxXTuqV8M6g"
      },
      "id": "YfxXTuqV8M6g",
      "execution_count": null,
      "outputs": []
    },
    {
      "cell_type": "code",
      "source": [
        "result = permutation_importance(\n",
        "    good_model, features_test, target_test, n_repeats=10, random_state=rstate, n_jobs=2\n",
        ")"
      ],
      "metadata": {
        "id": "9uiAyVVh8027"
      },
      "id": "9uiAyVVh8027",
      "execution_count": null,
      "outputs": []
    },
    {
      "cell_type": "code",
      "source": [
        "forest_importances = pd.Series(result.importances_mean, index=german_features)"
      ],
      "metadata": {
        "id": "O9xlkC2d87T_"
      },
      "id": "O9xlkC2d87T_",
      "execution_count": null,
      "outputs": []
    },
    {
      "cell_type": "code",
      "source": [
        "fig, ax = plt.subplots()\n",
        "forest_importances.plot.bar(yerr=result.importances_std, ax=ax)\n",
        "ax.set_title(\"Feature importances using permutation on full model\")\n",
        "ax.set_ylabel(\"Mean accuracy decrease\")\n",
        "fig.set_size_inches(10, 6)\n",
        "fig.tight_layout()\n",
        "plt.show()"
      ],
      "metadata": {
        "id": "CFvdlPvs9Woa"
      },
      "id": "CFvdlPvs9Woa",
      "execution_count": null,
      "outputs": []
    },
    {
      "cell_type": "code",
      "source": [
        "gd.boxplot('num_of_person_groups', by='is_real_libretto')"
      ],
      "metadata": {
        "id": "8T-D-hHezZRR"
      },
      "id": "8T-D-hHezZRR",
      "execution_count": null,
      "outputs": []
    },
    {
      "cell_type": "code",
      "source": [
        "gd[gd['is_real_libretto'] == True].sort_values('num_of_person_groups', ascending=False)[['first_author', 'title', 'num_of_person_groups', 'year_normalized']].head(25)"
      ],
      "metadata": {
        "id": "r2Q_nAsCyn_T"
      },
      "id": "r2Q_nAsCyn_T",
      "execution_count": null,
      "outputs": []
    },
    {
      "cell_type": "code",
      "source": [],
      "metadata": {
        "id": "s5yGCoUbnfbF"
      },
      "id": "s5yGCoUbnfbF",
      "execution_count": null,
      "outputs": []
    },
    {
      "cell_type": "markdown",
      "source": [
        "Binary"
      ],
      "metadata": {
        "id": "BckCwpkNn8OZ"
      },
      "id": "BckCwpkNn8OZ"
    },
    {
      "cell_type": "code",
      "source": [
        "good_model = RandomForestClassifier(n_estimators = 110, random_state = rstate)"
      ],
      "metadata": {
        "id": "KN-pcQN2vE85"
      },
      "id": "KN-pcQN2vE85",
      "execution_count": null,
      "outputs": []
    },
    {
      "cell_type": "code",
      "source": [
        "features = standardize(gd, list_features_pyd)\n",
        "target = gd['is_real_libretto']\n",
        "features_train, features_test, target_train, target_test = train_test_split(features, \n",
        "                                                                                    target, \n",
        "                                                                                    test_size = 0.3,\n",
        "                                                                                    random_state=rstate)"
      ],
      "metadata": {
        "id": "ivTFcgoxvBkP"
      },
      "id": "ivTFcgoxvBkP",
      "execution_count": null,
      "outputs": []
    },
    {
      "cell_type": "code",
      "source": [
        "good_model.fit(features_train, target_train)"
      ],
      "metadata": {
        "id": "pmYZY9xrv2T5"
      },
      "id": "pmYZY9xrv2T5",
      "execution_count": null,
      "outputs": []
    },
    {
      "cell_type": "code",
      "source": [
        "analyze_model_classwise(good_model, features_test, target_test)"
      ],
      "metadata": {
        "id": "9CLn_fNsvtRU"
      },
      "id": "9CLn_fNsvtRU",
      "execution_count": null,
      "outputs": []
    },
    {
      "cell_type": "code",
      "source": [
        "importances = good_model.feature_importances_\n",
        "forest_importances = pd.Series(importances, index=list_features_pyd)\n",
        "std = np.std([tree.feature_importances_ for tree in good_model.estimators_], axis=0)\n",
        "\n",
        "fig, ax = plt.subplots()\n",
        "fig.set_size_inches(10, 6)\n",
        "forest_importances.plot.bar(yerr=std, ax=ax)\n",
        "ax.set_title(\"Feature importances using MDI\")\n",
        "ax.set_ylabel(\"Mean decrease in impurity\")\n",
        "fig.tight_layout()"
      ],
      "metadata": {
        "id": "N8TPyWc8wZ5_"
      },
      "id": "N8TPyWc8wZ5_",
      "execution_count": null,
      "outputs": []
    },
    {
      "cell_type": "code",
      "source": [
        "result = permutation_importance(\n",
        "    good_model, features_test, target_test, n_repeats=10, random_state=rstate, n_jobs=2\n",
        ")"
      ],
      "metadata": {
        "id": "TEK_Qj2vwAUX"
      },
      "id": "TEK_Qj2vwAUX",
      "execution_count": null,
      "outputs": []
    },
    {
      "cell_type": "code",
      "source": [
        "forest_importances = pd.Series(result.importances_mean, index=list_features_pyd)"
      ],
      "metadata": {
        "id": "NEbjtwrawEKK"
      },
      "id": "NEbjtwrawEKK",
      "execution_count": null,
      "outputs": []
    },
    {
      "cell_type": "code",
      "source": [
        "fig, ax = plt.subplots()\n",
        "forest_importances.plot.bar(yerr=result.importances_std, ax=ax)\n",
        "ax.set_title(\"Feature importances using permutation on full model\")\n",
        "ax.set_ylabel(\"Mean accuracy decrease\")\n",
        "fig.set_size_inches(10, 6)\n",
        "fig.tight_layout()\n",
        "plt.show()"
      ],
      "metadata": {
        "id": "AQbqXoOFwGkG"
      },
      "id": "AQbqXoOFwGkG",
      "execution_count": null,
      "outputs": []
    },
    {
      "cell_type": "code",
      "source": [
        "assess_best_rf(gd, german_features, 'is_real_libretto')"
      ],
      "metadata": {
        "id": "jA4px7zmiIfj"
      },
      "id": "jA4px7zmiIfj",
      "execution_count": null,
      "outputs": []
    },
    {
      "cell_type": "code",
      "source": [
        "good_model = RandomForestClassifier(n_estimators = 600, random_state = rstate)"
      ],
      "metadata": {
        "id": "lG0JQgPGizZz"
      },
      "id": "lG0JQgPGizZz",
      "execution_count": null,
      "outputs": []
    },
    {
      "cell_type": "code",
      "source": [
        "features = standardize(gd, german_features)\n",
        "target = gd['is_real_libretto']\n",
        "features_train, features_test, target_train, target_test = train_test_split(features, \n",
        "                                                                                    target, \n",
        "                                                                                    test_size = 0.3,\n",
        "                                                                                    random_state=rstate)"
      ],
      "metadata": {
        "id": "g03nzZhNjwC2"
      },
      "id": "g03nzZhNjwC2",
      "execution_count": null,
      "outputs": []
    },
    {
      "cell_type": "code",
      "source": [
        "good_model.fit(features, target)"
      ],
      "metadata": {
        "id": "cG0OXx-Zj09U"
      },
      "id": "cG0OXx-Zj09U",
      "execution_count": null,
      "outputs": []
    },
    {
      "cell_type": "code",
      "source": [
        "get_feature_importances(gd, good_model, german_features, 'German')"
      ],
      "metadata": {
        "id": "Obs2-jpnkXyo"
      },
      "id": "Obs2-jpnkXyo",
      "execution_count": null,
      "outputs": []
    },
    {
      "cell_type": "markdown",
      "source": [
        "### Decision Tree"
      ],
      "metadata": {
        "id": "RZiFTFqpvqP6"
      },
      "id": "RZiFTFqpvqP6"
    },
    {
      "cell_type": "code",
      "source": [
        "from sklearn.tree import DecisionTreeClassifier"
      ],
      "metadata": {
        "id": "c0P71uegeE_7"
      },
      "id": "c0P71uegeE_7",
      "execution_count": null,
      "outputs": []
    },
    {
      "cell_type": "code",
      "source": [
        "best = 0 \n",
        "\n",
        "for i in range(1,20):\n",
        "    model = DecisionTreeClassifier(max_depth=i, random_state=rstate)\n",
        "    cross_val_scores = classify(model, gd, list_features_pyd)\n",
        "    meanscore = np.mean(cross_val_scores)\n",
        "    print(meanscore)\n",
        "    if meanscore > best:\n",
        "        best = meanscore\n",
        "        best_depth = i\n",
        "        best_tree_model = model\n",
        "\n",
        "print(f'Лучший результат: {best} Его дала модель c глубиной {best_depth}')"
      ],
      "metadata": {
        "id": "9Q_50Purdrmp"
      },
      "id": "9Q_50Purdrmp",
      "execution_count": null,
      "outputs": []
    },
    {
      "cell_type": "code",
      "source": [
        "from sklearn.linear_model import LogisticRegression"
      ],
      "metadata": {
        "id": "dNySxIgrewGx"
      },
      "id": "dNySxIgrewGx",
      "execution_count": null,
      "outputs": []
    },
    {
      "cell_type": "code",
      "source": [
        "best = 0 \n",
        "for i in range(100,5000,100):\n",
        "    model = LogisticRegression(max_iter=i, random_state=rstate)\n",
        "    cross_val_scores = classify(model, gd, list_features_pyd)\n",
        "    meanscore = np.mean(cross_val_scores)\n",
        "    print(meanscore)\n",
        "    if meanscore > best:\n",
        "        best = meanscore\n",
        "        best_max_iter = i\n",
        "        best_log_reg_model = model\n",
        "\n",
        "print(f'Лучший результат: {best} Его дала модель c {best_max_iter} итераций')"
      ],
      "metadata": {
        "id": "dzEp0eKke5De"
      },
      "id": "dzEp0eKke5De",
      "execution_count": null,
      "outputs": []
    },
    {
      "cell_type": "markdown",
      "source": [
        "### Другие классификаторы"
      ],
      "metadata": {
        "id": "MuI7AXBO4ys6"
      },
      "id": "MuI7AXBO4ys6"
    },
    {
      "cell_type": "code",
      "source": [
        "from sklearn.neural_network import MLPClassifier"
      ],
      "metadata": {
        "id": "ikpXhiudeSGC"
      },
      "id": "ikpXhiudeSGC",
      "execution_count": null,
      "outputs": []
    },
    {
      "cell_type": "code",
      "source": [
        "perceptron_model = MLPClassifier(random_state=rstate)"
      ],
      "metadata": {
        "id": "Tnr6EhD_edR5"
      },
      "id": "Tnr6EhD_edR5",
      "execution_count": null,
      "outputs": []
    },
    {
      "cell_type": "code",
      "source": [
        "result = classify(perceptron_model, gd, list_features_pyd)"
      ],
      "metadata": {
        "id": "EuEwrzcVei32"
      },
      "id": "EuEwrzcVei32",
      "execution_count": null,
      "outputs": []
    },
    {
      "cell_type": "code",
      "source": [
        "np.mean(result)"
      ],
      "metadata": {
        "id": "7gtaDIkYepjv"
      },
      "id": "7gtaDIkYepjv",
      "execution_count": null,
      "outputs": []
    },
    {
      "cell_type": "code",
      "source": [
        "plt.bar(list(range(len(result))), list(result))\n",
        "ax = plt.gca()\n",
        "\n",
        "#ax.set_xlim([xmin, xmax])\n",
        "ax.set_ylim([0, 1])"
      ],
      "metadata": {
        "id": "wPNwsQffesl4"
      },
      "id": "wPNwsQffesl4",
      "execution_count": null,
      "outputs": []
    },
    {
      "cell_type": "markdown",
      "source": [
        "### French classifier"
      ],
      "metadata": {
        "id": "Gf-CuJVN9kwx"
      },
      "id": "Gf-CuJVN9kwx"
    },
    {
      "cell_type": "code",
      "source": [],
      "metadata": {
        "id": "xJOf6RohI6mz"
      },
      "id": "xJOf6RohI6mz",
      "execution_count": null,
      "outputs": []
    },
    {
      "cell_type": "code",
      "source": [
        "fd_lt['genre_with_libretto_subgenres'].unique()"
      ],
      "metadata": {
        "id": "nGFJLZabI9M1"
      },
      "execution_count": null,
      "outputs": [],
      "id": "nGFJLZabI9M1"
    },
    {
      "cell_type": "code",
      "source": [
        "assess_best_brf(fd_lt, french_features, 'genre_with_libretto_subgenres')"
      ],
      "metadata": {
        "id": "Hestuw7rI9M2"
      },
      "execution_count": null,
      "outputs": [],
      "id": "Hestuw7rI9M2"
    },
    {
      "cell_type": "code",
      "source": [
        "good_model = BalancedRandomForestClassifier(n_estimators = 250, random_state = rstate)"
      ],
      "metadata": {
        "id": "vdkog-6mI9M2"
      },
      "execution_count": null,
      "outputs": [],
      "id": "vdkog-6mI9M2"
    },
    {
      "cell_type": "code",
      "source": [
        "features = standardize(fd_lt, french_features)\n",
        "target = fd_lt['genre_with_libretto_subgenres']\n",
        "features_train, features_test, target_train, target_test = train_test_split(features, \n",
        "                                                                                    target, \n",
        "                                                                                    test_size = 0.3,\n",
        "                                                                                    random_state=rstate)"
      ],
      "metadata": {
        "id": "ocQFo43MI9M2"
      },
      "execution_count": null,
      "outputs": [],
      "id": "ocQFo43MI9M2"
    },
    {
      "cell_type": "code",
      "source": [
        "good_model.fit(features_train, target_train)"
      ],
      "metadata": {
        "id": "7AaNL3mPI9M2"
      },
      "execution_count": null,
      "outputs": [],
      "id": "7AaNL3mPI9M2"
    },
    {
      "cell_type": "code",
      "source": [
        "analyze_model_classwise(good_model, features_test, target_test)"
      ],
      "metadata": {
        "id": "IIVtW9fDI9M2"
      },
      "execution_count": null,
      "outputs": [],
      "id": "IIVtW9fDI9M2"
    },
    {
      "cell_type": "code",
      "source": [
        "get_feature_importances(fd_lt, good_model, french_features, 'French')"
      ],
      "metadata": {
        "id": "542f4YK6I9M2"
      },
      "execution_count": null,
      "outputs": [],
      "id": "542f4YK6I9M2"
    },
    {
      "cell_type": "markdown",
      "source": [
        "### Binary"
      ],
      "metadata": {
        "id": "u7NW3x0WI7PV"
      },
      "id": "u7NW3x0WI7PV"
    },
    {
      "cell_type": "code",
      "source": [
        "assess_best_rf(fd, french_features, 'is_real_libretto')"
      ],
      "metadata": {
        "id": "H9KCp_9XgDPY"
      },
      "id": "H9KCp_9XgDPY",
      "execution_count": null,
      "outputs": []
    },
    {
      "cell_type": "code",
      "source": [
        "good_model = RandomForestClassifier(n_estimators = 750, random_state = rstate)"
      ],
      "metadata": {
        "id": "XQ5MoG2sDMRy"
      },
      "id": "XQ5MoG2sDMRy",
      "execution_count": null,
      "outputs": []
    },
    {
      "cell_type": "code",
      "source": [
        "features = standardize(fd, french_features)\n",
        "target = fd['is_real_libretto']\n",
        "features_train, features_test, target_train, target_test = train_test_split(features, \n",
        "                                                                                    target, \n",
        "                                                                                    test_size = 0.3,\n",
        "                                                                                    random_state=rstate)"
      ],
      "metadata": {
        "id": "GWW4peuXFAos"
      },
      "id": "GWW4peuXFAos",
      "execution_count": null,
      "outputs": []
    },
    {
      "cell_type": "code",
      "source": [
        "good_model.fit(features_train, target_train)"
      ],
      "metadata": {
        "id": "wgnGV1QwFK7A"
      },
      "id": "wgnGV1QwFK7A",
      "execution_count": null,
      "outputs": []
    },
    {
      "cell_type": "code",
      "source": [
        "get_feature_importances(fd, good_model, french_features, 'French')"
      ],
      "metadata": {
        "id": "s4_tl1EaFOjz"
      },
      "id": "s4_tl1EaFOjz",
      "execution_count": null,
      "outputs": []
    },
    {
      "cell_type": "code",
      "source": [
        "get_feature_importances(fd, good_model, list_features_pyd)"
      ],
      "metadata": {
        "id": "vTQMYzv3eCZw"
      },
      "id": "vTQMYzv3eCZw",
      "execution_count": null,
      "outputs": []
    },
    {
      "cell_type": "code",
      "source": [
        "assess_best_rf(fd, list_features_pyd, 'is_real_libretto')"
      ],
      "metadata": {
        "id": "fLiw80awC8nK"
      },
      "id": "fLiw80awC8nK",
      "execution_count": null,
      "outputs": []
    },
    {
      "cell_type": "markdown",
      "source": [
        "Trying 4-classes"
      ],
      "metadata": {
        "id": "AmDtt2eddaoq"
      },
      "id": "AmDtt2eddaoq"
    },
    {
      "cell_type": "code",
      "source": [
        "assess_best_rf(fd, french_features, 'libretto_or_genre')"
      ],
      "metadata": {
        "id": "XL0t1E8BCpxT"
      },
      "id": "XL0t1E8BCpxT",
      "execution_count": null,
      "outputs": []
    },
    {
      "cell_type": "code",
      "source": [
        "assess_best_rf(fd, list_features_pyd, 'libretto_or_genre')"
      ],
      "metadata": {
        "id": "dU7Nk61mDAQd"
      },
      "id": "dU7Nk61mDAQd",
      "execution_count": null,
      "outputs": []
    },
    {
      "cell_type": "markdown",
      "source": [
        "## Subtitle exploration"
      ],
      "metadata": {
        "id": "bDbUrs29CqUm"
      },
      "id": "bDbUrs29CqUm"
    },
    {
      "cell_type": "code",
      "source": [
        "german_libretti = df_libretti_only[df_libretti_only['lang'] == 'ger']"
      ],
      "metadata": {
        "id": "CXsRQONH9Uqv"
      },
      "id": "CXsRQONH9Uqv",
      "execution_count": null,
      "outputs": []
    },
    {
      "cell_type": "code",
      "source": [
        "\n",
        "german_libretti['subtitle'].value_counts(ascending=True)[-15:].plot.barh()\n",
        "#plt.xticks(rotation = 80)"
      ],
      "metadata": {
        "id": "hB0p5HZ5C2rJ"
      },
      "id": "hB0p5HZ5C2rJ",
      "execution_count": null,
      "outputs": []
    },
    {
      "cell_type": "code",
      "source": [
        "french_libretti = df_libretti_only[df_libretti_only['lang'] == 'fre']"
      ],
      "metadata": {
        "id": "QvUJNKLiD6ue"
      },
      "id": "QvUJNKLiD6ue",
      "execution_count": null,
      "outputs": []
    },
    {
      "cell_type": "code",
      "source": [
        "french_libretti['subtitle'].value_counts(ascending=True)[-15:].plot.barh()"
      ],
      "metadata": {
        "id": "qj3wThw3D-Je"
      },
      "id": "qj3wThw3D-Je",
      "execution_count": null,
      "outputs": []
    },
    {
      "cell_type": "code",
      "source": [
        "french_libretti[french_libretti['subtitle'].str.lower().str.contains('com')]['subtitle'].shape"
      ],
      "metadata": {
        "id": "Unr8DFUgEcP9"
      },
      "id": "Unr8DFUgEcP9",
      "execution_count": null,
      "outputs": []
    },
    {
      "cell_type": "code",
      "source": [
        "french_libretti.shape"
      ],
      "metadata": {
        "id": "2p6W4BB-EzJQ"
      },
      "id": "2p6W4BB-EzJQ",
      "execution_count": null,
      "outputs": []
    },
    {
      "cell_type": "code",
      "source": [
        "french_libretti[french_libretti['subtitle'].str.lower().str.contains('trag')]['subtitle'].shape"
      ],
      "metadata": {
        "id": "XXMvFrbTE205"
      },
      "id": "XXMvFrbTE205",
      "execution_count": null,
      "outputs": []
    },
    {
      "cell_type": "code",
      "source": [
        "german_libretti[(german_libretti['subtitle'].str.lower().str.contains('kom')) |\n",
        "                (german_libretti['subtitle'].str.lower().str.contains('poss')) \n",
        "                ]['subtitle'].shape"
      ],
      "metadata": {
        "id": "BE9GsFIlE78H"
      },
      "id": "BE9GsFIlE78H",
      "execution_count": null,
      "outputs": []
    },
    {
      "cell_type": "code",
      "source": [
        "german_libretti['subtitle'].to_excel('subtitles_de.xls')"
      ],
      "metadata": {
        "id": "6LsXvKQjFPaN"
      },
      "id": "6LsXvKQjFPaN",
      "execution_count": null,
      "outputs": []
    },
    {
      "cell_type": "code",
      "source": [
        "french_libretti['subtitle'].to_excel('subtitles_fr.xls')"
      ],
      "metadata": {
        "id": "5OAYR_YsRRWI"
      },
      "id": "5OAYR_YsRRWI",
      "execution_count": null,
      "outputs": []
    },
    {
      "cell_type": "markdown",
      "source": [
        "### Wordclouds"
      ],
      "metadata": {
        "id": "V0aYJJrX7mva"
      },
      "id": "V0aYJJrX7mva"
    },
    {
      "cell_type": "code",
      "source": [
        "from wordcloud import WordCloud"
      ],
      "metadata": {
        "id": "dCtop2Ja8aU9"
      },
      "id": "dCtop2Ja8aU9",
      "execution_count": null,
      "outputs": []
    },
    {
      "cell_type": "code",
      "source": [
        "import spacy"
      ],
      "metadata": {
        "id": "ThVTk6s08do_"
      },
      "id": "ThVTk6s08do_",
      "execution_count": null,
      "outputs": []
    },
    {
      "cell_type": "code",
      "source": [
        "! python -m spacy download de_core_news_sm"
      ],
      "metadata": {
        "id": "r9tnZWym8zRl"
      },
      "id": "r9tnZWym8zRl",
      "execution_count": null,
      "outputs": []
    },
    {
      "cell_type": "code",
      "source": [
        "german_nlp = spacy.load(\"de_core_news_sm\")"
      ],
      "metadata": {
        "id": "2LNaFoXk8gob"
      },
      "id": "2LNaFoXk8gob",
      "execution_count": null,
      "outputs": []
    },
    {
      "cell_type": "code",
      "source": [
        "def lemmatize_string_de(string):\n",
        "    doc = german_nlp(string)\n",
        "    tokens = [token.lemma_ for token in doc] \n",
        "    return tokens"
      ],
      "metadata": {
        "id": "FhL3ZnJC9FoV"
      },
      "id": "FhL3ZnJC9FoV",
      "execution_count": null,
      "outputs": []
    },
    {
      "cell_type": "code",
      "source": [
        "lemmatize_string('Große romantische Oper in drei Akten')"
      ],
      "metadata": {
        "id": "4HOkmdnA9PUB"
      },
      "id": "4HOkmdnA9PUB",
      "execution_count": null,
      "outputs": []
    },
    {
      "cell_type": "code",
      "source": [
        "german_libretti['lemm_subtitle'] = german_libretti['subtitle'].apply(lemmatize_string)"
      ],
      "metadata": {
        "id": "724WzeS39L40"
      },
      "id": "724WzeS39L40",
      "execution_count": null,
      "outputs": []
    },
    {
      "cell_type": "code",
      "source": [
        "german_libretti['lemm_subtitle']"
      ],
      "metadata": {
        "id": "nU6KcGvl92BL"
      },
      "id": "nU6KcGvl92BL",
      "execution_count": null,
      "outputs": []
    },
    {
      "cell_type": "code",
      "source": [
        "from collections import Counter"
      ],
      "metadata": {
        "id": "qtACNzCi-fIp"
      },
      "id": "qtACNzCi-fIp",
      "execution_count": null,
      "outputs": []
    },
    {
      "cell_type": "code",
      "source": [
        "def get_flattened(words):\n",
        "    flattened = []\n",
        "    for somelist in words:\n",
        "        for word in somelist:\n",
        "            flattened.append(word)\n",
        "    return flattened"
      ],
      "metadata": {
        "id": "C93FLrmE-0rp"
      },
      "id": "C93FLrmE-0rp",
      "execution_count": null,
      "outputs": []
    },
    {
      "cell_type": "code",
      "source": [
        "def produce_wordcloud(df, columnname, numwords):\n",
        "    words = list(df[columnname])\n",
        "    flattened = get_flattened(words)\n",
        "    counted = dict(Counter(flattened).most_common(numwords))\n",
        "    wordcloud = WordCloud(width=800, height=600).generate_from_frequencies(counted)\n",
        "    plt.figure(figsize=(16,16))\n",
        "    plt.imshow(wordcloud, interpolation='bilinear')\n",
        "    plt.title(f'wordcloud')\n",
        "    plt.axis(\"off\")\n",
        "    plt.savefig(f'wordcloud.jpg', dpi=300, facecolor='k', bbox_inches='tight')"
      ],
      "metadata": {
        "id": "r3oPORVq9-9M"
      },
      "id": "r3oPORVq9-9M",
      "execution_count": null,
      "outputs": []
    },
    {
      "cell_type": "code",
      "source": [
        "produce_wordcloud(german_libretti, 'lemm_subtitle', 50)"
      ],
      "metadata": {
        "id": "raw5vExt-ZM0"
      },
      "id": "raw5vExt-ZM0",
      "execution_count": null,
      "outputs": []
    },
    {
      "cell_type": "markdown",
      "metadata": {
        "id": "6afAtAJcD_p-"
      },
      "source": [
        "##  TODO: Dropping out the last act: what does it happen? Does the \"comedification\" of opera stop?"
      ],
      "id": "6afAtAJcD_p-"
    },
    {
      "cell_type": "markdown",
      "metadata": {
        "id": "Ep-0QG60Dduw"
      },
      "source": [
        "# TODO: Other peculiarities of libretti\n",
        "\n"
      ],
      "id": "Ep-0QG60Dduw"
    },
    {
      "cell_type": "markdown",
      "metadata": {
        "id": "_se0y-TdFrAa"
      },
      "source": [
        "* Prologues are often genre-signalling: is the relative frequence of `<div type=\"prologue\">` higher in our libretti corpus?\n",
        "* are operas inherently more action-packed than plays? check drama change rate\n",
        "* computing ratio `<sp>` vs. `<stage>`: is opera more narrative than plays? --> already recognisable in the correlation matrix\n",
        "\n",
        "* making sense of music inside operas: how does it influence the dramatic structure? e.g. checking relevant vocabulary in stage directions\n",
        "    *   compare the lexical composition of stage directions between libretti and non-libretti"
      ],
      "id": "_se0y-TdFrAa"
    },
    {
      "cell_type": "markdown",
      "source": [
        "# III. Trash"
      ],
      "metadata": {
        "id": "EAzGM-Iyf4GF"
      },
      "id": "EAzGM-Iyf4GF"
    },
    {
      "cell_type": "markdown",
      "metadata": {
        "id": "7xPx6fp3wmmC"
      },
      "source": [
        "## Older notes"
      ],
      "id": "7xPx6fp3wmmC"
    },
    {
      "cell_type": "markdown",
      "metadata": {
        "id": "WucR91FwlAX-"
      },
      "source": [
        "### Observations 7.12:\n",
        "\n",
        "\n",
        "\n",
        "*   We see a clear **non-libretti zone**: libretti have some requirements\n",
        "*   To see which threshold values of which features are restrictive for libretti we can simply **plot pairwise boxplots** (see Szemes & Vida)\n",
        "*   Libretti do not all cluster together, but we observe clustering of **some** libretti. The picture might be distorted due to overlapping of different time periods on one plot, need to check if splitting time  periods will make clusters clearer. \n",
        "*   Hypothesis to check: **later clusters might be more clear** because the genre of opera becomes more formalized ('Aristotelis of the opera emerges out of the initial diversity and unifies everyone') \n",
        "\n",
        "\n",
        "\n",
        "TODO: \n",
        "\n",
        "*   <s>Vectors for the features in LDA graphs -- checked, too many features, does not really help the interpretation</s>\n",
        "*   <s>Split the true libretti and the putative libretti (libretti apartheid yay!)</s>\n",
        "*   <s>Split timeframes</s>\n",
        "*   Run only on thing which have 'Oper(a)' in the name\n",
        "*   Rerun on French stuff\n",
        "\n"
      ],
      "id": "WucR91FwlAX-"
    },
    {
      "cell_type": "markdown",
      "metadata": {
        "id": "YZP5bwlSB4C4"
      },
      "source": [
        "# Code snippets and trash\n"
      ],
      "id": "YZP5bwlSB4C4"
    },
    {
      "cell_type": "markdown",
      "metadata": {
        "id": "S_Rb3m2vEjAR"
      },
      "source": [
        "### Trash"
      ],
      "id": "S_Rb3m2vEjAR"
    },
    {
      "cell_type": "code",
      "execution_count": null,
      "metadata": {
        "id": "DezTfnslwjwk"
      },
      "outputs": [],
      "source": [],
      "id": "DezTfnslwjwk"
    },
    {
      "cell_type": "markdown",
      "metadata": {
        "id": "sRCz3FmbSISu"
      },
      "source": [
        "### Removing unclassified plays"
      ],
      "id": "sRCz3FmbSISu"
    },
    {
      "cell_type": "code",
      "execution_count": null,
      "metadata": {
        "id": "BNi77PyRPblV"
      },
      "outputs": [],
      "source": [
        "filtered_data = german_data[german_data['libretto_or_genre'] != 'Other']"
      ],
      "id": "BNi77PyRPblV"
    },
    {
      "cell_type": "code",
      "execution_count": null,
      "metadata": {
        "id": "G3zJ-dfpSQwJ"
      },
      "outputs": [],
      "source": [
        "filtered_data['genre_with_putative_libretto'].value_counts()"
      ],
      "id": "G3zJ-dfpSQwJ"
    },
    {
      "cell_type": "code",
      "execution_count": null,
      "metadata": {
        "id": "cDDYYmNNSj-b"
      },
      "outputs": [],
      "source": [
        "filtered_data['color'].value_counts()"
      ],
      "id": "cDDYYmNNSj-b"
    },
    {
      "cell_type": "code",
      "execution_count": null,
      "metadata": {
        "id": "oKC92XaFMTpn"
      },
      "outputs": [],
      "source": [
        "x = filtered_data.loc[:, features].values\n",
        "#x.apply()\n",
        "# Separating out the target\n",
        "#y = df.loc[:,['target']].values\n",
        "# Standardizing the features\n",
        "x = StandardScaler().fit_transform(x)\n",
        "X_LDA_fitted = LDA(n_components=3).fit(x, filtered_data['libretto_or_genre'])\n",
        "X_LDA = X_LDA_fitted.transform(x)"
      ],
      "id": "oKC92XaFMTpn"
    },
    {
      "cell_type": "code",
      "execution_count": null,
      "metadata": {
        "id": "r2GpuiMGOigc"
      },
      "outputs": [],
      "source": [
        "X_LDA"
      ],
      "id": "r2GpuiMGOigc"
    },
    {
      "cell_type": "code",
      "execution_count": null,
      "metadata": {
        "id": "wmhusOpZM3NR"
      },
      "outputs": [],
      "source": [
        "plot_2d(filtered_data, X_LDA[:, 0],X_LDA[:, 1])"
      ],
      "id": "wmhusOpZM3NR"
    },
    {
      "cell_type": "markdown",
      "metadata": {
        "id": "QVcljmLk2m-b"
      },
      "source": [
        "### Time-frames after apartheid (OLD)"
      ],
      "id": "QVcljmLk2m-b"
    },
    {
      "cell_type": "markdown",
      "metadata": {
        "id": "6vhbVKLL2x2j"
      },
      "source": [
        "#### 1770_1820"
      ],
      "id": "6vhbVKLL2x2j"
    },
    {
      "cell_type": "code",
      "execution_count": null,
      "metadata": {
        "id": "oOCzPkta24uL"
      },
      "outputs": [],
      "source": [
        "german_data['year_normalized']"
      ],
      "id": "oOCzPkta24uL"
    },
    {
      "cell_type": "code",
      "execution_count": null,
      "metadata": {
        "id": "5zYEVZBF2vwN"
      },
      "outputs": [],
      "source": [
        "german_data_1770_1820 = filtered_data[(filtered_data['year_normalized'] >= 1770) & \n",
        "                                      (filtered_data['year_normalized'] <= 1820)]"
      ],
      "id": "5zYEVZBF2vwN"
    },
    {
      "cell_type": "code",
      "execution_count": null,
      "metadata": {
        "id": "vtE3sV26UR4z"
      },
      "outputs": [],
      "source": [
        "x = german_data_1770_1820.loc[:, features].values\n",
        "#x.apply()\n",
        "# Separating out the target\n",
        "#y = df.loc[:,['target']].values\n",
        "# Standardizing the features\n",
        "x = StandardScaler().fit_transform(x)\n",
        "X_LDA_fitted = LDA(n_components=2).fit(x, german_data_1770_1820['libretto_or_genre'])\n",
        "X_LDA = X_LDA_fitted.transform(x)"
      ],
      "id": "vtE3sV26UR4z"
    },
    {
      "cell_type": "code",
      "execution_count": null,
      "metadata": {
        "id": "IyD0xrJdMxlW"
      },
      "outputs": [],
      "source": [
        "plot_2d(german_data_1770_1820, X_LDA[:, 0],X_LDA[:, 1])"
      ],
      "id": "IyD0xrJdMxlW"
    },
    {
      "cell_type": "code",
      "execution_count": null,
      "metadata": {
        "id": "lWbHWdboM2U0"
      },
      "outputs": [],
      "source": [],
      "id": "lWbHWdboM2U0"
    },
    {
      "cell_type": "markdown",
      "metadata": {
        "id": "7Uwa4Nxp7wS_"
      },
      "source": [
        "#### 1821_1870"
      ],
      "id": "7Uwa4Nxp7wS_"
    },
    {
      "cell_type": "code",
      "execution_count": null,
      "metadata": {
        "id": "IwSmOIcD7q_I"
      },
      "outputs": [],
      "source": [
        "german_data_1821_1870 = filtered_data[(filtered_data['year_normalized'] >= 1821) & \n",
        "                                      (filtered_data['year_normalized'] <= 1870)]"
      ],
      "id": "IwSmOIcD7q_I"
    },
    {
      "cell_type": "code",
      "execution_count": null,
      "metadata": {
        "id": "yKT4_6ZpYQe5"
      },
      "outputs": [],
      "source": [],
      "id": "yKT4_6ZpYQe5"
    },
    {
      "cell_type": "code",
      "execution_count": null,
      "metadata": {
        "id": "2fhSg-bj8BpM"
      },
      "outputs": [],
      "source": [
        "german_data_1821_1870['genre_with_putative_libretto'].value_counts()"
      ],
      "id": "2fhSg-bj8BpM"
    },
    {
      "cell_type": "code",
      "execution_count": null,
      "metadata": {
        "id": "cYoYDSQM74vn"
      },
      "outputs": [],
      "source": [
        "x = german_data_1821_1870.loc[:, features].values\n",
        "#x.apply()\n",
        "# Separating out the target\n",
        "#y = df.loc[:,['target']].values\n",
        "# Standardizing the features\n",
        "x = StandardScaler().fit_transform(x)\n",
        "X_LDA_fitted = LDA(n_components=2).fit(x, german_data_1821_1870['libretto_or_genre'])\n",
        "X_LDA = X_LDA_fitted.transform(x)"
      ],
      "id": "cYoYDSQM74vn"
    },
    {
      "cell_type": "code",
      "execution_count": null,
      "metadata": {
        "id": "SDILt0vZXgFS"
      },
      "outputs": [],
      "source": [
        "plot_2d(german_data_1821_1870, X_LDA[:, 0],X_LDA[:, 1])"
      ],
      "id": "SDILt0vZXgFS"
    },
    {
      "cell_type": "code",
      "execution_count": null,
      "metadata": {
        "id": "xxIOjRK3YRfz"
      },
      "outputs": [],
      "source": [
        "german_data_1871_1920 = filtered_data[(filtered_data['year_normalized'] >= 1871) & \n",
        "                                      (filtered_data['year_normalized'] <= 1920)]"
      ],
      "id": "xxIOjRK3YRfz"
    },
    {
      "cell_type": "code",
      "execution_count": null,
      "metadata": {
        "id": "19I-qKBZYXCa"
      },
      "outputs": [],
      "source": [
        "x = german_data_1871_1920.loc[:, features].values\n",
        "#x.apply()\n",
        "# Separating out the target\n",
        "#y = df.loc[:,['target']].values\n",
        "# Standardizing the features\n",
        "x = StandardScaler().fit_transform(x)\n",
        "X_LDA_fitted = LDA(n_components=2).fit(x, german_data_1871_1920['libretto_or_genre'])\n",
        "X_LDA = X_LDA_fitted.transform(x)"
      ],
      "id": "19I-qKBZYXCa"
    },
    {
      "cell_type": "code",
      "execution_count": null,
      "metadata": {
        "id": "hktxkRuoYfD_"
      },
      "outputs": [],
      "source": [
        "plot_2d(german_data_1871_1920, X_LDA[:, 0],X_LDA[:, 1])"
      ],
      "id": "hktxkRuoYfD_"
    },
    {
      "cell_type": "markdown",
      "metadata": {
        "id": "Y2Cl2XAkZGNu"
      },
      "source": [
        "### French data"
      ],
      "id": "Y2Cl2XAkZGNu"
    },
    {
      "cell_type": "code",
      "execution_count": null,
      "metadata": {
        "id": "oFzPZAEGaMyi"
      },
      "outputs": [],
      "source": [
        "fre_corpus = pydracor.Corpus('fre')"
      ],
      "id": "oFzPZAEGaMyi"
    },
    {
      "cell_type": "code",
      "execution_count": null,
      "metadata": {
        "id": "Qj22vmLkaMyi"
      },
      "outputs": [],
      "source": [
        "french_data = fre_corpus.metadata()"
      ],
      "id": "Qj22vmLkaMyi"
    },
    {
      "cell_type": "code",
      "execution_count": null,
      "metadata": {
        "id": "Z2gAIIVBaMyi"
      },
      "outputs": [],
      "source": [
        "french_data = pd.DataFrame(french_data)"
      ],
      "id": "Z2gAIIVBaMyi"
    },
    {
      "cell_type": "code",
      "execution_count": null,
      "metadata": {
        "id": "1SPgp0PmaMyj"
      },
      "outputs": [],
      "source": [
        "french_data"
      ],
      "id": "1SPgp0PmaMyj"
    },
    {
      "cell_type": "code",
      "execution_count": null,
      "metadata": {
        "id": "o3_BdrESaMyj"
      },
      "outputs": [],
      "source": [
        "libretti_ids = metadata_df['id']"
      ],
      "id": "o3_BdrESaMyj"
    },
    {
      "cell_type": "code",
      "execution_count": null,
      "metadata": {
        "id": "fj2NYYLTaMyj"
      },
      "outputs": [],
      "source": [
        "metadata_df['is_ger'] = metadata_df['id'].str.contains('ger')"
      ],
      "id": "fj2NYYLTaMyj"
    },
    {
      "cell_type": "code",
      "execution_count": null,
      "metadata": {
        "id": "fsijf3xJaMyj"
      },
      "outputs": [],
      "source": [
        "french_data['is_real_libretto'] = french_data['id'].isin(libretti_ids)"
      ],
      "id": "fsijf3xJaMyj"
    },
    {
      "cell_type": "code",
      "execution_count": null,
      "metadata": {
        "id": "1PG-3ZQTaMyj"
      },
      "outputs": [],
      "source": [
        "# how many libretti are there in the german part?\n",
        "french_data['is_real_libretto'].sum()"
      ],
      "id": "1PG-3ZQTaMyj"
    },
    {
      "cell_type": "code",
      "execution_count": null,
      "metadata": {
        "id": "lvHbzVuAaMyj"
      },
      "outputs": [],
      "source": [
        "french_data['is_real_libretto']"
      ],
      "id": "lvHbzVuAaMyj"
    },
    {
      "cell_type": "code",
      "execution_count": null,
      "metadata": {
        "id": "786or01NaMyj"
      },
      "outputs": [],
      "source": [
        "french_data['libretto_or_genre'] = french_data.apply(lambda x: x['normalized_genre'] if x['is_real_libretto'] == False else 'Libretto', axis=1)"
      ],
      "id": "786or01NaMyj"
    },
    {
      "cell_type": "code",
      "execution_count": null,
      "metadata": {
        "id": "UY53JUGFaMyj"
      },
      "outputs": [],
      "source": [
        "french_data['libretto_or_genre'].value_counts()"
      ],
      "id": "UY53JUGFaMyj"
    },
    {
      "cell_type": "code",
      "execution_count": null,
      "metadata": {
        "id": "KCaCuDLtaMyj"
      },
      "outputs": [],
      "source": [
        "french_data['libretto_or_genre'] = french_data['libretto_or_genre'].fillna('Other')"
      ],
      "id": "KCaCuDLtaMyj"
    },
    {
      "cell_type": "code",
      "execution_count": null,
      "metadata": {
        "id": "fLtvEAYraMyk"
      },
      "outputs": [],
      "source": [
        "french_data['libretto_or_genre'].value_counts()"
      ],
      "id": "fLtvEAYraMyk"
    },
    {
      "cell_type": "code",
      "execution_count": null,
      "metadata": {
        "id": "TTw96aI8bOK_"
      },
      "outputs": [],
      "source": [
        "french_data['genre_with_putative_libretto'] = french_data.apply(lambda x: 'Libretto (attributed)' if \n",
        "                  x['is_real_libretto'] is True and x['libretto'] is False\n",
        "                  else x['libretto_or_genre'], axis=1)"
      ],
      "id": "TTw96aI8bOK_"
    },
    {
      "cell_type": "code",
      "execution_count": null,
      "metadata": {
        "id": "YCa-RTkvbOLA"
      },
      "outputs": [],
      "source": [
        "french_data['genre_with_putative_libretto'].value_counts()"
      ],
      "id": "YCa-RTkvbOLA"
    },
    {
      "cell_type": "code",
      "execution_count": null,
      "metadata": {
        "id": "E7m_0p8CbOLA"
      },
      "outputs": [],
      "source": [
        "french_data['genre_with_putative_libretto'] = french_data['genre_with_putative_libretto'].replace('Libretto', 'Libretto (DraCor)')"
      ],
      "id": "E7m_0p8CbOLA"
    },
    {
      "cell_type": "code",
      "execution_count": null,
      "metadata": {
        "id": "j77kusFTbOLB"
      },
      "outputs": [],
      "source": [
        "french_data['genre_with_putative_libretto'].value_counts()"
      ],
      "id": "j77kusFTbOLB"
    },
    {
      "cell_type": "markdown",
      "metadata": {
        "id": "uY5j50NWbOLC"
      },
      "source": [
        "#### Remaking colors to add 6th category"
      ],
      "id": "uY5j50NWbOLC"
    },
    {
      "cell_type": "code",
      "execution_count": null,
      "metadata": {
        "id": "zTlwoxTZbOLC"
      },
      "outputs": [],
      "source": [
        "genres = list(french_data['genre_with_putative_libretto'].unique())"
      ],
      "id": "zTlwoxTZbOLC"
    },
    {
      "cell_type": "code",
      "execution_count": null,
      "metadata": {
        "id": "PKHVz6I8bOLC"
      },
      "outputs": [],
      "source": [
        "len(genres)"
      ],
      "id": "PKHVz6I8bOLC"
    },
    {
      "cell_type": "code",
      "execution_count": null,
      "metadata": {
        "id": "gtPYNv9ZbOLC"
      },
      "outputs": [],
      "source": [
        "genres"
      ],
      "id": "gtPYNv9ZbOLC"
    },
    {
      "cell_type": "code",
      "execution_count": null,
      "metadata": {
        "id": "o6S2uElDbOLC"
      },
      "outputs": [],
      "source": [
        "colors = ['blue', 'green', 'white',  'orange', 'red', 'yellow']"
      ],
      "id": "o6S2uElDbOLC"
    },
    {
      "cell_type": "code",
      "execution_count": null,
      "metadata": {
        "id": "sImNAkxsbOLD"
      },
      "outputs": [],
      "source": [
        "genre_color_mapping = zip(genres, colors)"
      ],
      "id": "sImNAkxsbOLD"
    },
    {
      "cell_type": "code",
      "execution_count": null,
      "metadata": {
        "id": "ypyhyz-HbOLD"
      },
      "outputs": [],
      "source": [
        "genre_color_mapping = dict(genre_color_mapping)"
      ],
      "id": "ypyhyz-HbOLD"
    },
    {
      "cell_type": "code",
      "execution_count": null,
      "metadata": {
        "id": "HSSaD8QXbOLD"
      },
      "outputs": [],
      "source": [
        "genre_color_mapping"
      ],
      "id": "HSSaD8QXbOLD"
    },
    {
      "cell_type": "code",
      "execution_count": null,
      "metadata": {
        "id": "91XQJqndbOLD"
      },
      "outputs": [],
      "source": [
        "french_data['color'] = french_data['genre_with_putative_libretto'].apply(lambda x: \n",
        "                                                              genre_color_mapping[x])"
      ],
      "id": "91XQJqndbOLD"
    },
    {
      "cell_type": "markdown",
      "metadata": {
        "id": "s_wjD-35bOLD"
      },
      "source": [
        "### Removing unclassified plays"
      ],
      "id": "s_wjD-35bOLD"
    },
    {
      "cell_type": "code",
      "execution_count": null,
      "metadata": {
        "id": "y-iwdKynbOLD"
      },
      "outputs": [],
      "source": [
        "filtered_french_data = french_data[french_data['libretto_or_genre'] != 'Other']"
      ],
      "id": "y-iwdKynbOLD"
    },
    {
      "cell_type": "code",
      "execution_count": null,
      "metadata": {
        "id": "yhWj0QNEbOLD"
      },
      "outputs": [],
      "source": [
        "filtered_french_data['genre_with_putative_libretto'].value_counts()"
      ],
      "id": "yhWj0QNEbOLD"
    },
    {
      "cell_type": "code",
      "execution_count": null,
      "metadata": {
        "id": "ri4bf4hYbOLD"
      },
      "outputs": [],
      "source": [
        "filtered_french_data['color'].value_counts()"
      ],
      "id": "ri4bf4hYbOLD"
    },
    {
      "cell_type": "code",
      "execution_count": null,
      "metadata": {
        "id": "iyALiRtsb53T"
      },
      "outputs": [],
      "source": [
        "filtered_french_data.info()"
      ],
      "id": "iyALiRtsb53T"
    },
    {
      "cell_type": "code",
      "execution_count": null,
      "metadata": {
        "id": "aT_PaLKjcLd8"
      },
      "outputs": [],
      "source": [
        "filtered_french_data = filtered_french_data[~filtered_french_data['average_clustering'].isna()]"
      ],
      "id": "aT_PaLKjcLd8"
    },
    {
      "cell_type": "code",
      "execution_count": null,
      "metadata": {
        "id": "ZCTwUYNrbOLD"
      },
      "outputs": [],
      "source": [
        "x = filtered_french_data.loc[:, features].values\n",
        "#x.apply()\n",
        "# Separating out the target\n",
        "#y = df.loc[:,['target']].values\n",
        "# Standardizing the features\n",
        "x = StandardScaler().fit_transform(x)\n",
        "X_LDA_fitted = LDA(n_components=3).fit(x, filtered_french_data['libretto_or_genre'])\n",
        "X_LDA = X_LDA_fitted.transform(x)"
      ],
      "id": "ZCTwUYNrbOLD"
    },
    {
      "cell_type": "code",
      "execution_count": null,
      "metadata": {
        "id": "BFAS6UqPdBco"
      },
      "outputs": [],
      "source": [
        "len(x)"
      ],
      "id": "BFAS6UqPdBco"
    },
    {
      "cell_type": "code",
      "execution_count": null,
      "metadata": {
        "id": "yTijZE4hdDic"
      },
      "outputs": [],
      "source": [
        "len(X_LDA)"
      ],
      "id": "yTijZE4hdDic"
    },
    {
      "cell_type": "code",
      "execution_count": null,
      "metadata": {
        "id": "BYFPtFLtbOLE"
      },
      "outputs": [],
      "source": [
        "X_LDA"
      ],
      "id": "BYFPtFLtbOLE"
    },
    {
      "cell_type": "code",
      "execution_count": null,
      "metadata": {
        "id": "du4S57SSbOLE"
      },
      "outputs": [],
      "source": [
        "plot_2d(filtered_french_data, X_LDA[:, 0],X_LDA[:, 1])"
      ],
      "id": "du4S57SSbOLE"
    },
    {
      "cell_type": "markdown",
      "metadata": {
        "id": "jw2aIotTWq86"
      },
      "source": [],
      "id": "jw2aIotTWq86"
    },
    {
      "cell_type": "code",
      "execution_count": null,
      "metadata": {
        "id": "5JB18FnGt1rS"
      },
      "outputs": [],
      "source": [
        "import plotly.express as px"
      ],
      "id": "5JB18FnGt1rS"
    },
    {
      "cell_type": "code",
      "execution_count": null,
      "metadata": {
        "id": "zo6YS5w44Xo2"
      },
      "outputs": [],
      "source": [
        "df = px.data.iris()\n",
        "features = list_features_pyd\n",
        "\n",
        "fig = px.scatter_matrix(\n",
        "    metadata_df,\n",
        "    dimensions=features,\n",
        "    color=\"libretto\"\n",
        ")\n",
        "fig.update_traces(diagonal_visible=False)\n",
        "fig.show()"
      ],
      "id": "zo6YS5w44Xo2"
    },
    {
      "cell_type": "markdown",
      "metadata": {
        "id": "royal-coaching"
      },
      "source": [
        "* Broad analysis of mean and median for the values set in the variable *values_broad_analysis*. Look at list of column names to select different values. At the moment set to:\n",
        "\n",
        "    * Number of Characters\n",
        "    * Max Degree\n",
        "    * Average Degree \n",
        "    * Density\n",
        "    * Average Path Length\n",
        "    * Average Clustering Coefficient\n",
        "\n",
        "* Detailed analysis of mean and median by time frame (to be selected) set in the variable *values_detailed_analysis*. At the moment set to:\n",
        "    * Network Size (number of characters in the play)\n",
        "    * Density"
      ],
      "id": "royal-coaching"
    },
    {
      "cell_type": "code",
      "execution_count": null,
      "metadata": {
        "id": "curious-wealth"
      },
      "outputs": [],
      "source": [
        "# set values for broad analysis\n",
        "values_broad_analysis = [\"numOfSpeakers\", \"maxDegree\", \"averageDegree\", \"density\", \"averagePathLength\",\n",
        "                          \"averageClustering\"]"
      ],
      "id": "curious-wealth"
    },
    {
      "cell_type": "code",
      "execution_count": null,
      "metadata": {
        "id": "hungry-demand"
      },
      "outputs": [],
      "source": [
        "# set values for detailed analysis\n",
        "values_detailed_analysis = [\"size\", \"density\"]"
      ],
      "id": "hungry-demand"
    },
    {
      "cell_type": "markdown",
      "metadata": {
        "id": "protecting-people"
      },
      "source": [
        "### 3. Perform Analysis: Investigate mean and median of values selected for broad analysis"
      ],
      "id": "protecting-people"
    },
    {
      "cell_type": "markdown",
      "metadata": {
        "id": "difficult-river"
      },
      "source": [
        "##### Mean values"
      ],
      "id": "difficult-river"
    },
    {
      "cell_type": "code",
      "execution_count": null,
      "metadata": {
        "id": "white-program"
      },
      "outputs": [],
      "source": [
        "metadata_genre_grouped[values_broad_analysis].mean()"
      ],
      "id": "white-program"
    },
    {
      "cell_type": "markdown",
      "metadata": {
        "id": "civic-malta"
      },
      "source": [
        "##### Median values"
      ],
      "id": "civic-malta"
    },
    {
      "cell_type": "code",
      "execution_count": null,
      "metadata": {
        "id": "polish-parcel"
      },
      "outputs": [],
      "source": [
        "metadata_genre_grouped[values_broad_analysis].median()"
      ],
      "id": "polish-parcel"
    },
    {
      "cell_type": "markdown",
      "metadata": {
        "id": "local-runner"
      },
      "source": [
        "### 4. Preparation: Exclude plays without genre information"
      ],
      "id": "local-runner"
    },
    {
      "cell_type": "code",
      "execution_count": null,
      "metadata": {
        "id": "foreign-statement"
      },
      "outputs": [],
      "source": [
        "# delete rows with genre value \"other\"\n",
        "metadata_df_genre_specified = metadata_df.drop(metadata_genre_grouped.get_group(other_val).index)\n",
        "metadata_genre_specified_grouped = metadata_df_genre_specified.groupby([genre_key])"
      ],
      "id": "foreign-statement"
    },
    {
      "cell_type": "markdown",
      "metadata": {
        "id": "smooth-basics"
      },
      "source": [
        "### 4. Genre specific analysis for values specified for detailed analysis"
      ],
      "id": "smooth-basics"
    },
    {
      "cell_type": "markdown",
      "metadata": {
        "id": "answering-debut"
      },
      "source": [
        "##### Mean values"
      ],
      "id": "answering-debut"
    },
    {
      "cell_type": "code",
      "execution_count": null,
      "metadata": {
        "id": "chinese-active"
      },
      "outputs": [],
      "source": [
        "for key in values_detailed_analysis:\n",
        "    metadata_genre_specified_grouped.mean()[key].plot(kind =\"bar\", subplots=True)\n",
        "    plt.show()"
      ],
      "id": "chinese-active"
    },
    {
      "cell_type": "code",
      "execution_count": null,
      "metadata": {
        "id": "civic-sound"
      },
      "outputs": [],
      "source": [
        "for key in values_detailed_analysis:\n",
        "    metadata_genre_specified_grouped.mean()[key].plot(kind =\"bar\", subplots=True)\n",
        "    plt.show()"
      ],
      "id": "civic-sound"
    },
    {
      "cell_type": "markdown",
      "metadata": {
        "id": "violent-updating"
      },
      "source": [
        "##### Median values"
      ],
      "id": "violent-updating"
    },
    {
      "cell_type": "code",
      "execution_count": null,
      "metadata": {
        "id": "caroline-hawaiian"
      },
      "outputs": [],
      "source": [
        "for key in values_detailed_analysis:\n",
        "    metadata_genre_specified_grouped.median()[key].plot(kind =\"bar\", subplots=True)\n",
        "    plt.show()"
      ],
      "id": "caroline-hawaiian"
    },
    {
      "cell_type": "markdown",
      "metadata": {
        "id": "maritime-poetry"
      },
      "source": [
        "### 5. Time specific analysis"
      ],
      "id": "maritime-poetry"
    },
    {
      "cell_type": "markdown",
      "metadata": {
        "id": "antique-intensity"
      },
      "source": [
        "* interval size: set to the number of years you want one time interval to span, e.g. 30 (must be a number)\n",
        "* threshold: Exclude time interval if it contains fewer texts than the thrseshold indicates"
      ],
      "id": "antique-intensity"
    },
    {
      "cell_type": "markdown",
      "metadata": {
        "id": "failing-morrison"
      },
      "source": [
        "#### Get info about earliest and latest play"
      ],
      "id": "failing-morrison"
    },
    {
      "cell_type": "code",
      "execution_count": null,
      "metadata": {
        "id": "intimate-bearing"
      },
      "outputs": [],
      "source": [
        "year_key = \"yearNormalized\"\n",
        "earliest = int(min(metadata_df_genre_specified[year_key]))\n",
        "latest = int(max(metadata_df_genre_specified[year_key]))\n",
        "print(f\"Earliest play: {earliest}\")\n",
        "print(f\"Latest play: {latest}\")"
      ],
      "id": "intimate-bearing"
    },
    {
      "cell_type": "markdown",
      "metadata": {
        "id": "editorial-prize"
      },
      "source": [
        "#### Set time parameters for analysis"
      ],
      "id": "editorial-prize"
    },
    {
      "cell_type": "code",
      "execution_count": null,
      "metadata": {
        "id": "facial-peoples"
      },
      "outputs": [],
      "source": [
        "while True:\n",
        "    interval_size = input(\"Please enter the size of the time intervals (must be a number): \")\n",
        "    if not interval_size.isnumeric():\n",
        "        print(\"Your input is not valid. Please try again and enter a number.\")\n",
        "    else:\n",
        "        interval_size = int(interval_size)\n",
        "        print(\"Success!\")\n",
        "        break"
      ],
      "id": "facial-peoples"
    },
    {
      "cell_type": "code",
      "execution_count": null,
      "metadata": {
        "id": "after-clock"
      },
      "outputs": [],
      "source": [
        "while True:\n",
        "    threshold = input(\"Please enter the threshold (must be a number): \")\n",
        "    if not threshold.isnumeric():\n",
        "        print(\"Your input is not valid. Please try again and enter a number.\")\n",
        "    else:\n",
        "        threshold = int(threshold)\n",
        "        print(\"Success!\")\n",
        "        break"
      ],
      "id": "after-clock"
    },
    {
      "cell_type": "markdown",
      "metadata": {
        "id": "private-briefing"
      },
      "source": [
        "### Perform time specific analysis"
      ],
      "id": "private-briefing"
    },
    {
      "cell_type": "code",
      "execution_count": null,
      "metadata": {
        "id": "closing-simon"
      },
      "outputs": [],
      "source": [
        "def round_down_to_ten(x):\n",
        "        offset = x % 10\n",
        "        return x - offset \n",
        "    \n",
        "def get_time_periods(start, highest_range, period_length):\n",
        "    time_periods = []\n",
        "    start = round_down_to_ten(start)\n",
        "    end = start + period_length\n",
        "    while end < highest_range:\n",
        "        time_periods.append((start, end))       \n",
        "        start = end\n",
        "        end = start + period_length\n",
        "    time_periods.append((start,end))\n",
        "    return time_periods\n",
        "\n",
        "def get_time_period_fit(periods, year):\n",
        "    for period in periods: \n",
        "        if year >= period[0] and year < period[1]:\n",
        "            return f\"{period[0]}-{period[1]}\"\n",
        "    if not math.isnan(year):\n",
        "        print(f\"No period found for year: {year}\")\n",
        "    return float(\"NaN\")"
      ],
      "id": "closing-simon"
    },
    {
      "cell_type": "markdown",
      "metadata": {
        "id": "worldwide-revelation"
      },
      "source": [
        "##### Print time frames"
      ],
      "id": "worldwide-revelation"
    },
    {
      "cell_type": "code",
      "execution_count": null,
      "metadata": {
        "id": "possible-colon"
      },
      "outputs": [],
      "source": [
        "# create time frames according to user input\n",
        "time_period_name = \"timePeriod\"\n",
        "time_periods = get_time_periods(earliest, latest, interval_size)\n",
        "time_periods"
      ],
      "id": "possible-colon"
    },
    {
      "cell_type": "markdown",
      "metadata": {
        "id": "latest-patent"
      },
      "source": [
        "#### Split data into timeframes and filter by selected threshold"
      ],
      "id": "latest-patent"
    },
    {
      "cell_type": "code",
      "execution_count": null,
      "metadata": {
        "id": "fleet-dependence"
      },
      "outputs": [],
      "source": [
        "# for each play, retrieve corresponding time frame\n",
        "period_column = metadata_df_genre_specified[year_key].apply(lambda x: get_time_period_fit(time_periods, x))\n",
        "metadata_df_genre_specified[time_period_name] = period_column\n",
        "\n",
        "# apply threshold, if number of plays in one timeframe below the threshold -> exclude columns\n",
        "metadata_df_time_genre_specified_filtered = metadata_df_genre_specified.groupby([time_period_name, genre_key]).filter(\n",
        "lambda x: len(x) >= threshold)\n",
        "\n",
        "# group data by genre and time frame\n",
        "metadata_df_time_genre_grouped = metadata_df_time_genre_specified_filtered.groupby([time_period_name, genre_key])"
      ],
      "id": "fleet-dependence"
    },
    {
      "cell_type": "markdown",
      "metadata": {
        "id": "common-dimension"
      },
      "source": [
        "#### Display number of plays that remain for each time frame after filtering"
      ],
      "id": "common-dimension"
    },
    {
      "cell_type": "code",
      "execution_count": null,
      "metadata": {
        "id": "contrary-confirmation"
      },
      "outputs": [],
      "source": [
        "metadata_df_time_genre_grouped.count()[\"name\"]"
      ],
      "id": "contrary-confirmation"
    },
    {
      "cell_type": "markdown",
      "metadata": {
        "id": "marked-contributor"
      },
      "source": [
        "### Plot development of genres \n",
        "* Median and mean values are calculated by time frame"
      ],
      "id": "marked-contributor"
    },
    {
      "cell_type": "markdown",
      "metadata": {
        "id": "vietnamese-cooling"
      },
      "source": [
        "##### Median values"
      ],
      "id": "vietnamese-cooling"
    },
    {
      "cell_type": "code",
      "execution_count": null,
      "metadata": {
        "id": "dedicated-durham"
      },
      "outputs": [],
      "source": [
        "for key in values_detailed_analysis:\n",
        "    print(key)\n",
        "    metadata_df_time_genre_grouped[key].median().unstack().plot(figsize=(8,8)).legend(loc='upper left')\n",
        "    plt.show()"
      ],
      "id": "dedicated-durham"
    },
    {
      "cell_type": "markdown",
      "metadata": {
        "id": "attended-configuration"
      },
      "source": [
        "##### Mean values"
      ],
      "id": "attended-configuration"
    },
    {
      "cell_type": "code",
      "execution_count": null,
      "metadata": {
        "id": "civilian-immunology"
      },
      "outputs": [],
      "source": [
        "for key in values_detailed_analysis:\n",
        "    print(key)\n",
        "    metadata_df_time_genre_grouped[key].mean().unstack().plot(figsize=(8,8)).legend(loc='upper left')\n",
        "    plt.show()"
      ],
      "id": "civilian-immunology"
    },
    {
      "cell_type": "markdown",
      "metadata": {
        "id": "weird-kentucky"
      },
      "source": [
        "### Display tabular "
      ],
      "id": "weird-kentucky"
    },
    {
      "cell_type": "markdown",
      "metadata": {
        "id": "external-quilt"
      },
      "source": [
        "##### Median values "
      ],
      "id": "external-quilt"
    },
    {
      "cell_type": "code",
      "execution_count": null,
      "metadata": {
        "id": "defined-cuisine"
      },
      "outputs": [],
      "source": [
        "for key in values_detailed_analysis:\n",
        "    print(key)\n",
        "    print(metadata_df_time_genre_grouped[key].median())\n",
        "    print(\"\\n\")"
      ],
      "id": "defined-cuisine"
    },
    {
      "cell_type": "markdown",
      "metadata": {
        "id": "subtle-rating"
      },
      "source": [
        "##### Mean values "
      ],
      "id": "subtle-rating"
    },
    {
      "cell_type": "code",
      "execution_count": null,
      "metadata": {
        "id": "driven-toner"
      },
      "outputs": [],
      "source": [
        "for key in values_detailed_analysis:\n",
        "    print(key)\n",
        "    print(metadata_df_time_genre_grouped[key].mean())\n",
        "    print(\"\\n\")"
      ],
      "id": "driven-toner"
    },
    {
      "cell_type": "markdown",
      "metadata": {
        "id": "vvDg8EWw2KLv"
      },
      "source": [
        "# Trashbin below this point!"
      ],
      "id": "vvDg8EWw2KLv"
    },
    {
      "cell_type": "code",
      "execution_count": null,
      "metadata": {
        "id": "pbZfea6K2Qh8"
      },
      "outputs": [],
      "source": [],
      "id": "pbZfea6K2Qh8"
    },
    {
      "cell_type": "markdown",
      "metadata": {
        "id": "north-mailman"
      },
      "source": [
        "## Feature selection (older version deprecated)"
      ],
      "id": "north-mailman"
    },
    {
      "cell_type": "markdown",
      "metadata": {
        "id": "K6Svwo7pDQMF"
      },
      "source": [
        "### Features kept after correlation testing: \n",
        "* 'num_of_segments', \n",
        "* 'num_of_speakers', \n",
        "* 'num_of_person_groups',\n",
        "* 'word_count_sp',\n",
        "* 'word_count_stage', \n",
        "* 'average_degree', \n",
        "* 'density', \n",
        "* 'average_clustering',\n",
        "* 'max_degree', \n",
        "* 'num_connected_components', \n",
        "* 'diameter',\n",
        "* 'average_path_length'\n",
        "\n",
        "### Original features list\n",
        "* 'averageClustering', \n",
        "* 'density', \n",
        "* 'averagePathLength', \n",
        "* 'averageDegree', \n",
        "* 'diameter', \n",
        "* 'maxDegree', \n",
        "* 'numOfSpeakers', \n",
        "* 'numOfSpeakersFemale',\n",
        "* 'numOfSpeakersMale', \n",
        "* 'numPersonGroups',\n",
        "* 'numConnectedComponents', \n",
        "* 'numOfSegments' (try with and WITHOUT),\n",
        "* 'wordCountText', \n",
        "* 'wordCountSp'/'wordCountStage'"
      ],
      "id": "K6Svwo7pDQMF"
    },
    {
      "cell_type": "code",
      "execution_count": null,
      "metadata": {
        "id": "MO6taKue1QmC"
      },
      "outputs": [],
      "source": [
        "list_features_pyd = ['num_of_segments', 'num_of_speakers', 'num_of_person_groups',\n",
        "                      'word_count_sp', 'word_count_stage', 'average_degree', 'density', 'average_clustering',\n",
        "                      'max_degree', 'num_connected_components', 'diameter', 'average_path_length']"
      ],
      "id": "MO6taKue1QmC"
    },
    {
      "cell_type": "markdown",
      "metadata": {
        "id": "LLnqng09tS9e"
      },
      "source": [
        "## Correlation matrix"
      ],
      "id": "LLnqng09tS9e"
    },
    {
      "cell_type": "code",
      "execution_count": null,
      "metadata": {
        "id": "PZDTmPFqt1G4"
      },
      "outputs": [],
      "source": [
        "feature_correlations = metadata_df[list_features_pyd].corr()"
      ],
      "id": "PZDTmPFqt1G4"
    },
    {
      "cell_type": "code",
      "execution_count": null,
      "metadata": {
        "id": "S4bwV8yMvFQ-"
      },
      "outputs": [],
      "source": [
        "metadata_df = metadata_df.fillna('0')"
      ],
      "id": "S4bwV8yMvFQ-"
    },
    {
      "cell_type": "code",
      "execution_count": null,
      "metadata": {
        "id": "_GoYoXl7u8c7"
      },
      "outputs": [],
      "source": [
        "plt.matshow(feature_correlations)\n",
        "plt.show()"
      ],
      "id": "_GoYoXl7u8c7"
    },
    {
      "cell_type": "code",
      "execution_count": null,
      "metadata": {
        "id": "7ZADNEws2UB5"
      },
      "outputs": [],
      "source": [
        "feature_correlations"
      ],
      "id": "7ZADNEws2UB5"
    },
    {
      "cell_type": "code",
      "execution_count": null,
      "metadata": {
        "id": "gVX0j1lovnmF"
      },
      "outputs": [],
      "source": [
        "fig, ax = plt.subplots(figsize=(10,8)) \n",
        "seaborn.heatmap(feature_correlations, annot=True, cmap = 'coolwarm')"
      ],
      "id": "gVX0j1lovnmF"
    },
    {
      "cell_type": "markdown",
      "metadata": {
        "id": "eNnf2ysN3M7x"
      },
      "source": [
        "### Correlation matrix on both at once (experimental, to be removed):"
      ],
      "id": "eNnf2ysN3M7x"
    },
    {
      "cell_type": "code",
      "execution_count": null,
      "metadata": {
        "id": "4Vqv4C39W17j"
      },
      "outputs": [],
      "source": [
        "ger_french_data = pd.concat([german_data, french_data])"
      ],
      "id": "4Vqv4C39W17j"
    },
    {
      "cell_type": "code",
      "execution_count": null,
      "metadata": {
        "id": "kgT6KSBRYTDx"
      },
      "outputs": [],
      "source": [
        "ger_french_data.shape"
      ],
      "id": "kgT6KSBRYTDx"
    },
    {
      "cell_type": "code",
      "execution_count": null,
      "metadata": {
        "id": "ytKpWfxrgaM3"
      },
      "outputs": [],
      "source": [
        "ger_french_data['num_connected_components'].value_counts()"
      ],
      "id": "ytKpWfxrgaM3"
    },
    {
      "cell_type": "code",
      "execution_count": null,
      "metadata": {
        "id": "A4vQPQVKgl51"
      },
      "outputs": [],
      "source": [
        "1905/2157"
      ],
      "id": "A4vQPQVKgl51"
    },
    {
      "cell_type": "code",
      "execution_count": null,
      "metadata": {
        "id": "R809QTyNYf2k"
      },
      "outputs": [],
      "source": [
        "feature_correlations = ger_french_data[list_features_pyd].corr()"
      ],
      "id": "R809QTyNYf2k"
    },
    {
      "cell_type": "code",
      "execution_count": null,
      "metadata": {
        "id": "E_rLdPo-ZeB8"
      },
      "outputs": [],
      "source": [
        "feature_correlations"
      ],
      "id": "E_rLdPo-ZeB8"
    },
    {
      "cell_type": "code",
      "execution_count": null,
      "metadata": {
        "id": "ArAeg-knYf2l"
      },
      "outputs": [],
      "source": [
        "#metadata_df = metadata_df.fillna('0')"
      ],
      "id": "ArAeg-knYf2l"
    },
    {
      "cell_type": "code",
      "execution_count": null,
      "metadata": {
        "id": "a7Y-6wb5Yf2l"
      },
      "outputs": [],
      "source": [
        "plt.matshow(feature_correlations)\n",
        "plt.show()"
      ],
      "id": "a7Y-6wb5Yf2l"
    },
    {
      "cell_type": "code",
      "execution_count": null,
      "metadata": {
        "id": "GE7TH6jSYf2l"
      },
      "outputs": [],
      "source": [
        "fig, ax = plt.subplots(figsize=(12,8)) \n",
        "seaborn.heatmap(feature_correlations, annot=True, cmap = 'coolwarm')\n",
        "plt.savefig('correlation_matrix.png', dpi=300)"
      ],
      "id": "GE7TH6jSYf2l"
    },
    {
      "cell_type": "markdown",
      "metadata": {
        "id": "Wx_spiBeFZzB"
      },
      "source": [
        "## Drop correlated features"
      ],
      "id": "Wx_spiBeFZzB"
    },
    {
      "cell_type": "code",
      "execution_count": null,
      "metadata": {
        "id": "ExVKSqkYFcdJ"
      },
      "outputs": [],
      "source": [
        "metadata_df = metadata_df.drop(['diameter', 'max_degree'], axis=1)"
      ],
      "id": "ExVKSqkYFcdJ"
    },
    {
      "cell_type": "code",
      "execution_count": null,
      "metadata": {
        "id": "8TaBzebgF7J-"
      },
      "outputs": [],
      "source": [
        "list_features_pyd.remove('diameter')"
      ],
      "id": "8TaBzebgF7J-"
    },
    {
      "cell_type": "code",
      "execution_count": null,
      "metadata": {
        "id": "KGAn4XCyGXoo"
      },
      "outputs": [],
      "source": [
        "list_features_pyd.remove('max_degree')"
      ],
      "id": "KGAn4XCyGXoo"
    },
    {
      "cell_type": "markdown",
      "metadata": {
        "id": "LkphQQoa4U8w"
      },
      "source": [
        "## PCA on libretti only"
      ],
      "id": "LkphQQoa4U8w"
    },
    {
      "cell_type": "markdown",
      "metadata": {
        "id": "eg83NQbZ99R4"
      },
      "source": [
        "### Creating year filter\n",
        "\n",
        "We investigate three timeframes:\n",
        "\n",
        "*   From xx to xx (only FRE)\n",
        "*   From xx to xx (only FRE)\n",
        "*   From xx to xx (FRE + GER)\n",
        "*   From xx to xx (FRE + GER)\n",
        "*   From xx to xx (FRE + GER)"
      ],
      "id": "eg83NQbZ99R4"
    },
    {
      "cell_type": "code",
      "execution_count": null,
      "metadata": {
        "id": "ssNkZYmwbf73"
      },
      "outputs": [],
      "source": [
        "metadata_df"
      ],
      "id": "ssNkZYmwbf73"
    },
    {
      "cell_type": "code",
      "execution_count": null,
      "metadata": {
        "id": "SjbI4ld9-JFW"
      },
      "outputs": [],
      "source": [
        "metadata_df['year_normalized'].describe()"
      ],
      "id": "SjbI4ld9-JFW"
    },
    {
      "cell_type": "code",
      "execution_count": null,
      "metadata": {
        "id": "pbKLxEYf-SSK"
      },
      "outputs": [],
      "source": [
        "metadata_df_1770_1820 = metadata_df[(metadata_df['year_normalized'] >= 1770) & \n",
        "                                      (metadata_df['year_normalized'] <= 1820)]"
      ],
      "id": "pbKLxEYf-SSK"
    },
    {
      "cell_type": "code",
      "execution_count": null,
      "metadata": {
        "id": "8c-Lc8HYCRZq"
      },
      "outputs": [],
      "source": [
        "metadata_df_1821_1870 = metadata_df[(metadata_df['year_normalized'] >= 1821) & \n",
        "                                      (metadata_df['year_normalized'] <= 1870)]"
      ],
      "id": "8c-Lc8HYCRZq"
    },
    {
      "cell_type": "code",
      "execution_count": null,
      "metadata": {
        "id": "sr815JpoC1ss"
      },
      "outputs": [],
      "source": [
        "metadata_df_1871_1920 = metadata_df[(metadata_df['year_normalized'] >= 1871) & \n",
        "                                      (metadata_df['year_normalized'] <= 1920)]"
      ],
      "id": "sr815JpoC1ss"
    },
    {
      "cell_type": "code",
      "execution_count": null,
      "metadata": {
        "id": "nyHxwUgn_KZI"
      },
      "outputs": [],
      "source": [
        "metadata_df_1770_1820.shape"
      ],
      "id": "nyHxwUgn_KZI"
    },
    {
      "cell_type": "code",
      "execution_count": null,
      "metadata": {
        "id": "J7us9aqB5N7W"
      },
      "outputs": [],
      "source": [
        "df = metadata_df_1770_1820 "
      ],
      "id": "J7us9aqB5N7W"
    },
    {
      "cell_type": "markdown",
      "metadata": {
        "id": "YogTLZwJe2n4"
      },
      "source": [
        "----"
      ],
      "id": "YogTLZwJe2n4"
    },
    {
      "cell_type": "code",
      "execution_count": null,
      "metadata": {
        "id": "FtrtWZ0J_-h5"
      },
      "outputs": [],
      "source": [
        "df = df.reset_index()"
      ],
      "id": "FtrtWZ0J_-h5"
    },
    {
      "cell_type": "code",
      "execution_count": null,
      "metadata": {
        "id": "d0Ibe226Zx0Z"
      },
      "outputs": [],
      "source": [
        "df['is_ger'] = df['id'].str.contains('ger')"
      ],
      "id": "d0Ibe226Zx0Z"
    },
    {
      "cell_type": "code",
      "execution_count": null,
      "metadata": {
        "id": "OJ9JCXGiC8Lg"
      },
      "outputs": [],
      "source": [
        "# ratio of german to french plays in this period\n",
        "df.groupby('is_ger').count()['id']"
      ],
      "id": "OJ9JCXGiC8Lg"
    },
    {
      "cell_type": "code",
      "execution_count": null,
      "metadata": {
        "id": "zDCBa9wK4-wP"
      },
      "outputs": [],
      "source": [
        "features = list_features_pyd\n",
        "# Separating out the features\n",
        "x = df.loc[:, features].values\n",
        "# Separating out the target\n",
        "#y = df.loc[:,['target']].values\n",
        "# Standardizing the features\n",
        "x = StandardScaler().fit_transform(x)"
      ],
      "id": "zDCBa9wK4-wP"
    },
    {
      "cell_type": "code",
      "execution_count": null,
      "metadata": {
        "id": "IQCht9OyHmdL"
      },
      "outputs": [],
      "source": [
        "pca = PCA(n_components=2)\n",
        "principalComponents = pca.fit_transform(x)\n",
        "principalDf = pd.DataFrame(data = principalComponents\n",
        "             , columns = ['principal component 1', 'principal component 2'])\n",
        "\n",
        "feature_vectors = pca.components_.T"
      ],
      "id": "IQCht9OyHmdL"
    },
    {
      "cell_type": "code",
      "execution_count": null,
      "metadata": {
        "id": "3J8aNJP7AICg"
      },
      "outputs": [],
      "source": [
        "principalDf.shape"
      ],
      "id": "3J8aNJP7AICg"
    },
    {
      "cell_type": "code",
      "execution_count": null,
      "metadata": {
        "id": "lWsws4TlAKh4"
      },
      "outputs": [],
      "source": [
        "df[['is_ger']].shape"
      ],
      "id": "lWsws4TlAKh4"
    },
    {
      "cell_type": "code",
      "execution_count": null,
      "metadata": {
        "id": "hYH9mJVLAR5b"
      },
      "outputs": [],
      "source": [
        "df['name'].shape"
      ],
      "id": "hYH9mJVLAR5b"
    },
    {
      "cell_type": "code",
      "execution_count": null,
      "metadata": {
        "id": "K9z4TfFVYhi3"
      },
      "outputs": [],
      "source": [
        "finalDf = pd.concat([principalDf, df[['is_ger']], df['name']], axis = 1)#join=\"inner\")"
      ],
      "id": "K9z4TfFVYhi3"
    },
    {
      "cell_type": "code",
      "execution_count": null,
      "metadata": {
        "id": "rM0-bhNjCjnV"
      },
      "outputs": [],
      "source": [
        "finalDf.shape"
      ],
      "id": "rM0-bhNjCjnV"
    },
    {
      "cell_type": "code",
      "execution_count": null,
      "metadata": {
        "id": "tjbXCd1MYpq5"
      },
      "outputs": [],
      "source": [
        "fig = plt.figure(figsize = (10,10))\n",
        "ax = fig.add_subplot(1,1,1) \n",
        "ax.set_xlabel('Principal Component 1', fontsize = 15)\n",
        "ax.set_ylabel('Principal Component 2', fontsize = 15)\n",
        "ax.set_title('2 component PCA', fontsize = 20)\n",
        "targets = [True, False]\n",
        "colors = ['r', 'g', 'b']\n",
        "\n",
        "\n",
        "    \n",
        "\n",
        "for target, color in zip(targets,colors):\n",
        "    indicesToKeep = finalDf['is_ger'] == target\n",
        "    pc1 = finalDf.loc[indicesToKeep, 'principal component 1']\n",
        "    pc2 = finalDf.loc[indicesToKeep, 'principal component 2']\n",
        "    ax.scatter(pc1\n",
        "               , pc2\n",
        "               , c = color\n",
        "               , s = 50)\n",
        "    names = finalDf.loc[indicesToKeep, 'name']\n",
        "    for i, txt in enumerate(list(names)):\n",
        "        #print(i)\n",
        "        #print(txt)\n",
        "        #print(list(pc1)[i])\n",
        "        ax.annotate(txt, (list(pc1)[i], list(pc2)[i])) \n",
        "\n",
        "    coeff = feature_vectors\n",
        "    n = coeff.shape[0]\n",
        "    labels = list_features_pyd\n",
        "    for i in range(n):\n",
        "        plt.arrow(0, 0, coeff[i,0], coeff[i,1],color = 'r',alpha = 0.5)\n",
        "        if labels is None:\n",
        "            plt.text(coeff[i,0]* 1.15, coeff[i,1] * 1.15, \"Var\"+str(i+1), color = 'g', ha = 'center', va = 'center')\n",
        "        else:\n",
        "            plt.text(coeff[i,0]* 1.15, coeff[i,1] * 1.15, labels[i], color = 'g', ha = 'center', va = 'center')\n",
        "ax.legend(targets)\n",
        "ax.grid()\n"
      ],
      "id": "tjbXCd1MYpq5"
    },
    {
      "cell_type": "markdown",
      "metadata": {
        "id": "kmdlV474Ze2G"
      },
      "source": [
        "\n",
        "\n",
        "*   Label dots -- Done\n",
        "*   Ger vs Fre -- Done\n",
        "*   Century snapshots -- Done\n",
        "*   Add vectors -- Half-Done\n",
        "*   Add reference corpora\n",
        "\n",
        "\n",
        "\n"
      ],
      "id": "kmdlV474Ze2G"
    },
    {
      "cell_type": "code",
      "execution_count": null,
      "metadata": {
        "id": "wqRsV3xlKUHr"
      },
      "outputs": [],
      "source": [
        "# which plays are the biggest?\n",
        "df.sort_values('word_count_sp', ascending=False)[['name','word_count_sp']]"
      ],
      "id": "wqRsV3xlKUHr"
    },
    {
      "cell_type": "code",
      "execution_count": null,
      "metadata": {
        "id": "-5EMOn_tq63U"
      },
      "outputs": [],
      "source": [
        "#german_libretti = metadata_df[metadata_df['is_ger']]"
      ],
      "id": "-5EMOn_tq63U"
    },
    {
      "cell_type": "code",
      "execution_count": null,
      "metadata": {
        "id": "EFFMCvRdurEn"
      },
      "outputs": [],
      "source": [
        "#french_libretti = metadata_df[~metadata_df['is_ger']]"
      ],
      "id": "EFFMCvRdurEn"
    },
    {
      "cell_type": "code",
      "execution_count": null,
      "metadata": {
        "id": "yBu5ozBtuvqn"
      },
      "outputs": [],
      "source": [
        "#french_libretti"
      ],
      "id": "yBu5ozBtuvqn"
    },
    {
      "cell_type": "code",
      "execution_count": null,
      "metadata": {
        "id": "v0ahFyqhrEWm"
      },
      "outputs": [],
      "source": [
        "#german_libretti"
      ],
      "id": "v0ahFyqhrEWm"
    },
    {
      "cell_type": "code",
      "execution_count": null,
      "metadata": {
        "id": "jdRQmWi7tBKL"
      },
      "outputs": [],
      "source": [
        "#german_libretti = german_libretti.reset_index()"
      ],
      "id": "jdRQmWi7tBKL"
    },
    {
      "cell_type": "code",
      "execution_count": null,
      "metadata": {
        "id": "4D2PhLQ3uzDH"
      },
      "outputs": [],
      "source": [
        "#french_libretti = french_libretti.reset_index(drop=True)"
      ],
      "id": "4D2PhLQ3uzDH"
    },
    {
      "cell_type": "code",
      "execution_count": null,
      "metadata": {
        "id": "xemuPqN4vMoz"
      },
      "outputs": [],
      "source": [
        "#french_libretti"
      ],
      "id": "xemuPqN4vMoz"
    },
    {
      "cell_type": "code",
      "execution_count": null,
      "metadata": {
        "id": "R-xUfE5otE12"
      },
      "outputs": [],
      "source": [
        "#german_libretti"
      ],
      "id": "R-xUfE5otE12"
    },
    {
      "cell_type": "code",
      "execution_count": null,
      "metadata": {
        "id": "AIseV_Sscyex"
      },
      "outputs": [],
      "source": [
        "def produce_PCA(df, target_column, features):\n",
        "    #features = list_features_pyd\n",
        "    # Separating out the features\n",
        "    x = df.loc[:, features].values\n",
        "    #x.apply()\n",
        "    # Separating out the target\n",
        "    #y = df.loc[:,['target']].values\n",
        "    # Standardizing the features\n",
        "    x = StandardScaler().fit_transform(x)\n",
        "\n",
        "    #x = np.log(x)\n",
        "\n",
        "    #print(x)\n",
        "\n",
        "\n",
        "    pca = PCA(n_components=2)\n",
        "    principalComponents = pca.fit_transform(x)\n",
        "    principalDf = pd.DataFrame(data = principalComponents\n",
        "                , columns = ['principal component 1', 'principal component 2'])\n",
        "\n",
        "    feature_vectors = pca.components_.T\n",
        "\n",
        "    finalDf = pd.concat([principalDf, df[target_column], df['name']], axis = 1)#join=\"inner\")\n",
        "\n",
        "    fig = plt.figure(figsize = (30,30))\n",
        "    ax = fig.add_subplot(1,1,1) \n",
        "    ax.set_xlabel('Principal Component 1', fontsize = 12)\n",
        "    ax.set_ylabel('Principal Component 2', fontsize = 12)\n",
        "    ax.set_title('2 component PCA', fontsize = 10)\n",
        "    \n",
        "    targets = list(df[target_column].unique())\n",
        "    \n",
        "    colors = ['red', 'green', 'orange', 'grey', 'yellow'] \n",
        "\n",
        "    for target, color in zip(targets, colors):\n",
        "        indicesToKeep = finalDf[target_column] == target\n",
        "        pc1 = finalDf.loc[indicesToKeep, 'principal component 1']\n",
        "        pc2 = finalDf.loc[indicesToKeep, 'principal component 2']\n",
        "        ax.scatter(pc1\n",
        "                , pc2\n",
        "                , c = color\n",
        "                , s = 150)\n",
        "        names = finalDf.loc[indicesToKeep, 'name']\n",
        "        #for i, txt in enumerate(list(names)):\n",
        "            #print(i)\n",
        "            #print(txt)\n",
        "            #print(list(pc1)[i])\n",
        "            #ax.annotate(txt, (list(pc1)[i], list(pc2)[i])) \n",
        "\n",
        "        coeff = feature_vectors\n",
        "        n = coeff.shape[0]\n",
        "        labels = features\n",
        "        for i in range(n):\n",
        "            plt.arrow(0, 0, coeff[i,0], coeff[i,1],color = 'r',alpha = 0.5)\n",
        "            if labels is None:\n",
        "                plt.text(coeff[i,0]* 1.15, coeff[i,1] * 1.15, \"Var\"+str(i+1), color = 'g', ha = 'center', va = 'center')\n",
        "            else:\n",
        "                plt.text(coeff[i,0]* 1.15, coeff[i,1] * 1.15, labels[i], color = 'g', ha = 'center', va = 'center')\n",
        "    ax.legend(targets)\n",
        "    ax.grid()\n",
        "\n",
        "    #plt.xlim(10, 10) \n",
        "    #plt.ylim(10, 10)\n",
        "    plt.savefig('pca.png')\n",
        "    return x\n",
        "\n"
      ],
      "id": "AIseV_Sscyex"
    },
    {
      "cell_type": "code",
      "execution_count": null,
      "metadata": {
        "id": "LRif_V36rJxw"
      },
      "outputs": [],
      "source": [
        "#produce_PCA(french_libretti, 'libretto', features)"
      ],
      "id": "LRif_V36rJxw"
    },
    {
      "cell_type": "markdown",
      "metadata": {
        "id": "nNs86780f-EA"
      },
      "source": [
        "1. Calculating genre distances"
      ],
      "id": "nNs86780f-EA"
    },
    {
      "cell_type": "markdown",
      "metadata": {
        "id": "34zJv26aBqUM"
      },
      "source": [
        "## Timesteps"
      ],
      "id": "34zJv26aBqUM"
    },
    {
      "cell_type": "code",
      "execution_count": null,
      "metadata": {
        "id": "XNthYSpsB3og"
      },
      "outputs": [],
      "source": [
        "german_data['year_normalized'].describe()"
      ],
      "id": "XNthYSpsB3og"
    },
    {
      "cell_type": "code",
      "execution_count": null,
      "metadata": {
        "id": "SPHiKC5vBp9j"
      },
      "outputs": [],
      "source": [
        "german_data_1770_1820 = german_data[(german_data['year_normalized'] >= 1770) & \n",
        "                                      (german_data['year_normalized'] <= 1820)]"
      ],
      "id": "SPHiKC5vBp9j"
    },
    {
      "cell_type": "code",
      "execution_count": null,
      "metadata": {
        "id": "mJedyg_fD5_y"
      },
      "outputs": [],
      "source": [
        "german_data_1770_1820[['name', 'year_normalized']]"
      ],
      "id": "mJedyg_fD5_y"
    },
    {
      "cell_type": "code",
      "execution_count": null,
      "metadata": {
        "id": "PkAPPNxzEJDk"
      },
      "outputs": [],
      "source": [
        "#german_data_1770_1820[german_data_1770_1820['name'].str.contains('journalisten')]"
      ],
      "id": "PkAPPNxzEJDk"
    },
    {
      "cell_type": "code",
      "execution_count": null,
      "metadata": {
        "id": "1LoIEVNrEowu"
      },
      "outputs": [],
      "source": [
        "german_data_1770_1820.to_csv('slice.csv')"
      ],
      "id": "1LoIEVNrEowu"
    },
    {
      "cell_type": "code",
      "execution_count": null,
      "metadata": {
        "id": "8VGSX6-vCStG"
      },
      "outputs": [],
      "source": [
        "sliced = german_data_1770_1820.loc[:, features].values\n",
        "#x.apply()\n",
        "# Separating out the target\n",
        "#y = df.loc[:,['target']].values\n",
        "# Standardizing the features\n",
        "sliced = StandardScaler().fit_transform(sliced)\n"
      ],
      "id": "8VGSX6-vCStG"
    },
    {
      "cell_type": "code",
      "execution_count": null,
      "metadata": {
        "id": "5srlNTTgCFtV"
      },
      "outputs": [],
      "source": [
        "new_LDA = LDA(n_components=2).fit_transform(sliced, german_data_1770_1820['libretto_or_genre'])"
      ],
      "id": "5srlNTTgCFtV"
    },
    {
      "cell_type": "code",
      "execution_count": null,
      "metadata": {
        "id": "1cMX-OQNz2BT"
      },
      "outputs": [],
      "source": [
        "german_data_1770_1820"
      ],
      "id": "1cMX-OQNz2BT"
    },
    {
      "cell_type": "code",
      "execution_count": null,
      "metadata": {
        "id": "lm0jheFXCkuw"
      },
      "outputs": [],
      "source": [
        "plot_2d(german_data_1770_1820, new_LDA[:, 0],new_LDA[:, 1])"
      ],
      "id": "lm0jheFXCkuw"
    },
    {
      "cell_type": "code",
      "execution_count": null,
      "metadata": {
        "id": "Ual_S9ZZCkow"
      },
      "outputs": [],
      "source": [],
      "id": "Ual_S9ZZCkow"
    },
    {
      "cell_type": "markdown",
      "metadata": {
        "id": "lxxtfuD-L-6d"
      },
      "source": [
        "### Some PCA here"
      ],
      "id": "lxxtfuD-L-6d"
    },
    {
      "cell_type": "code",
      "execution_count": null,
      "metadata": {
        "id": "yGowr9rSkbgq"
      },
      "outputs": [],
      "source": [
        "import numpy as np"
      ],
      "id": "yGowr9rSkbgq"
    },
    {
      "cell_type": "code",
      "execution_count": null,
      "metadata": {
        "id": "ZwH3TuJycrwO"
      },
      "outputs": [],
      "source": [
        "x = produce_PCA(german_data, 'libretto_or_genre', list_features_pyd)"
      ],
      "id": "ZwH3TuJycrwO"
    },
    {
      "cell_type": "code",
      "execution_count": null,
      "metadata": {
        "id": "xz_QhJpajFIT"
      },
      "outputs": [],
      "source": [
        "pca_table = pd.DataFrame(x)"
      ],
      "id": "xz_QhJpajFIT"
    },
    {
      "cell_type": "code",
      "execution_count": null,
      "metadata": {
        "id": "zAG8u1FLjO-M"
      },
      "outputs": [],
      "source": [
        "pca_table[0].max()"
      ],
      "id": "zAG8u1FLjO-M"
    },
    {
      "cell_type": "code",
      "execution_count": null,
      "metadata": {
        "id": "f62COJGfyKKm"
      },
      "outputs": [],
      "source": [
        "from sklearn.cluster import AgglomerativeClustering\n",
        "from scipy.cluster.hierarchy import dendrogram"
      ],
      "id": "f62COJGfyKKm"
    },
    {
      "cell_type": "code",
      "execution_count": null,
      "metadata": {
        "id": "wrE8HnrMzUow"
      },
      "outputs": [],
      "source": [
        "def plot_dendrogram(model, **kwargs):\n",
        "    # Create linkage matrix and then plot the dendrogram\n",
        "\n",
        "    # create the counts of samples under each node\n",
        "    counts = np.zeros(model.children_.shape[0])\n",
        "    n_samples = len(model.labels_)\n",
        "    for i, merge in enumerate(model.children_):\n",
        "        current_count = 0\n",
        "        for child_idx in merge:\n",
        "            if child_idx < n_samples:\n",
        "                current_count += 1  # leaf node\n",
        "            else:\n",
        "                current_count += counts[child_idx - n_samples]\n",
        "        counts[i] = current_count\n",
        "\n",
        "    linkage_matrix = np.column_stack(\n",
        "        [model.children_, model.distances_, counts]\n",
        "    ).astype(float)\n",
        "\n",
        "    # Plot the corresponding dendrogram\n",
        "    dendrogram(linkage_matrix, **kwargs)"
      ],
      "id": "wrE8HnrMzUow"
    },
    {
      "cell_type": "code",
      "execution_count": null,
      "metadata": {
        "id": "bU7OXdW80Osd"
      },
      "outputs": [],
      "source": [
        "len(x)"
      ],
      "id": "bU7OXdW80Osd"
    },
    {
      "cell_type": "code",
      "execution_count": null,
      "metadata": {
        "id": "V82Qbx4kzqH0"
      },
      "outputs": [],
      "source": [
        "x = german_data.loc[:, features].values\n",
        "x = StandardScaler().fit_transform(x)"
      ],
      "id": "V82Qbx4kzqH0"
    },
    {
      "cell_type": "code",
      "execution_count": null,
      "metadata": {
        "id": "3Y2hbUbQ0uPp"
      },
      "outputs": [],
      "source": [
        "labels = list(german_data['name'])"
      ],
      "id": "3Y2hbUbQ0uPp"
    },
    {
      "cell_type": "code",
      "execution_count": null,
      "metadata": {
        "id": "xbiw5V8uT980"
      },
      "outputs": [],
      "source": [
        "#labels\n",
        "name_to_color"
      ],
      "id": "xbiw5V8uT980"
    },
    {
      "cell_type": "code",
      "execution_count": null,
      "metadata": {
        "id": "Wsxrc71LzWCV"
      },
      "outputs": [],
      "source": [
        "model = AgglomerativeClustering(distance_threshold=0, n_clusters=None)\n",
        "model = model.fit(x)\n",
        "plt.title(\"Hierarchical Clustering Dendrogram\")\n",
        "plt.rcParams[\"figure.figsize\"] = (30,30)\n",
        "# plot the top three levels of the dendrogram\n",
        "plot_dendrogram(model, labels=labels) #,link_color_func=lambda k: name_to_color[k])#, truncate_mode=\"level\", p=6) \n",
        "plt.rcParams.update({'font.size': 24})\n",
        "\n",
        "ax = plt.gca()\n",
        "xlbls = ax.get_xmajorticklabels()\n",
        "for lbl in xlbls:\n",
        "    lbl.set_color(name_to_color[lbl.get_text()])\n",
        "\n",
        "plt.xlabel(\"Number of points in node (or index of point if no parenthesis).\")\n",
        "plt.savefig('histogram.png', dpi=300)\n",
        "plt.show()"
      ],
      "id": "Wsxrc71LzWCV"
    },
    {
      "cell_type": "code",
      "execution_count": null,
      "metadata": {
        "id": "NISZmgiDV1ds"
      },
      "outputs": [],
      "source": [
        "genre_color_mapping"
      ],
      "id": "NISZmgiDV1ds"
    },
    {
      "cell_type": "markdown",
      "metadata": {
        "id": "FAKCNcAJndSY"
      },
      "source": [
        "## Old LDA code"
      ],
      "id": "FAKCNcAJndSY"
    },
    {
      "cell_type": "code",
      "execution_count": null,
      "metadata": {
        "id": "7xVjQ1cCnfEE"
      },
      "outputs": [],
      "source": [],
      "id": "7xVjQ1cCnfEE"
    },
    {
      "cell_type": "code",
      "execution_count": null,
      "metadata": {
        "id": "l1LYJAiFhzHh"
      },
      "outputs": [],
      "source": [
        "def plot_2d(df, component1, component2):\n",
        "    feature_vectors = []\n",
        "    for i in range(10):\n",
        "        new_feature_vector = go.Scatter(x = [0,scalings[i][0]],\n",
        "                     y = [0,scalings[i][1]],\n",
        "                     marker = dict(size = 1,\n",
        "                                    color = \"white\"),\n",
        "                     line = dict(color = \"black\",\n",
        "                                width = 6),\n",
        "                     name = features[i]\n",
        "                     )\n",
        "        feature_vectors.append(new_feature_vector)\n",
        "    \n",
        "\n",
        "    full_plot = go.Scatter(\n",
        "        x = component1,\n",
        "        y = component2,\n",
        "        mode='markers',\n",
        "        marker=dict(\n",
        "            size=20,\n",
        "            color=df['color'], #set color equal to a variable\n",
        "            colorscale='Rainbow', # one of plotly colorscales\n",
        "            showscale=True,\n",
        "            line_width=1\n",
        "        ),\n",
        "        text=df['name']\n",
        "    )\n",
        "    feature_vectors.append(full_plot)\n",
        "    fig = go.Figure(data=feature_vectors)\n",
        "    fig.update_layout(margin=dict( l=100,r=100,b=100,t=100),width=2000,height=1200)                 \n",
        "    fig.layout.template = 'plotly'\n",
        "    \n",
        "    fig.show()"
      ],
      "id": "l1LYJAiFhzHh"
    },
    {
      "cell_type": "code",
      "execution_count": null,
      "metadata": {
        "id": "c4yOU0rPeCG8"
      },
      "outputs": [],
      "source": [
        "plot_2d(german_data, X_LDA[:, 0],X_LDA[:, 1])"
      ],
      "id": "c4yOU0rPeCG8"
    },
    {
      "cell_type": "code",
      "execution_count": null,
      "metadata": {
        "id": "n2vJ4Z-T0kE8"
      },
      "outputs": [],
      "source": [
        "dict(size = 1, color = \"rgb(84,48,5)\")"
      ],
      "id": "n2vJ4Z-T0kE8"
    },
    {
      "cell_type": "code",
      "execution_count": null,
      "metadata": {
        "id": "-ivqagdh_0Vt"
      },
      "outputs": [],
      "source": [
        "german_data.boxplot('num_connected_components')"
      ],
      "id": "-ivqagdh_0Vt"
    },
    {
      "cell_type": "code",
      "execution_count": null,
      "metadata": {
        "id": "jgyhfjzH_7wb"
      },
      "outputs": [],
      "source": [
        "german_data[german_data['num_connected_components']>5]"
      ],
      "id": "jgyhfjzH_7wb"
    },
    {
      "cell_type": "code",
      "execution_count": null,
      "metadata": {
        "id": "fEHpulhc_WnD"
      },
      "outputs": [],
      "source": [
        "german_data[german_data['id'] == 'ger000413']"
      ],
      "id": "fEHpulhc_WnD"
    },
    {
      "cell_type": "code",
      "execution_count": null,
      "metadata": {
        "id": "9pUUhCn056mB"
      },
      "outputs": [],
      "source": [
        "scalings"
      ],
      "id": "9pUUhCn056mB"
    },
    {
      "cell_type": "code",
      "execution_count": null,
      "metadata": {
        "id": "H-3etarOjWA2"
      },
      "outputs": [],
      "source": [
        "def plot_3d(component1,component2,component3,scalings,features):\n",
        "    feature_vectors = []\n",
        "    for i in range(10):\n",
        "        new_feature_vector = go.Scatter3d(x = [0,scalings[i][0]],\n",
        "                     y = [0,scalings[i][1]],\n",
        "                     z = [0,scalings[i][2]],\n",
        "                     marker = dict(size = 1,\n",
        "                                    color = \"rgb(84,48,5)\"),\n",
        "                     line = dict(color = \"aquamarine\",\n",
        "                                width = 6),\n",
        "                     name = features[i]\n",
        "                     )\n",
        "        feature_vectors.append(new_feature_vector)\n",
        "\n",
        "    lda_plot = [go.Scatter3d(\n",
        "        x=component1,\n",
        "        y=component2,\n",
        "        z=component3,\n",
        "        mode='markers',\n",
        "        text=german_data['name'],\n",
        "        marker=dict(\n",
        "            size=10,\n",
        "            color=german_data['color'],                # set color to an array/list of desired values\n",
        "            colorscale='Rainbow',   # choose a colorscale\n",
        "            opacity=1,\n",
        "            line_width=1\n",
        "        )\n",
        "    )\n",
        "    ]\n",
        "    lda_plot.extend(feature_vectors)\n",
        "    fig = go.Figure(data=lda_plot)\n",
        "# tight layout\n",
        "    fig.update_layout(margin=dict(l=50,r=50,b=50,t=50),width=1800,height=1000)\n",
        "    fig.layout.template = 'plotly_dark'\n",
        "\n",
        "\n",
        "    fig.show()"
      ],
      "id": "H-3etarOjWA2"
    },
    {
      "cell_type": "code",
      "execution_count": null,
      "metadata": {
        "id": "gezJ4K9Q4Z5Q"
      },
      "outputs": [],
      "source": [
        "features"
      ],
      "id": "gezJ4K9Q4Z5Q"
    },
    {
      "cell_type": "code",
      "execution_count": null,
      "metadata": {
        "id": "qxz4-vKKjioA"
      },
      "outputs": [],
      "source": [
        "plot_3d(X_LDA[:, 0],X_LDA[:, 1],X_LDA[:, 2], scalings, features)"
      ],
      "id": "qxz4-vKKjioA"
    },
    {
      "cell_type": "code",
      "execution_count": null,
      "metadata": {
        "id": "6kb-WK-V1_ec"
      },
      "outputs": [],
      "source": [
        "german_data.boxplot('num_of_segments')"
      ],
      "id": "6kb-WK-V1_ec"
    },
    {
      "cell_type": "code",
      "execution_count": null,
      "metadata": {
        "id": "9kccyZ5T7pOb"
      },
      "outputs": [],
      "source": [
        "german_data[german_data['num_of_speakers'] > 200]"
      ],
      "id": "9kccyZ5T7pOb"
    },
    {
      "cell_type": "code",
      "execution_count": null,
      "metadata": {
        "id": "1sP4Svbs2j_f"
      },
      "outputs": [],
      "source": [
        "german_data['num_of_segments'].median()"
      ],
      "id": "1sP4Svbs2j_f"
    },
    {
      "cell_type": "code",
      "execution_count": null,
      "metadata": {
        "id": "G3_5tKEc21Sf"
      },
      "outputs": [],
      "source": [
        "german_data.describe()"
      ],
      "id": "G3_5tKEc21Sf"
    }
  ],
  "metadata": {
    "colab": {
      "provenance": []
    },
    "gpuClass": "standard",
    "kernelspec": {
      "display_name": "Python 3",
      "language": "python",
      "name": "python3"
    },
    "language_info": {
      "codemirror_mode": {
        "name": "ipython",
        "version": 3
      },
      "file_extension": ".py",
      "mimetype": "text/x-python",
      "name": "python",
      "nbconvert_exporter": "python",
      "pygments_lexer": "ipython3",
      "version": "3.9.7"
    }
  },
  "nbformat": 4,
  "nbformat_minor": 5
}